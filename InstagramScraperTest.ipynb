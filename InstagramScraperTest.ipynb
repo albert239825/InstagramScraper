{
 "cells": [
  {
   "cell_type": "markdown",
   "metadata": {},
   "source": [
    "## Project Requirements:\n",
    "Scrape profiles and get:\n",
    "1. the number of posts\n",
    "2. the follower count\n",
    "3. number of likes on most liked post\n",
    "4. numbner of likes\n",
    "\n",
    "## Follow Up\n",
    "Save each profile in its own data frame with each row corresponding to a post <br>\n",
    "export as a excel file with each profile as a worksheet <br>\n",
    "find a way to edit so that the sheet includes some global account variables (ex. number of followers) outside the dataframe"
   ]
  },
  {
   "cell_type": "code",
   "execution_count": 1,
   "metadata": {},
   "outputs": [],
   "source": [
    "from instascrape import Profile, scrape_posts, Post\n",
    "from selenium.webdriver import Chrome\n",
    "from datetime import datetime\n",
    "import pandas as pd\n",
    "import numpy as np\n",
    "import pickle\n",
    "from openpyxl.workbook.child import INVALID_TITLE_REGEX\n",
    "from openpyxl import workbook\n",
    "import re\n",
    "from utils import check_valid_username, write_to_excel, get_top_post, create_post_df\n",
    "from pathlib import Path\n"
   ]
  },
  {
   "cell_type": "code",
   "execution_count": 2,
   "metadata": {},
   "outputs": [],
   "source": [
    "cwd = Path.cwd()\n",
    "\n",
    "#mac\n",
    "#chrome_driver_path = cwd / 'chromedriver'\n",
    "\n",
    "#windows\n",
    "chrome_driver_path = cwd / 'chromedriver.exe'\n",
    "driver = Chrome(chrome_driver_path)\n"
   ]
  },
  {
   "cell_type": "code",
   "execution_count": 3,
   "metadata": {},
   "outputs": [],
   "source": [
    "headers = {\n",
    "    \"user-agent\": \"Mozilla/5.0 (Linux; Android 6.0; Nexus 5 Build/MRA58N) AppleWebKit/537.36 (KHTML, like Gecko) Chrome/87.0.4280.88 Mobile Safari/537.36 Edg/87.0.664.57\",\n",
    "    \"cookie\": \"sessionid=7320119797%3ASNZXyzR0VduyTA%3A0\"\n",
    "}"
   ]
  },
  {
   "cell_type": "code",
   "execution_count": 11,
   "metadata": {},
   "outputs": [],
   "source": [
    "users = pd.read_csv(\"Social_Media_Study_Handles.csv\")\n",
    "users = users.reindex(columns=[*users.columns, 'follower_count', 'number_of_posts'])\n",
    "\n",
    "#Specifying datatype for each columns\n",
    "users['School'] = users['School'].astype(object)\n",
    "users['IG Username'] = users['IG Username'].astype(object)\n",
    "users['follower_count'] = users['follower_count'].astype('Int64')\n",
    "users['number_of_posts'] = users['number_of_posts'].astype('Int64')\n",
    "\n",
    "# users = users.reindex(columns=[*users.columns, 'follower_count', 'number_of_posts', 'top_post_likes', \n",
    "# 'top_post_date_posted', 'top_post_url', 'first_post_likes', 'first_post_date_posted', 'first_post_url'])\n",
    "# This code is no longer userful since we are storing each account's posts in its own dataframe\n",
    "# users['top_post_likes'] = users['top_post_likes'].astype('Int64')\n",
    "# users['top_post_date_posted'] = users['top_post_date_posted'].astype('datetime64[ns]')\n",
    "# users['top_post_url'] = users['top_post_url'].astype(object)\n",
    "# users['first_post_likes'] = users['first_post_likes'].astype('Int64')\n",
    "# users['first_post_date_posted'] = users['first_post_date_posted'].astype('datetime64[ns]')\n",
    "# users['first_post_url'] = users['first_post_url'].astype(object)"
   ]
  },
  {
   "cell_type": "code",
   "execution_count": 12,
   "metadata": {},
   "outputs": [
    {
     "name": "stdout",
     "output_type": "stream",
     "text": [
      "willseyeresidents\n",
      "33\n",
      "0: CDABF2hhEhP - 2020-07-23 17:49:11\n",
      "1: CC6_LwDhnTu - 2020-07-21 18:56:19\n",
      "2: CC4Kk8ZBGIc - 2020-07-20 16:38:09\n",
      "3: CCtc94uh_SW - 2020-07-16 12:47:12\n",
      "4: CCqrp49B5j1 - 2020-07-15 10:57:49\n",
      "bascompalmereye\n",
      "12\n",
      "0: CVRXFU-Nw3U - 2021-10-20 20:53:32\n",
      "1: CVLuLeVr8SB - 2021-10-18 16:19:55\n",
      "2: CVBA9M9A2Z5 - 2021-10-14 12:32:21\n",
      "3: CUvbUicr4PE - 2021-10-07 16:36:23\n",
      "4: CUs_jaeA_8y - 2021-10-06 17:55:16\n",
      "wilmereyeresidents\n",
      "33\n",
      "0: CU-eULLAyeZ - 2021-10-13 12:51:10\n",
      "1: CUKkD_-AGmc - 2021-09-23 09:00:53\n",
      "2: CTLCjN9rd5C - 2021-08-29 16:55:53\n",
      "3: CRwRrpghB4P - 2021-07-25 10:57:13\n",
      "4: CRIGjk4B2bf - 2021-07-09 20:30:23\n",
      "uiowaeye\n",
      "120\n",
      "0: CVGjF6MLdlJ - 2021-10-16 16:06:50\n",
      "1: CU5gfRpLtyq - 2021-10-11 14:33:57\n",
      "2: CUz3DYRgbI1 - 2021-10-09 09:55:41\n",
      "3: CSFgrMYrfZY - 2021-08-02 16:52:17\n",
      "4: CR4eaSih6Rh - 2021-07-28 15:22:22\n",
      "harvardophthalmologyresidents\n",
      "184\n",
      "0: CVSrCvsgks2 - 2021-10-21 09:07:11\n",
      "1: CVQUgxCg-Ex - 2021-10-20 11:11:50\n",
      "2: CVNfgFtg2Tj - 2021-10-19 08:50:08\n",
      "3: CVF6hSrgVZT - 2021-10-16 10:12:18\n",
      "4: CVD2Ry1rw9Z - 2021-10-15 14:56:45\n"
     ]
    }
   ],
   "source": [
    "#test purposes\n",
    "users = users.head(5).append(users.iloc[89])\n",
    "users_df = []\n",
    "\n",
    "for i in range (0, len(users)):\n",
    "    if (not pd.isnull(users.iloc[i]['IG Username'])):\n",
    "        #Scrape the profile\n",
    "        print(users.iloc[i]['IG Username'])\n",
    "        profile = Profile(users.iloc[i]['IG Username'])\n",
    "        profile.scrape(headers=headers)\n",
    "\n",
    "        #Adding profile datapoints to dataframe\n",
    "        users.at[i, 'follower_count'] = profile.followers\n",
    "        users.at[i, 'number_of_posts'] = profile.posts\n",
    "\n",
    "        #Scraping Posts\n",
    "\n",
    "        #Do we need a webdriver to scrape profile information?\n",
    "        posts = profile.get_posts(webdriver=driver)\n",
    "        print(len(posts))\n",
    "        scraped_posts, unscraped = scrape_posts(posts[0:5], webdriver=driver, silent=False, headers=headers, pause=5)\n",
    "        \n",
    "        #Appending dataframe from account to each \n",
    "        users_df.append(create_post_df(scraped_posts))\n",
    "    \n",
    "    # if no username, we're just going to add an empty dataframe\n",
    "    else:\n",
    "        users_df.append(create_post_df([]))\n",
    "        \n",
    "        \n",
    "        \n",
    "        #old code from just getting top and first posts\n",
    "        # top_post = get_top_post(scraped_posts)\n",
    "\n",
    "        # #Post are scraped from most recent to oldest, therefore, the earliest post will be the last one scraped in theory\n",
    "        # first_post = scraped_posts[-1]\n",
    "\n",
    "        # users.at[i, 'top_post_likes'] = top_post.likes\n",
    "        # users.at[i, 'top_post_date_posted'] = datetime.fromtimestamp(top_post.timestamp)\n",
    "        # users.at[i, 'top_post_url'] = \"instagram.com/p/{}\".format(top_post.shortcode)\n",
    "        # users.at[i, 'first_post_likes'] = first_post.likes\n",
    "        # users.at[i, 'first_post_date_posted'] = datetime.fromtimestamp(first_post.timestamp)\n",
    "        # users.at[i, 'first_post_url'] = \"instagram.com/p/{}\".format(first_post.shortcode)\n",
    "\n",
    "        "
   ]
  },
  {
   "cell_type": "code",
   "execution_count": 13,
   "metadata": {},
   "outputs": [],
   "source": [
    "#Writing test dataframes to pickle object for easier debugging in the future\n",
    "with open('test_dataframes.obj', 'wb') as f:\n",
    "    pickle.dump((users_df, users), f)"
   ]
  },
  {
   "cell_type": "code",
   "execution_count": 14,
   "metadata": {},
   "outputs": [],
   "source": [
    "with open('test_dataframes.obj', 'rb') as f:\n",
    "    loaded = pickle.load(f)\n",
    "\n",
    "users_df = loaded[0]\n",
    "users = loaded[1]\n",
    "users = users.reset_index()"
   ]
  },
  {
   "cell_type": "code",
   "execution_count": 15,
   "metadata": {},
   "outputs": [
    {
     "data": {
      "text/plain": [
       "6"
      ]
     },
     "metadata": {},
     "output_type": "display_data"
    },
    {
     "data": {
      "text/plain": [
       "(6, 5)"
      ]
     },
     "metadata": {},
     "output_type": "display_data"
    }
   ],
   "source": [
    "display(len(users_df), users.shape)\n"
   ]
  },
  {
   "cell_type": "code",
   "execution_count": 19,
   "metadata": {},
   "outputs": [],
   "source": [
    "def write_to_excel(user_df, users):\n",
    "    if (len(user_df) != users.shape[0]):\n",
    "        raise ValueError(\"length of the posts dataframes and user dataframes are mismatched, there are {} posts dataframes and {} rows in the user dataframe\".format(\n",
    "            len(user_df, users.shape[0])))\n",
    "\n",
    "    with pd.ExcelWriter('User Data.xlsx', engine='openpyxl') as writer:\n",
    "        for i in range(0, len(user_df)):\n",
    "            # this regex statement replaces excel's invalid characters with and underscore\n",
    "            title = re.sub(INVALID_TITLE_REGEX, '_', users.at[i, 'School'])\n",
    "            print(title)\n",
    "            users.iloc[[i]].to_excel(writer, sheet_name=title, index=False)\n",
    "            user_df[i].to_excel(writer, startrow=2, sheet_name=title, index=False)\n",
    "\n",
    "    # Outdated code using pd.ExcelWriter, switched to openpyxl's notebook object due to increased flexibility\n",
    "    # wb = workbook()\n",
    "    # for i in range(0, len(user_df)):\n",
    "    #     # this regex statement replaces excel's invalid characters with and underscore\n",
    "    #     title = re.sub(INVALID_TITLE_REGEX, '_', users.at[i, 'School'])\n",
    "        \n",
    "\n",
    "    #     users[i].to_excel(writer, sheet_name=title, index=False)\n",
    "    #     #user_post_dfs[i].to_excel(writer,  mode='a', sheetname=users_df.at[i, 'School'], index=False)"
   ]
  },
  {
   "cell_type": "code",
   "execution_count": 20,
   "metadata": {},
   "outputs": [
    {
     "name": "stdout",
     "output_type": "stream",
     "text": [
      "TJU_Wills Eye Hospital\n",
      "Bascom Palmer_University of Miami\n",
      "Johns Hopkins_Wilmer\n",
      "University of Iowa\n",
      "Mass. Eye and Ear\n",
      "Larkin\n"
     ]
    },
    {
     "name": "stderr",
     "output_type": "stream",
     "text": [
      "C:\\Users\\Albert\\miniconda3\\envs\\instagramScraper\\lib\\site-packages\\openpyxl\\workbook\\child.py:99: UserWarning: Title is more than 31 characters. Some applications may not be able to read the file\n",
      "  warnings.warn(\"Title is more than 31 characters. Some applications may not be able to read the file\")\n"
     ]
    }
   ],
   "source": [
    "write_to_excel(users_df, users)"
   ]
  },
  {
   "cell_type": "code",
   "execution_count": 45,
   "metadata": {},
   "outputs": [
    {
     "data": {
      "text/html": [
       "<div>\n",
       "<style scoped>\n",
       "    .dataframe tbody tr th:only-of-type {\n",
       "        vertical-align: middle;\n",
       "    }\n",
       "\n",
       "    .dataframe tbody tr th {\n",
       "        vertical-align: top;\n",
       "    }\n",
       "\n",
       "    .dataframe thead th {\n",
       "        text-align: right;\n",
       "    }\n",
       "</style>\n",
       "<table border=\"1\" class=\"dataframe\">\n",
       "  <thead>\n",
       "    <tr style=\"text-align: right;\">\n",
       "      <th></th>\n",
       "      <th>School</th>\n",
       "      <th>IG Username</th>\n",
       "      <th>follower_count</th>\n",
       "      <th>number_of_posts</th>\n",
       "    </tr>\n",
       "  </thead>\n",
       "  <tbody>\n",
       "    <tr>\n",
       "      <th>0</th>\n",
       "      <td>TJU/Wills Eye Hospital</td>\n",
       "      <td>willseyeresidents</td>\n",
       "      <td>1986</td>\n",
       "      <td>33</td>\n",
       "    </tr>\n",
       "    <tr>\n",
       "      <th>1</th>\n",
       "      <td>Bascom Palmer/University of Miami</td>\n",
       "      <td>bascompalmereye</td>\n",
       "      <td>12501</td>\n",
       "      <td>241</td>\n",
       "    </tr>\n",
       "    <tr>\n",
       "      <th>2</th>\n",
       "      <td>Johns Hopkins/Wilmer</td>\n",
       "      <td>wilmereyeresidents</td>\n",
       "      <td>1515</td>\n",
       "      <td>33</td>\n",
       "    </tr>\n",
       "    <tr>\n",
       "      <th>3</th>\n",
       "      <td>University of Iowa</td>\n",
       "      <td>uiowaeye</td>\n",
       "      <td>1475</td>\n",
       "      <td>131</td>\n",
       "    </tr>\n",
       "    <tr>\n",
       "      <th>4</th>\n",
       "      <td>Mass. Eye and Ear</td>\n",
       "      <td>harvardophthalmologyresidents</td>\n",
       "      <td>1563</td>\n",
       "      <td>184</td>\n",
       "    </tr>\n",
       "    <tr>\n",
       "      <th>89</th>\n",
       "      <td>Larkin</td>\n",
       "      <td>NaN</td>\n",
       "      <td>&lt;NA&gt;</td>\n",
       "      <td>&lt;NA&gt;</td>\n",
       "    </tr>\n",
       "  </tbody>\n",
       "</table>\n",
       "</div>"
      ],
      "text/plain": [
       "                               School                    IG Username  \\\n",
       "0              TJU/Wills Eye Hospital              willseyeresidents   \n",
       "1   Bascom Palmer/University of Miami                bascompalmereye   \n",
       "2                Johns Hopkins/Wilmer             wilmereyeresidents   \n",
       "3                  University of Iowa                       uiowaeye   \n",
       "4                   Mass. Eye and Ear  harvardophthalmologyresidents   \n",
       "89                             Larkin                            NaN   \n",
       "\n",
       "   follower_count number_of_posts  \n",
       "0            1986              33  \n",
       "1           12501             241  \n",
       "2            1515              33  \n",
       "3            1475             131  \n",
       "4            1563             184  \n",
       "89           <NA>            <NA>  "
      ]
     },
     "execution_count": 45,
     "metadata": {},
     "output_type": "execute_result"
    }
   ],
   "source": [
    "users"
   ]
  },
  {
   "cell_type": "code",
   "execution_count": 29,
   "metadata": {},
   "outputs": [
    {
     "data": {
      "text/plain": [
       "'TJU_Wills Eye Hospital'"
      ]
     },
     "execution_count": 29,
     "metadata": {},
     "output_type": "execute_result"
    }
   ],
   "source": [
    "re.sub(INVALID_TITLE_REGEX, '_', users.at[0, 'School'])"
   ]
  },
  {
   "cell_type": "code",
   "execution_count": 11,
   "metadata": {},
   "outputs": [],
   "source": [
    "posts = test_profile.get_posts(webdriver=driver, login_first=True, login_pause=20)"
   ]
  },
  {
   "cell_type": "code",
   "execution_count": 19,
   "metadata": {},
   "outputs": [
    {
     "data": {
      "text/plain": [
       "pandas.core.series.Series"
      ]
     },
     "execution_count": 19,
     "metadata": {},
     "output_type": "execute_result"
    }
   ],
   "source": [
    "type(users.loc[0])"
   ]
  }
 ],
 "metadata": {
  "interpreter": {
   "hash": "58e5a1f2200c9da4fe52d7508e5222fc267990c2fd40a29173e8fd4c8076db49"
  },
  "kernelspec": {
   "display_name": "Python 3.9.7 64-bit ('instagramScraper': conda)",
   "name": "python3"
  },
  "language_info": {
   "codemirror_mode": {
    "name": "ipython",
    "version": 3
   },
   "file_extension": ".py",
   "mimetype": "text/x-python",
   "name": "python",
   "nbconvert_exporter": "python",
   "pygments_lexer": "ipython3",
   "version": "3.9.7"
  },
  "orig_nbformat": 4
 },
 "nbformat": 4,
 "nbformat_minor": 2
}
