{
 "cells": [
  {
   "cell_type": "markdown",
   "metadata": {},
   "source": [
    "## Project Requirements:\n",
    "Scrape profiles and get:\n",
    "1. the number of posts\n",
    "2. the follower count\n",
    "3. number of likes on most liked post\n",
    "4. numbner of likes"
   ]
  },
  {
   "cell_type": "code",
   "execution_count": 1,
   "metadata": {},
   "outputs": [],
   "source": [
    "from instagramy import InstagramUser\n",
    "from instascrape import Profile, scrape_posts, Post\n",
    "from selenium.webdriver import Chrome\n",
    "from datetime import datetime\n",
    "import pandas as pd\n",
    "import numpy as np"
   ]
  },
  {
   "cell_type": "code",
   "execution_count": 2,
   "metadata": {},
   "outputs": [],
   "source": [
    "chrome_driver_path = \"/Users/chena23/Desktop/InstragramScraper/chromedriver\"\n",
    "\n",
    "driver = Chrome(chrome_driver_path)\n",
    "headers = {\n",
    "    \"user-agent\": \"Mozilla/5.0 (Linux; Android 6.0; Nexus 5 Build/MRA58N) AppleWebKit/537.36 (KHTML, like Gecko) Chrome/87.0.4280.88 Mobile Safari/537.36 Edg/87.0.664.57\",\n",
    "    \"cookie\": \"sessionid=7320119797%3AsIWlEyDL37Q7Pg%3A14\"\n",
    "}"
   ]
  },
  {
   "cell_type": "code",
   "execution_count": null,
   "metadata": {},
   "outputs": [],
   "source": [
    "def get_top_post (scraped_posts, cut_off_date = datetime(2021, 8,1)):\n",
    "    # Checking if an empty array was inputed\n",
    "    if (type(scraped_posts) != list):\n",
    "        raise TypeError(\"Input is not a list\")\n",
    "    if (len(scraped_posts) == 0):\n",
    "        raise ValueError(\"Empty posts list imported\")\n",
    "    \n",
    "    #Returning Post with the highest number of likes\n",
    "    top_post = scraped_posts[0]\n",
    "    \n",
    "    for post in scraped_posts:\n",
    "        if (type(post) != Post):\n",
    "            raise TypeError(\"One or more objects in the list is not a Post object\")\n",
    "        if (datetime.fromtimestamp(post.timestamp) < cut_off_date):\n",
    "            if (post.likes > top_post.likes):\n",
    "                top_post = post\n",
    "        else:\n",
    "            print(\"Post posted on {}, after the deadline\".format(datetime.fromtimestamp(post.timestamp)))\n",
    "\n",
    "    return top_post\n",
    "        \n",
    "    \n"
   ]
  },
  {
   "cell_type": "code",
   "execution_count": null,
   "metadata": {},
   "outputs": [],
   "source": [
    "def check_valid_username (users):\n",
    "    for i in range (0, len(users)):\n",
    "        if (not pd.isnull(users.iloc[i]['IG Username'])):\n",
    "            try:\n",
    "                print(users.iloc[i][\"IG Username\"])\n",
    "                profile = Profile(users.iloc[i]['IG Username'])\n",
    "            except:\n",
    "                print(\"{} is not a valid user name, the username is located at index {}, its name is {}\".format(users.iloc[i][\"IG Username\"], i, users.iloc[i]['School']))"
   ]
  },
  {
   "cell_type": "code",
   "execution_count": null,
   "metadata": {},
   "outputs": [],
   "source": [
    "users = pd.read_csv(\"Social_Media_Study_Handles.csv\")\n",
    "users = users.reindex(columns=[*users.columns, 'follower_count', 'number_of_posts', 'top_post_likes', \n",
    "'top_post_date_posted', 'top_post_url', 'first_post_likes', 'first_post_date_posted', 'first_post_url'])\n",
    "\n",
    "#Specifying datatype for each columns\n",
    "users['School'] = users['School'].astype(object)\n",
    "users['IG Username'] = users['IG Username'].astype(object)\n",
    "users['follower_count'] = users['follower_count'].astype('Int64')\n",
    "users['number_of_posts'] = users['number_of_posts'].astype('Int64')\n",
    "users['top_post_likes'] = users['top_post_likes'].astype('Int64')\n",
    "users['top_post_date_posted'] = users['top_post_date_posted'].astype('datetime64[ns]')\n",
    "users['top_post_url'] = users['top_post_url'].astype(object)\n",
    "users['first_post_likes'] = users['first_post_likes'].astype('Int64')\n",
    "users['first_post_date_posted'] = users['first_post_date_posted'].astype('datetime64[ns]')\n",
    "users['first_post_url'] = users['first_post_url'].astype(object)"
   ]
  },
  {
   "cell_type": "code",
   "execution_count": null,
   "metadata": {},
   "outputs": [
    {
     "data": {
      "text/html": [
       "<div>\n",
       "<style scoped>\n",
       "    .dataframe tbody tr th:only-of-type {\n",
       "        vertical-align: middle;\n",
       "    }\n",
       "\n",
       "    .dataframe tbody tr th {\n",
       "        vertical-align: top;\n",
       "    }\n",
       "\n",
       "    .dataframe thead th {\n",
       "        text-align: right;\n",
       "    }\n",
       "</style>\n",
       "<table border=\"1\" class=\"dataframe\">\n",
       "  <thead>\n",
       "    <tr style=\"text-align: right;\">\n",
       "      <th></th>\n",
       "      <th>School</th>\n",
       "      <th>IG Username</th>\n",
       "      <th>follower_count</th>\n",
       "      <th>number_of_posts</th>\n",
       "      <th>top_post_likes</th>\n",
       "      <th>top_post_date_posted</th>\n",
       "      <th>top_post_url</th>\n",
       "      <th>first_post_likes</th>\n",
       "      <th>first_post_date_posted</th>\n",
       "      <th>first_post_url</th>\n",
       "    </tr>\n",
       "  </thead>\n",
       "  <tbody>\n",
       "    <tr>\n",
       "      <th>83</th>\n",
       "      <td>National Capital Consortium</td>\n",
       "      <td>NaN</td>\n",
       "      <td>&lt;NA&gt;</td>\n",
       "      <td>&lt;NA&gt;</td>\n",
       "      <td>&lt;NA&gt;</td>\n",
       "      <td>NaT</td>\n",
       "      <td>NaN</td>\n",
       "      <td>&lt;NA&gt;</td>\n",
       "      <td>NaT</td>\n",
       "      <td>NaN</td>\n",
       "    </tr>\n",
       "    <tr>\n",
       "      <th>89</th>\n",
       "      <td>Larkin</td>\n",
       "      <td>NaN</td>\n",
       "      <td>&lt;NA&gt;</td>\n",
       "      <td>&lt;NA&gt;</td>\n",
       "      <td>&lt;NA&gt;</td>\n",
       "      <td>NaT</td>\n",
       "      <td>NaN</td>\n",
       "      <td>&lt;NA&gt;</td>\n",
       "      <td>NaT</td>\n",
       "      <td>NaN</td>\n",
       "    </tr>\n",
       "    <tr>\n",
       "      <th>95</th>\n",
       "      <td>Icahn School of Medicine at Mount Sinai</td>\n",
       "      <td>NaN</td>\n",
       "      <td>&lt;NA&gt;</td>\n",
       "      <td>&lt;NA&gt;</td>\n",
       "      <td>&lt;NA&gt;</td>\n",
       "      <td>NaT</td>\n",
       "      <td>NaN</td>\n",
       "      <td>&lt;NA&gt;</td>\n",
       "      <td>NaT</td>\n",
       "      <td>NaN</td>\n",
       "    </tr>\n",
       "    <tr>\n",
       "      <th>100</th>\n",
       "      <td>Howard</td>\n",
       "      <td>NaN</td>\n",
       "      <td>&lt;NA&gt;</td>\n",
       "      <td>&lt;NA&gt;</td>\n",
       "      <td>&lt;NA&gt;</td>\n",
       "      <td>NaT</td>\n",
       "      <td>NaN</td>\n",
       "      <td>&lt;NA&gt;</td>\n",
       "      <td>NaT</td>\n",
       "      <td>NaN</td>\n",
       "    </tr>\n",
       "    <tr>\n",
       "      <th>104</th>\n",
       "      <td>University of South Carolina</td>\n",
       "      <td>NaN</td>\n",
       "      <td>&lt;NA&gt;</td>\n",
       "      <td>&lt;NA&gt;</td>\n",
       "      <td>&lt;NA&gt;</td>\n",
       "      <td>NaT</td>\n",
       "      <td>NaN</td>\n",
       "      <td>&lt;NA&gt;</td>\n",
       "      <td>NaT</td>\n",
       "      <td>NaN</td>\n",
       "    </tr>\n",
       "    <tr>\n",
       "      <th>105</th>\n",
       "      <td>San Antonio Uniformed Services Health Educatio...</td>\n",
       "      <td>NaN</td>\n",
       "      <td>&lt;NA&gt;</td>\n",
       "      <td>&lt;NA&gt;</td>\n",
       "      <td>&lt;NA&gt;</td>\n",
       "      <td>NaT</td>\n",
       "      <td>NaN</td>\n",
       "      <td>&lt;NA&gt;</td>\n",
       "      <td>NaT</td>\n",
       "      <td>NaN</td>\n",
       "    </tr>\n",
       "    <tr>\n",
       "      <th>108</th>\n",
       "      <td>BronxCare Health System</td>\n",
       "      <td>NaN</td>\n",
       "      <td>&lt;NA&gt;</td>\n",
       "      <td>&lt;NA&gt;</td>\n",
       "      <td>&lt;NA&gt;</td>\n",
       "      <td>NaT</td>\n",
       "      <td>NaN</td>\n",
       "      <td>&lt;NA&gt;</td>\n",
       "      <td>NaT</td>\n",
       "      <td>NaN</td>\n",
       "    </tr>\n",
       "    <tr>\n",
       "      <th>110</th>\n",
       "      <td>University of Arizona - Tucson (South Campus)</td>\n",
       "      <td>NaN</td>\n",
       "      <td>&lt;NA&gt;</td>\n",
       "      <td>&lt;NA&gt;</td>\n",
       "      <td>&lt;NA&gt;</td>\n",
       "      <td>NaT</td>\n",
       "      <td>NaN</td>\n",
       "      <td>&lt;NA&gt;</td>\n",
       "      <td>NaT</td>\n",
       "      <td>NaN</td>\n",
       "    </tr>\n",
       "    <tr>\n",
       "      <th>112</th>\n",
       "      <td>University of Puerto Rico</td>\n",
       "      <td>NaN</td>\n",
       "      <td>&lt;NA&gt;</td>\n",
       "      <td>&lt;NA&gt;</td>\n",
       "      <td>&lt;NA&gt;</td>\n",
       "      <td>NaT</td>\n",
       "      <td>NaN</td>\n",
       "      <td>&lt;NA&gt;</td>\n",
       "      <td>NaT</td>\n",
       "      <td>NaN</td>\n",
       "    </tr>\n",
       "  </tbody>\n",
       "</table>\n",
       "</div>"
      ],
      "text/plain": [
       "                                                School IG Username  \\\n",
       "83                         National Capital Consortium         NaN   \n",
       "89                                              Larkin         NaN   \n",
       "95             Icahn School of Medicine at Mount Sinai         NaN   \n",
       "100                                             Howard         NaN   \n",
       "104                       University of South Carolina         NaN   \n",
       "105  San Antonio Uniformed Services Health Educatio...         NaN   \n",
       "108                            BronxCare Health System         NaN   \n",
       "110      University of Arizona - Tucson (South Campus)         NaN   \n",
       "112                          University of Puerto Rico         NaN   \n",
       "\n",
       "     follower_count  number_of_posts  top_post_likes top_post_date_posted  \\\n",
       "83             <NA>             <NA>            <NA>                  NaT   \n",
       "89             <NA>             <NA>            <NA>                  NaT   \n",
       "95             <NA>             <NA>            <NA>                  NaT   \n",
       "100            <NA>             <NA>            <NA>                  NaT   \n",
       "104            <NA>             <NA>            <NA>                  NaT   \n",
       "105            <NA>             <NA>            <NA>                  NaT   \n",
       "108            <NA>             <NA>            <NA>                  NaT   \n",
       "110            <NA>             <NA>            <NA>                  NaT   \n",
       "112            <NA>             <NA>            <NA>                  NaT   \n",
       "\n",
       "    top_post_url  first_post_likes first_post_date_posted first_post_url  \n",
       "83           NaN              <NA>                    NaT            NaN  \n",
       "89           NaN              <NA>                    NaT            NaN  \n",
       "95           NaN              <NA>                    NaT            NaN  \n",
       "100          NaN              <NA>                    NaT            NaN  \n",
       "104          NaN              <NA>                    NaT            NaN  \n",
       "105          NaN              <NA>                    NaT            NaN  \n",
       "108          NaN              <NA>                    NaT            NaN  \n",
       "110          NaN              <NA>                    NaT            NaN  \n",
       "112          NaN              <NA>                    NaT            NaN  "
      ]
     },
     "execution_count": 6,
     "metadata": {},
     "output_type": "execute_result"
    }
   ],
   "source": [
    "users[users['IG Username'].isna()]"
   ]
  },
  {
   "cell_type": "code",
   "execution_count": null,
   "metadata": {},
   "outputs": [
    {
     "data": {
      "text/plain": [
       "School                            object\n",
       "IG Username                       object\n",
       "follower_count                     Int64\n",
       "number_of_posts                    Int64\n",
       "top_post_likes                     Int64\n",
       "top_post_date_posted      datetime64[ns]\n",
       "top_post_url                      object\n",
       "first_post_likes                   Int64\n",
       "first_post_date_posted    datetime64[ns]\n",
       "first_post_url                    object\n",
       "dtype: object"
      ]
     },
     "execution_count": 13,
     "metadata": {},
     "output_type": "execute_result"
    }
   ],
   "source": [
    "users.dtypes"
   ]
  },
  {
   "cell_type": "code",
   "execution_count": null,
   "metadata": {},
   "outputs": [
    {
     "name": "stdout",
     "output_type": "stream",
     "text": [
      "False\n"
     ]
    }
   ],
   "source": [
    "print(not pd.isnull(users.iloc[89]['IG Username']))"
   ]
  },
  {
   "cell_type": "code",
   "execution_count": null,
   "metadata": {},
   "outputs": [
    {
     "data": {
      "text/html": [
       "<div>\n",
       "<style scoped>\n",
       "    .dataframe tbody tr th:only-of-type {\n",
       "        vertical-align: middle;\n",
       "    }\n",
       "\n",
       "    .dataframe tbody tr th {\n",
       "        vertical-align: top;\n",
       "    }\n",
       "\n",
       "    .dataframe thead th {\n",
       "        text-align: right;\n",
       "    }\n",
       "</style>\n",
       "<table border=\"1\" class=\"dataframe\">\n",
       "  <thead>\n",
       "    <tr style=\"text-align: right;\">\n",
       "      <th></th>\n",
       "      <th>School</th>\n",
       "      <th>IG Username</th>\n",
       "      <th>follower_count</th>\n",
       "      <th>number_of_posts</th>\n",
       "      <th>top_post_likes</th>\n",
       "      <th>top_post_date_posted</th>\n",
       "      <th>top_post_url</th>\n",
       "      <th>first_post_likes</th>\n",
       "      <th>first_post_date_posted</th>\n",
       "      <th>first_post_url</th>\n",
       "    </tr>\n",
       "  </thead>\n",
       "  <tbody>\n",
       "    <tr>\n",
       "      <th>0</th>\n",
       "      <td>TJU/Wills Eye Hospital</td>\n",
       "      <td>willseyeresidents</td>\n",
       "      <td>&lt;NA&gt;</td>\n",
       "      <td>&lt;NA&gt;</td>\n",
       "      <td>&lt;NA&gt;</td>\n",
       "      <td>NaT</td>\n",
       "      <td>NaN</td>\n",
       "      <td>&lt;NA&gt;</td>\n",
       "      <td>NaT</td>\n",
       "      <td>NaN</td>\n",
       "    </tr>\n",
       "    <tr>\n",
       "      <th>1</th>\n",
       "      <td>Bascom Palmer/University of Miami</td>\n",
       "      <td>bascompalmereye</td>\n",
       "      <td>&lt;NA&gt;</td>\n",
       "      <td>&lt;NA&gt;</td>\n",
       "      <td>&lt;NA&gt;</td>\n",
       "      <td>NaT</td>\n",
       "      <td>NaN</td>\n",
       "      <td>&lt;NA&gt;</td>\n",
       "      <td>NaT</td>\n",
       "      <td>NaN</td>\n",
       "    </tr>\n",
       "    <tr>\n",
       "      <th>2</th>\n",
       "      <td>Johns Hopkins/Wilmer</td>\n",
       "      <td>wilmereyeresidents</td>\n",
       "      <td>&lt;NA&gt;</td>\n",
       "      <td>&lt;NA&gt;</td>\n",
       "      <td>&lt;NA&gt;</td>\n",
       "      <td>NaT</td>\n",
       "      <td>NaN</td>\n",
       "      <td>&lt;NA&gt;</td>\n",
       "      <td>NaT</td>\n",
       "      <td>NaN</td>\n",
       "    </tr>\n",
       "    <tr>\n",
       "      <th>3</th>\n",
       "      <td>University of Iowa</td>\n",
       "      <td>uiowaeye</td>\n",
       "      <td>&lt;NA&gt;</td>\n",
       "      <td>&lt;NA&gt;</td>\n",
       "      <td>&lt;NA&gt;</td>\n",
       "      <td>NaT</td>\n",
       "      <td>NaN</td>\n",
       "      <td>&lt;NA&gt;</td>\n",
       "      <td>NaT</td>\n",
       "      <td>NaN</td>\n",
       "    </tr>\n",
       "    <tr>\n",
       "      <th>4</th>\n",
       "      <td>Mass. Eye and Ear</td>\n",
       "      <td>harvardophthalmologyresidents</td>\n",
       "      <td>&lt;NA&gt;</td>\n",
       "      <td>&lt;NA&gt;</td>\n",
       "      <td>&lt;NA&gt;</td>\n",
       "      <td>NaT</td>\n",
       "      <td>NaN</td>\n",
       "      <td>&lt;NA&gt;</td>\n",
       "      <td>NaT</td>\n",
       "      <td>NaN</td>\n",
       "    </tr>\n",
       "    <tr>\n",
       "      <th>89</th>\n",
       "      <td>Larkin</td>\n",
       "      <td>NaN</td>\n",
       "      <td>&lt;NA&gt;</td>\n",
       "      <td>&lt;NA&gt;</td>\n",
       "      <td>&lt;NA&gt;</td>\n",
       "      <td>NaT</td>\n",
       "      <td>NaN</td>\n",
       "      <td>&lt;NA&gt;</td>\n",
       "      <td>NaT</td>\n",
       "      <td>NaN</td>\n",
       "    </tr>\n",
       "  </tbody>\n",
       "</table>\n",
       "</div>"
      ],
      "text/plain": [
       "                               School                    IG Username  \\\n",
       "0              TJU/Wills Eye Hospital              willseyeresidents   \n",
       "1   Bascom Palmer/University of Miami                bascompalmereye   \n",
       "2                Johns Hopkins/Wilmer             wilmereyeresidents   \n",
       "3                  University of Iowa                       uiowaeye   \n",
       "4                   Mass. Eye and Ear  harvardophthalmologyresidents   \n",
       "89                             Larkin                            NaN   \n",
       "\n",
       "   follower_count number_of_posts top_post_likes top_post_date_posted  \\\n",
       "0            <NA>            <NA>           <NA>                  NaT   \n",
       "1            <NA>            <NA>           <NA>                  NaT   \n",
       "2            <NA>            <NA>           <NA>                  NaT   \n",
       "3            <NA>            <NA>           <NA>                  NaT   \n",
       "4            <NA>            <NA>           <NA>                  NaT   \n",
       "89           <NA>            <NA>           <NA>                  NaT   \n",
       "\n",
       "   top_post_url first_post_likes first_post_date_posted first_post_url  \n",
       "0           NaN             <NA>                    NaT            NaN  \n",
       "1           NaN             <NA>                    NaT            NaN  \n",
       "2           NaN             <NA>                    NaT            NaN  \n",
       "3           NaN             <NA>                    NaT            NaN  \n",
       "4           NaN             <NA>                    NaT            NaN  \n",
       "89          NaN             <NA>                    NaT            NaN  "
      ]
     },
     "execution_count": 9,
     "metadata": {},
     "output_type": "execute_result"
    }
   ],
   "source": [
    "users.head(5).append(users.iloc[89])"
   ]
  },
  {
   "cell_type": "code",
   "execution_count": 19,
   "metadata": {},
   "outputs": [
    {
     "name": "stdout",
     "output_type": "stream",
     "text": [
      "willseyeresidents\n",
      "bascompalmereye\n",
      "wilmereyeresidents\n",
      "uiowaeye\n",
      "harvardophthalmologyresidents\n"
     ]
    }
   ],
   "source": [
    "#test purposes\n",
    "users = users.head(5).append(users.iloc[89])\n",
    "\n",
    "for i in range (0, len(users)):\n",
    "    if (not pd.isnull(users.iloc[i]['IG Username'])):\n",
    "        #Scrape the profile\n",
    "        print(users.iloc[i]['IG Username'])\n",
    "        profile = Profile(users.iloc[i]['IG Username'])\n",
    "        profile.scrape(headers=headers)\n",
    "\n",
    "        #Adding profile datapoints to dataframe\n",
    "        users.at[i, 'follower_count'] = profile.followers\n",
    "        users.at[i, 'number_of_posts'] = profile.posts\n",
    "\n",
    "        #Scraping Posts\n",
    "        posts = profile.get_posts(webdriver=driver, login_first=True, login_pause=20)\n",
    "        scraped_posts, unscraped = scrape_posts(posts, webdriver=driver, silent=False, headers=headers, pause=10)\n",
    "        top_post = get_top_post(scraped_posts)\n",
    "\n",
    "        #Post are scraped from most recent to oldest, therefore, the earliest post will be the last one scraped in theory\n",
    "        first_post = scrape_posts[-1]\n",
    "\n",
    "        users.at[i, 'top_post_likes'] = top_post.likes\n",
    "        users.at[i, 'top_post_date_posted'] = datetime.fromtimestamp(top_post.timestamp)\n",
    "        users.at[i, 'top_post_url'] = \"instagram.com/p/{}\".format(top_post.shortcode)\n",
    "        users.at[i, 'first_post_likes'] = first_post.likes\n",
    "        users.at[i, 'first_post_date_posted'] = datetime.fromtimestamp(first_post.timestamp)\n",
    "        users.at[i, 'first_post_url'] = \"instagram.com/p/{}\".format(first_post.shortcode)\n",
    "\n",
    "        "
   ]
  },
  {
   "cell_type": "code",
   "execution_count": 20,
   "metadata": {},
   "outputs": [
    {
     "data": {
      "text/html": [
       "<div>\n",
       "<style scoped>\n",
       "    .dataframe tbody tr th:only-of-type {\n",
       "        vertical-align: middle;\n",
       "    }\n",
       "\n",
       "    .dataframe tbody tr th {\n",
       "        vertical-align: top;\n",
       "    }\n",
       "\n",
       "    .dataframe thead th {\n",
       "        text-align: right;\n",
       "    }\n",
       "</style>\n",
       "<table border=\"1\" class=\"dataframe\">\n",
       "  <thead>\n",
       "    <tr style=\"text-align: right;\">\n",
       "      <th></th>\n",
       "      <th>School</th>\n",
       "      <th>IG Username</th>\n",
       "      <th>follower_count</th>\n",
       "      <th>number_of_posts</th>\n",
       "      <th>top_post_likes</th>\n",
       "      <th>top_post_date_posted</th>\n",
       "      <th>top_post_url</th>\n",
       "      <th>first_post_likes</th>\n",
       "      <th>first_post_date_posted</th>\n",
       "      <th>first_post_url</th>\n",
       "    </tr>\n",
       "  </thead>\n",
       "  <tbody>\n",
       "    <tr>\n",
       "      <th>0</th>\n",
       "      <td>TJU/Wills Eye Hospital</td>\n",
       "      <td>willseyeresidents</td>\n",
       "      <td>1972</td>\n",
       "      <td>33</td>\n",
       "      <td>&lt;NA&gt;</td>\n",
       "      <td>NaT</td>\n",
       "      <td>NaN</td>\n",
       "      <td>&lt;NA&gt;</td>\n",
       "      <td>NaT</td>\n",
       "      <td>NaN</td>\n",
       "    </tr>\n",
       "    <tr>\n",
       "      <th>1</th>\n",
       "      <td>Bascom Palmer/University of Miami</td>\n",
       "      <td>bascompalmereye</td>\n",
       "      <td>12397</td>\n",
       "      <td>238</td>\n",
       "      <td>&lt;NA&gt;</td>\n",
       "      <td>NaT</td>\n",
       "      <td>NaN</td>\n",
       "      <td>&lt;NA&gt;</td>\n",
       "      <td>NaT</td>\n",
       "      <td>NaN</td>\n",
       "    </tr>\n",
       "    <tr>\n",
       "      <th>2</th>\n",
       "      <td>Johns Hopkins/Wilmer</td>\n",
       "      <td>wilmereyeresidents</td>\n",
       "      <td>1506</td>\n",
       "      <td>32</td>\n",
       "      <td>&lt;NA&gt;</td>\n",
       "      <td>NaT</td>\n",
       "      <td>NaN</td>\n",
       "      <td>&lt;NA&gt;</td>\n",
       "      <td>NaT</td>\n",
       "      <td>NaN</td>\n",
       "    </tr>\n",
       "    <tr>\n",
       "      <th>3</th>\n",
       "      <td>University of Iowa</td>\n",
       "      <td>uiowaeye</td>\n",
       "      <td>1468</td>\n",
       "      <td>129</td>\n",
       "      <td>&lt;NA&gt;</td>\n",
       "      <td>NaT</td>\n",
       "      <td>NaN</td>\n",
       "      <td>&lt;NA&gt;</td>\n",
       "      <td>NaT</td>\n",
       "      <td>NaN</td>\n",
       "    </tr>\n",
       "    <tr>\n",
       "      <th>4</th>\n",
       "      <td>Mass. Eye and Ear</td>\n",
       "      <td>harvardophthalmologyresidents</td>\n",
       "      <td>1542</td>\n",
       "      <td>179</td>\n",
       "      <td>&lt;NA&gt;</td>\n",
       "      <td>NaT</td>\n",
       "      <td>NaN</td>\n",
       "      <td>&lt;NA&gt;</td>\n",
       "      <td>NaT</td>\n",
       "      <td>NaN</td>\n",
       "    </tr>\n",
       "    <tr>\n",
       "      <th>89</th>\n",
       "      <td>Larkin</td>\n",
       "      <td>NaN</td>\n",
       "      <td>&lt;NA&gt;</td>\n",
       "      <td>&lt;NA&gt;</td>\n",
       "      <td>&lt;NA&gt;</td>\n",
       "      <td>NaT</td>\n",
       "      <td>NaN</td>\n",
       "      <td>&lt;NA&gt;</td>\n",
       "      <td>NaT</td>\n",
       "      <td>NaN</td>\n",
       "    </tr>\n",
       "  </tbody>\n",
       "</table>\n",
       "</div>"
      ],
      "text/plain": [
       "                               School                    IG Username  \\\n",
       "0              TJU/Wills Eye Hospital              willseyeresidents   \n",
       "1   Bascom Palmer/University of Miami                bascompalmereye   \n",
       "2                Johns Hopkins/Wilmer             wilmereyeresidents   \n",
       "3                  University of Iowa                       uiowaeye   \n",
       "4                   Mass. Eye and Ear  harvardophthalmologyresidents   \n",
       "89                             Larkin                            NaN   \n",
       "\n",
       "   follower_count number_of_posts top_post_likes top_post_date_posted  \\\n",
       "0            1972              33           <NA>                  NaT   \n",
       "1           12397             238           <NA>                  NaT   \n",
       "2            1506              32           <NA>                  NaT   \n",
       "3            1468             129           <NA>                  NaT   \n",
       "4            1542             179           <NA>                  NaT   \n",
       "89           <NA>            <NA>           <NA>                  NaT   \n",
       "\n",
       "   top_post_url first_post_likes first_post_date_posted first_post_url  \n",
       "0           NaN             <NA>                    NaT            NaN  \n",
       "1           NaN             <NA>                    NaT            NaN  \n",
       "2           NaN             <NA>                    NaT            NaN  \n",
       "3           NaN             <NA>                    NaT            NaN  \n",
       "4           NaN             <NA>                    NaT            NaN  \n",
       "89          NaN             <NA>                    NaT            NaN  "
      ]
     },
     "execution_count": 20,
     "metadata": {},
     "output_type": "execute_result"
    }
   ],
   "source": [
    "users"
   ]
  },
  {
   "cell_type": "code",
   "execution_count": 164,
   "metadata": {},
   "outputs": [],
   "source": [
    "test_profile = Profile(\"willseyeresidents\")\n",
    "test_profile.scrape(headers=headers)"
   ]
  },
  {
   "cell_type": "code",
   "execution_count": 165,
   "metadata": {},
   "outputs": [
    {
     "data": {
      "text/plain": [
       "33"
      ]
     },
     "execution_count": 165,
     "metadata": {},
     "output_type": "execute_result"
    }
   ],
   "source": [
    "test_profile.posts"
   ]
  },
  {
   "cell_type": "code",
   "execution_count": null,
   "metadata": {},
   "outputs": [
    {
     "ename": "KeyboardInterrupt",
     "evalue": "",
     "output_type": "error",
     "traceback": [
      "\u001b[0;31m---------------------------------------------------------------------------\u001b[0m",
      "\u001b[0;31mKeyboardInterrupt\u001b[0m                         Traceback (most recent call last)",
      "\u001b[0;32m/var/folders/yc/py2bsnld379d87cmrgxy0n21skvr9g/T/ipykernel_86779/1432384376.py\u001b[0m in \u001b[0;36m<module>\u001b[0;34m\u001b[0m\n\u001b[0;32m----> 1\u001b[0;31m \u001b[0mposts\u001b[0m \u001b[0;34m=\u001b[0m \u001b[0mtest_profile\u001b[0m\u001b[0;34m.\u001b[0m\u001b[0mget_posts\u001b[0m\u001b[0;34m(\u001b[0m\u001b[0mwebdriver\u001b[0m\u001b[0;34m=\u001b[0m\u001b[0mdriver\u001b[0m\u001b[0;34m,\u001b[0m \u001b[0mlogin_first\u001b[0m\u001b[0;34m=\u001b[0m\u001b[0;32mTrue\u001b[0m\u001b[0;34m,\u001b[0m \u001b[0mlogin_pause\u001b[0m\u001b[0;34m=\u001b[0m\u001b[0;36m20\u001b[0m\u001b[0;34m)\u001b[0m\u001b[0;34m\u001b[0m\u001b[0;34m\u001b[0m\u001b[0m\n\u001b[0m",
      "\u001b[0;32m/opt/anaconda3/envs/instagramScraper/lib/python3.9/site-packages/instascrape/scrapers/profile.py\u001b[0m in \u001b[0;36mget_posts\u001b[0;34m(self, webdriver, amount, login_first, login_pause, max_failed_scroll, scrape, scrape_pause)\u001b[0m\n\u001b[1;32m     99\u001b[0m         \u001b[0;32mif\u001b[0m \u001b[0mlogin_first\u001b[0m\u001b[0;34m:\u001b[0m\u001b[0;34m\u001b[0m\u001b[0;34m\u001b[0m\u001b[0m\n\u001b[1;32m    100\u001b[0m             \u001b[0mwebdriver\u001b[0m\u001b[0;34m.\u001b[0m\u001b[0mget\u001b[0m\u001b[0;34m(\u001b[0m\u001b[0;34m\"https://www.instagram.com\"\u001b[0m\u001b[0;34m)\u001b[0m\u001b[0;34m\u001b[0m\u001b[0;34m\u001b[0m\u001b[0m\n\u001b[0;32m--> 101\u001b[0;31m             \u001b[0mtime\u001b[0m\u001b[0;34m.\u001b[0m\u001b[0msleep\u001b[0m\u001b[0;34m(\u001b[0m\u001b[0mlogin_pause\u001b[0m\u001b[0;34m)\u001b[0m\u001b[0;34m\u001b[0m\u001b[0;34m\u001b[0m\u001b[0m\n\u001b[0m\u001b[1;32m    102\u001b[0m \u001b[0;34m\u001b[0m\u001b[0m\n\u001b[1;32m    103\u001b[0m         \u001b[0;31m# Get profile page\u001b[0m\u001b[0;34m\u001b[0m\u001b[0;34m\u001b[0m\u001b[0m\n",
      "\u001b[0;31mKeyboardInterrupt\u001b[0m: "
     ]
    }
   ],
   "source": [
    "posts = test_profile.get_posts(webdriver=driver, login_first=True, login_pause=20)"
   ]
  },
  {
   "cell_type": "code",
   "execution_count": null,
   "metadata": {},
   "outputs": [
    {
     "data": {
      "text/plain": [
       "33"
      ]
     },
     "execution_count": 17,
     "metadata": {},
     "output_type": "execute_result"
    }
   ],
   "source": [
    "len(posts)"
   ]
  },
  {
   "cell_type": "code",
   "execution_count": null,
   "metadata": {},
   "outputs": [
    {
     "name": "stdout",
     "output_type": "stream",
     "text": [
      "0: CDABF2hhEhP - 2020-07-23 17:49:11\n",
      "1: CC6_LwDhnTu - 2020-07-21 18:56:19\n",
      "2: CC4Kk8ZBGIc - 2020-07-20 16:38:09\n",
      "3: CCtc94uh_SW - 2020-07-16 12:47:12\n",
      "4: CCqrp49B5j1 - 2020-07-15 10:57:49\n",
      "5: CCjOYsGBwWO - 2020-07-12 13:27:23\n",
      "6: CCecas4hdY- - 2020-07-10 16:53:47\n",
      "7: CCHSdAehmf7 - 2020-07-01 17:04:11\n",
      "8: CB3xPaehw43 - 2020-06-25 16:25:22\n",
      "9: CBy5lzbBlq8 - 2020-06-23 19:02:08\n",
      "10: CBwQp8qhq3y - 2020-06-22 18:25:57\n",
      "11: CBtTXidBM4k - 2020-06-21 14:51:56\n",
      "12: CBqW91ohOfD - 2020-06-20 11:25:39\n",
      "13: CBoCRLXhQex - 2020-06-19 13:46:18\n",
      "14: CBlvolqAn4t - 2020-06-18 16:25:00\n",
      "15: CBjLzmHBJxE - 2020-06-17 16:33:27\n",
      "16: CANgGIPAQc0 - 2020-05-15 09:56:03\n",
      "17: CALFcpLAZq1 - 2020-05-14 11:24:43\n",
      "18: B_lFRQnBz3j - 2020-04-29 17:12:01\n",
      "19: B-sAg1yhXLQ - 2020-04-07 13:13:45\n",
      "20: B9Z5wFmBtvD - 2020-03-06 14:56:56\n",
      "21: B9HGomcBRkn - 2020-02-28 07:43:57\n",
      "22: B8nbgg2hDsc - 2020-02-16 00:30:39\n",
      "23: B7yyPaVB9wF - 2020-01-26 13:49:32\n",
      "24: B6UcX8CB3J_ - 2019-12-20 22:29:51\n",
      "25: B6TRZBrBHoW - 2019-12-20 11:34:38\n",
      "26: B5l3vIoBB4d - 2019-12-02 20:24:39\n",
      "27: B44xDRpB7iT - 2019-11-15 08:00:24\n",
      "28: B4i_dbXgK0u - 2019-11-06 21:03:01\n",
      "29: B4SmCO2g2C- - 2019-10-31 13:13:00\n",
      "30: B4IODOiA1lR - 2019-10-27 12:31:01\n",
      "31: B4Bb3OsAwPA - 2019-10-24 21:17:02\n",
      "32: B4BZYIpAuYT - 2019-10-24 20:55:18\n"
     ]
    }
   ],
   "source": [
    "scraped, unscraped = scrape_posts(posts, webdriver=driver, silent=False, headers=headers, pause=10)"
   ]
  },
  {
   "cell_type": "code",
   "execution_count": null,
   "metadata": {},
   "outputs": [
    {
     "data": {
      "text/plain": [
       "33"
      ]
     },
     "execution_count": 21,
     "metadata": {},
     "output_type": "execute_result"
    }
   ],
   "source": [
    "len(scraped)"
   ]
  },
  {
   "cell_type": "code",
   "execution_count": null,
   "metadata": {},
   "outputs": [
    {
     "name": "stdout",
     "output_type": "stream",
     "text": [
      "141 instagram.com/p/CC4Kk8ZBGIc\n"
     ]
    }
   ],
   "source": [
    "top_test_post = get_top_post(scraped)\n",
    "print(top_test_post.likes, \"instagram.com/p/{}\".format(top_test_post.shortcode))"
   ]
  }
 ],
 "metadata": {
  "interpreter": {
   "hash": "3a26748e5d797bc3af7689e0bf33eb0d5bd75797bca8906a24c68a27e03ccf6f"
  },
  "kernelspec": {
   "display_name": "Python 3.9.7 64-bit ('instagramScraper': conda)",
   "name": "python3"
  },
  "language_info": {
   "codemirror_mode": {
    "name": "ipython",
    "version": 3
   },
   "file_extension": ".py",
   "mimetype": "text/x-python",
   "name": "python",
   "nbconvert_exporter": "python",
   "pygments_lexer": "ipython3",
   "version": "3.9.7"
  },
  "orig_nbformat": 4
 },
 "nbformat": 4,
 "nbformat_minor": 2
}
