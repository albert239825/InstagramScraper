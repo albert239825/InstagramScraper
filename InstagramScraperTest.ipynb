{
 "cells": [
  {
   "cell_type": "markdown",
   "source": [
    "## Project Requirements:\n",
    "Scrape profiles and get:\n",
    "1. the number of posts\n",
    "2. the follower count\n",
    "3. number of likes on most liked post\n",
    "4. numbner of likes"
   ],
   "metadata": {}
  },
  {
   "cell_type": "code",
   "execution_count": 54,
   "source": [
    "from instagramy import InstagramUser\n",
    "from instascrape import Profile, scrape_posts, Post\n",
    "from selenium.webdriver import Chrome\n",
    "from datetime import datetime\n",
    "import pandas as pd"
   ],
   "outputs": [],
   "metadata": {}
  },
  {
   "cell_type": "code",
   "execution_count": 14,
   "source": [
    "chrome_driver_path = \"/Users/chena23/Desktop/InstragramScraper/chromedriver\"\n",
    "\n",
    "driver = Chrome(chrome_driver_path)\n",
    "headers = {\n",
    "    \"user-agent\": \"Mozilla/5.0 (Linux; Android 6.0; Nexus 5 Build/MRA58N) AppleWebKit/537.36 (KHTML, like Gecko) Chrome/87.0.4280.88 Mobile Safari/537.36 Edg/87.0.664.57\",\n",
    "    \"cookie\": \"sessionid=7320119797%3AsIWlEyDL37Q7Pg%3A14\"\n",
    "}"
   ],
   "outputs": [],
   "metadata": {}
  },
  {
   "cell_type": "code",
   "execution_count": 61,
   "source": [
    "def get_top_post (scraped_posts, cut_off_date = datetime(2021, 8,1)):\n",
    "    # Checking if an empty array was inputed\n",
    "    if (type(scraped_posts) != list):\n",
    "        raise TypeError(\"Input is not a list\")\n",
    "    if (len(scraped_posts) == 0):\n",
    "        raise ValueError(\"Empty posts list imported\")\n",
    "    \n",
    "    #Returning Post with the highest number of likes\n",
    "    top_post = scraped_posts[0]\n",
    "    \n",
    "    for post in scraped_posts:\n",
    "        if (type(post) != Post):\n",
    "            raise TypeError(\"One or more objects in the list is not a Post object\")\n",
    "        if (datetime.fromtimestamp(post.timestamp) < cut_off_date):\n",
    "            if (post.likes > top_post.likes):\n",
    "                top_post = post\n",
    "        else:\n",
    "            print(\"Post posted on {}, after the deadline\".format(datetime.fromtimestamp(post.timestamp)))\n",
    "\n",
    "    return top_post\n",
    "        \n",
    "    \n"
   ],
   "outputs": [],
   "metadata": {}
  },
  {
   "cell_type": "code",
   "execution_count": 48,
   "source": [
    "test_profile = Profile(\"willseyeresidents\")\n",
    "test_profile.scrape(headers=headers)"
   ],
   "outputs": [],
   "metadata": {}
  },
  {
   "cell_type": "code",
   "execution_count": 49,
   "source": [
    "posts = test_profile.get_posts(webdriver=driver, login_first=True, login_pause=20)"
   ],
   "outputs": [
    {
     "output_type": "error",
     "ename": "KeyboardInterrupt",
     "evalue": "",
     "traceback": [
      "\u001b[0;31m---------------------------------------------------------------------------\u001b[0m",
      "\u001b[0;31mKeyboardInterrupt\u001b[0m                         Traceback (most recent call last)",
      "\u001b[0;32m/var/folders/yc/py2bsnld379d87cmrgxy0n21skvr9g/T/ipykernel_86779/1432384376.py\u001b[0m in \u001b[0;36m<module>\u001b[0;34m\u001b[0m\n\u001b[0;32m----> 1\u001b[0;31m \u001b[0mposts\u001b[0m \u001b[0;34m=\u001b[0m \u001b[0mtest_profile\u001b[0m\u001b[0;34m.\u001b[0m\u001b[0mget_posts\u001b[0m\u001b[0;34m(\u001b[0m\u001b[0mwebdriver\u001b[0m\u001b[0;34m=\u001b[0m\u001b[0mdriver\u001b[0m\u001b[0;34m,\u001b[0m \u001b[0mlogin_first\u001b[0m\u001b[0;34m=\u001b[0m\u001b[0;32mTrue\u001b[0m\u001b[0;34m,\u001b[0m \u001b[0mlogin_pause\u001b[0m\u001b[0;34m=\u001b[0m\u001b[0;36m20\u001b[0m\u001b[0;34m)\u001b[0m\u001b[0;34m\u001b[0m\u001b[0;34m\u001b[0m\u001b[0m\n\u001b[0m",
      "\u001b[0;32m/opt/anaconda3/envs/instagramScraper/lib/python3.9/site-packages/instascrape/scrapers/profile.py\u001b[0m in \u001b[0;36mget_posts\u001b[0;34m(self, webdriver, amount, login_first, login_pause, max_failed_scroll, scrape, scrape_pause)\u001b[0m\n\u001b[1;32m     99\u001b[0m         \u001b[0;32mif\u001b[0m \u001b[0mlogin_first\u001b[0m\u001b[0;34m:\u001b[0m\u001b[0;34m\u001b[0m\u001b[0;34m\u001b[0m\u001b[0m\n\u001b[1;32m    100\u001b[0m             \u001b[0mwebdriver\u001b[0m\u001b[0;34m.\u001b[0m\u001b[0mget\u001b[0m\u001b[0;34m(\u001b[0m\u001b[0;34m\"https://www.instagram.com\"\u001b[0m\u001b[0;34m)\u001b[0m\u001b[0;34m\u001b[0m\u001b[0;34m\u001b[0m\u001b[0m\n\u001b[0;32m--> 101\u001b[0;31m             \u001b[0mtime\u001b[0m\u001b[0;34m.\u001b[0m\u001b[0msleep\u001b[0m\u001b[0;34m(\u001b[0m\u001b[0mlogin_pause\u001b[0m\u001b[0;34m)\u001b[0m\u001b[0;34m\u001b[0m\u001b[0;34m\u001b[0m\u001b[0m\n\u001b[0m\u001b[1;32m    102\u001b[0m \u001b[0;34m\u001b[0m\u001b[0m\n\u001b[1;32m    103\u001b[0m         \u001b[0;31m# Get profile page\u001b[0m\u001b[0;34m\u001b[0m\u001b[0;34m\u001b[0m\u001b[0m\n",
      "\u001b[0;31mKeyboardInterrupt\u001b[0m: "
     ]
    }
   ],
   "metadata": {}
  },
  {
   "cell_type": "code",
   "execution_count": 17,
   "source": [
    "len(posts)"
   ],
   "outputs": [
    {
     "output_type": "execute_result",
     "data": {
      "text/plain": [
       "33"
      ]
     },
     "metadata": {},
     "execution_count": 17
    }
   ],
   "metadata": {}
  },
  {
   "cell_type": "code",
   "execution_count": 18,
   "source": [
    "scraped, unscraped = scrape_posts(posts, webdriver=driver, silent=False, headers=headers, pause=10)"
   ],
   "outputs": [
    {
     "output_type": "stream",
     "name": "stdout",
     "text": [
      "0: CDABF2hhEhP - 2020-07-23 17:49:11\n",
      "1: CC6_LwDhnTu - 2020-07-21 18:56:19\n",
      "2: CC4Kk8ZBGIc - 2020-07-20 16:38:09\n",
      "3: CCtc94uh_SW - 2020-07-16 12:47:12\n",
      "4: CCqrp49B5j1 - 2020-07-15 10:57:49\n",
      "5: CCjOYsGBwWO - 2020-07-12 13:27:23\n",
      "6: CCecas4hdY- - 2020-07-10 16:53:47\n",
      "7: CCHSdAehmf7 - 2020-07-01 17:04:11\n",
      "8: CB3xPaehw43 - 2020-06-25 16:25:22\n",
      "9: CBy5lzbBlq8 - 2020-06-23 19:02:08\n",
      "10: CBwQp8qhq3y - 2020-06-22 18:25:57\n",
      "11: CBtTXidBM4k - 2020-06-21 14:51:56\n",
      "12: CBqW91ohOfD - 2020-06-20 11:25:39\n",
      "13: CBoCRLXhQex - 2020-06-19 13:46:18\n",
      "14: CBlvolqAn4t - 2020-06-18 16:25:00\n",
      "15: CBjLzmHBJxE - 2020-06-17 16:33:27\n",
      "16: CANgGIPAQc0 - 2020-05-15 09:56:03\n",
      "17: CALFcpLAZq1 - 2020-05-14 11:24:43\n",
      "18: B_lFRQnBz3j - 2020-04-29 17:12:01\n",
      "19: B-sAg1yhXLQ - 2020-04-07 13:13:45\n",
      "20: B9Z5wFmBtvD - 2020-03-06 14:56:56\n",
      "21: B9HGomcBRkn - 2020-02-28 07:43:57\n",
      "22: B8nbgg2hDsc - 2020-02-16 00:30:39\n",
      "23: B7yyPaVB9wF - 2020-01-26 13:49:32\n",
      "24: B6UcX8CB3J_ - 2019-12-20 22:29:51\n",
      "25: B6TRZBrBHoW - 2019-12-20 11:34:38\n",
      "26: B5l3vIoBB4d - 2019-12-02 20:24:39\n",
      "27: B44xDRpB7iT - 2019-11-15 08:00:24\n",
      "28: B4i_dbXgK0u - 2019-11-06 21:03:01\n",
      "29: B4SmCO2g2C- - 2019-10-31 13:13:00\n",
      "30: B4IODOiA1lR - 2019-10-27 12:31:01\n",
      "31: B4Bb3OsAwPA - 2019-10-24 21:17:02\n",
      "32: B4BZYIpAuYT - 2019-10-24 20:55:18\n"
     ]
    }
   ],
   "metadata": {}
  },
  {
   "cell_type": "code",
   "execution_count": 21,
   "source": [
    "len(scraped)"
   ],
   "outputs": [
    {
     "output_type": "execute_result",
     "data": {
      "text/plain": [
       "33"
      ]
     },
     "metadata": {},
     "execution_count": 21
    }
   ],
   "metadata": {}
  },
  {
   "cell_type": "code",
   "execution_count": 63,
   "source": [
    "top_test_post = get_top_post(scraped)\n",
    "print(top_test_post.likes, \"instagram.com/p/{}\".format(top_test_post.shortcode))"
   ],
   "outputs": [
    {
     "output_type": "stream",
     "name": "stdout",
     "text": [
      "Post posted on 2020-07-23 17:49:11, after the deadline\n",
      "Post posted on 2020-07-21 18:56:19, after the deadline\n",
      "Post posted on 2020-07-20 16:38:09, after the deadline\n",
      "Post posted on 2020-07-16 12:47:12, after the deadline\n",
      "Post posted on 2020-07-15 10:57:49, after the deadline\n",
      "Post posted on 2020-07-12 13:27:23, after the deadline\n",
      "Post posted on 2020-07-10 16:53:47, after the deadline\n",
      "Post posted on 2020-07-01 17:04:11, after the deadline\n",
      "Post posted on 2020-06-25 16:25:22, after the deadline\n",
      "Post posted on 2020-06-23 19:02:08, after the deadline\n",
      "Post posted on 2020-06-22 18:25:57, after the deadline\n",
      "Post posted on 2020-06-21 14:51:56, after the deadline\n",
      "Post posted on 2020-06-20 11:25:39, after the deadline\n",
      "Post posted on 2020-06-19 13:46:18, after the deadline\n",
      "Post posted on 2020-06-18 16:25:00, after the deadline\n",
      "Post posted on 2020-06-17 16:33:27, after the deadline\n",
      "Post posted on 2020-05-15 09:56:03, after the deadline\n",
      "Post posted on 2020-05-14 11:24:43, after the deadline\n",
      "114 instagram.com/p/CDABF2hhEhP\n"
     ]
    }
   ],
   "metadata": {}
  },
  {
   "cell_type": "code",
   "execution_count": 55,
   "source": [
    "test_date_posted = datetime.fromtimestamp(top_test_post.timestamp)"
   ],
   "outputs": [],
   "metadata": {}
  },
  {
   "cell_type": "code",
   "execution_count": 60,
   "source": [
    "print(test_date_posted)"
   ],
   "outputs": [
    {
     "output_type": "stream",
     "name": "stdout",
     "text": [
      "2020-07-20 16:38:09\n"
     ]
    }
   ],
   "metadata": {}
  }
 ],
 "metadata": {
  "orig_nbformat": 4,
  "language_info": {
   "name": "python",
   "version": "3.9.7",
   "mimetype": "text/x-python",
   "codemirror_mode": {
    "name": "ipython",
    "version": 3
   },
   "pygments_lexer": "ipython3",
   "nbconvert_exporter": "python",
   "file_extension": ".py"
  },
  "kernelspec": {
   "name": "python3",
   "display_name": "Python 3.9.7 64-bit ('instagramScraper': conda)"
  },
  "interpreter": {
   "hash": "3a26748e5d797bc3af7689e0bf33eb0d5bd75797bca8906a24c68a27e03ccf6f"
  }
 },
 "nbformat": 4,
 "nbformat_minor": 2
}