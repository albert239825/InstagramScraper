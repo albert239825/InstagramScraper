{
 "cells": [
  {
   "cell_type": "markdown",
   "metadata": {},
   "source": [
    "## Project Requirements:\n",
    "Scrape profiles and get:\n",
    "1. the number of posts\n",
    "2. the follower count\n",
    "3. number of likes on most liked post\n",
    "4. numbner of likes\n",
    "\n",
    "## Follow Up\n",
    "Save each profile in its own data frame with each row corresponding to a post <br>\n",
    "export as a excel file with each profile as a worksheet <br>\n",
    "find a way to edit so that the sheet includes some global account variables (ex. number of followers) outside the dataframe"
   ]
  },
  {
   "cell_type": "code",
   "execution_count": 1,
   "metadata": {},
   "outputs": [],
   "source": [
    "from instascrape import Profile, scrape_posts, Post\n",
    "from selenium.webdriver import Chrome\n",
    "from datetime import datetime\n",
    "import pandas as pd\n",
    "import numpy as np\n",
    "import pickle\n",
    "from openpyxl.workbook.child import INVALID_TITLE_REGEX\n",
    "from openpyxl import workbook\n",
    "import re\n",
    "from utils import check_valid_username, write_to_excel, get_top_post, create_post_df\n",
    "from pathlib import Path\n",
    "from tqdm import tqdm"
   ]
  },
  {
   "cell_type": "code",
   "execution_count": 2,
   "metadata": {},
   "outputs": [],
   "source": [
    "cwd = Path.cwd()\n",
    "\n",
    "#mac\n",
    "#chrome_driver_path = cwd / 'chromedriver'\n",
    "\n",
    "#windows\n",
    "chrome_driver_path = cwd / 'chromedriver.exe'\n",
    "driver = Chrome(chrome_driver_path)\n"
   ]
  },
  {
   "cell_type": "code",
   "execution_count": 3,
   "metadata": {},
   "outputs": [],
   "source": [
    "headers = {\n",
    "    \"user-agent\": \"Mozilla/5.0 (Linux; Android 6.0; Nexus 5 Build/MRA58N) AppleWebKit/537.36 (KHTML, like Gecko) Chrome/87.0.4280.88 Mobile Safari/537.36 Edg/87.0.664.57\",\n",
    "    \"cookie\": \"sessionid=7320119797%3AiFhQYSC7AxwAcY%3A17\"\n",
    "}"
   ]
  },
  {
   "cell_type": "code",
   "execution_count": 4,
   "metadata": {},
   "outputs": [],
   "source": [
    "users = pd.read_csv(\"Social_Media_Study_Handles.csv\")\n",
    "users = users.reindex(columns=[*users.columns, 'follower_count', 'number_of_posts'])\n",
    "\n",
    "#Specifying datatype for each columns\n",
    "users['School'] = users['School'].astype(object)\n",
    "users['IG Username'] = users['IG Username'].astype(object)\n",
    "users['follower_count'] = users['follower_count'].astype('Int64')\n",
    "users['number_of_posts'] = users['number_of_posts'].astype('Int64')\n",
    "\n",
    "# users = users.reindex(columns=[*users.columns, 'follower_count', 'number_of_posts', 'top_post_likes', \n",
    "# 'top_post_date_posted', 'top_post_url', 'first_post_likes', 'first_post_date_posted', 'first_post_url'])\n",
    "# This code is no longer userful since we are storing each account's posts in its own dataframe\n",
    "# users['top_post_likes'] = users['top_post_likes'].astype('Int64')\n",
    "# users['top_post_date_posted'] = users['top_post_date_posted'].astype('datetime64[ns]')\n",
    "# users['top_post_url'] = users['top_post_url'].astype(object)\n",
    "# users['first_post_likes'] = users['first_post_likes'].astype('Int64')\n",
    "# users['first_post_date_posted'] = users['first_post_date_posted'].astype('datetime64[ns]')\n",
    "# users['first_post_url'] = users['first_post_url'].astype(object)"
   ]
  },
  {
   "cell_type": "code",
   "execution_count": 33,
   "metadata": {},
   "outputs": [
    {
     "name": "stderr",
     "output_type": "stream",
     "text": [
      "  0%|          | 0/121 [00:00<?, ?it/s]"
     ]
    },
    {
     "name": "stdout",
     "output_type": "stream",
     "text": [
      "willseyeresidents\n",
      "33\n",
      "0: CDABF2hhEhP - 2020-07-23 17:49:11\n",
      "1: CC6_LwDhnTu - 2020-07-21 18:56:19\n",
      "2: CC4Kk8ZBGIc - 2020-07-20 16:38:09\n",
      "3: CCtc94uh_SW - 2020-07-16 12:47:12\n",
      "4: CCqrp49B5j1 - 2020-07-15 10:57:49\n",
      "5: CCjOYsGBwWO - 2020-07-12 13:27:23\n",
      "6: CCecas4hdY- - 2020-07-10 16:53:47\n",
      "7: CCHSdAehmf7 - 2020-07-01 17:04:11\n",
      "8: CB3xPaehw43 - 2020-06-25 16:25:22\n",
      "9: CBy5lzbBlq8 - 2020-06-23 19:02:08\n",
      "10: CBwQp8qhq3y - 2020-06-22 18:25:57\n",
      "11: CBtTXidBM4k - 2020-06-21 14:51:56\n",
      "12: CBqW91ohOfD - 2020-06-20 11:25:39\n",
      "13: CBoCRLXhQex - 2020-06-19 13:46:18\n",
      "14: CBlvolqAn4t - 2020-06-18 16:25:00\n",
      "15: CBjLzmHBJxE - 2020-06-17 16:33:27\n",
      "16: CANgGIPAQc0 - 2020-05-15 09:56:03\n",
      "17: CALFcpLAZq1 - 2020-05-14 11:24:43\n",
      "18: B_lFRQnBz3j - 2020-04-29 17:12:01\n",
      "19: B-sAg1yhXLQ - 2020-04-07 13:13:45\n",
      "20: B9Z5wFmBtvD - 2020-03-06 14:56:56\n",
      "an error has occured on willseyeresidents\n",
      "list index out of range\n",
      "willseyeresidents\n",
      "33\n",
      "0: CDABF2hhEhP - 2020-07-23 17:49:11\n",
      "1: CC6_LwDhnTu - 2020-07-21 18:56:19\n",
      "2: CC4Kk8ZBGIc - 2020-07-20 16:38:09\n",
      "3: CCtc94uh_SW - 2020-07-16 12:47:12\n",
      "4: CCqrp49B5j1 - 2020-07-15 10:57:49\n",
      "5: CCjOYsGBwWO - 2020-07-12 13:27:23\n",
      "6: CCecas4hdY- - 2020-07-10 16:53:47\n",
      "7: CCHSdAehmf7 - 2020-07-01 17:04:11\n",
      "8: CB3xPaehw43 - 2020-06-25 16:25:22\n",
      "9: CBy5lzbBlq8 - 2020-06-23 19:02:08\n",
      "10: CBwQp8qhq3y - 2020-06-22 18:25:57\n",
      "11: CBtTXidBM4k - 2020-06-21 14:51:56\n",
      "12: CBqW91ohOfD - 2020-06-20 11:25:39\n",
      "13: CBoCRLXhQex - 2020-06-19 13:46:18\n",
      "14: CBlvolqAn4t - 2020-06-18 16:25:00\n",
      "15: CBjLzmHBJxE - 2020-06-17 16:33:27\n",
      "16: CANgGIPAQc0 - 2020-05-15 09:56:03\n",
      "17: CALFcpLAZq1 - 2020-05-14 11:24:43\n",
      "18: B_lFRQnBz3j - 2020-04-29 17:12:01\n",
      "19: B-sAg1yhXLQ - 2020-04-07 13:13:45\n",
      "20: B9Z5wFmBtvD - 2020-03-06 14:56:56\n",
      "21: B9HGomcBRkn - 2020-02-28 07:43:57\n",
      "22: B8nbgg2hDsc - 2020-02-16 00:30:39\n",
      "23: B7yyPaVB9wF - 2020-01-26 13:49:32\n",
      "24: B6UcX8CB3J_ - 2019-12-20 22:29:51\n",
      "25: B6TRZBrBHoW - 2019-12-20 11:34:38\n",
      "26: B5l3vIoBB4d - 2019-12-02 20:24:39\n",
      "27: B44xDRpB7iT - 2019-11-15 08:00:24\n",
      "28: B4i_dbXgK0u - 2019-11-06 21:03:01\n",
      "29: B4SmCO2g2C- - 2019-10-31 13:13:00\n",
      "30: B4IODOiA1lR - 2019-10-27 12:31:01\n",
      "31: B4Bb3OsAwPA - 2019-10-24 21:17:02\n"
     ]
    },
    {
     "name": "stderr",
     "output_type": "stream",
     "text": [
      "  1%|          | 1/121 [09:49<19:39:36, 589.80s/it]"
     ]
    },
    {
     "name": "stdout",
     "output_type": "stream",
     "text": [
      "32: B4BZYIpAuYT - 2019-10-24 20:55:18\n",
      "bascompalmereye\n"
     ]
    },
    {
     "name": "stderr",
     "output_type": "stream",
     "text": [
      "  2%|▏         | 2/121 [10:25<8:42:50, 263.61s/it] "
     ]
    },
    {
     "name": "stdout",
     "output_type": "stream",
     "text": [
      "237\n",
      "Bascom Palmer/University of Miami with username bascompalmereye has 237 posts, more than 200\n",
      "wilmereyeresidents\n",
      "34\n",
      "0: CVYQ03DrANh - 2021-10-23 13:13:33\n",
      "1: CU-eULLAyeZ - 2021-10-13 12:51:10\n",
      "2: CUKkD_-AGmc - 2021-09-23 09:00:53\n",
      "3: CTLCjN9rd5C - 2021-08-29 16:55:53\n",
      "4: CRwRrpghB4P - 2021-07-25 10:57:13\n",
      "5: CRIGjk4B2bf - 2021-07-09 20:30:23\n",
      "6: CRDNMZyhTKq - 2021-07-07 22:52:11\n",
      "7: CQjuxxIB98Y - 2021-06-25 17:29:57\n",
      "8: CMtBiTAhjET - 2021-03-21 22:01:27\n",
      "9: CKzaswbhAF7 - 2021-02-02 15:33:59\n",
      "10: CKJ7EzWh1yB - 2021-01-17 12:48:47\n",
      "11: CJjWki4hcnY - 2021-01-02 13:18:40\n",
      "12: CJKFwOuBfrA - 2020-12-23 17:50:42\n",
      "13: CI7S8ulBBXg - 2020-12-17 23:57:24\n",
      "14: CHHOF0HBjtU - 2020-11-02 22:03:02\n",
      "15: CEK--gvn7tR - 2020-08-21 20:33:45\n",
      "16: CEE7Gownxu_ - 2020-08-19 12:04:28\n",
      "17: CD0FBcwh8Jk - 2020-08-12 23:04:03\n",
      "18: CDNY5mJhJgz - 2020-07-28 22:27:21\n",
      "19: CCsEnnzBMPi - 2020-07-15 23:55:12\n",
      "20: CCfNRLEhLAi - 2020-07-11 00:00:39\n",
      "21: CCFTbxKBA5w - 2020-06-30 22:34:17\n",
      "22: CCAPSKrhGBC - 2020-06-28 23:21:49\n",
      "23: CB15aM6Hy3F - 2020-06-24 22:58:16\n",
      "24: CBjyUrkHqyH - 2020-06-17 22:10:01\n",
      "25: CBZUk-pHq_k - 2020-06-13 20:37:41\n",
      "26: CBPJMHaHIJW - 2020-06-09 21:45:46\n",
      "27: CBE89dhnk9P - 2020-06-05 22:46:30\n",
      "28: CA5jWuUHt5J - 2020-06-01 12:31:07\n",
      "29: CAvFmHBHkvT - 2020-05-28 10:58:40\n",
      "30: CAeMdz7Hmzu - 2020-05-21 21:31:37\n",
      "31: CAT5lo6g7D6 - 2020-05-17 21:34:15\n",
      "32: CAKADfKAClA - 2020-05-14 01:18:21\n"
     ]
    },
    {
     "name": "stderr",
     "output_type": "stream",
     "text": [
      "  2%|▏         | 3/121 [16:30<10:09:44, 310.04s/it]"
     ]
    },
    {
     "name": "stdout",
     "output_type": "stream",
     "text": [
      "33: CAJHZJ-AtfL - 2020-05-13 17:03:14\n",
      "uiowaeye\n",
      "131\n",
      "0: CVGjF6MLdlJ - 2021-10-16 16:06:50\n",
      "1: CU5gfRpLtyq - 2021-10-11 14:33:57\n",
      "2: CUz3DYRgbI1 - 2021-10-09 09:55:41\n",
      "3: CSFgrMYrfZY - 2021-08-02 16:52:17\n",
      "4: CR4eaSih6Rh - 2021-07-28 15:22:22\n",
      "5: CRZ9tDLBZO4 - 2021-07-16 18:59:22\n",
      "6: CNDcat-hs1J - 2021-03-30 14:59:38\n",
      "7: CMVMAzah-wd - 2021-03-12 14:51:13\n",
      "8: CLxXNG7h8TX - 2021-02-26 16:57:51\n",
      "9: CLxWUtIhCmI - 2021-02-26 16:48:39\n",
      "10: CLCioVhhEos - 2021-02-08 12:31:53\n",
      "11: CKwbZApBXJp - 2021-02-01 11:42:18\n",
      "12: CKSH8vMhObS - 2021-01-20 17:15:12\n",
      "13: CJeV2zyBa35 - 2020-12-31 14:36:13\n",
      "14: CJEFs4ahll6 - 2020-12-21 09:54:48\n",
      "15: CIZZd9ZhfZC - 2020-12-04 20:00:11\n",
      "16: CIHJ_1tBmqf - 2020-11-27 17:58:40\n",
      "17: CH1Wo83BDSc - 2020-11-20 20:02:48\n",
      "18: CHjUSibhiWR - 2020-11-13 19:55:56\n",
      "19: CHQrqnvBzA5 - 2020-11-06 14:14:38\n",
      "20: CHCF1n1hDTh - 2020-10-31 23:14:43\n",
      "21: CG0psvnhHze - 2020-10-26 17:58:43\n",
      "22: CGs_jM6BeuV - 2020-10-23 18:35:44\n",
      "23: CGbEc9Ohm1b - 2020-10-16 19:32:14\n",
      "24: CGIXPQEBYIL - 2020-10-09 13:10:49\n",
      "25: CF2apBbhYaU - 2020-10-02 13:54:13\n",
      "an error has occured on uiowaeye\n",
      "list index out of range\n",
      "uiowaeye\n",
      "131\n",
      "0: CVGjF6MLdlJ - 2021-10-16 16:06:50\n",
      "1: CU5gfRpLtyq - 2021-10-11 14:33:57\n",
      "2: CUz3DYRgbI1 - 2021-10-09 09:55:41\n",
      "3: CSFgrMYrfZY - 2021-08-02 16:52:17\n",
      "4: CR4eaSih6Rh - 2021-07-28 15:22:22\n",
      "5: CRZ9tDLBZO4 - 2021-07-16 18:59:22\n",
      "6: CNDcat-hs1J - 2021-03-30 14:59:38\n",
      "7: CMVMAzah-wd - 2021-03-12 14:51:13\n",
      "8: CLxXNG7h8TX - 2021-02-26 16:57:51\n",
      "9: CLxWUtIhCmI - 2021-02-26 16:48:39\n",
      "10: CLCioVhhEos - 2021-02-08 12:31:53\n",
      "11: CKwbZApBXJp - 2021-02-01 11:42:18\n",
      "12: CKSH8vMhObS - 2021-01-20 17:15:12\n",
      "13: CJeV2zyBa35 - 2020-12-31 14:36:13\n",
      "14: CJEFs4ahll6 - 2020-12-21 09:54:48\n",
      "15: CIZZd9ZhfZC - 2020-12-04 20:00:11\n",
      "16: CIHJ_1tBmqf - 2020-11-27 17:58:40\n",
      "17: CH1Wo83BDSc - 2020-11-20 20:02:48\n",
      "18: CHjUSibhiWR - 2020-11-13 19:55:56\n",
      "19: CHQrqnvBzA5 - 2020-11-06 14:14:38\n",
      "20: CHCF1n1hDTh - 2020-10-31 23:14:43\n",
      "21: CG0psvnhHze - 2020-10-26 17:58:43\n",
      "22: CGs_jM6BeuV - 2020-10-23 18:35:44\n",
      "23: CGbEc9Ohm1b - 2020-10-16 19:32:14\n",
      "24: CGIXPQEBYIL - 2020-10-09 13:10:49\n",
      "25: CF2apBbhYaU - 2020-10-02 13:54:13\n",
      "26: CFkVN7Uh-HP - 2020-09-25 13:20:30\n",
      "27: CFSBqmqhuPa - 2020-09-18 10:43:19\n",
      "28: CE_ykgChthF - 2020-09-11 08:45:05\n",
      "29: CEuuo1wBk8Q - 2020-09-04 17:43:38\n",
      "30: CEurDPShh_W - 2020-09-04 17:12:18\n",
      "31: CErYBumh8Yo - 2020-09-03 10:28:20\n",
      "32: CEX1En_B_MV - 2020-08-26 20:17:20\n",
      "33: CEU0-swAAtJ - 2020-08-25 16:18:48\n",
      "34: CDRTinKBweQ - 2020-07-30 10:57:29\n",
      "35: CCZUaqzhUky - 2020-07-08 17:07:40\n",
      "36: CCHWE73BODX - 2020-07-01 17:35:51\n",
      "37: CCHKK0WhVZ3 - 2020-07-01 15:51:48\n",
      "38: CA704vMhNLd - 2020-06-02 09:42:47\n",
      "39: CA59rh4BgeP - 2020-06-01 16:21:09\n",
      "40: CAYizqeBJ2b - 2020-05-19 16:51:24\n",
      "41: CAVh_fWh1lA - 2020-05-18 12:46:33\n",
      "42: CAFpDLLgPjg - 2020-05-12 08:40:22\n",
      "43: B_8WtHphGNE - 2020-05-08 18:06:54\n",
      "44: B_YUGd4BUHP - 2020-04-24 18:11:30\n",
      "45: B_GTblBBPKi - 2020-04-17 18:19:19\n",
      "46: B_ArpkPhs3M - 2020-04-15 13:55:29\n",
      "47: B-X9--dhNrL - 2020-03-30 18:26:50\n",
      "48: B-LEjQZBaEX - 2020-03-25 18:14:06\n",
      "49: B9U37Cbh90m - 2020-03-04 16:04:45\n",
      "50: B9P4SdbBFtq - 2020-03-02 17:31:45\n",
      "51: B9IbgpBByZl - 2020-02-28 20:05:36\n",
      "52: B9Aex5VhLMx - 2020-02-25 18:00:15\n",
      "53: B8kN33hBNbD - 2020-02-14 18:33:47\n",
      "54: B8SE_dfhy2M - 2020-02-07 17:29:50\n",
      "55: B7UQXdvBZFq - 2020-01-14 17:16:19\n",
      "56: B6yFMKXByOH - 2020-01-01 10:44:29\n",
      "57: B53CC4CBH2D - 2019-12-09 12:21:49\n",
      "58: B5vO208h1P5 - 2019-12-06 11:39:50\n",
      "59: B5s8YX2hQKm - 2019-12-05 14:19:55\n",
      "60: B5BgYo0BnhV - 2019-11-18 17:27:56\n",
      "61: B4lFvxpBZ2m - 2019-11-07 16:36:26\n",
      "62: B4imIOMAyTf - 2019-11-06 17:21:40\n",
      "63: B4dhGhkBESS - 2019-11-04 18:01:32\n",
      "64: B4TFuxNhlFJ - 2019-10-31 17:49:58\n",
      "65: B3pskJbBYgd - 2019-10-15 16:01:12\n",
      "66: B3mkhZDBqyF - 2019-10-14 10:53:12\n",
      "67: B3lDVgShU-l - 2019-10-13 20:43:58\n",
      "68: B3hnM-sB_sP - 2019-10-12 12:40:25\n",
      "69: B3fsZ6NhYyn - 2019-10-11 18:47:24\n",
      "70: B3NJBU8Bol9 - 2019-10-04 13:51:52\n",
      "71: B3IXVvlBken - 2019-10-02 17:20:48\n",
      "72: B3FeS6NBYJM - 2019-10-01 14:23:51\n",
      "73: B2m11vpB5ab - 2019-09-19 16:53:08\n",
      "74: B2AVMlZhPlz - 2019-09-04 17:56:45\n",
      "75: B1wiMfjhIBn - 2019-08-29 14:42:29\n",
      "76: B1pA9-mBbzJ - 2019-08-26 16:37:27\n",
      "77: B1mCGElhiK- - 2019-08-25 12:49:35\n",
      "78: B1km9_NhQN4 - 2019-08-24 23:33:18\n",
      "79: B1ji3ithylK - 2019-08-24 13:38:14\n",
      "80: B1hASQUh0Nw - 2019-08-23 13:57:34\n",
      "81: B1fdvCgBQ3M - 2019-08-22 23:36:25\n",
      "82: B1elt7-Bdkn - 2019-08-22 15:26:56\n",
      "83: B1W8EHtBs8L - 2019-08-19 16:08:17\n",
      "84: B01jkK4BtMt - 2019-08-06 16:59:16\n",
      "85: B0mJSknhMz2 - 2019-07-31 17:21:04\n",
      "86: B0g2yPxBw_Y - 2019-07-29 16:03:09\n",
      "87: Bz-ukBZBdOe - 2019-07-16 09:57:08\n",
      "88: By8K0weBK_w - 2019-06-20 13:34:58\n",
      "89: ByQ40_HhJS1 - 2019-06-03 18:10:22\n",
      "90: BxkcpcNAn2e - 2019-05-17 11:57:33\n",
      "91: BvmFpzpg46s - 2019-03-29 10:12:18\n",
      "92: BvUqKUJgRMx - 2019-03-22 15:44:59\n",
      "93: BvKpTGHAZEL - 2019-03-18 18:25:03\n",
      "94: Bu3xY10gEwl - 2019-03-11 10:30:10\n",
      "95: BuZlC47AwYW - 2019-02-27 16:05:06\n",
      "96: BuKNuY_gokl - 2019-02-21 16:52:43\n",
      "97: Bt62KTlgkOd - 2019-02-15 17:38:12\n",
      "98: Bt4S3QxnRCf - 2019-02-14 17:51:17\n",
      "99: BtT4ArkAT5W - 2019-01-31 14:23:59\n",
      "100: BtQ5yHRgvFE - 2019-01-30 10:41:45\n",
      "101: BtEfHEClqbv - 2019-01-25 14:57:47\n",
      "102: BsoD0WaFG2Y - 2019-01-14 14:00:34\n",
      "103: BsZA9Wdln_F - 2019-01-08 17:46:59\n",
      "104: Brfue7rAJI4 - 2018-12-17 11:48:50\n",
      "105: BrQ6LF-FdPE - 2018-12-11 17:42:22\n",
      "106: Bqz1Y2CAIfo - 2018-11-30 10:42:35\n",
      "107: BqsicUHluMJ - 2018-11-27 14:42:21\n",
      "108: BqXdfOpFHgM - 2018-11-19 10:15:00\n",
      "109: BqP9uuOFSzY - 2018-11-16 12:22:49\n",
      "110: BqN4whGA99U - 2018-11-15 17:00:53\n",
      "111: BqLUdVLg-IY - 2018-11-14 17:05:13\n",
      "112: BqIvqyOjkBN - 2018-11-13 17:05:15\n",
      "113: BqGKW6sDSZ4 - 2018-11-12 17:00:45\n",
      "114: BqDTMzll4cv - 2018-11-11 14:20:18\n",
      "115: Bp5EvbGljPU - 2018-11-07 15:01:33\n",
      "116: Bp2LXCmAVcj - 2018-11-06 12:01:40\n",
      "117: BpnL-zPFhFX - 2018-10-31 17:18:29\n",
      "118: BpUY0cMlaHh - 2018-10-24 10:05:05\n",
      "119: BpPKHRnjcAo - 2018-10-22 09:20:23\n",
      "120: BpITNF6DGMq - 2018-10-19 17:25:08\n",
      "121: BpHymXalRC3 - 2018-10-19 12:40:14\n",
      "122: BpE_g31gbHt - 2018-10-18 10:35:21\n",
      "123: BpDKR1jAoNv - 2018-10-17 17:30:57\n",
      "124: BohW-pyA1jS - 2018-10-04 14:27:44\n",
      "125: BoM918ZAiN4 - 2018-09-26 16:23:17\n",
      "126: Bn9inaWAugO - 2018-09-20 16:36:46\n",
      "127: BnY7HfugZTw - 2018-09-06 11:18:58\n",
      "128: BnFEFpoAKnQ - 2018-08-29 18:12:33\n",
      "129: BnFAiylAlCF - 2018-08-29 17:41:34\n"
     ]
    },
    {
     "name": "stderr",
     "output_type": "stream",
     "text": [
      "  3%|▎         | 4/121 [45:25<28:21:19, 872.47s/it]"
     ]
    },
    {
     "name": "stdout",
     "output_type": "stream",
     "text": [
      "130: BlV0klhA0UL - 2018-07-17 13:21:15\n",
      "harvardophthalmologyresidents\n",
      "186\n",
      "0: CVgLfRUPYdn - 2021-10-26 15:00:50\n",
      "1: CVbRFk7LCja - 2021-10-24 17:13:33\n",
      "2: CVSrCvsgks2 - 2021-10-21 09:07:11\n",
      "3: CVQUgxCg-Ex - 2021-10-20 11:11:50\n",
      "4: CVNfgFtg2Tj - 2021-10-19 08:50:08\n",
      "5: CVF6hSrgVZT - 2021-10-16 10:12:18\n",
      "6: CVD2Ry1rw9Z - 2021-10-15 14:56:45\n",
      "7: CU0zeE2APIp - 2021-10-09 18:43:37\n",
      "8: CUv90WNNN27 - 2021-10-07 21:37:50\n",
      "9: CUmv3fPA9bL - 2021-10-04 07:42:46\n",
      "10: CUlbBfstPxc - 2021-10-03 19:21:23\n",
      "11: CUi_CYrN-7b - 2021-10-02 20:38:22\n",
      "12: CUgFpF9AS-E - 2021-10-01 17:38:21\n",
      "13: CUQkhrRLDIb - 2021-09-25 17:00:22\n",
      "14: CUKiDBBA9dQ - 2021-09-23 08:43:16\n",
      "15: CUI9RelrJWz - 2021-09-22 18:02:41\n",
      "16: CUGtrWkN07j - 2021-09-21 21:07:56\n",
      "17: CUCuKBPrweD - 2021-09-20 07:55:09\n",
      "18: CUBo-EyNcie - 2021-09-19 21:50:36\n",
      "19: CT6-xmmrs4x - 2021-09-17 07:46:27\n",
      "20: CT3WaKjNK0N - 2021-09-15 21:56:00\n",
      "21: CT0SUGHLGmW - 2021-09-14 17:22:30\n",
      "22: CTwemI5LgTj - 2021-09-13 05:52:51\n",
      "23: CTpgXDtrzTl - 2021-09-10 12:53:35\n",
      "24: CTm7cDsLVF4 - 2021-09-09 12:52:29\n",
      "25: CTkYuFtrIgi - 2021-09-08 13:10:38\n",
      "26: CTiMFNbLAIZ - 2021-09-07 16:41:42\n",
      "27: CTft-8frbQn - 2021-09-06 17:40:13\n",
      "28: CTW8pHErCTx - 2021-09-03 07:55:09\n",
      "29: CTUgVi9rO0K - 2021-09-02 09:09:20\n",
      "30: CTQgaXVtjc3 - 2021-08-31 19:53:02\n",
      "31: CTK-JrQrhnV - 2021-08-29 16:17:27\n",
      "32: CTDmf3EtvNZ - 2021-08-26 19:36:05\n",
      "33: CS-qPgHNBkt - 2021-08-24 21:32:36\n",
      "34: CS72G8JtCqm - 2021-08-23 19:18:34\n",
      "35: CS5KkbmrSAj - 2021-08-22 18:19:38\n",
      "36: CSXhP9Rrd59 - 2021-08-09 16:43:38\n",
      "37: CRxGhEehk9Y - 2021-07-25 18:38:54\n",
      "38: CRuLp2CBzGS - 2021-07-24 15:26:04\n",
      "39: CRoe2-aBvCR - 2021-07-22 10:18:26\n",
      "40: CRVGJPkh8-V - 2021-07-14 21:36:55\n",
      "41: CRPpQqUhoZV - 2021-07-12 18:48:19\n",
      "42: CRKSnx7BEXo - 2021-07-10 16:54:18\n",
      "43: CRFMl94h2n7 - 2021-07-08 17:25:25\n",
      "44: COlgAFJh5mM - 2021-05-07 16:56:31\n",
      "45: CNXRR_TBYgI - 2021-04-07 07:47:08\n",
      "46: CMc2srEh6A8 - 2021-03-15 15:18:54\n",
      "47: CMLiPvphMdF - 2021-03-08 20:53:05\n",
      "48: CL_6VqCh21p - 2021-03-04 08:32:44\n",
      "49: CLwfUTJhVqu - 2021-02-26 08:48:00\n",
      "50: CLvCF9_h6ph - 2021-02-25 19:13:24\n",
      "51: CLuyGCiBfqx - 2021-02-25 16:53:36\n",
      "52: CLetFJ8B24O - 2021-02-19 11:01:56\n",
      "53: CLdP8Obh0V6 - 2021-02-18 21:28:05\n",
      "54: CKxIsmdhtCJ - 2021-02-01 18:18:11\n",
      "55: CKtuhPWhdqK - 2021-01-31 10:31:44\n",
      "56: CKrL845Bv_7 - 2021-01-30 10:51:11\n",
      "57: CJzx0ZohLyE - 2021-01-08 22:24:36\n",
      "58: CJzvucQhzbd - 2021-01-08 22:06:19\n",
      "59: CJuiVQwBM4U - 2021-01-06 21:33:05\n",
      "60: CJthhYghD-G - 2021-01-06 12:06:45\n",
      "61: CJsGIAWhuLe - 2021-01-05 22:48:07\n",
      "62: CJraMYuhx5Y - 2021-01-05 16:24:15\n",
      "63: CJlrZAqhD21 - 2021-01-03 10:59:04\n",
      "64: CJhjQvLh_tD - 2021-01-01 20:31:04\n",
      "65: CJMhvhTBCL7 - 2020-12-24 16:33:45\n",
      "66: CJKOuluBVnb - 2020-12-23 19:46:41\n",
      "67: CJHinUKBgnl - 2020-12-22 18:05:10\n",
      "68: CJE7UeYhbEv - 2020-12-21 17:43:19\n",
      "69: CJCzBcuhTCZ - 2020-12-20 21:52:20\n",
      "70: CI63xj-hfoW - 2020-12-17 19:59:56\n",
      "71: CIs6p9FB_9I - 2020-12-12 09:55:45\n",
      "72: CIqTcTjBjju - 2020-12-11 09:34:37\n",
      "73: CIoa4WLhOaF - 2020-12-10 16:01:08\n",
      "74: CIjl0i6ho_D - 2020-12-08 19:00:32\n",
      "75: CIhOiGuBJYz - 2020-12-07 20:58:33\n",
      "76: CIVWmxsBRXT - 2020-12-03 06:18:12\n",
      "77: CIU03syhUQo - 2020-12-03 01:24:12\n",
      "78: CITCyh9h_eW - 2020-12-02 08:46:34\n",
      "79: CIRWA1uBgxi - 2020-12-01 16:56:04\n",
      "80: CIQU0BGBx_6 - 2020-12-01 07:26:20\n",
      "81: CIN0NQ6B5ZH - 2020-11-30 08:02:57\n",
      "82: CINsKGBBapw - 2020-11-30 06:52:36\n",
      "83: CIMRgj0BUbJ - 2020-11-29 17:40:30\n",
      "84: CII1YeSBb4q - 2020-11-28 09:58:01\n",
      "85: CIGTHK2hVLu - 2020-11-27 09:59:04\n",
      "86: CIChW9tBZwu - 2020-11-25 22:46:36\n",
      "87: CH_tY73hmJ1 - 2020-11-24 20:34:00\n",
      "88: CH5mZM_BiVI - 2020-11-22 11:37:26\n",
      "89: CHyWtnLhCkF - 2020-11-19 16:05:43\n",
      "90: CHsy2Irhg32 - 2020-11-17 12:16:07\n",
      "91: CHpuM3_hqRw - 2020-11-16 07:37:48\n",
      "92: CHoVGLTBWUq - 2020-11-15 18:39:12\n",
      "93: CHjFGccBv3x - 2020-11-13 17:43:13\n",
      "94: CHgWsXjB1ke - 2020-11-12 16:19:13\n",
      "95: CHdIv7ZBXTz - 2020-11-11 10:19:39\n",
      "96: CHa6NDgAPta - 2020-11-10 13:34:05\n",
      "97: CHaPrT5hWrZ - 2020-11-10 07:22:28\n",
      "98: CHYTQN_hbh2 - 2020-11-09 13:15:14\n",
      "99: CHXpgWABvnU - 2020-11-09 07:10:26\n",
      "100: CHWdBZKhPRL - 2020-11-08 20:02:07\n",
      "101: CHQYyOUhL70 - 2020-11-06 11:30:51\n",
      "102: CHOoRyEBAvb - 2020-11-05 19:06:33\n",
      "103: CHLRg7mB7xa - 2020-11-04 11:49:55\n",
      "104: CHISlGdBmcK - 2020-11-03 08:01:30\n",
      "105: CHGYTq-hd1Q - 2020-11-02 14:13:04\n",
      "106: CG969oWhMTZ - 2020-10-30 08:22:44\n",
      "107: CG9y8Gsho-a - 2020-10-30 07:12:37\n",
      "108: CG5G_jaBkf2 - 2020-10-28 11:31:39\n",
      "109: CG2liLbBFVT - 2020-10-27 12:00:48\n",
      "110: CG0EOd1hZTq - 2020-10-26 12:31:16\n",
      "111: CGzhDOUh4Ny - 2020-10-26 07:23:54\n",
      "112: CGv17LXhjMy - 2020-10-24 21:09:20\n",
      "113: CGr54D5B0_7 - 2020-10-23 08:26:54\n",
      "114: CGpH0wRhUq5 - 2020-10-22 06:31:04\n",
      "115: CGmvnKyBoTg - 2020-10-21 08:21:01\n",
      "116: CGjvlcLh5iu - 2020-10-20 04:23:03\n",
      "117: CGhR3EhBJFL - 2020-10-19 05:24:50\n",
      "118: CGbBuGDh_Gq - 2020-10-16 19:08:22\n",
      "119: CGaGZN-Bj6f - 2020-10-16 10:29:58\n",
      "120: CGYUlCUB_rp - 2020-10-15 17:55:26\n",
      "121: CGXW0m5BUAZ - 2020-10-15 08:55:56\n",
      "122: CGUv3UHhkDl - 2020-10-14 08:36:53\n",
      "123: CGTRwO6hqNz - 2020-10-13 18:54:32\n",
      "124: CGSpZblBw4K - 2020-10-13 13:01:54\n",
      "125: CGQJesPhRZh - 2020-10-12 13:44:31\n",
      "126: CGPoj1yhIX6 - 2020-10-12 08:56:52\n",
      "127: CGN0vNvBc1g - 2020-10-11 16:04:47\n",
      "128: CGNF49FBv5i - 2020-10-11 09:15:26\n",
      "129: CGGX9AFBYoa - 2020-10-08 18:38:35\n",
      "130: CGDOa1FBbHY - 2020-10-07 13:17:33\n",
      "131: CGBGqkyB9nC - 2020-10-06 17:31:19\n",
      "132: CF96kCeB-F7 - 2020-10-05 11:47:51\n",
      "133: CF8Hd1XBiBz - 2020-10-04 19:02:07\n",
      "134: CF2-mU2B13k - 2020-10-02 19:08:26\n",
      "135: CF1uT7Whm-F - 2020-10-02 07:26:52\n",
      "136: CFzNTT3BLnY - 2020-10-01 07:59:56\n",
      "137: CFve7FoBRMU - 2020-09-29 21:16:57\n",
      "138: CFsOsifh9gK - 2020-09-28 14:57:26\n",
      "139: CFqPeB6hhtZ - 2020-09-27 20:25:43\n",
      "140: CFma17th5yv - 2020-09-26 08:48:08\n",
      "141: CFlEANGBvzr - 2020-09-25 20:09:19\n",
      "142: CFiPrbiBr_U - 2020-09-24 17:53:37\n",
      "143: CFhVFyFBvtd - 2020-09-24 09:21:40\n",
      "144: CFfTIDfjjcv - 2020-09-23 14:26:01\n",
      "145: CFbN11ljHQN - 2020-09-22 00:22:53\n",
      "146: CFX5_jlhDO0 - 2020-09-20 17:31:43\n",
      "147: CFR9G-dhFce - 2020-09-18 10:03:30\n",
      "148: CFPGs2KhbAW - 2020-09-17 07:29:36\n",
      "149: CFMpCTpBNkE - 2020-09-16 08:31:54\n",
      "150: CFJ7uZVhK3g - 2020-09-15 07:17:29\n",
      "151: CFHPcqChtAe - 2020-09-14 06:12:07\n",
      "152: CFFzUcmBEbJ - 2020-09-13 16:47:05\n",
      "153: CFBLMsXBkXv - 2020-09-11 21:39:32\n",
      "154: CE-dUx3BFVN - 2020-09-10 20:20:12\n",
      "155: CE76jX9pwA0 - 2020-09-09 20:37:53\n",
      "156: CE5X3DyBitA - 2020-09-08 20:56:15\n",
      "157: CE2IBBmB97I - 2020-09-07 14:40:05\n",
      "158: CEzHFLoBJS7 - 2020-09-06 10:34:11\n",
      "159: CEwzzlECCEu - 2020-09-05 13:13:46\n",
      "160: CEukHVYh3kf - 2020-09-04 16:11:41\n",
      "161: CEpJy1ZBt2R - 2020-09-02 13:45:29\n",
      "162: CEokW0dAlBH - 2020-09-02 08:18:21\n",
      "163: CEmteZmhSeH - 2020-09-01 14:59:33\n",
      "164: CEjarjrBA0T - 2020-08-31 08:17:36\n",
      "165: CEhMwWqh9HN - 2020-08-30 11:37:27\n",
      "166: CEcdNQehyir - 2020-08-28 15:25:00\n",
      "167: CEaHdz7BfM7 - 2020-08-27 17:36:32\n",
      "168: CEX3mAahFrZ - 2020-08-26 20:39:22\n",
      "169: CEVHRunBl9q - 2020-08-25 18:58:41\n",
      "170: CESEe2vBPqf - 2020-08-24 14:36:32\n",
      "171: CEO-m_EhL1p - 2020-08-23 09:47:30\n",
      "172: CEMwQ2ihve_ - 2020-08-22 13:03:40\n",
      "173: CEK-MLvBodt - 2020-08-21 20:26:53\n",
      "174: CEFq8x0hH_Z - 2020-08-19 19:02:33\n",
      "175: CEDTidmBng8 - 2020-08-18 20:59:30\n",
      "176: CEAtpnUhjba - 2020-08-17 20:49:57\n",
      "177: CD9wlcBheVc - 2020-08-16 17:17:52\n",
      "178: CDb8JRvh8Rh - 2020-08-03 14:04:42\n",
      "179: CCopB-WHEl1 - 2020-07-14 15:56:25\n",
      "180: CCcGltuHXX4 - 2020-07-09 19:04:34\n",
      "181: CCJWvA_nnKQ - 2020-07-02 12:20:05\n",
      "182: CBn_QCJHAzt - 2020-06-19 13:19:56\n",
      "183: CA8PVRwAKtF - 2020-06-02 13:33:53\n",
      "184: CAYFeL1JCqo - 2020-05-19 12:35:03\n"
     ]
    },
    {
     "name": "stderr",
     "output_type": "stream",
     "text": [
      "  4%|▍         | 5/121 [1:19:16<41:34:34, 1290.30s/it]"
     ]
    },
    {
     "name": "stdout",
     "output_type": "stream",
     "text": [
      "185: CAYCNPkJ2n5 - 2020-05-19 12:06:32\n",
      "steineyeresidents\n",
      "49\n",
      "0: CVepwkHrkzL - 2021-10-26 00:46:51\n",
      "1: CVYskJKBCC7 - 2021-10-23 17:15:56\n",
      "2: CU06bx3v5g9 - 2021-10-09 19:44:28\n",
      "3: CUq6Oy7FL4G - 2021-10-05 22:30:17\n",
      "4: CUq57zIlSGM - 2021-10-05 22:27:42\n",
      "5: CUGXhpphXEV - 2021-09-21 17:54:22\n",
      "6: CTzoU7aJlCn - 2021-09-14 11:15:36\n",
      "7: CTfkWGBhWNQ - 2021-09-06 16:16:00\n",
      "8: CTORrE_ns6v - 2021-08-30 23:05:45\n",
      "9: CTGtTNErL05 - 2021-08-28 00:33:14\n",
      "10: CSLcnVarUSj - 2021-08-05 00:12:15\n",
      "11: CRpAJecBnAr - 2021-07-22 15:09:20\n",
      "12: CRVPli7hwsz - 2021-07-14 22:59:25\n",
      "13: CRNjh5YBQVU - 2021-07-11 23:19:46\n",
      "14: CRIGw51hlEy - 2021-07-09 20:32:12\n",
      "15: CRFfZNthbAo - 2021-07-08 20:09:42\n",
      "16: CRCZx4hhTX0 - 2021-07-07 15:22:55\n",
      "17: CRAJbtWh-k2 - 2021-07-06 18:21:36\n",
      "18: CQ9P0wMhPkO - 2021-07-05 15:19:43\n",
      "19: COD1TRLBrgZ - 2021-04-24 15:08:28\n",
      "20: CKxoGpwB392 - 2021-02-01 22:52:38\n",
      "21: CKMmsDvhIHT - 2021-01-18 13:49:04\n",
      "22: CJmDChDBfGD - 2021-01-03 14:25:43\n",
      "23: CJHRUhShzQ0 - 2020-12-22 15:34:03\n",
      "24: CI60_f0h-Eu - 2020-12-17 19:35:38\n",
      "25: CIqnAgAhDRy - 2020-12-11 12:25:35\n",
      "26: CIotROXhiRi - 2020-12-10 18:41:49\n",
      "27: CImSVzKBxIN - 2020-12-09 20:08:02\n",
      "28: CIj3ODJBwhZ - 2020-12-08 21:32:33\n",
      "29: CIgur1LhBPL - 2020-12-07 16:20:15\n",
      "30: CIXB0slBiaF - 2020-12-03 21:55:05\n",
      "31: CIPGbxbB39_ - 2020-11-30 20:01:27\n",
      "32: CIG-aeghL6O - 2020-11-27 16:17:27\n",
      "33: CH9WJ_mhpRV - 2020-11-23 22:59:11\n",
      "34: CH55l6Zhzg2 - 2020-11-22 14:25:11\n",
      "35: CH1gyS-Bbkr - 2020-11-20 21:31:28\n",
      "36: CHyjxkjh6wS - 2020-11-19 17:59:51\n",
      "37: CHvlVRihmuw - 2020-11-18 14:15:45\n",
      "38: CHtETHpBDiK - 2020-11-17 14:52:44\n",
      "39: CHq-CdYhxk3 - 2020-11-16 19:15:26\n",
      "40: CHmfMq8hjDu - 2020-11-15 01:32:45\n",
      "41: CHlKdigBRxD - 2020-11-14 13:09:09\n",
      "42: CHjBoMDBAIB - 2020-11-13 17:12:52\n",
      "43: CHg_RjEBBC0 - 2020-11-12 22:13:49\n",
      "44: CHbopf0h3to - 2020-11-10 20:19:55\n",
      "45: CHY7tTrBZgT - 2020-11-09 19:08:44\n",
      "46: CHV0X2Oh1s3 - 2020-11-08 14:06:55\n",
      "47: CHPCUioJl4_ - 2020-11-05 22:54:07\n"
     ]
    },
    {
     "name": "stderr",
     "output_type": "stream",
     "text": [
      "  5%|▍         | 6/121 [1:28:06<32:57:43, 1031.86s/it]"
     ]
    },
    {
     "name": "stdout",
     "output_type": "stream",
     "text": [
      "48: CHLtIdtJpvz - 2020-11-04 15:51:15\n",
      "dukeeyeresidents\n",
      "28\n",
      "0: CU3kfE9tGL5 - 2021-10-10 20:30:24\n",
      "an error has occured on dukeeyeresidents\n",
      "list index out of range\n",
      "dukeeyeresidents\n",
      "28\n",
      "0: CU3kfE9tGL5 - 2021-10-10 20:30:24\n",
      "1: CUtDIHQgGOO - 2021-10-06 18:26:30\n",
      "2: CUSevMagUUH - 2021-09-26 10:48:16\n",
      "3: CTqEu1HAwFr - 2021-09-10 18:11:24\n",
      "4: CTKjMfwLGyp - 2021-08-29 12:21:54\n",
      "5: CS0KgQntAum - 2021-08-20 19:42:51\n",
      "6: CSfUc1vLsTz - 2021-08-12 17:25:43\n",
      "7: CSaMCryrEG1 - 2021-08-10 17:36:03\n",
      "8: CRT8QDTB8Em - 2021-07-14 10:51:13\n",
      "9: CQ7foB9hMnh - 2021-07-04 22:59:19\n",
      "10: CQujE1OBA9P - 2021-06-29 22:19:20\n",
      "11: CLxx1CsByO3 - 2021-02-26 20:49:00\n",
      "12: CLFIkqgB9ii - 2021-02-09 12:41:55\n",
      "13: CKz2gMMBJ5y - 2021-02-02 19:36:56\n",
      "14: CKBqlxzBKIp - 2021-01-14 07:50:49\n",
      "15: CJcWL49BaYX - 2020-12-30 20:00:37\n",
      "16: CI6RlrXBwXn - 2020-12-17 14:26:16\n",
      "17: CIqRTOyB7iD - 2020-12-11 09:15:54\n",
      "18: CIlL_C4hsPg - 2020-12-09 09:53:15\n",
      "19: CIVcv7kBqps - 2020-12-03 07:11:53\n",
      "20: CIOTdbNh3PK - 2020-11-30 12:36:02\n",
      "21: CIA39GfBuso - 2020-11-25 07:25:34\n",
      "22: CH0X3h5h7xC - 2020-11-20 10:54:18\n",
      "23: CHshDoGBOSZ - 2020-11-17 09:40:40\n",
      "24: CHinNd9HvxM - 2020-11-13 13:22:02\n",
      "25: CHdJ19_nZ9D - 2020-11-11 10:29:13\n",
      "26: CHWab1FnwhZ - 2020-11-08 19:39:31\n"
     ]
    },
    {
     "name": "stderr",
     "output_type": "stream",
     "text": [
      "  6%|▌         | 7/121 [1:33:32<25:22:09, 801.14s/it] "
     ]
    },
    {
     "name": "stdout",
     "output_type": "stream",
     "text": [
      "27: CHS6cRHHylG - 2020-11-07 11:02:14\n",
      "kelloggeyecenter\n"
     ]
    },
    {
     "name": "stderr",
     "output_type": "stream",
     "text": [
      "  7%|▋         | 8/121 [1:33:44<17:15:39, 549.91s/it]"
     ]
    },
    {
     "name": "stdout",
     "output_type": "stream",
     "text": [
      "215\n",
      "University of Michigan with username kelloggeyecenter has 215 posts, more than 200\n",
      "moraneyeresidents\n",
      "67\n",
      "0: CVStgbyFRlJ - 2021-10-21 09:28:43\n",
      "1: CUp6QZTJN8q - 2021-10-05 13:11:16\n",
      "2: CUNiYdGpMrP - 2021-09-24 12:43:55\n",
      "an error has occured on moraneyeresidents\n",
      "list index out of range\n",
      "moraneyeresidents\n",
      "67\n",
      "0: CVStgbyFRlJ - 2021-10-21 09:28:43\n",
      "1: CUp6QZTJN8q - 2021-10-05 13:11:16\n",
      "2: CUNiYdGpMrP - 2021-09-24 12:43:55\n",
      "3: CUF886crAHA - 2021-09-21 14:02:10\n",
      "4: CTLZjbTJfKb - 2021-08-29 20:16:54\n",
      "5: CSx-qvktMSj - 2021-08-19 23:20:57\n",
      "6: CSqusTJLSoh - 2021-08-17 03:46:40\n",
      "7: CSpijp3Bp_k - 2021-08-16 16:41:23\n",
      "8: CSf-uI5tUBf - 2021-08-12 23:35:05\n",
      "9: CSUkzKCLxjG - 2021-08-08 13:16:56\n",
      "10: CRXXMz1haaO - 2021-07-15 18:44:26\n",
      "11: CRMz-QuhSE0 - 2021-07-11 16:24:12\n",
      "12: CQh9ajHBGUg - 2021-06-25 00:59:22\n",
      "13: CQKuZfaBkTB - 2021-06-16 00:25:37\n",
      "14: CQCJ25shT8U - 2021-06-12 16:32:24\n",
      "15: CP_BoV-hbt4 - 2021-06-11 11:22:47\n",
      "16: CO9ZRnjh99l - 2021-05-16 23:39:31\n",
      "17: CO1a4nKBoLL - 2021-05-13 21:19:39\n",
      "18: COxqNBSBQZY - 2021-05-12 10:16:33\n",
      "19: COxl2vIh3pZ - 2021-05-12 09:38:33\n",
      "20: COnc6qUBrQO - 2021-05-08 11:08:03\n",
      "21: CNv98dWBgVe - 2021-04-16 22:02:06\n",
      "22: CNN1jj4BMpN - 2021-04-03 15:51:42\n",
      "23: CNL_XXJB0_g - 2021-04-02 22:38:56\n",
      "24: CNAtajqhlok - 2021-03-29 13:30:26\n",
      "25: CLpJlMqh8UX - 2021-02-23 12:23:23\n",
      "26: CKz5bwvhfMY - 2021-02-02 20:02:33\n",
      "27: CKpcT9OBIpC - 2021-01-29 18:35:40\n",
      "28: CKMUbbeBiRz - 2021-01-18 11:08:48\n",
      "29: CJbh0TUhT9- - 2020-12-30 12:23:01\n",
      "30: CJNQbR8Brkj - 2020-12-24 23:21:41\n",
      "31: CI-64jVBkB- - 2020-12-19 09:44:04\n",
      "32: CIwSfBCBOOL - 2020-12-13 17:21:41\n",
      "33: CItidUKh9fI - 2020-12-12 15:43:33\n",
      "34: CH6Q9bmBdY3 - 2020-11-22 17:49:23\n",
      "35: CHhCO5kB6NO - 2020-11-12 22:41:52\n",
      "36: CHhCJmchcNZ - 2020-11-12 22:39:06\n",
      "37: CHhA3yPhwTz - 2020-11-12 22:29:40\n",
      "38: CHg_-LrB8nw - 2020-11-12 22:25:27\n",
      "39: CHeozLLh0eA - 2020-11-12 00:18:57\n",
      "40: CHeT7Seh9hm - 2020-11-11 21:16:34\n",
      "41: CHeJ8RiB0ss - 2020-11-11 19:49:19\n",
      "42: CHVqr-jh1Dv - 2020-11-08 12:42:17\n",
      "43: CHDtkwYBp_q - 2020-11-01 13:21:11\n",
      "44: CG_d78pBI4a - 2020-10-30 22:47:35\n",
      "45: CG5_cc8hpDN - 2020-10-28 19:44:56\n",
      "46: CGslMm9BBP8 - 2020-10-23 14:51:29\n",
      "47: CGlgJG-Bf9s - 2020-10-20 20:46:36\n",
      "48: CGcg-UbhSzg - 2020-10-17 09:00:42\n",
      "49: CGaNyh_h9hi - 2020-10-16 11:34:35\n",
      "50: CGBijTnhNdg - 2020-10-06 21:35:00\n",
      "51: CF5XfinBgMK - 2020-10-03 17:24:26\n",
      "52: CFm4OJaBWCl - 2020-09-26 13:04:51\n",
      "53: CFkEfvxhGhu - 2020-09-25 10:54:23\n",
      "54: CFe-pU5BPDh - 2020-09-23 11:27:04\n",
      "55: CFZuAFThN7r - 2020-09-21 10:25:25\n",
      "56: CFUphr5BL-n - 2020-09-19 11:10:07\n",
      "57: CFPXPI3BWIC - 2020-09-17 09:54:06\n",
      "58: CFFz2-DlyT0 - 2020-09-13 16:51:48\n",
      "59: CFC-b9Jlpm3 - 2020-09-12 14:26:30\n",
      "60: CFCeqxAFBME - 2020-09-12 09:48:54\n",
      "61: CE_te18lJI4 - 2020-09-11 08:00:38\n",
      "62: CE9iRCQFdOA - 2020-09-10 11:44:08\n",
      "63: CE9Moz9FyNd - 2020-09-10 08:35:09\n",
      "64: CE9MS00Fo6G - 2020-09-10 08:32:09\n",
      "65: CE9MAAtl2Bu - 2020-09-10 08:29:35\n"
     ]
    },
    {
     "name": "stderr",
     "output_type": "stream",
     "text": [
      "  7%|▋         | 9/121 [1:46:52<19:25:19, 624.29s/it]"
     ]
    },
    {
     "name": "stdout",
     "output_type": "stream",
     "text": [
      "66: CE9LdP0l0Nv - 2020-09-10 08:24:50\n",
      "ucsfophtho\n",
      "66\n",
      "0: CUU_jCrlMJd - 2021-09-27 10:13:27\n",
      "1: CUBPVOHBFfi - 2021-09-19 18:06:34\n",
      "2: CSI-llerEcm - 2021-08-04 01:11:23\n",
      "3: CRmicpUBIMO - 2021-07-21 16:11:19\n",
      "4: CRCNWicBgaX - 2021-07-07 13:34:19\n",
      "5: CQ2OWzMBzCR - 2021-07-02 21:52:13\n",
      "6: CQtPkUYhpz8 - 2021-06-29 10:09:38\n",
      "7: CQWCNe5hJ_I - 2021-06-20 09:50:23\n",
      "8: CP0xKISh0vv - 2021-06-07 11:46:26\n",
      "9: CNc0hunhSU4 - 2021-04-09 11:31:19\n",
      "10: CNIM0__htzg - 2021-04-01 11:19:37\n",
      "11: CMs14IWBZo0 - 2021-03-21 20:19:34\n",
      "12: CMoIzKLBAxT - 2021-03-20 00:28:43\n",
      "13: CL7lOs6hsp6 - 2021-03-02 16:11:19\n",
      "14: CLmiWKChUs7 - 2021-02-22 12:02:04\n",
      "15: CLZvEKUBoXg - 2021-02-17 12:47:03\n",
      "16: CLKRr7ZBJGt - 2021-02-11 12:37:45\n",
      "17: CKrhQulhbn_ - 2021-01-30 13:57:24\n",
      "18: CKcAlfBhI2S - 2021-01-24 13:23:16\n",
      "19: CJK4a86hpsm - 2020-12-24 01:13:26\n",
      "20: CI6ZnFAh08E - 2020-12-17 15:36:22\n",
      "21: CIwMcNAhWfN - 2020-12-13 16:28:53\n",
      "22: CIjPLU1B0Mh - 2020-12-08 15:42:40\n",
      "23: CID-XSWhai7 - 2020-11-26 12:19:17\n",
      "24: CH4BfxLB1Hv - 2020-11-21 20:55:46\n",
      "25: CHE0Fh3BIKI - 2020-11-01 23:37:20\n",
      "26: CG23yR1gTEJ - 2020-10-27 14:40:17\n",
      "27: CGxieaGBwLk - 2020-10-25 12:57:52\n",
      "28: CGtWcWAB02Q - 2020-10-23 21:56:27\n",
      "29: CGQMKa_hVvJ - 2020-10-12 14:07:58\n",
      "30: CFzwsWlBbLf - 2020-10-01 13:09:12\n",
      "31: CFu5q79hGZD - 2020-09-29 15:51:26\n",
      "32: CFQwYw1hwVt - 2020-09-17 22:59:47\n",
      "33: CE-3_fMh4D7 - 2020-09-11 00:13:13\n",
      "34: CEs1awThPjs - 2020-09-04 00:04:24\n",
      "35: CEcAX1phJ8g - 2020-08-28 11:13:02\n",
      "36: CEVwLaDhAEs - 2020-08-26 00:56:05\n",
      "37: CELZ0k0hPh7 - 2020-08-22 00:28:19\n",
      "38: CD5U_7yh_DN - 2020-08-14 23:59:51\n",
      "39: CDwHyJCBhZv - 2020-08-11 10:11:13\n",
      "40: CBEgk79Bi1h - 2020-06-05 18:38:29\n",
      "41: B8ib_vWhsu4 - 2020-02-14 01:58:42\n",
      "42: B5yb9JtBZnL - 2019-12-07 17:32:01\n",
      "43: B4dg9QJByqt - 2019-11-04 18:00:17\n",
      "44: B3qaNInB1_q - 2019-10-15 22:40:01\n",
      "45: B2VJl72hrnw - 2019-09-12 19:59:24\n",
      "46: B1SYS1_h4OF - 2019-08-17 21:38:45\n",
      "47: B0W9cIABbIl - 2019-07-25 19:48:54\n",
      "48: BzjbKBGhBHJ - 2019-07-05 19:28:04\n",
      "49: BzMGaK-hz_P - 2019-06-26 18:04:14\n",
      "50: BzMGHtPhqB_ - 2019-06-26 18:01:43\n",
      "51: BygltRqhbX_ - 2019-06-09 20:31:08\n",
      "52: Bv78p5GHLkA - 2019-04-06 21:56:58\n",
      "53: Bv4inMFHqmz - 2019-04-05 14:11:41\n",
      "54: Bv4WlKEHC9P - 2019-04-05 12:26:33\n",
      "55: BvwseYrnrY6 - 2019-04-02 13:03:56\n",
      "56: Bu37WL8H3_x - 2019-03-11 11:57:11\n",
      "57: BuxLw_4nH7f - 2019-03-08 20:05:58\n",
      "58: But19i-nABq - 2019-03-07 12:57:43\n",
      "59: Bt4gATUnTzh - 2019-02-14 19:46:07\n",
      "60: BtBsN3anKRB - 2019-01-24 12:54:36\n",
      "61: Brf4dytByo1 - 2018-12-17 13:16:03\n",
      "62: BrDdMvwhRHM - 2018-12-06 12:19:04\n",
      "63: Bq-7U7_hcNu - 2018-12-04 18:06:07\n",
      "64: BqOJWSph5zQ - 2018-11-15 19:25:51\n"
     ]
    },
    {
     "name": "stderr",
     "output_type": "stream",
     "text": [
      "  8%|▊         | 10/121 [1:59:00<20:14:25, 656.45s/it]"
     ]
    },
    {
     "name": "stdout",
     "output_type": "stream",
     "text": [
      "65: Bpp20s-A0hp - 2018-11-01 18:11:19\n",
      "usceye\n"
     ]
    },
    {
     "name": "stderr",
     "output_type": "stream",
     "text": [
      "  9%|▉         | 11/121 [2:00:11<14:34:53, 477.21s/it]"
     ]
    },
    {
     "name": "stdout",
     "output_type": "stream",
     "text": [
      "1225\n",
      "University of Southern California/Roski with username usceye has 1225 posts, more than 200\n",
      "bcmhouston\n"
     ]
    },
    {
     "name": "stderr",
     "output_type": "stream",
     "text": [
      " 10%|▉         | 12/121 [2:01:24<10:43:37, 354.29s/it]"
     ]
    },
    {
     "name": "stdout",
     "output_type": "stream",
     "text": [
      "624\n",
      "Baylor/Cullen with username bcmhouston has 624 posts, more than 200\n",
      "ohsucaseyeye\n",
      "72\n",
      "0: CVgWuMMNS9F - 2021-10-26 16:38:59\n",
      "1: CVdlbvDtVC_ - 2021-10-25 14:49:49\n",
      "2: CVTTbfuNIEm - 2021-10-21 15:00:06\n",
      "3: CVQnw9ABtNW - 2021-10-20 14:00:04\n",
      "4: CVOC-lJNyzQ - 2021-10-19 14:00:08\n",
      "5: CVLooxEhv2- - 2021-10-18 15:31:29\n",
      "6: CVBmd7hNVB7 - 2021-10-14 18:00:07\n",
      "7: CVBETYUjPhg - 2021-10-14 13:01:35\n",
      "8: CU-1WmWDnHq - 2021-10-13 16:12:28\n",
      "9: CUxuO2GLypQ - 2021-10-08 14:00:07\n",
      "10: CUvNvgAsWTz - 2021-10-07 14:37:44\n",
      "11: CUsrfzcDNlQ - 2021-10-06 15:00:01\n",
      "12: CUqkO3vvgFa - 2021-10-05 19:18:03\n",
      "13: CUdBAWyhZ5j - 2021-09-30 13:00:07\n",
      "14: CUacNLCpDWE - 2021-09-29 13:00:04\n",
      "15: CUYFJQXtUhg - 2021-09-28 15:00:05\n",
      "16: CUK_bw2N4PI - 2021-09-23 13:00:03\n",
      "17: CUGDlLItZF4 - 2021-09-21 15:00:05\n",
      "18: CUD5i-1Aiw- - 2021-09-20 19:27:39\n",
      "19: CT7iqZvMOkO - 2021-09-17 13:00:02\n",
      "20: CT493fnMu3a - 2021-09-16 13:00:02\n",
      "21: CTz0RvUrMwa - 2021-09-14 13:00:02\n",
      "22: CTnQtEFh204 - 2021-09-09 15:58:18\n",
      "23: CTi3anut6Ij - 2021-09-07 23:00:22\n",
      "24: CTU-ddnpAia - 2021-09-02 13:32:33\n",
      "25: CSw6zv_gK46 - 2021-08-19 13:27:59\n",
      "26: CSM_XxhlfKt - 2021-08-05 14:35:12\n",
      "27: CSHq5xqnOt_ - 2021-08-03 13:00:08\n",
      "28: CR1tC5gMCB3 - 2021-07-27 13:32:32\n",
      "29: CRpJE6Uhihj - 2021-07-22 16:27:21\n",
      "30: CRUX61qMf-L - 2021-07-14 14:52:59\n",
      "31: CREuSZalvRU - 2021-07-08 13:00:36\n",
      "32: CQ_kpA7BfSx - 2021-07-06 13:00:06\n",
      "33: CQtrMKAgsMf - 2021-06-29 14:11:00\n",
      "34: CQjQJr4Hcxz - 2021-06-25 13:02:20\n",
      "35: CQZgk9Pg_T_ - 2021-06-21 18:13:27\n",
      "36: CP6W8QYh4eF - 2021-06-09 15:52:48\n",
      "37: CP1OZlQB4W1 - 2021-06-07 16:01:57\n",
      "38: CPyepxOLQnB - 2021-06-06 14:26:15\n",
      "39: CPrDu3fAgHD - 2021-06-03 17:16:20\n",
      "40: CPG0y8qt70T - 2021-05-20 15:33:10\n",
      "41: CPBdNQ6tmW9 - 2021-05-18 13:30:50\n",
      "42: COv0XCQhqVc - 2021-05-11 17:06:49\n",
      "43: COinlTsA_IP - 2021-05-06 14:05:03\n",
      "44: COaz6WohkdL - 2021-05-03 13:18:51\n",
      "45: COLeMGMhCkH - 2021-04-27 14:20:26\n",
      "46: CN5dmWUhBxf - 2021-04-20 14:28:57\n",
      "47: CNaqfNPBQlz - 2021-04-08 15:25:07\n",
      "48: CNX9gT5huPZ - 2021-04-07 14:13:34\n",
      "49: CNIs7S8lcCh - 2021-04-01 16:00:05\n",
      "50: CNDOuzslkX3 - 2021-03-30 13:00:02\n",
      "51: CMz4aEYh7-1 - 2021-03-24 13:56:22\n",
      "52: CMkzLBSBbsw - 2021-03-18 17:22:00\n",
      "53: CMiTx2FhB2- - 2021-03-17 18:09:12\n",
      "54: CMNodxzhkrA - 2021-03-09 16:25:55\n",
      "55: CMAcmRJBDCd - 2021-03-04 13:32:05\n",
      "56: CL7WpG7hgww - 2021-03-02 14:03:51\n",
      "57: CLxFODyhgau - 2021-02-26 14:19:12\n",
      "58: CLu5s52j4Ke - 2021-02-25 18:00:04\n",
      "59: CLsAMTohmGv - 2021-02-24 14:59:04\n",
      "60: CLpwFL1hyJH - 2021-02-23 17:59:48\n",
      "61: CLM-jXNh4Ed - 2021-02-12 13:48:17\n",
      "62: CLH4djlhDcj - 2021-02-10 14:18:52\n",
      "63: CK43s1xhdHq - 2021-02-04 18:23:36\n",
      "64: CK2BoArBJVM - 2021-02-03 15:52:36\n",
      "65: CKmclhhBN5k - 2021-01-28 14:40:21\n",
      "66: CKhgfLWhCRo - 2021-01-26 16:38:14\n",
      "67: CJwqxrTBPr8 - 2021-01-07 17:25:21\n",
      "68: CJHBDashGYG - 2020-12-22 13:11:54\n",
      "69: CI3usfcBdhG - 2020-12-16 14:42:53\n",
      "70: CIoUDTvBC7U - 2020-12-10 15:01:27\n"
     ]
    },
    {
     "name": "stderr",
     "output_type": "stream",
     "text": [
      " 11%|█         | 13/121 [2:14:34<14:35:22, 486.32s/it]"
     ]
    },
    {
     "name": "stdout",
     "output_type": "stream",
     "text": [
      "71: CIgms0UhwCq - 2020-12-07 15:10:29\n",
      "utsweye\n",
      "5\n",
      "0: CUeQdfTggRS - 2021-10-01 00:34:24\n",
      "1: CTgYUNjNY6j - 2021-09-06 23:50:08\n",
      "2: CTTbBBmNmZ0 - 2021-09-01 23:03:36\n",
      "3: CSzIN1KrFSl - 2021-08-20 10:03:37\n"
     ]
    },
    {
     "name": "stderr",
     "output_type": "stream",
     "text": [
      " 12%|█▏        | 14/121 [2:15:23<10:31:19, 354.01s/it]"
     ]
    },
    {
     "name": "stdout",
     "output_type": "stream",
     "text": [
      "4: CSX4Q0YA3D1 - 2021-08-09 20:04:44\n",
      "emoryeyeresidency\n",
      "18\n",
      "0: CTm2us2rVNx - 2021-09-09 12:11:20\n",
      "1: CRIBrSKB8zK - 2021-07-09 19:47:45\n",
      "2: CQzVC2ZhnvR - 2021-07-01 18:52:56\n",
      "3: CQRLZeENzuN - 2021-06-18 12:34:28\n",
      "4: CPx5aZehHWU - 2021-06-06 09:00:51\n",
      "5: CPx4VswhpEB - 2021-06-06 08:53:23\n",
      "6: CPsozjGhzjg - 2021-06-04 07:59:32\n",
      "7: COWPgVCB1sF - 2021-05-01 18:43:46\n",
      "8: COWPC7YBQag - 2021-05-01 18:39:45\n",
      "9: CKFfrSShITP - 2021-01-15 19:32:24\n",
      "10: CJBmtiXF1Ft - 2020-12-20 10:45:31\n",
      "11: CI9UO8gFAFv - 2020-12-18 18:47:06\n",
      "12: CI7JwEgFI_J - 2020-12-17 22:37:01\n",
      "13: CG-eu7BlYI4 - 2020-10-30 13:35:18\n",
      "14: CGxm4vvleOf - 2020-10-25 13:36:25\n",
      "15: CGI_iwdF-it - 2020-10-09 19:03:00\n",
      "16: CGF0B9ghVZm - 2020-10-08 13:24:41\n"
     ]
    },
    {
     "name": "stderr",
     "output_type": "stream",
     "text": [
      " 12%|█▏        | 15/121 [2:18:35<8:59:29, 305.37s/it] "
     ]
    },
    {
     "name": "stdout",
     "output_type": "stream",
     "text": [
      "17: CGFa96yhxvV - 2020-10-08 09:45:41\n",
      "penn.eyeres\n",
      "26\n",
      "0: CVI7HjAALMk - 2021-10-17 14:15:15\n",
      "1: CUp1vh3gNab - 2021-10-05 12:31:49\n",
      "2: CUnIkBnA7Bc - 2021-10-04 11:18:33\n",
      "3: CTVydJ8tblf - 2021-09-02 21:06:54\n",
      "4: CTLnLk9NUCi - 2021-08-29 22:15:58\n",
      "5: CTAV8RwLa-0 - 2021-08-25 13:13:41\n",
      "6: CQpON-vhnku - 2021-06-27 20:40:53\n",
      "7: CQfGiO8h9W4 - 2021-06-23 22:21:20\n",
      "8: CQTsaR_hjO- - 2021-06-19 12:01:25\n",
      "9: CO0C4lOhgsw - 2021-05-13 08:30:42\n",
      "10: COUJHiqBEz7 - 2021-04-30 23:09:28\n",
      "11: CN8aB71h0wg - 2021-04-21 17:55:29\n",
      "12: CLnI3_2BQZZ - 2021-02-22 17:38:44\n",
      "13: CLFWY2LgEtI - 2021-02-09 14:42:38\n",
      "14: CKXgKvahU45 - 2021-01-22 19:23:02\n",
      "15: CI-0_ljhPTE - 2020-12-19 08:52:36\n",
      "16: CHjUBWEBkKw - 2020-11-13 19:53:36\n",
      "17: CHOkhM7hkzk - 2020-11-05 18:33:42\n",
      "18: CG-LubMh1mW - 2020-10-30 10:49:12\n",
      "19: CGIvc18hVn3 - 2020-10-09 18:05:31\n",
      "20: CF-7iowhRCs - 2020-10-05 21:15:38\n",
      "21: CEndjB_BUYf - 2020-09-01 21:59:37\n",
      "22: CEKv6eWF2du - 2020-08-21 18:22:08\n",
      "23: CEHnWrglZmm - 2020-08-20 13:09:37\n",
      "24: CDoXI88pLAf - 2020-08-08 09:51:28\n"
     ]
    },
    {
     "name": "stderr",
     "output_type": "stream",
     "text": [
      " 13%|█▎        | 16/121 [2:23:09<8:37:50, 295.91s/it]"
     ]
    },
    {
     "name": "stdout",
     "output_type": "stream",
     "text": [
      "25: CDfKHDpplVl - 2020-08-04 20:04:27\n",
      "clevelandclinic\n"
     ]
    },
    {
     "name": "stderr",
     "output_type": "stream",
     "text": [
      " 14%|█▍        | 17/121 [2:24:55<6:53:43, 238.69s/it]"
     ]
    },
    {
     "name": "stdout",
     "output_type": "stream",
     "text": [
      "1707\n",
      "Cleveland Clinic with username clevelandclinic has 1707 posts, more than 200\n",
      "deanmcgeeeyeinstitute\n",
      "45\n",
      "0: CVdtheAvecX - 2021-10-25 16:00:34\n",
      "1: CVTdxhPllkZ - 2021-10-21 16:30:32\n",
      "2: CVQhC3tDpsH - 2021-10-20 13:01:24\n",
      "3: CVOQ0EeFsda - 2021-10-19 16:01:05\n",
      "4: CVLvaWXD0Bd - 2021-10-18 16:30:44\n",
      "5: CVDNjjfsZbh - 2021-10-15 09:00:58\n",
      "6: CVBR9wogEF7 - 2021-10-14 15:01:01\n",
      "7: CU5PAzeMnTj - 2021-10-11 12:01:18\n",
      "8: CUsd59yMJ5y - 2021-10-06 13:01:18\n",
      "9: CUn_QYxrm6V - 2021-10-04 19:16:34\n",
      "10: CUdgSxFARhu - 2021-09-30 17:33:31\n",
      "11: CUVuFtMhCk2 - 2021-09-27 17:00:11\n",
      "12: CUN41Q6J0oM - 2021-09-24 16:00:08\n",
      "13: CUKxveFMh2E - 2021-09-23 11:00:27\n",
      "14: CUIvR2OMqvU - 2021-09-22 16:00:29\n",
      "15: CUICkhqtoDK - 2021-09-22 09:29:48\n",
      "16: CUFrjFusEig - 2021-09-21 11:30:08\n",
      "17: CUDRGG2s1F1 - 2021-09-20 13:00:34\n",
      "18: CT4wTEdNQr2 - 2021-09-16 11:01:31\n",
      "19: CTxPoIhtdoW - 2021-09-13 13:01:21\n",
      "20: CTnerjNj-8v - 2021-09-09 18:00:28\n",
      "21: CTksH7qHjeU - 2021-09-08 16:00:13\n",
      "22: CTiMoEOrpfo - 2021-09-07 16:46:28\n",
      "23: CTe5ZpyNyX5 - 2021-09-06 10:00:49\n",
      "24: CTUtC69rjxV - 2021-09-02 11:00:26\n",
      "25: CTNMY1rtM_p - 2021-08-30 13:00:23\n",
      "26: CTFLLCaMaso - 2021-08-27 10:15:50\n",
      "27: CTDKXvBrm3D - 2021-08-26 15:30:21\n",
      "28: CS9iYRfLa8E - 2021-08-24 11:04:39\n",
      "29: CS7ObhvLx9w - 2021-08-23 13:31:51\n",
      "30: CSzBCRitvxa - 2021-08-20 09:00:57\n",
      "31: CSxl-GsLwyA - 2021-08-19 19:45:11\n",
      "32: CSuQoYorbUy - 2021-08-18 12:40:57\n",
      "33: CSo7lNhNrkx - 2021-08-16 11:00:52\n",
      "34: CSffRkcLqtf - 2021-08-12 19:00:20\n",
      "35: CSZez67Ll_d - 2021-08-10 11:00:51\n",
      "36: CSPZV1dH-ne - 2021-08-06 13:00:39\n",
      "37: CSMceFlNCUt - 2021-08-05 09:30:16\n",
      "38: CSExjjPsZaW - 2021-08-02 10:00:36\n",
      "39: CR2Sm4GoRdF - 2021-07-27 19:00:49\n",
      "40: CRguZaYNPmk - 2021-07-19 10:00:21\n",
      "41: CRXLXT7spf1 - 2021-07-15 17:01:04\n",
      "42: CRT2da2rrtW - 2021-07-14 10:00:41\n",
      "43: CRPIXSWLTWI - 2021-07-12 14:00:55\n"
     ]
    },
    {
     "name": "stderr",
     "output_type": "stream",
     "text": [
      " 15%|█▍        | 18/121 [2:33:06<9:00:02, 314.59s/it]"
     ]
    },
    {
     "name": "stdout",
     "output_type": "stream",
     "text": [
      "44: CRHkMUDrYl- - 2021-07-09 15:30:10\n",
      "washuophtho\n",
      "72\n",
      "0: CUoU9UytBS1 - 2021-10-04 22:26:07\n",
      "1: CUOY_VCNlRG - 2021-09-24 20:41:05\n",
      "2: CUB0Rj2N7gC - 2021-09-19 23:29:22\n",
      "3: CT_Sc_At4SJ - 2021-09-18 23:55:21\n",
      "4: CT5rqa-t9Gb - 2021-09-16 19:40:12\n",
      "5: CTyad0xMfQQ - 2021-09-13 23:55:15\n",
      "6: CTvIBbUrwsw - 2021-09-12 17:16:22\n",
      "7: CTlxqDcLYUx - 2021-09-09 02:07:46\n",
      "8: CTH0YuOLSj8 - 2021-08-28 10:54:24\n",
      "9: CS2NO4or1Nk - 2021-08-21 14:45:11\n",
      "10: CSxK4Ytrc_0 - 2021-08-19 15:48:26\n",
      "11: CSQS781N9is - 2021-08-06 21:23:53\n",
      "12: CR11UKnBvZM - 2021-07-27 14:44:48\n",
      "13: CRclv1IBuKk - 2021-07-17 19:27:45\n",
      "14: CRZuw66h3Gu - 2021-07-16 16:48:49\n",
      "15: CRPt2QahSbX - 2021-07-12 19:28:24\n",
      "16: CQ4PPqPBEZI - 2021-07-03 16:38:27\n",
      "17: CQ2E2FSBcDU - 2021-07-02 20:29:06\n",
      "18: CQzrdPShGF7 - 2021-07-01 22:08:46\n",
      "19: CQzocLYhuuN - 2021-07-01 21:42:25\n",
      "20: CQzhmuMh2aZ - 2021-07-01 20:42:41\n",
      "21: CQzcKJ3BJKj - 2021-07-01 19:55:06\n",
      "22: CQzHlEahF_A - 2021-07-01 16:55:16\n",
      "23: CQaCL64h_lr - 2021-06-21 23:07:08\n",
      "24: CQZ8X1PhUf7 - 2021-06-21 22:16:20\n",
      "25: CQXwgE4h2O9 - 2021-06-21 01:54:07\n",
      "26: CQXmoVeBvI4 - 2021-06-21 00:27:52\n",
      "27: CQXci57hDw_ - 2021-06-20 22:59:44\n",
      "28: CQNOtnpB-xg - 2021-06-16 23:46:28\n",
      "29: CPy35oaBB8U - 2021-06-06 18:06:52\n",
      "30: CPuZjmzhsLv - 2021-06-05 00:24:46\n",
      "31: CPrvvdWhLqQ - 2021-06-03 23:40:54\n",
      "32: CPPLaxIBlPF - 2021-05-23 21:24:46\n",
      "33: CPPJpPphTUp - 2021-05-23 21:09:16\n",
      "34: CN1K-_Hh0cv - 2021-04-18 22:29:19\n",
      "35: CNYs6zsBsvG - 2021-04-07 21:07:52\n",
      "36: CNVv26RhFrP - 2021-04-06 17:35:50\n",
      "37: CNOaQmsBZex - 2021-04-03 21:12:25\n",
      "38: CNEUpfHBKT1 - 2021-03-30 23:10:59\n",
      "39: CLDl--xBkTZ - 2021-02-08 22:20:26\n",
      "40: CK-ZPzZh1-w - 2021-02-06 21:52:56\n",
      "41: CK25zQnhGCF - 2021-02-04 00:03:28\n",
      "42: CKxaApqB4ZA - 2021-02-01 20:49:29\n",
      "43: CKF8f4NB1vY - 2021-01-15 23:44:15\n",
      "44: CJo-5B_B1Qt - 2021-01-04 17:47:11\n",
      "45: CJef4RjB2oy - 2020-12-31 16:03:48\n",
      "46: CJO0oLahLzh - 2020-12-25 13:57:15\n",
      "47: CI6Li4chSae - 2020-12-17 13:33:27\n",
      "48: CIpCPw6BB1U - 2020-12-10 21:45:07\n",
      "49: CIhesCGh7Zz - 2020-12-07 23:19:43\n",
      "50: CIcWm7lhTc9 - 2020-12-05 23:32:55\n",
      "51: CH4Xb4dhhl7 - 2020-11-22 00:07:29\n",
      "52: CHfXPLbh7k_ - 2020-11-12 07:04:44\n",
      "53: CHdK5tVhhH0 - 2020-11-11 10:38:28\n",
      "54: CHO-occhqum - 2020-11-05 22:21:53\n",
      "55: CHGed8ThOif - 2020-11-02 18:24:17\n",
      "56: CG_fDgPBe6k - 2020-10-30 22:57:21\n",
      "57: CGqkgSnhB-P - 2020-10-22 20:00:55\n",
      "58: CGJNmH7B8Iq - 2020-10-09 21:05:48\n",
      "59: CGEI0gMhyPn - 2020-10-07 21:47:52\n",
      "60: CF3fAmZh69s - 2020-10-02 23:51:38\n",
      "61: CFzZc53ByjE - 2020-10-01 09:46:06\n",
      "62: CFnt1a-hXQf - 2020-09-26 20:53:20\n",
      "63: CFdo1UthFp4 - 2020-09-22 22:57:13\n",
      "64: CFTK6D4hJmH - 2020-09-18 21:23:19\n",
      "65: CFQxM8BhJsj - 2020-09-17 23:00:13\n",
      "66: CE5RzdFhnpK - 2020-09-08 20:03:20\n",
      "67: CEsxB65BuPf - 2020-09-03 23:26:04\n",
      "68: CEpr0CfhOIW - 2020-09-02 18:42:45\n",
      "69: CEpj5Rrh4zD - 2020-09-02 17:33:34\n",
      "70: CEh27KhhI1m - 2020-08-30 17:45:55\n"
     ]
    },
    {
     "name": "stderr",
     "output_type": "stream",
     "text": [
      " 16%|█▌        | 19/121 [2:46:32<13:05:25, 462.01s/it]"
     ]
    },
    {
     "name": "stdout",
     "output_type": "stream",
     "text": [
      "71: CEhrt2Dhkdm - 2020-08-30 16:07:59\n",
      "nyeeresidency\n",
      "46\n",
      "0: CVfgMBwrZkg - 2021-10-26 08:42:28\n",
      "1: CVcr8gHr82a - 2021-10-25 06:27:29\n",
      "2: CVJa2utsFlW - 2021-10-17 18:52:34\n",
      "3: CUztyb9AhYK - 2021-10-09 08:34:43\n",
      "4: CTpV5Rora6c - 2021-09-10 11:22:08\n",
      "5: CTMeQvLrLyI - 2021-08-30 06:17:16\n",
      "6: CSEmfsZLJHN - 2021-08-02 08:23:54\n",
      "7: CRELDR8haJ3 - 2021-07-08 07:52:42\n",
      "8: CQw68SiBXkx - 2021-06-30 20:26:22\n",
      "9: CQbzmYnBZKO - 2021-06-22 15:38:09\n",
      "10: CP1NndvBeO7 - 2021-06-07 15:55:07\n",
      "11: CPi6669h_g7 - 2021-05-31 13:25:25\n",
      "12: CPGjKMwBd4e - 2021-05-20 12:59:03\n",
      "13: CONepw8BDk2 - 2021-04-28 09:02:58\n",
      "14: CNsnk_mh-3F - 2021-04-15 14:46:01\n",
      "15: CNK12s3BZMY - 2021-04-02 11:56:35\n",
      "16: CNAjbTRhbtz - 2021-03-29 12:03:09\n",
      "17: CMeptVehA1O - 2021-03-16 08:03:52\n",
      "18: CMKkU8Wh_jc - 2021-03-08 11:52:02\n",
      "19: CL5kYcehWMz - 2021-03-01 21:42:52\n",
      "20: CKxB3NUhUYJ - 2021-02-01 17:18:28\n",
      "21: CKd9i8BBfKi - 2021-01-25 07:35:11\n",
      "22: CJwYHE-BhJv - 2021-01-07 14:42:15\n",
      "23: CJWcGqghEMh - 2020-12-28 12:56:53\n",
      "24: CJGvzIJhkOY - 2020-12-22 10:41:08\n",
      "25: CI8MKerh53D - 2020-12-18 08:17:21\n",
      "26: CIx3WHkhS_h - 2020-12-14 08:03:02\n",
      "27: CIUQ7WYhX1W - 2020-12-02 20:09:21\n",
      "28: CIJsPfvBRgQ - 2020-11-28 17:36:23\n",
      "29: CH85PIvhXst - 2020-11-23 18:19:48\n",
      "30: CHqKexMhRTh - 2020-11-16 11:44:55\n",
      "31: CHflpOhhXG3 - 2020-11-12 09:10:37\n",
      "32: CHQXqCxhOBA - 2020-11-06 11:19:48\n",
      "33: CHGqZ9BhWwO - 2020-11-02 16:51:13\n",
      "34: CG2LftZhIgL - 2020-10-27 08:13:16\n",
      "35: CGkMCjRhRgC - 2020-10-20 08:31:42\n",
      "36: CGde8hahbPS - 2020-10-17 18:02:13\n",
      "37: CGPqd5lhmmo - 2020-10-12 09:13:32\n",
      "38: CGICOqyBUDj - 2020-10-09 10:07:14\n",
      "39: CGAEObshdSL - 2020-10-06 07:50:45\n",
      "40: CFsPyprBtvC - 2020-09-28 15:07:01\n",
      "41: CFkgeK2BX1N - 2020-09-25 14:58:50\n",
      "42: CFZ0kH9hbJZ - 2020-09-21 11:24:30\n",
      "43: CFSgO9YBxiL - 2020-09-18 15:10:26\n",
      "44: CFH8YItDkSH - 2020-09-14 12:44:42\n"
     ]
    },
    {
     "name": "stderr",
     "output_type": "stream",
     "text": [
      " 17%|█▋        | 20/121 [2:54:52<13:17:08, 473.54s/it]"
     ]
    },
    {
     "name": "stdout",
     "output_type": "stream",
     "text": [
      "45: CE11Q4hjHTO - 2020-09-07 11:56:13\n",
      "uiceyeresidents\n",
      "16\n",
      "0: CURFzYbtvaC - 2021-09-25 21:51:09\n",
      "1: CSX_35PNTmQ - 2021-08-09 21:11:14\n",
      "2: CRC3WBvgnYW - 2021-07-07 19:41:15\n",
      "3: CQeDng5h0Pr - 2021-06-23 12:36:36\n",
      "4: CMkjFgNB86X - 2021-03-18 15:01:27\n",
      "5: CMR9k-0BcaH - 2021-03-11 08:47:22\n",
      "6: CMKxpwLh04g - 2021-03-08 13:48:28\n",
      "7: CLNl0zTBDI4 - 2021-02-12 19:31:27\n",
      "8: CK4rR_8BM2m - 2021-02-04 16:35:05\n",
      "9: CJhAcJqhs_m - 2021-01-01 15:26:48\n",
      "10: CHeRJxChJpq - 2020-11-11 20:52:20\n",
      "11: CFcdr5Ihgxd - 2020-09-22 12:00:34\n",
      "12: CFQBwd4BWBb - 2020-09-17 16:05:39\n",
      "13: CEUsAMagpqa - 2020-08-25 15:00:22\n",
      "14: CDyo3o7BWX_ - 2020-08-12 09:38:48\n"
     ]
    },
    {
     "name": "stderr",
     "output_type": "stream",
     "text": [
      " 17%|█▋        | 21/121 [2:57:43<10:37:52, 382.73s/it]"
     ]
    },
    {
     "name": "stdout",
     "output_type": "stream",
     "text": [
      "15: CDl5VAVhpYx - 2020-08-07 10:52:30\n",
      "mayocliniccollege\n"
     ]
    },
    {
     "name": "stderr",
     "output_type": "stream",
     "text": [
      " 18%|█▊        | 22/121 [2:57:57<7:29:09, 272.22s/it] "
     ]
    },
    {
     "name": "stdout",
     "output_type": "stream",
     "text": [
      "274\n",
      "Mayo Clinic with username mayocliniccollege has 274 posts, more than 200\n",
      "cincinnati_medicine\n"
     ]
    },
    {
     "name": "stderr",
     "output_type": "stream",
     "text": [
      " 19%|█▉        | 23/121 [2:58:53<5:38:17, 207.12s/it]"
     ]
    },
    {
     "name": "stdout",
     "output_type": "stream",
     "text": [
      "1034\n",
      "University of Cincinnati with username cincinnati_medicine has 1034 posts, more than 200\n",
      "columbiaophthalmology\n",
      "24\n",
      "0: CT3icp2tBC- - 2021-09-15 23:41:12\n",
      "1: CTxJc8rL6IR - 2021-09-13 12:07:20\n",
      "2: CToALhpNX0J - 2021-09-09 22:53:09\n",
      "3: CTObrwXMCij - 2021-08-31 00:33:14\n",
      "4: CRZQkpXBnR6 - 2021-07-16 12:25:00\n",
      "5: CRPxhO5B3Jv - 2021-07-12 20:00:29\n",
      "6: CQ2JsUIBgIt - 2021-07-02 21:11:27\n",
      "7: CQwrz6phfqy - 2021-06-30 18:14:09\n",
      "8: CQpXJRzhaD0 - 2021-06-27 21:58:53\n",
      "9: CO0dvEmBsgF - 2021-05-13 12:25:20\n",
      "10: COBu5IVh_gM - 2021-04-23 19:33:59\n",
      "11: CNWcKPVhhi- - 2021-04-07 00:02:57\n",
      "12: CMdVuePh4R5 - 2021-03-15 19:50:01\n",
      "13: CMIwEA5BWEn - 2021-03-07 18:56:06\n",
      "14: CMBNS_XBE4S - 2021-03-04 20:37:38\n",
      "15: CL2aX18h62Q - 2021-02-28 16:00:14\n",
      "16: CLx4FemBwfx - 2021-02-26 21:43:40\n",
      "17: CLwxvPQhYLK - 2021-02-26 11:28:58\n",
      "18: CLvAimuh4XE - 2021-02-25 18:59:50\n",
      "19: CLu7PksB2K- - 2021-02-25 18:13:33\n",
      "20: CLFlpyPBprU - 2021-02-09 16:56:01\n",
      "21: CK_3GSUBy5U - 2021-02-07 11:33:01\n",
      "22: CK9KvYkBdBF - 2021-02-06 10:29:18\n"
     ]
    },
    {
     "name": "stderr",
     "output_type": "stream",
     "text": [
      " 20%|█▉        | 24/121 [3:03:07<5:57:42, 221.26s/it]"
     ]
    },
    {
     "name": "stdout",
     "output_type": "stream",
     "text": [
      "23: CK4GvveBnN7 - 2021-02-04 11:15:50\n",
      "vumceye\n",
      "51\n",
      "0: CVBUQ4ar_cF - 2021-10-14 15:21:03\n",
      "1: CUn79_jgSpq - 2021-10-04 18:47:45\n",
      "2: CT711S4raBP - 2021-09-17 15:47:33\n",
      "3: CT4swVCAvJp - 2021-09-16 10:30:30\n",
      "4: CTxdDq8LQah - 2021-09-13 14:58:39\n",
      "5: CTpTS4TrXIp - 2021-09-10 10:59:25\n",
      "6: CSnAL--LaXd - 2021-08-15 17:02:35\n",
      "7: CQy6oRoBycj - 2021-07-01 15:02:07\n",
      "8: CQYpURPhyvI - 2021-06-21 10:10:35\n",
      "9: COTFeG9BBzA - 2021-04-30 13:18:28\n",
      "10: CNC_jWxhKCo - 2021-03-30 10:47:29\n",
      "11: CM5KZ4tB4Lx - 2021-03-26 15:09:56\n",
      "12: CM5AQj-hRn9 - 2021-03-26 13:41:10\n",
      "13: CM16cRdhO3E - 2021-03-25 08:52:37\n",
      "14: CMLBuR8hkTW - 2021-03-08 16:08:54\n",
      "15: CMDJowYBzZa - 2021-03-05 14:44:08\n",
      "16: CLw7fqnB0va - 2021-02-26 12:54:13\n",
      "17: CK12lNTBRRP - 2021-02-03 14:16:06\n",
      "18: CKt7CjOhCGn - 2021-01-31 12:21:08\n",
      "19: CJg5KexBRor - 2021-01-01 14:23:13\n",
      "20: CI_KDyKB_2c - 2020-12-19 11:56:40\n",
      "21: CHlXysghClp - 2020-11-14 15:05:02\n",
      "22: CHk8H93hVOt - 2020-11-14 11:03:16\n",
      "23: CHg8-xUB8Tg - 2020-11-12 21:53:47\n",
      "24: CHfbIeQhBQD - 2020-11-12 07:38:46\n",
      "25: CHGdep9BFLe - 2020-11-02 14:58:16\n",
      "26: CG2XKYNBNnR - 2020-10-27 09:55:13\n",
      "27: CGswpYIBP-5 - 2020-10-23 16:25:30\n",
      "28: CGm1YBehm7A - 2020-10-21 09:11:23\n",
      "29: CGaKQQbh-Wf - 2020-10-16 11:03:41\n",
      "30: CGXeQM-BQZ0 - 2020-10-15 10:00:43\n",
      "31: CGQRpLFhk3U - 2020-10-12 14:55:51\n",
      "32: CGF5oCChcOv - 2020-10-08 14:13:35\n",
      "33: CF96PpUBR4u - 2020-10-05 11:45:04\n",
      "34: CFnRKTpBsvU - 2020-09-26 16:43:01\n",
      "35: CFkRJTHhgFM - 2020-09-25 12:44:55\n",
      "36: CFcNcwmBgxn - 2020-09-22 09:38:42\n",
      "37: CFVixZpBspV - 2020-09-19 19:30:20\n",
      "38: CFDL85CBa2w - 2020-09-12 16:24:36\n",
      "39: CE__yOaBBcz - 2020-09-11 10:40:34\n",
      "40: CEtwZkWBRxN - 2020-09-04 08:39:47\n",
      "41: CEp0lNyBzkV - 2020-09-02 19:59:22\n",
      "42: CEX2sqChL3n - 2020-08-26 20:31:32\n",
      "43: CEMnLqJhIzx - 2020-08-22 11:44:19\n",
      "44: CEHqhMuhMu4 - 2020-08-20 13:37:16\n",
      "45: CD9uf5ohFyU - 2020-08-16 16:59:38\n",
      "46: CDg84JmBfqK - 2020-08-05 12:47:18\n",
      "47: CCwT2TvBK_s - 2020-07-17 15:25:15\n",
      "48: CCs74p7hv8z - 2020-07-16 07:58:08\n",
      "49: CCD0A0eBYhm - 2020-06-30 08:40:28\n"
     ]
    },
    {
     "name": "stderr",
     "output_type": "stream",
     "text": [
      " 21%|██        | 25/121 [3:12:22<8:34:25, 321.51s/it]"
     ]
    },
    {
     "name": "stdout",
     "output_type": "stream",
     "text": [
      "50: CB6YJjrBSdp - 2020-06-26 16:43:50\n",
      "byerseye\n"
     ]
    },
    {
     "name": "stderr",
     "output_type": "stream",
     "text": [
      " 21%|██▏       | 26/121 [3:12:56<6:12:26, 235.23s/it]"
     ]
    },
    {
     "name": "stdout",
     "output_type": "stream",
     "text": [
      "210\n",
      "Stanford with username byerseye has 210 posts, more than 200\n",
      "shileyeye\n"
     ]
    },
    {
     "name": "stderr",
     "output_type": "stream",
     "text": [
      " 22%|██▏       | 27/121 [3:13:17<4:27:31, 170.76s/it]"
     ]
    },
    {
     "name": "stdout",
     "output_type": "stream",
     "text": [
      "503\n",
      "UCSD with username shileyeye has 503 posts, more than 200\n",
      "cumedschool\n",
      "125\n",
      "0: CVgBHOrAn73 - 2021-10-26 13:30:36\n",
      "1: CVdW1wFlksD - 2021-10-25 12:42:18\n",
      "2: CVVq9flFN8b - 2021-10-22 13:04:12\n",
      "3: CVTJIdULtps - 2021-10-21 13:30:37\n",
      "4: CVQklRkljR9 - 2021-10-20 13:32:15\n",
      "5: CVODF0rNPrE - 2021-10-19 14:02:00\n",
      "6: CVLeMhDtD7s - 2021-10-18 14:01:46\n",
      "7: CVGRJqwMdY0 - 2021-10-16 13:30:19\n",
      "8: CVBHkNXAGkW - 2021-10-14 13:30:34\n",
      "9: CU8BcL4DhG9 - 2021-10-12 14:01:41\n",
      "10: CU2qT9ON5lH - 2021-10-10 12:02:28\n",
      "11: CUyGNwOFV6M - 2021-10-08 17:29:41\n",
      "12: CUskrcOARkt - 2021-10-06 14:01:51\n",
      "13: CUn94Q_Ms_2 - 2021-10-04 19:04:36\n",
      "14: CUdqWnyr6mQ - 2021-09-30 19:02:00\n",
      "15: CUdEdLgswna - 2021-09-30 13:30:49\n",
      "16: CUX63rOAYIH - 2021-09-28 13:30:56\n",
      "17: CUS0w6CJt88 - 2021-09-26 14:01:33\n",
      "18: CUNdldeLsAh - 2021-09-24 12:03:18\n",
      "19: CUIvaOQMEiw - 2021-09-22 16:02:23\n",
      "20: CT2gEiPs3oh - 2021-09-15 14:02:40\n",
      "21: CTxMFe2LQSP - 2021-09-13 12:31:06\n",
      "22: CTpaeH1t24A - 2021-09-10 12:03:41\n",
      "23: CTkzIDHP1HT - 2021-09-08 17:01:51\n",
      "24: CTU-wnUFIn- - 2021-09-02 13:35:10\n",
      "25: CTNn6jUryLB - 2021-08-30 17:01:28\n",
      "26: CTFXSbypAX2 - 2021-08-27 12:02:51\n",
      "27: CTAzUciAQkW - 2021-08-25 17:30:38\n",
      "28: CS7HZd0HQta - 2021-08-23 12:31:04\n",
      "29: CSzVsgBt5X6 - 2021-08-20 12:02:55\n",
      "30: CSuWSd7gJtx - 2021-08-18 13:31:14\n",
      "31: CSpGBXJlEmR - 2021-08-16 12:32:02\n",
      "32: CSe5hQ9MdVE - 2021-08-12 13:30:49\n",
      "33: CSZv7PplO6L - 2021-08-10 13:30:48\n",
      "34: CSPgWggDzNo - 2021-08-06 14:02:47\n",
      "35: CSKT76qlXaD - 2021-08-04 13:37:10\n",
      "36: CR9xRselh6h - 2021-07-30 16:43:26\n",
      "37: CR6570snNzE - 2021-07-29 14:02:48\n",
      "38: CR1sz7rsliH - 2021-07-27 13:30:59\n",
      "39: CRruU8blfbk - 2021-07-23 16:31:20\n",
      "40: CRo02dHnUd5 - 2021-07-22 13:31:00\n",
      "41: CRZN8dOLCAx - 2021-07-16 12:03:11\n",
      "42: CRUiM2ZFggq - 2021-07-14 16:25:32\n",
      "43: CRO-X69lFE4 - 2021-07-12 12:33:34\n",
      "44: CRFT-QFlIMH - 2021-07-08 18:36:42\n",
      "45: CQ_oIXtjEZY - 2021-07-06 13:31:00\n",
      "46: CQ6bXePj0Vo - 2021-07-04 13:03:18\n",
      "47: CQ1KyeVLW_i - 2021-07-02 12:03:06\n",
      "48: CQwvXRxju_O - 2021-06-30 18:45:22\n",
      "49: CQtqPPplkcF - 2021-06-29 14:02:41\n",
      "50: CQjgbFDFBMr - 2021-06-25 15:24:31\n",
      "51: CQeab8RlUBS - 2021-06-23 15:56:00\n",
      "52: CQZYUPPsuf0 - 2021-06-21 17:01:53\n",
      "53: CQOtBFxNErh - 2021-06-17 13:31:16\n",
      "54: CQKJVRGMtX0 - 2021-06-15 19:02:37\n",
      "55: CP8u5xaLSVE - 2021-06-10 14:00:42\n",
      "56: CP6dfrDFrkD - 2021-06-09 16:50:05\n",
      "57: CP4AI1ELc52 - 2021-06-08 17:55:06\n",
      "58: CP1FB3ZApt_ - 2021-06-07 14:40:07\n",
      "59: CPtVgSbLtCb - 2021-06-04 14:30:09\n",
      "60: CPq1U63lxpm - 2021-06-03 15:10:28\n",
      "61: CPoUfk9Fysr - 2021-06-02 15:45:07\n",
      "62: CPlhdQqlMg7 - 2021-06-01 13:42:55\n",
      "63: CPi7DJPlRTj - 2021-05-31 13:26:32\n",
      "64: CPbwTMVlYRm - 2021-05-28 18:37:56\n",
      "65: CPYwSNbL1OX - 2021-05-27 14:40:07\n",
      "66: CPWRNyztMhe - 2021-05-26 15:30:08\n",
      "67: CPTj1ocLDE1 - 2021-05-25 14:15:09\n",
      "68: CPRCeiyroCP - 2021-05-24 14:45:09\n",
      "69: CPJNyqcLpvu - 2021-05-21 13:50:06\n",
      "70: CPGsbk0sGI1 - 2021-05-20 14:20:07\n",
      "71: CPES8gKFlSy - 2021-05-19 15:58:53\n",
      "72: CPBf-5Ml_Sg - 2021-05-18 13:55:08\n",
      "73: CO-2nadrnnU - 2021-05-17 13:15:11\n",
      "74: CO3RYMOLVBP - 2021-05-14 14:35:07\n",
      "75: CO0nbw4r9Kj - 2021-05-13 13:50:07\n",
      "76: COvd2AGAvsW - 2021-05-11 13:50:07\n",
      "77: COqg16IrxnY - 2021-05-09 15:40:06\n",
      "78: COlP0GULcp0 - 2021-05-07 14:35:07\n",
      "79: COivBhpL8rj - 2021-05-06 15:10:07\n",
      "80: COgNK68FtvE - 2021-05-05 15:35:46\n",
      "81: COdos0_Fsa2 - 2021-05-04 15:38:37\n",
      "82: COTgSzslCXH - 2021-04-30 17:12:45\n",
      "83: COQ7CRNF4iX - 2021-04-29 17:08:42\n",
      "84: COOQrOmlwYe - 2021-04-28 16:20:07\n",
      "85: COLj30XLCSW - 2021-04-27 15:10:09\n",
      "86: COI8HXclVs2 - 2021-04-26 14:44:12\n",
      "87: COBTD7QlP49 - 2021-04-23 15:30:47\n",
      "88: CN-kdvRFgV1 - 2021-04-22 14:05:12\n",
      "89: CN8THW4r-Md - 2021-04-21 16:55:07\n",
      "90: CN5twBLL13Q - 2021-04-20 16:50:07\n",
      "91: CN3LPjcFa_G - 2021-04-19 17:10:06\n",
      "92: CNu59QyryoG - 2021-04-16 12:05:08\n",
      "93: CNs1NJRF5ek - 2021-04-15 16:45:08\n",
      "94: CNqP1eJrhRq - 2021-04-14 16:40:06\n",
      "95: CNnHEfcFn3r - 2021-04-13 11:25:45\n",
      "96: CNk0gd2L1o_ - 2021-04-12 14:05:06\n",
      "97: CNdauFcF3bJ - 2021-04-09 17:05:05\n",
      "98: CNaoMvVgR2J - 2021-04-08 15:05:10\n",
      "99: CNX-0ddgxYS - 2021-04-07 14:25:07\n",
      "100: CNVw6vslg-n - 2021-04-06 17:45:08\n",
      "101: CNS90IGFPuO - 2021-04-05 15:40:06\n",
      "102: CNLXcSUFmW7 - 2021-04-02 16:50:06\n",
      "103: CNIfRKNLXDv - 2021-04-01 14:00:48\n",
      "104: CNF7i-OLA2K - 2021-03-31 14:10:09\n",
      "105: CNDH_XoL96M - 2021-03-30 12:01:10\n",
      "106: CNAw2LsFj0u - 2021-03-29 14:00:27\n",
      "107: CM5GbZVrpIM - 2021-03-26 14:35:07\n",
      "108: CM2hobBLIYz - 2021-03-25 14:35:06\n",
      "109: CM0AP0vFRTD - 2021-03-24 15:04:52\n",
      "110: CMw-d2KlQQG - 2021-03-23 10:51:35\n",
      "111: CMvP25JLhpn - 2021-03-22 18:45:06\n",
      "112: CMm7wJxFCWk - 2021-03-19 13:15:28\n",
      "113: CMkdyG-Lqcu - 2021-03-18 14:15:10\n",
      "114: CMfx8cYLx16 - 2021-03-16 18:35:06\n",
      "115: CMcj7EJlDcr - 2021-03-15 12:34:50\n",
      "116: CMVGu3nAe2G - 2021-03-12 14:05:08\n",
      "117: CMSjqAULBK3 - 2021-03-11 14:20:08\n",
      "118: CMQjfdZoCbJ - 2021-03-10 19:40:14\n",
      "119: CMNWD8xrnqz - 2021-03-09 13:45:08\n",
      "120: CMLGbxOrL5F - 2021-03-08 16:50:05\n",
      "121: CMD1dDqFzHu - 2021-03-05 21:07:01\n",
      "122: CMDC4pTrP1s - 2021-03-05 13:45:09\n",
      "123: CMAg8efAIw2 - 2021-03-04 14:10:07\n"
     ]
    },
    {
     "name": "stderr",
     "output_type": "stream",
     "text": [
      " 23%|██▎       | 28/121 [3:36:11<13:44:12, 531.74s/it]"
     ]
    },
    {
     "name": "stdout",
     "output_type": "stream",
     "text": [
      "124: CL9_RVmFIoA - 2021-03-03 14:37:21\n",
      "sutterhealth\n"
     ]
    },
    {
     "name": "stderr",
     "output_type": "stream",
     "text": [
      " 24%|██▍       | 29/121 [3:37:30<10:07:13, 396.01s/it]"
     ]
    },
    {
     "name": "stdout",
     "output_type": "stream",
     "text": [
      "674\n",
      "California Pacific Medical Center with username sutterhealth has 674 posts, more than 200\n",
      "nyugrossman\n",
      "194\n",
      "0: CVTSztKPbLN - 2021-10-21 14:54:40\n",
      "1: CVAwToEAcYl - 2021-10-14 10:06:51\n",
      "2: CUF3W7NJ35- - 2021-09-21 13:13:17\n",
      "3: CSutmdingOc - 2021-08-18 16:54:06\n",
      "4: CPJZCvOhpaS - 2021-05-21 15:28:22\n",
      "5: CNF0GbBBJB6 - 2021-03-31 13:05:03\n",
      "6: CMnPGhYhptG - 2021-03-19 16:04:33\n",
      "7: CLuYF_7hERO - 2021-02-25 13:06:24\n",
      "8: CIrEDEABuDZ - 2020-12-11 16:39:20\n",
      "9: CH8ZxcChF6J - 2020-11-23 13:44:52\n",
      "10: CHdgX22BjPz - 2020-11-11 13:46:05\n",
      "11: CHIi4oKB296 - 2020-11-03 10:23:59\n",
      "12: CFM98avBGXV - 2020-09-16 11:34:36\n",
      "13: CEUfi3GnMK1 - 2020-08-25 13:11:30\n",
      "14: CEJ_zrYhMCv - 2020-08-21 11:21:46\n",
      "15: CEHvS2WBX5S - 2020-08-20 14:19:00\n",
      "16: CD1nM59h_MF - 2020-08-13 13:21:57\n",
      "17: CDO1q9eB-ab - 2020-07-29 11:58:00\n",
      "18: CDJ8yE1BPZm - 2020-07-27 14:23:56\n",
      "19: CB1KINRBDoM - 2020-06-24 16:06:43\n",
      "20: CAf04qFhhnn - 2020-05-22 12:44:03\n",
      "21: B_2f1Rfhhhj - 2020-05-06 11:32:18\n",
      "22: B_0R6iRB4QH - 2020-05-05 14:51:07\n",
      "23: B--13HqB0s5 - 2020-04-14 20:48:37\n",
      "24: B-7BBUFBwCt - 2020-04-13 09:06:47\n",
      "25: B-uOPGThndV - 2020-04-08 09:52:08\n",
      "26: B-iNr-ZhywL - 2020-04-03 18:00:56\n",
      "27: B-hXrwYh-Bw - 2020-04-03 10:04:34\n",
      "28: B-SJ_EHBziq - 2020-03-28 12:16:16\n",
      "29: B-PzalFBn75 - 2020-03-27 14:23:02\n",
      "30: B-NwK0fB5Sc - 2020-03-26 19:13:43\n",
      "31: B-KpmrJB2Gi - 2020-03-25 14:18:38\n",
      "32: B96qFOrhdqh - 2020-03-19 09:14:57\n",
      "33: B7EQ5EHh_Mf - 2020-01-08 12:13:04\n",
      "34: B6_DGRUhSup - 2020-01-06 11:36:20\n",
      "35: B4igqxJAugc - 2019-11-06 16:33:57\n",
      "36: B3xd1W2hBcV - 2019-10-18 16:26:24\n",
      "37: B3II7tGhBKN - 2019-10-02 15:14:54\n",
      "38: B1guNF3Bq5p - 2019-08-23 11:21:21\n",
      "39: B1ep2SjB0va - 2019-08-22 16:05:31\n",
      "40: B1PEuKQhK8h - 2019-08-16 14:50:00\n",
      "41: B0WQfUbhDdI - 2019-07-25 13:17:18\n",
      "42: Bx7c7Bvh3VV - 2019-05-26 10:22:29\n",
      "43: BxxXEdFBcoL - 2019-05-22 12:20:30\n",
      "44: BxxI_FchKYj - 2019-05-22 10:15:52\n",
      "45: Bw7CS_BheHZ - 2019-05-01 09:58:25\n",
      "46: BvPhnVdhF6P - 2019-03-20 15:54:42\n",
      "47: BvMjuXkhX6U - 2019-03-19 12:16:15\n",
      "48: BvKWALXhzlp - 2019-03-18 15:36:26\n",
      "49: BucKnxrBDbi - 2019-02-28 16:11:55\n",
      "50: Brkwr7xBPhF - 2018-12-19 10:45:58\n",
      "51: BrGUY-sh_VF - 2018-12-07 14:59:49\n",
      "52: BpmoYEhBWW3 - 2018-10-31 12:07:21\n",
      "53: BpFbozFBqL5 - 2018-10-18 14:41:06\n",
      "54: BouFB6eBw0D - 2018-10-09 13:01:02\n",
      "55: BnJY0l2j4eo - 2018-08-31 10:34:55\n",
      "56: BmtQFxfnq7h - 2018-08-20 12:18:06\n",
      "57: BmjYzn3HbLz - 2018-08-16 16:19:24\n",
      "58: Blnq9EZHyc- - 2018-07-24 11:43:33\n",
      "59: BkktGyXHBTA - 2018-06-28 11:33:14\n",
      "60: BjC2ZJXDY92 - 2018-05-21 11:28:49\n",
      "61: Bi4cd-EnW8U - 2018-05-17 10:29:52\n",
      "62: Bi2WMdFnKeN - 2018-05-16 14:56:34\n",
      "63: BipJXL9nPHB - 2018-05-11 11:55:35\n",
      "64: BhEojFVDBeA - 2018-04-02 11:03:32\n",
      "65: Bg3phqsjK7Z - 2018-03-28 10:01:57\n",
      "66: BgoRxmejBTX - 2018-03-22 10:48:24\n",
      "67: Bgl2SAHBV6O - 2018-03-21 12:10:16\n",
      "68: Bgi-mKnhwyI - 2018-03-20 09:24:09\n",
      "69: BgZXFoMB_Dy - 2018-03-16 15:43:37\n",
      "70: Be-_u7FDnIL - 2018-02-09 12:31:02\n",
      "71: BebbAf4jTqd - 2018-01-26 16:53:34\n",
      "72: Bd0HNpmDz3Y - 2018-01-11 10:30:13\n",
      "73: BcSQSaXDyf9 - 2017-12-04 10:23:56\n",
      "74: BcDX2EIjLun - 2017-11-28 15:41:22\n",
      "75: BbnJqBcDA66 - 2017-11-17 16:38:39\n",
      "76: BbcMdWxjcSI - 2017-11-13 10:31:29\n",
      "77: BbUsGxlD9ak - 2017-11-10 12:34:06\n",
      "78: BaZayNjAOrz - 2017-10-18 13:07:33\n",
      "79: BaUHjqVAcrs - 2017-10-16 11:43:20\n",
      "80: BaCdoQ3A5CQ - 2017-10-09 15:09:53\n",
      "81: BZ1QGiwg4Dz - 2017-10-04 12:01:33\n",
      "82: BZzGld0gk5B - 2017-10-03 15:59:55\n",
      "83: BX8dQUNg1O6 - 2017-08-18 14:08:23\n",
      "84: BXWAzsTAAqM - 2017-08-03 15:48:40\n",
      "85: BVaKBwrgoDe - 2017-06-16 13:23:24\n",
      "86: BVF3UWLgkXl - 2017-06-08 16:15:06\n",
      "87: BVDRt2hgXPP - 2017-06-07 16:08:03\n",
      "88: BUfJZNMAV5C - 2017-05-24 15:22:40\n",
      "89: BUP1H5NAZcX - 2017-05-18 16:36:56\n",
      "90: BUNgiYNAYVy - 2017-05-17 18:58:34\n",
      "91: BUNfGrPAQ9u - 2017-05-17 18:46:03\n",
      "92: BT699vmA9QM - 2017-05-10 14:10:08\n",
      "93: BTpEEjjA_xz - 2017-05-03 15:17:10\n",
      "94: BTWfxoOgdHJ - 2017-04-26 10:13:41\n",
      "95: BTUXofKAV3v - 2017-04-25 14:24:03\n",
      "96: BS_-aJOg_08 - 2017-04-17 16:18:50\n",
      "97: BS3nenUgrwW - 2017-04-14 10:24:32\n",
      "98: BSy86hgAV-L - 2017-04-12 14:55:39\n",
      "99: BSt-hQjAVlb - 2017-04-10 16:33:28\n",
      "100: BStgxw4AnjC - 2017-04-10 12:13:35\n",
      "101: BSeT-J2A4Dh - 2017-04-04 14:33:04\n",
      "102: BRoDMdyAiYC - 2017-03-14 12:47:29\n",
      "103: BOFayfgh0s3 - 2016-12-16 11:26:03\n",
      "104: BNhe13FBdnq - 2016-12-02 12:28:48\n",
      "105: BNe9gFlhKTI - 2016-12-01 12:59:00\n",
      "106: BM6kKvbB9rE - 2016-11-17 09:44:58\n",
      "107: BM4iYL9AHBg - 2016-11-16 14:50:51\n",
      "108: BMrRfKKBbC8 - 2016-11-11 11:13:07\n",
      "109: BMZcD4xh8mU - 2016-11-04 13:59:11\n",
      "110: BMW5-XcBBQM - 2016-11-03 14:22:51\n",
      "111: BMWy101BcN0 - 2016-11-03 13:20:31\n",
      "112: BMUkT-0ByBN - 2016-11-02 16:35:05\n",
      "113: BMUVggrhucf - 2016-11-02 14:25:43\n",
      "114: BMUHYpgBslW - 2016-11-02 12:22:19\n",
      "115: BMRvI-HBUcM - 2016-11-01 14:11:59\n",
      "116: BMRj4_6BlSy - 2016-11-01 12:33:41\n",
      "117: BMRT2mHBPgh - 2016-11-01 10:13:33\n",
      "118: BMPTGphBlsE - 2016-10-31 15:28:31\n",
      "119: BMCeB2ihU60 - 2016-10-26 15:53:51\n",
      "120: BL_jlrPBkh- - 2016-10-25 12:44:43\n",
      "121: BL9Glg0B2-f - 2016-10-24 13:52:48\n",
      "122: BLyx3ZKBlBr - 2016-10-20 13:39:20\n",
      "123: BLO1HBnBhWX - 2016-10-06 14:35:02\n",
      "124: BK_g0n_hbNf - 2016-09-30 15:49:09\n",
      "125: BK89y-PBt-K - 2016-09-29 16:04:36\n",
      "126: BK368h_hlaI - 2016-09-27 17:03:30\n",
      "127: BKTs3b4BcmE - 2016-09-13 15:27:48\n",
      "128: BKTTkSOh0q_ - 2016-09-13 11:46:44\n",
      "129: BI-4z7aBfLu - 2016-08-11 16:56:44\n",
      "130: BI-ya7ghhbd - 2016-08-11 16:00:54\n",
      "131: BI-soGbh_QW - 2016-08-11 15:10:16\n",
      "132: BI-Te8ZBAqg - 2016-08-11 11:30:34\n",
      "133: BI-IG8fBfKo - 2016-08-11 09:51:10\n",
      "134: BI8Xya9hAVp - 2016-08-10 17:29:41\n",
      "135: BI8KHWyhPsW - 2016-08-10 15:30:13\n",
      "136: BI7udHAh2HW - 2016-08-10 11:28:31\n",
      "137: BI5rnTshtWe - 2016-08-09 16:25:13\n",
      "138: BHuuYKshMEr - 2016-07-11 13:46:19\n",
      "139: BHStl9PBwlC - 2016-06-30 16:40:44\n",
      "140: BHK0D07B5-0 - 2016-06-27 15:03:19\n",
      "141: BHAKW_4Cvdm - 2016-06-23 11:46:32\n",
      "142: BG-AQC1Cvev - 2016-06-22 15:39:43\n",
      "143: BGurZthCvX7 - 2016-06-16 16:48:55\n",
      "144: BGfANPAivcf - 2016-06-10 14:42:52\n",
      "145: BDG2I6-CvVE - 2016-03-18 15:58:57\n",
      "146: -PQkfHivcK - 2015-11-18 14:46:51\n",
      "147: 6Vj0l4ivUp - 2015-08-13 16:24:57\n",
      "148: 6ViOeyivRe - 2015-08-13 16:11:00\n",
      "149: 6VgYyaivdn - 2015-08-13 15:54:56\n",
      "150: nYS6nCivSO - 2014-04-29 11:58:27\n",
      "151: mYOJwdivbX - 2014-04-04 14:45:26\n",
      "152: lz5uxkivfP - 2014-03-21 12:14:20\n",
      "153: lz5gjFCve_ - 2014-03-21 12:12:23\n",
      "154: lz5bUeCve3 - 2014-03-21 12:11:40\n",
      "155: dpJNfYivc9 - 2013-08-30 11:46:48\n",
      "156: dpJE3UCvcs - 2013-08-30 11:45:37\n",
      "157: dpI7EyCvce - 2013-08-30 11:44:17\n",
      "158: dpInhhCvb9 - 2013-08-30 11:41:37\n",
      "159: dPaQn8CveE - 2013-08-20 11:55:31\n",
      "160: c9JHjzivVj - 2013-08-13 09:39:24\n",
      "161: c9H3jKCvUX - 2013-08-13 09:28:29\n",
      "162: c9FKjbCvRd - 2013-08-13 09:04:52\n",
      "163: YA57ovCvbf - 2013-04-12 14:06:42\n",
      "164: YA3yzSCvZT - 2013-04-12 13:48:01\n",
      "165: YA3xE-ivZO - 2013-04-12 13:47:47\n",
      "166: YA2EWxCvXW - 2013-04-12 13:32:56\n",
      "167: YAzq3divU3 - 2013-04-12 13:11:59\n",
      "168: YAzGFRivUF - 2013-04-12 13:06:57\n",
      "169: YAbdVaCvbD - 2013-04-12 09:40:25\n",
      "170: W4vS7givYA - 2013-03-15 13:28:26\n",
      "171: W4vHzmivXu - 2013-03-15 13:26:55\n",
      "172: W4vFM8CvXp - 2013-03-15 13:26:34\n",
      "173: W4vBnYivXl - 2013-03-15 13:26:04\n",
      "174: W4upukCvW3 - 2013-03-15 13:22:49\n",
      "175: UWtGeuivWI - 2013-01-11 14:12:18\n",
      "176: UWsc-ZivVp - 2013-01-11 14:06:38\n",
      "177: Tvw5uwCve8 - 2012-12-27 11:15:08\n",
      "178: TvuNgXivb2 - 2012-12-27 10:51:37\n",
      "179: TvtOC4Cva0 - 2012-12-27 10:42:57\n",
      "180: TYU77bCvUg - 2012-12-18 08:48:14\n",
      "181: TLmvkeivd0 - 2012-12-13 10:13:42\n",
      "182: S86_TnCvZX - 2012-12-07 17:22:00\n",
      "183: S868HeivZV - 2012-12-07 17:21:34\n",
      "184: S86rlwivZH - 2012-12-07 17:19:19\n",
      "185: S8532xivYP - 2012-12-07 17:12:15\n",
      "186: S5aOJgivQD - 2012-12-06 08:37:57\n",
      "187: S0qoB8CvVh - 2012-12-04 12:25:05\n",
      "188: SykpnaCvRI - 2012-12-03 16:54:24\n",
      "189: Sx1Z-ICvRd - 2012-12-03 10:01:34\n",
      "190: SrgpTaCvWx - 2012-11-30 23:04:43\n",
      "191: SrZTDaCvfZ - 2012-11-30 22:00:31\n",
      "192: SrZLhlCvfU - 2012-11-30 21:59:29\n",
      "193: SrTNvAivYY - 2012-11-30 21:07:21\n"
     ]
    },
    {
     "name": "stderr",
     "output_type": "stream",
     "text": [
      " 25%|██▍       | 30/121 [4:15:21<24:13:47, 958.54s/it]"
     ]
    },
    {
     "name": "stdout",
     "output_type": "stream",
     "text": [
      "uabophthalmology\n",
      "128\n",
      "0: CVc7nkVA6Ii - 2021-10-25 08:44:26\n",
      "1: CVZBlrktxhG - 2021-10-23 20:19:39\n",
      "2: CVTNtz1rhcO - 2021-10-21 14:10:10\n",
      "3: CVD9kemBnYQ - 2021-10-15 16:00:28\n",
      "4: CUyF7f6grCD - 2021-10-08 17:27:12\n",
      "5: CUu0q71A4Ur - 2021-10-07 10:58:40\n",
      "6: CUXfjgbAufr - 2021-09-28 09:31:37\n",
      "7: CUVsSbwrIQH - 2021-09-27 16:44:24\n",
      "8: CUOSOaHM38Z - 2021-09-24 19:41:58\n",
      "9: CUCvMJ_Lsxh - 2021-09-20 08:04:11\n",
      "10: CT4aZXULL6G - 2021-09-16 07:50:05\n",
      "11: CT0pPUItYTQ - 2021-09-14 20:42:49\n",
      "12: CTry6-Igy8r - 2021-09-11 10:14:16\n",
      "13: CTmtWiZLflx - 2021-09-09 10:49:23\n",
      "14: CTNBeM8Lu1N - 2021-08-30 11:24:57\n",
      "15: CTDgUxEMz8M - 2021-08-26 18:42:08\n",
      "16: CTCm6vfLC_7 - 2021-08-26 10:20:31\n",
      "17: CS7vQqsL8L6 - 2021-08-23 18:18:43\n",
      "18: CSo01snHuKs - 2021-08-16 10:01:54\n",
      "19: CSXnV2Hl67l - 2021-08-09 17:37:09\n",
      "20: CSFpveKrQgS - 2021-08-02 18:11:31\n",
      "21: CR98Xs5rT4t - 2021-07-30 18:20:22\n",
      "22: CRzKJuhhZiE - 2021-07-26 13:49:09\n",
      "23: CRgx7uZhWuR - 2021-07-19 10:31:11\n",
      "24: CRVIKYUhQi4 - 2021-07-14 21:54:33\n",
      "25: CRJqw0chZLt - 2021-07-10 11:06:00\n",
      "26: CRFbYcJhcAD - 2021-07-08 19:34:38\n",
      "27: CQ1EKH2hVqe - 2021-07-02 11:03:52\n",
      "28: CQvvvy5hcWz - 2021-06-30 09:29:18\n",
      "29: CQpLKL4BWho - 2021-06-27 20:14:09\n",
      "30: CQPWGJZhVB6 - 2021-06-17 19:29:28\n",
      "31: CQHnDnMBVtL - 2021-06-14 19:23:44\n",
      "32: CPl571ih5Gk - 2021-06-01 17:14:31\n",
      "33: CPIvniwBOlB - 2021-05-21 09:26:24\n",
      "34: COVWsyuhhp0 - 2021-05-01 10:27:24\n",
      "35: CNX-4BbBsoS - 2021-04-07 14:25:32\n",
      "36: CNTJ_IxhfC_ - 2021-04-05 17:26:26\n",
      "37: CNEGlhXBiXC - 2021-03-30 21:08:06\n",
      "38: CMvWOFNBDnE - 2021-03-22 19:40:40\n",
      "39: CMiHZ6kBQtE - 2021-03-17 16:21:05\n",
      "40: CMLp8xeBj0Y - 2021-03-08 22:00:24\n",
      "41: CL5L91IhOOJ - 2021-03-01 17:52:05\n",
      "42: CLzL0p1BU2q - 2021-02-27 09:55:23\n",
      "43: CLsahH_hRNX - 2021-02-24 18:49:06\n",
      "44: CLnVctrBZNC - 2021-02-22 19:28:36\n",
      "45: CLaQPBQB2Fk - 2021-02-17 17:32:55\n",
      "46: CLXx4WvBLlA - 2021-02-16 18:29:12\n",
      "47: CLNAiGfBc-d - 2021-02-12 14:05:35\n",
      "48: CLIp1SSBicW - 2021-02-10 21:30:16\n",
      "49: CK462NfB6kg - 2021-02-04 18:51:06\n",
      "50: CK2YcoAhy1N - 2021-02-03 19:12:01\n",
      "51: CKwOkHWBMnX - 2021-02-01 09:50:13\n",
      "52: CKuH3IgBznD - 2021-01-31 14:13:10\n",
      "53: CKesQRwB_pl - 2021-01-25 14:23:53\n",
      "54: CKXSkJqhTV2 - 2021-01-22 17:24:10\n",
      "55: CKSXVpbBwAG - 2021-01-20 19:29:40\n",
      "56: CKPzHiwhmhx - 2021-01-19 19:34:42\n",
      "an error has occured on uabophthalmology\n",
      "list index out of range\n",
      "uabophthalmology\n",
      "128\n",
      "0: CVc7nkVA6Ii - 2021-10-25 08:44:26\n",
      "1: CVZBlrktxhG - 2021-10-23 20:19:39\n",
      "2: CVTNtz1rhcO - 2021-10-21 14:10:10\n",
      "3: CVD9kemBnYQ - 2021-10-15 16:00:28\n",
      "4: CUyF7f6grCD - 2021-10-08 17:27:12\n",
      "5: CUu0q71A4Ur - 2021-10-07 10:58:40\n",
      "6: CUXfjgbAufr - 2021-09-28 09:31:37\n",
      "7: CUVsSbwrIQH - 2021-09-27 16:44:24\n",
      "8: CUOSOaHM38Z - 2021-09-24 19:41:58\n",
      "9: CUCvMJ_Lsxh - 2021-09-20 08:04:11\n",
      "10: CT4aZXULL6G - 2021-09-16 07:50:05\n",
      "11: CT0pPUItYTQ - 2021-09-14 20:42:49\n",
      "12: CTry6-Igy8r - 2021-09-11 10:14:16\n",
      "13: CTmtWiZLflx - 2021-09-09 10:49:23\n",
      "14: CTNBeM8Lu1N - 2021-08-30 11:24:57\n",
      "15: CTDgUxEMz8M - 2021-08-26 18:42:08\n",
      "16: CTCm6vfLC_7 - 2021-08-26 10:20:31\n",
      "17: CS7vQqsL8L6 - 2021-08-23 18:18:43\n",
      "18: CSo01snHuKs - 2021-08-16 10:01:54\n",
      "19: CSXnV2Hl67l - 2021-08-09 17:37:09\n",
      "20: CSFpveKrQgS - 2021-08-02 18:11:31\n",
      "21: CR98Xs5rT4t - 2021-07-30 18:20:22\n",
      "22: CRzKJuhhZiE - 2021-07-26 13:49:09\n",
      "23: CRgx7uZhWuR - 2021-07-19 10:31:11\n",
      "24: CRVIKYUhQi4 - 2021-07-14 21:54:33\n",
      "25: CRJqw0chZLt - 2021-07-10 11:06:00\n",
      "26: CRFbYcJhcAD - 2021-07-08 19:34:38\n",
      "27: CQ1EKH2hVqe - 2021-07-02 11:03:52\n",
      "28: CQvvvy5hcWz - 2021-06-30 09:29:18\n",
      "29: CQpLKL4BWho - 2021-06-27 20:14:09\n",
      "30: CQPWGJZhVB6 - 2021-06-17 19:29:28\n",
      "31: CQHnDnMBVtL - 2021-06-14 19:23:44\n",
      "32: CPl571ih5Gk - 2021-06-01 17:14:31\n",
      "33: CPIvniwBOlB - 2021-05-21 09:26:24\n",
      "34: COVWsyuhhp0 - 2021-05-01 10:27:24\n",
      "35: CNX-4BbBsoS - 2021-04-07 14:25:32\n",
      "36: CNTJ_IxhfC_ - 2021-04-05 17:26:26\n",
      "37: CNEGlhXBiXC - 2021-03-30 21:08:06\n",
      "38: CMvWOFNBDnE - 2021-03-22 19:40:40\n",
      "39: CMiHZ6kBQtE - 2021-03-17 16:21:05\n",
      "40: CMLp8xeBj0Y - 2021-03-08 22:00:24\n",
      "41: CL5L91IhOOJ - 2021-03-01 17:52:05\n",
      "42: CLzL0p1BU2q - 2021-02-27 09:55:23\n",
      "43: CLsahH_hRNX - 2021-02-24 18:49:06\n",
      "44: CLnVctrBZNC - 2021-02-22 19:28:36\n",
      "45: CLaQPBQB2Fk - 2021-02-17 17:32:55\n",
      "46: CLXx4WvBLlA - 2021-02-16 18:29:12\n",
      "47: CLNAiGfBc-d - 2021-02-12 14:05:35\n",
      "48: CLIp1SSBicW - 2021-02-10 21:30:16\n",
      "49: CK462NfB6kg - 2021-02-04 18:51:06\n",
      "50: CK2YcoAhy1N - 2021-02-03 19:12:01\n",
      "51: CKwOkHWBMnX - 2021-02-01 09:50:13\n",
      "52: CKuH3IgBznD - 2021-01-31 14:13:10\n",
      "53: CKesQRwB_pl - 2021-01-25 14:23:53\n",
      "54: CKXSkJqhTV2 - 2021-01-22 17:24:10\n",
      "55: CKSXVpbBwAG - 2021-01-20 19:29:40\n",
      "56: CKPzHiwhmhx - 2021-01-19 19:34:42\n",
      "57: CKMT_nnBC1o - 2021-01-18 11:05:00\n",
      "58: CKC8jBBh-Ko - 2021-01-14 19:46:58\n",
      "59: CJpHscThj16 - 2021-01-04 19:04:07\n",
      "60: CJgd3Z4Bojj - 2021-01-01 10:24:48\n",
      "61: CJaOdoOB36N - 2020-12-30 00:14:39\n",
      "62: CJOXyyRBpkH - 2020-12-25 09:45:18\n",
      "63: CJL0hZGBqBU - 2020-12-24 09:58:36\n",
      "64: CJJxRaUBHO9 - 2020-12-23 14:51:44\n",
      "65: CJEy__VBW3e - 2020-12-21 16:30:37\n",
      "66: CI6QkPLBGq7 - 2020-12-17 14:17:20\n",
      "67: CI4hYL4hF2x - 2020-12-16 22:05:45\n",
      "68: CI2CcjVhZjX - 2020-12-15 22:56:59\n",
      "69: CIrFo2kBXPQ - 2020-12-11 16:53:14\n",
      "70: CIos9s1B3hb - 2020-12-10 18:39:09\n",
      "71: CIYu0xkhi1h - 2020-12-04 13:47:33\n",
      "72: CIQ-MDDBFZv - 2020-12-01 13:27:53\n",
      "73: CIO2UQ-BN_r - 2020-11-30 17:40:37\n",
      "74: CID3qYKhpPO - 2020-11-26 11:21:56\n",
      "75: CICAnW4BCot - 2020-11-25 18:01:33\n",
      "76: CHyn-06hJmO - 2020-11-19 18:36:37\n",
      "77: CHtb4uxhKqJ - 2020-11-17 18:14:44\n",
      "78: CHk3CRoBNRW - 2020-11-14 10:18:48\n",
      "79: CHgIMYeBfRP - 2020-11-12 14:12:31\n",
      "80: CHdQI5hBTfo - 2020-11-11 11:24:14\n",
      "81: CHY4aCnBow7 - 2020-11-09 18:39:54\n",
      "82: CHTNXopBH97 - 2020-11-07 13:47:37\n",
      "83: CHP_8JwhLk3 - 2020-11-06 07:52:33\n",
      "84: CHNhOicBcPq - 2020-11-05 08:45:42\n",
      "85: CHLBkW7Bun4 - 2020-11-04 09:30:35\n",
      "86: CHJeVbnhKIj - 2020-11-03 19:03:28\n",
      "87: CHIZI8VhIAU - 2020-11-03 08:58:50\n",
      "88: CHG3l6ghONb - 2020-11-02 18:46:27\n",
      "89: CG-9PjQhsFP - 2020-10-30 18:01:54\n",
      "90: CG8RpTvhTcg - 2020-10-29 17:02:27\n",
      "91: CG7frtiBI8n - 2020-10-29 09:47:48\n",
      "92: CG5yh9DhUyb - 2020-10-28 17:52:05\n",
      "93: CGugu1gBvSV - 2020-10-24 08:44:55\n",
      "94: CGs-toFh1Af - 2020-10-23 18:28:25\n",
      "95: CGmvuZyBH_Z - 2020-10-21 08:24:21\n",
      "96: CGhuCK0BT5M - 2020-10-19 09:31:01\n",
      "97: CGZ3sLIBpzl - 2020-10-16 08:23:47\n",
      "98: CGV5bVVhtZk - 2020-10-14 19:19:41\n",
      "99: CGPmYDrhEvR - 2020-10-12 08:58:03\n",
      "100: CGFsLx_hRUP - 2020-10-08 12:16:07\n",
      "101: CGC6ApghyY9 - 2020-10-07 10:19:13\n",
      "102: CF0b1veBjUB - 2020-10-01 19:26:13\n",
      "103: CFsqU0eB6Bv - 2020-09-28 18:58:52\n",
      "104: CFku6ytBTlO - 2020-09-25 17:05:05\n",
      "105: CFfu4NKBlwh - 2020-09-23 18:28:31\n",
      "106: CFZn0NnhUJt - 2020-09-21 09:36:43\n",
      "107: CFSZhQzhkiO - 2020-09-18 14:11:46\n",
      "108: CFNK03NB5uJ - 2020-09-16 13:27:10\n",
      "109: CFFK5NehsOo - 2020-09-13 10:53:50\n",
      "110: CE_-RppBsNy - 2020-09-11 10:27:22\n",
      "111: CE7vRarBJal - 2020-09-09 18:59:18\n",
      "112: CE1edzmhy9X - 2020-09-07 08:37:00\n",
      "113: CEwcKxWBkXM - 2020-09-05 09:40:44\n",
      "114: CErKy1qhzCU - 2020-09-03 08:32:43\n",
      "115: CEkidayBN-d - 2020-08-31 18:44:49\n",
      "116: CEb4q6ZhytH - 2020-08-28 10:05:44\n",
      "117: CEX7ElCBkyV - 2020-08-26 21:09:45\n",
      "118: CESabpphbqX - 2020-08-24 17:48:21\n",
      "119: CEIX9wJhjCs - 2020-08-20 20:14:23\n",
      "120: CEChfztBZAY - 2020-08-18 13:42:14\n",
      "121: CD3yFFghfAZ - 2020-08-14 09:35:29\n",
      "122: CDzjlhEBula - 2020-08-12 18:11:53\n",
      "123: CDjHnpjMQAT - 2020-08-06 08:59:39\n",
      "124: CDb5usjMYYw - 2020-08-03 13:43:36\n",
      "125: CDUKV-_M3El - 2020-07-31 13:34:51\n",
      "126: CDR6bNqnkf8 - 2020-07-30 16:44:05\n"
     ]
    },
    {
     "name": "stderr",
     "output_type": "stream",
     "text": [
      " 26%|██▌       | 31/121 [4:52:13<33:22:03, 1334.71s/it]"
     ]
    },
    {
     "name": "stdout",
     "output_type": "stream",
     "text": [
      "127: CDMYTdvMGWg - 2020-07-28 13:02:55\n",
      "ohiostateeye_residents\n",
      "87\n",
      "0: CVA9c30APrG - 2021-10-14 12:01:43\n",
      "1: CUUy8WOgOZI - 2021-09-27 08:23:19\n",
      "2: CULqaryMLmi - 2021-09-23 19:15:39\n",
      "3: CUDpL3NLBoa - 2021-09-20 16:30:57\n",
      "4: CT2Se35L2Sn - 2021-09-15 12:02:27\n",
      "5: CTmtRyELNcI - 2021-09-09 10:48:45\n",
      "6: CTLMP3aLVce - 2021-08-29 18:20:38\n",
      "7: CS1rGsxrEAE - 2021-08-21 09:46:58\n",
      "8: CS0UrM2NVPP - 2021-08-20 21:11:44\n",
      "9: CSvSZHdtaBi - 2021-08-18 22:15:35\n",
      "10: CSfXMnFrEaL - 2021-08-12 17:49:43\n",
      "11: CSccCnhAolY - 2021-08-11 14:40:46\n",
      "12: CSR56BVrnEV - 2021-08-07 12:23:39\n",
      "13: CRPD2eUhUmL - 2021-07-12 13:21:26\n",
      "14: CRMCo9PhspY - 2021-07-11 09:13:07\n",
      "15: CRKVe8xh6e9 - 2021-07-10 17:19:18\n",
      "16: CRChXGZhb-Y - 2021-07-07 16:29:10\n",
      "17: CQvtCJQBpIR - 2021-06-30 09:05:35\n",
      "18: CQjQxihB_-d - 2021-06-25 13:07:46\n",
      "19: CQSLW8Uh4uJ - 2021-06-18 21:53:21\n",
      "20: CQQ8pKeB_ia - 2021-06-18 10:25:32\n",
      "21: CQMkckBBbm9 - 2021-06-16 17:37:08\n",
      "22: CQCE3esBENU - 2021-06-12 15:48:47\n",
      "23: CP8mMPzhA4O - 2021-06-10 12:44:32\n",
      "24: CPzDERShQwz - 2021-06-06 19:44:27\n",
      "25: CPvkDD4BUww - 2021-06-05 11:15:41\n",
      "26: CPgHEXZB7hU - 2021-05-30 11:13:50\n",
      "27: CPWgfqpBvfc - 2021-05-26 17:43:37\n",
      "28: CPS1Va3hL6n - 2021-05-25 07:28:45\n",
      "29: CPBE9XEhO65 - 2021-05-18 09:58:57\n",
      "30: CPArb4Ph14_ - 2021-05-18 06:15:56\n",
      "31: CPAqjCXBCTx - 2021-05-18 06:08:10\n",
      "32: COlBvd9h3Is - 2021-05-07 12:32:06\n",
      "33: COYm6UcBszo - 2021-05-02 16:46:46\n",
      "34: COJQ32FhsLo - 2021-04-26 17:45:35\n",
      "35: CN-HxDABGiN - 2021-04-22 09:54:22\n",
      "36: CNu4aqnBbe- - 2021-04-16 11:51:38\n",
      "37: CNnkor6BH84 - 2021-04-13 15:44:06\n",
      "38: CNil4yYhTfd - 2021-04-11 17:18:50\n",
      "39: CNSgEZKh6It - 2021-04-05 11:23:14\n",
      "40: CNIOpd_hT77 - 2021-04-01 11:35:31\n",
      "41: CM53QGIBe7n - 2021-03-26 21:41:42\n",
      "42: CMvU2TEBnGT - 2021-03-22 19:28:41\n",
      "43: CMkiZ0-BsP- - 2021-03-18 14:55:29\n",
      "44: CMfLAGLBaLE - 2021-03-16 12:54:47\n",
      "45: CMZ-Cq6B1UM - 2021-03-14 12:25:20\n",
      "46: CMYY7xnBVhK - 2021-03-13 20:41:51\n",
      "47: CMLqcXJBlov - 2021-03-08 22:04:43\n",
      "48: CMA-moDBmAt - 2021-03-04 18:29:14\n",
      "49: CLzvD0hhBYG - 2021-02-27 15:03:25\n",
      "50: CLvIo6rBdpM - 2021-02-25 20:10:36\n",
      "51: CLrk4MJh_FH - 2021-02-24 11:00:24\n",
      "52: CLfMo86BkxE - 2021-02-19 15:37:43\n",
      "53: CLXMN3phQzQ - 2021-02-16 13:00:05\n",
      "54: CLMpMoIh93B - 2021-02-12 10:41:41\n",
      "55: CLLJf8xBQJ_ - 2021-02-11 20:45:27\n",
      "56: CLE4ydvB5Io - 2021-02-09 10:24:00\n",
      "57: CK6x-h2Bymr - 2021-02-05 12:12:04\n",
      "58: CK1yZZJh0zz - 2021-02-03 13:39:32\n",
      "59: CKwfcqzhkV7 - 2021-02-01 12:17:45\n",
      "60: CKkajitBWAU - 2021-01-27 19:44:07\n",
      "61: CKfedbcBYDh - 2021-01-25 21:42:02\n",
      "62: CKSZ51HBcTO - 2021-01-20 19:52:05\n",
      "63: CKPwZ2PBcvB - 2021-01-19 19:10:59\n",
      "64: CKHgvdghJAo - 2021-01-16 14:20:12\n",
      "65: CJ8mF9QBHsx - 2021-01-12 08:35:19\n",
      "66: CJ4LqOuBCKY - 2021-01-10 15:27:22\n",
      "67: CJwyzKPhMxq - 2021-01-07 18:35:27\n",
      "68: CJpR7P9h8jz - 2021-01-04 20:33:31\n",
      "69: CJmVgQuhspy - 2021-01-03 17:07:04\n",
      "70: CJgl7MZBCGm - 2021-01-01 11:35:06\n",
      "71: CJZ98hBBDI3 - 2020-12-29 21:50:19\n",
      "72: CJPOwbfhb-w - 2020-12-25 17:45:34\n",
      "73: CJMLSZpBMPm - 2020-12-24 13:17:32\n",
      "74: CJHKyzZB86z - 2020-12-22 14:37:01\n",
      "75: CJAV2TvBD2u - 2020-12-19 22:58:56\n",
      "76: CI6pfcxhzV- - 2020-12-17 17:55:31\n",
      "77: CIy66TChdxA - 2020-12-14 17:53:25\n",
      "78: CItdAzShd8a - 2020-12-12 14:55:58\n",
      "79: CInjN57BHlj - 2020-12-10 07:54:44\n",
      "80: CIi5ClUB_jC - 2020-12-08 12:29:14\n",
      "81: CIaysPlnlVr - 2020-12-05 08:59:49\n",
      "82: CIQ6jalHmSN - 2020-12-01 12:56:07\n",
      "83: CIOSWVGHTHR - 2020-11-30 12:26:20\n",
      "84: CH_1arBhk6A - 2020-11-24 21:44:09\n",
      "85: CH_z-Lfha1D - 2020-11-24 21:31:31\n"
     ]
    },
    {
     "name": "stderr",
     "output_type": "stream",
     "text": [
      " 26%|██▋       | 32/121 [5:09:23<30:44:08, 1243.24s/it]"
     ]
    },
    {
     "name": "stdout",
     "output_type": "stream",
     "text": [
      "86: CH_xzRqBrFS - 2020-11-24 21:12:33\n",
      "ucdaviseyeresidency\n",
      "23\n",
      "0: CRDK3S8hoHx - 2021-07-07 22:31:49\n",
      "1: CP7PnmvBEFt - 2021-06-10 00:08:03\n",
      "2: COB8xY3h250 - 2021-04-23 21:35:16\n",
      "3: CGL0qGZBtkg - 2020-10-10 21:25:37\n",
      "4: CF271OfhKi4 - 2020-10-02 18:44:15\n",
      "5: CFSpEothjXl - 2020-09-18 16:27:40\n",
      "6: CCFXkusBFqW - 2020-06-30 23:10:27\n",
      "7: B-zuB87hGN- - 2020-04-10 13:06:10\n",
      "8: B8Zwam7h8GN - 2020-02-10 17:03:58\n",
      "9: B8QPuWYBXcX - 2020-02-07 00:25:09\n",
      "10: B8F77v4BRS4 - 2020-02-03 00:19:48\n",
      "11: B8B7eNKhGB8 - 2020-02-01 10:58:48\n",
      "12: B4-n9jhh1iN - 2019-11-17 14:36:25\n",
      "13: B4Df-0GBoY2 - 2019-10-25 16:31:30\n",
      "14: B3kOXfTBAAo - 2019-10-13 13:01:07\n",
      "15: B3in5jThIxx - 2019-10-12 22:05:45\n",
      "16: B3fAoPuBXxZ - 2019-10-11 12:24:52\n",
      "17: B1jpG4Rhf_L - 2019-08-24 14:32:45\n",
      "18: B1Xl8kVhpCy - 2019-08-19 22:14:15\n",
      "19: B07H0KaBsX8 - 2019-08-08 20:52:13\n",
      "20: B07G-Jph4F5 - 2019-08-08 20:44:51\n",
      "21: B07FgI6h9zS - 2019-08-08 20:32:01\n"
     ]
    },
    {
     "name": "stderr",
     "output_type": "stream",
     "text": [
      " 27%|██▋       | 33/121 [5:13:48<23:12:53, 949.70s/it] "
     ]
    },
    {
     "name": "stdout",
     "output_type": "stream",
     "text": [
      "22: B07FF1pBD74 - 2019-08-08 20:28:25\n",
      "pitt_ophthalmology\n",
      "34\n",
      "0: CVQfsXgAdn8 - 2021-10-20 12:49:32\n",
      "1: CSDJllQsncV - 2021-08-01 18:52:04\n",
      "2: CQbfw_NhPgY - 2021-06-22 12:44:50\n",
      "3: CPQ-l_BB7jQ - 2021-05-24 14:11:11\n",
      "4: CMTEnfhhamC - 2021-03-11 19:08:07\n",
      "5: CLwrcKCBcAb - 2021-02-26 10:33:56\n",
      "6: CLUF1zoBEgY - 2021-02-15 08:06:39\n",
      "7: CKxUl0cBBKv - 2021-02-01 20:02:07\n",
      "8: CJKYnrABgf_ - 2020-12-23 20:35:33\n",
      "9: CI-1srEBzhP - 2020-12-19 08:58:45\n",
      "10: CH0ptcFBhTU - 2020-11-20 13:34:21\n",
      "11: CHc2Y_AhVSM - 2020-11-11 07:39:14\n",
      "12: CHbuNYUhxzP - 2020-11-10 21:08:30\n",
      "13: CHBGy0IhKnH - 2020-10-31 14:03:50\n",
      "14: CG5HXNRBgxP - 2020-10-28 11:34:53\n",
      "15: CG2RUr8BwNe - 2020-10-27 09:04:12\n",
      "16: CGc8p45hc54 - 2020-10-17 13:02:35\n",
      "17: CGDI5q1hneG - 2020-10-07 12:29:20\n",
      "18: CFLFxTWBFGK - 2020-09-15 18:04:30\n",
      "19: CFLEtBpBuQZ - 2020-09-15 17:55:11\n",
      "20: CFHs4BRBv_W - 2020-09-14 10:29:15\n",
      "21: CEvYLauh5Tu - 2020-09-04 23:46:38\n",
      "22: CEjziQhBwK7 - 2020-08-31 11:54:47\n",
      "23: CEZkM-ZB8nm - 2020-08-27 12:28:24\n",
      "24: CEQBR7FnPJG - 2020-08-23 19:30:05\n",
      "25: CENPN0cHxiB - 2020-08-22 17:34:08\n",
      "26: CEMZqVzHgpV - 2020-08-22 09:46:10\n",
      "27: CEJh1Y9nr0a - 2020-08-21 06:59:52\n",
      "28: CEH01jqn4M0 - 2020-08-20 15:07:33\n",
      "29: CEE72JAnCo1 - 2020-08-19 12:10:57\n",
      "30: CEDWU-bHgCy - 2020-08-18 21:23:52\n",
      "31: CEBz-IznAkQ - 2020-08-18 07:04:25\n",
      "32: CD_JBX8HgFA - 2020-08-17 06:10:38\n"
     ]
    },
    {
     "name": "stderr",
     "output_type": "stream",
     "text": [
      " 28%|██▊       | 34/121 [5:20:21<18:54:43, 782.57s/it]"
     ]
    },
    {
     "name": "stdout",
     "output_type": "stream",
     "text": [
      "33: CD7iZREH-cs - 2020-08-15 20:35:23\n",
      "tuftsmedicalcenter\n"
     ]
    },
    {
     "name": "stderr",
     "output_type": "stream",
     "text": [
      " 29%|██▉       | 35/121 [5:21:16<13:28:59, 564.42s/it]"
     ]
    },
    {
     "name": "stdout",
     "output_type": "stream",
     "text": [
      "674\n",
      "Tufts with username tuftsmedicalcenter has 674 posts, more than 200\n",
      "uwmedicine\n"
     ]
    },
    {
     "name": "stderr",
     "output_type": "stream",
     "text": [
      " 30%|██▉       | 36/121 [5:22:19<9:46:23, 413.92s/it] "
     ]
    },
    {
     "name": "stdout",
     "output_type": "stream",
     "text": [
      "529\n",
      "University of Washington with username uwmedicine has 529 posts, more than 200\n",
      "wisconsin.eye\n"
     ]
    },
    {
     "name": "stderr",
     "output_type": "stream",
     "text": [
      " 31%|███       | 37/121 [5:23:04<7:04:33, 303.26s/it]"
     ]
    },
    {
     "name": "stdout",
     "output_type": "stream",
     "text": [
      "540\n",
      "University of Wisconsin with username wisconsin.eye has 540 posts, more than 200\n",
      "ghei.uci.health\n",
      "80\n",
      "0: CUycnSvJxjr - 2021-10-08 20:45:25\n",
      "1: CUp7pGnv9-d - 2021-10-05 13:23:23\n",
      "2: COOXbl7h5sn - 2021-04-28 17:19:06\n",
      "3: CONvAQyB8ZM - 2021-04-28 11:25:51\n",
      "4: COMF8W6Bh4n - 2021-04-27 20:07:48\n",
      "5: CKhuhdLht6h - 2021-01-26 18:40:52\n",
      "an error has occured on ghei.uci.health\n",
      "list index out of range\n",
      "ghei.uci.health\n",
      "80\n",
      "0: CUycnSvJxjr - 2021-10-08 20:45:25\n",
      "1: CUp7pGnv9-d - 2021-10-05 13:23:23\n",
      "2: COOXbl7h5sn - 2021-04-28 17:19:06\n",
      "3: CONvAQyB8ZM - 2021-04-28 11:25:51\n",
      "4: COMF8W6Bh4n - 2021-04-27 20:07:48\n",
      "5: CKhuhdLht6h - 2021-01-26 18:40:52\n",
      "6: CKC4cSyBiOO - 2021-01-14 19:11:05\n",
      "7: CJwgffThIHa - 2021-01-07 15:55:29\n",
      "8: CJrwCdVBRjm - 2021-01-05 19:35:08\n",
      "9: CHYKtcLnTvC - 2020-11-09 12:00:35\n",
      "10: CHYHC1_hZg5 - 2020-11-09 11:28:33\n",
      "11: CGqg_7qBcev - 2020-10-22 19:30:17\n",
      "12: CGDNeZAhJEr - 2020-10-07 13:09:18\n",
      "13: CE5JwB-hUWH - 2020-09-08 18:52:57\n",
      "14: CEIV2DTFQ8J - 2020-08-20 19:55:51\n",
      "15: CEAHL85lskW - 2020-08-17 15:13:51\n",
      "16: CDuHnf8liaY - 2020-08-10 15:31:17\n",
      "17: CDURLarligb - 2020-07-31 14:34:34\n",
      "18: CCrmlZ2lWVq - 2020-07-15 19:32:45\n",
      "19: CCd8ixHFaOt - 2020-07-10 12:15:16\n",
      "20: CCT7ToynoUZ - 2020-07-06 14:52:04\n",
      "21: CBlkk-7FIX- - 2020-06-18 14:48:23\n",
      "22: CBByXDdl741 - 2020-06-04 17:16:10\n",
      "23: CAbRhgaF-mV - 2020-05-20 18:18:05\n",
      "24: CAVy3MalE9N - 2020-05-18 15:13:58\n",
      "25: CAOZLM7l6Tq - 2020-05-15 18:14:49\n",
      "26: CAGk3PLFPVr - 2020-05-12 17:23:02\n",
      "27: CAD4f-uFE19 - 2020-05-11 16:16:54\n",
      "28: B_8PEsdFSOG - 2020-05-08 17:00:13\n",
      "29: B_3Y9cwlKmN - 2020-05-06 19:50:25\n",
      "30: B_eO00elZhY - 2020-04-27 01:20:50\n",
      "31: B_XqYkeF78t - 2020-04-24 12:06:58\n",
      "32: B_TOEQqliGR - 2020-04-22 18:42:34\n",
      "33: B-0jltslbIb - 2020-04-10 20:54:10\n",
      "34: B8t44pZFnm- - 2020-02-18 12:42:47\n",
      "35: B7Edsi7FXt- - 2020-01-08 14:04:57\n",
      "36: B5YrPcul4pL - 2019-11-27 17:25:20\n",
      "37: B5I_V_CFsKN - 2019-11-21 15:13:08\n",
      "38: B34zJ_pl7IX - 2019-10-21 12:47:24\n",
      "39: BzGqs_MFmA6 - 2019-06-24 15:25:56\n",
      "40: ByF3O4FF3pw - 2019-05-30 11:24:47\n",
      "41: BxNXGAxlH1K - 2019-05-08 12:46:29\n",
      "42: BwqKoSUlefG - 2019-04-24 20:44:09\n",
      "43: Bwp_CfPlz2Y - 2019-04-24 19:02:52\n",
      "44: Bwp25Cwlao4 - 2019-04-24 17:51:40\n",
      "45: BwphlfXlrnF - 2019-04-24 14:45:30\n",
      "46: BwphIR_lnax - 2019-04-24 14:41:31\n",
      "47: BwdCCf0FMMv - 2019-04-19 18:18:57\n",
      "48: BwInPvsFqkf - 2019-04-11 20:00:01\n",
      "49: BvkLzImlSfZ - 2019-03-28 16:27:32\n",
      "50: BvR9pT2FpvD - 2019-03-21 14:37:31\n",
      "51: BvAN_nVFPe0 - 2019-03-14 17:14:03\n",
      "52: BuEqEZJFh1c - 2019-02-19 13:04:56\n",
      "53: BtwlnttAmIB - 2019-02-11 18:01:16\n",
      "54: BtoWg84AkzE - 2019-02-08 13:15:20\n",
      "55: BtgZwkJlFtR - 2019-02-05 11:09:46\n",
      "56: BsgBvs-l_ds - 2019-01-11 11:08:32\n",
      "57: BsYVmH1FrzL - 2019-01-08 11:28:04\n",
      "58: BsI352gFsTX - 2019-01-02 11:20:00\n",
      "59: BrnYWg8luq5 - 2018-12-20 11:09:22\n",
      "60: BrQPEGglgCz - 2018-12-11 11:25:40\n",
      "61: BrEADzJFsnf - 2018-12-06 17:23:40\n",
      "62: BqsOxQiFWB5 - 2018-11-27 11:50:26\n",
      "63: BqdTNZUlCXO - 2018-11-21 16:40:38\n",
      "64: BqLPdGmFWdB - 2018-11-14 16:21:29\n",
      "65: BpkTOntF_sl - 2018-10-30 14:24:05\n",
      "66: BpXEcOQF8mn - 2018-10-25 11:04:45\n",
      "67: BpS7eBVlf4M - 2018-10-23 20:29:23\n",
      "68: BpH45FlHmOP - 2018-10-19 13:35:13\n",
      "69: BpDCMswlEcF - 2018-10-17 16:20:20\n",
      "70: Boe7D5cD_Si - 2018-10-03 15:45:18\n",
      "71: BoPKQllgTqT - 2018-09-27 12:50:16\n",
      "72: BntqNPrl-1L - 2018-09-14 12:35:15\n",
      "73: BnrjxQYhUND - 2018-09-13 17:00:31\n",
      "74: BnpGS2sgIHq - 2018-09-12 18:04:29\n",
      "75: BnbydDmATui - 2018-09-07 14:00:59\n",
      "76: BnY7uDLF-I1 - 2018-09-06 11:24:14\n",
      "77: BnT2_Ogla82 - 2018-09-04 12:06:41\n",
      "78: Bm1HOLHFmpu - 2018-08-23 13:32:04\n"
     ]
    },
    {
     "name": "stderr",
     "output_type": "stream",
     "text": [
      " 31%|███▏      | 38/121 [5:39:54<11:52:47, 515.27s/it]"
     ]
    },
    {
     "name": "stdout",
     "output_type": "stream",
     "text": [
      "79: Blbqe3KF9-N - 2018-07-19 19:48:32\n",
      "ufmedicine\n"
     ]
    },
    {
     "name": "stderr",
     "output_type": "stream",
     "text": [
      " 32%|███▏      | 39/121 [5:40:40<8:31:46, 374.47s/it] "
     ]
    },
    {
     "name": "stdout",
     "output_type": "stream",
     "text": [
      "623\n",
      "University of Florida with username ufmedicine has 623 posts, more than 200\n",
      "eyeonwake\n",
      "14\n",
      "0: CSKs7NwLVG4 - 2021-08-04 17:15:32\n",
      "1: CQ4cZ--hcJx - 2021-07-03 18:33:28\n",
      "2: CQmgwYAhDcq - 2021-06-26 19:25:08\n",
      "3: CQT9j9ph1qj - 2021-06-19 14:31:17\n",
      "4: CPV6blWB7L5 - 2021-05-26 12:11:01\n",
      "5: CEW5ac2hcv3 - 2020-08-26 11:36:01\n",
      "6: CEG-4mzBVVi - 2020-08-20 07:15:59\n",
      "7: CD4H13JBLYH - 2020-08-14 12:45:39\n",
      "8: CDurQRJB9g8 - 2020-08-10 20:42:41\n",
      "9: CDHj_xrnNw_ - 2020-07-26 16:08:53\n",
      "10: CC68NXMHDWN - 2020-07-21 18:30:19\n",
      "11: CCtjtGuHBTp - 2020-07-16 13:46:04\n",
      "12: CCtHqobn0Kp - 2020-07-16 09:41:04\n"
     ]
    },
    {
     "name": "stderr",
     "output_type": "stream",
     "text": [
      " 33%|███▎      | 40/121 [5:43:16<6:57:07, 308.98s/it]"
     ]
    },
    {
     "name": "stdout",
     "output_type": "stream",
     "text": [
      "13: CCcR0iCHhkK - 2020-07-09 20:42:43\n",
      "cornell.eye.residents\n",
      "34\n",
      "0: CVWTG3YA3UH - 2021-10-22 18:55:00\n",
      "1: CVBzRheNIUY - 2021-10-14 19:52:01\n",
      "2: CU_Rj8ENiC_ - 2021-10-13 20:18:58\n",
      "3: CU8sf--t8g0 - 2021-10-12 20:16:38\n",
      "4: CSX8jVftoho - 2021-08-09 20:42:13\n",
      "5: CP-1kFJh7VC - 2021-06-11 09:37:21\n",
      "6: CNsokichSTh - 2021-04-15 14:54:41\n",
      "7: CNqQ1mZhu93 - 2021-04-14 16:48:49\n",
      "8: CNLW57pBm4c - 2021-04-02 16:45:23\n",
      "9: CM5oDaPhnZe - 2021-03-26 19:28:54\n",
      "10: CL1yzivh5_J - 2021-02-28 10:14:30\n",
      "11: CLj0mQgBn__ - 2021-02-21 10:43:50\n",
      "12: CKwX9AUBXF_ - 2021-02-01 11:12:16\n",
      "13: CKwAp37hWRW - 2021-02-01 07:48:40\n",
      "14: CKFUCKYB-BA - 2021-01-15 17:50:40\n",
      "15: CI_SCrDB_rP - 2020-12-19 13:06:26\n",
      "16: CHLBTw0h1DO - 2020-11-04 09:28:19\n",
      "17: CHIsZ7fhk9a - 2020-11-03 11:47:10\n",
      "18: CG8hukQBkys - 2020-10-29 19:22:59\n",
      "19: CG0P00QBVA_ - 2020-10-26 14:12:38\n",
      "20: CGslx0aBU96 - 2020-10-23 14:52:17\n",
      "21: CGiyEKHB9EK - 2020-10-19 19:25:29\n",
      "22: CGfthhwBTLi - 2020-10-18 14:48:05\n",
      "23: CGdnVMgBZTd - 2020-10-17 19:15:29\n",
      "24: CFu9OULhZYZ - 2020-09-29 16:22:29\n",
      "25: CFnUkQ_h_yi - 2020-09-26 17:12:32\n",
      "26: CFii2fiBb93 - 2020-09-24 20:41:09\n",
      "27: CFicKXZhEgc - 2020-09-24 19:42:42\n",
      "28: CFeny9JlNE2 - 2020-09-23 08:07:24\n",
      "29: CFdSbFBnoqD - 2020-09-22 19:41:24\n",
      "30: CFX0BUUHJYc - 2020-09-20 16:39:32\n",
      "31: CFVaOp8HRMs - 2020-09-19 18:15:59\n",
      "32: CFR0P_tnbGI - 2020-09-18 08:46:06\n"
     ]
    },
    {
     "name": "stderr",
     "output_type": "stream",
     "text": [
      " 34%|███▍      | 41/121 [5:49:46<7:24:21, 333.27s/it]"
     ]
    },
    {
     "name": "stdout",
     "output_type": "stream",
     "text": [
      "33: CFNKr_Cl5Dm - 2020-09-16 13:25:57\n",
      "nuophthalmology\n",
      "66\n",
      "0: CUvYl-ELjw4 - 2021-10-07 16:12:33\n",
      "1: CUf2AX_rNM8 - 2021-10-01 15:21:43\n",
      "2: CTpl5Q7rPx6 - 2021-09-10 13:41:57\n",
      "3: CTirmhLNNSx - 2021-09-07 21:17:08\n",
      "4: CTGF5olMkqd - 2021-08-27 18:48:58\n",
      "5: CScph4tBWly - 2021-08-11 16:32:11\n",
      "6: CSNQE0Prcd0 - 2021-08-05 17:01:10\n",
      "7: CRWpU50hhe9 - 2021-07-15 12:03:35\n",
      "8: CRT4Zl5BC6R - 2021-07-14 10:17:34\n",
      "9: CRCkfN1BA-9 - 2021-07-07 16:56:29\n",
      "10: CQxHrzFhEOv - 2021-06-30 22:17:43\n",
      "11: CQvydgHhv30 - 2021-06-30 09:53:01\n",
      "12: CQuXRwJBlaU - 2021-06-29 20:36:14\n",
      "13: CQh2HlPBVHx - 2021-06-24 23:55:36\n",
      "14: CQehRm6hN_o - 2021-06-23 16:55:45\n",
      "15: CQHYkifh7AV - 2021-06-14 17:17:10\n",
      "16: COTU43fBiIw - 2021-04-30 15:33:05\n",
      "17: CNwNCM5BNgp - 2021-04-17 00:11:02\n",
      "18: CL6-EnCB7fO - 2021-03-02 10:29:09\n",
      "19: CLxPOluBcNI - 2021-02-26 15:46:39\n",
      "20: CLZyquoBWzT - 2021-02-17 13:14:34\n",
      "21: CKxAopFhaUu - 2021-02-01 17:07:45\n",
      "22: CKueJQzhDiO - 2021-01-31 17:27:53\n",
      "23: CI_InyehuGm - 2020-12-19 11:44:07\n",
      "24: CI6DgPNAY5d - 2020-12-17 12:23:11\n",
      "25: CIb3w4mh14s - 2020-12-05 19:03:23\n",
      "26: CIOW0DLBI9I - 2020-11-30 13:05:20\n",
      "27: CH0P1R-BQHH - 2020-11-20 09:44:05\n",
      "28: CHQy79sBVlc - 2020-11-06 15:18:10\n",
      "29: CHJ6w5kBlXx - 2020-11-03 23:11:53\n",
      "30: CG8NGXUhnDB - 2020-10-29 16:22:44\n",
      "31: CGBnKPjBWWq - 2020-10-06 22:15:16\n",
      "32: CFxK7gOBxfw - 2020-09-30 13:00:44\n",
      "33: CFsj2gTBaOY - 2020-09-28 18:02:18\n",
      "34: CFBNrIGBw2Z - 2020-09-11 22:01:10\n",
      "35: CE-kky7BjPK - 2020-09-10 21:23:33\n",
      "36: CEm7-DPBBIj - 2020-09-01 17:06:12\n",
      "37: CEZObpxhD6G - 2020-08-27 09:18:10\n",
      "38: CEX75QAhOkL - 2020-08-26 21:16:57\n",
      "39: CECv9hIBkhg - 2020-08-18 15:48:37\n",
      "40: CDxHcuZBmY0 - 2020-08-11 19:27:32\n",
      "41: CDkYOAyhCzJ - 2020-08-06 20:43:56\n",
      "42: CDcm_8CB5oG - 2020-08-03 20:19:10\n",
      "43: CDM2ny1BWrh - 2020-07-28 17:27:50\n",
      "44: CCpGILbhLbS - 2020-07-14 20:10:40\n",
      "45: CCeVEHRBRVj - 2020-07-10 15:49:32\n",
      "46: CCHVW6Vhm92 - 2020-07-01 17:29:34\n",
      "47: CCFFKWjBIXH - 2020-06-30 20:29:34\n",
      "48: CCEvVBYB5g8 - 2020-06-30 17:18:47\n",
      "49: CCEdemlBXZ9 - 2020-06-30 14:42:48\n",
      "50: CCBcxXOBYmR - 2020-06-29 10:38:54\n",
      "51: CB8yJjVBbJR - 2020-06-27 15:09:30\n",
      "52: CB8MZDCBdQG - 2020-06-27 09:39:34\n",
      "53: CB6hy-4hGab - 2020-06-26 18:08:08\n",
      "54: CB5_z3vhh06 - 2020-06-26 13:11:10\n",
      "55: CBy7eWzhgz0 - 2020-06-23 19:18:35\n",
      "56: CBtw0oEBa30 - 2020-06-21 19:09:18\n",
      "57: CBqE1O8Bwqd - 2020-06-20 08:47:11\n",
      "58: CBltsv5Hm1- - 2020-06-18 16:08:05\n",
      "59: CBlVTA0Hi47 - 2020-06-18 12:34:52\n",
      "60: CBikX6hnn2H - 2020-06-17 10:48:53\n",
      "61: CBhMmoiHis4 - 2020-06-16 22:01:56\n",
      "62: CBf7JBRj2i5 - 2020-06-16 10:10:06\n",
      "63: CBephSjjk5n - 2020-06-15 22:16:53\n",
      "64: CBW2WXJHs-x - 2020-06-12 21:35:04\n"
     ]
    },
    {
     "name": "stderr",
     "output_type": "stream",
     "text": [
      " 35%|███▍      | 42/121 [6:02:31<10:09:33, 462.96s/it]"
     ]
    },
    {
     "name": "stdout",
     "output_type": "stream",
     "text": [
      "65: CBWP_CBDE5Z - 2020-06-12 15:59:50\n",
      "unceye_residents\n",
      "62\n",
      "0: CVRNLEkNOtl - 2021-10-20 19:26:57\n",
      "1: CUz7eXYA9X0 - 2021-10-09 10:34:19\n",
      "2: CUbLjzltX4_ - 2021-09-29 19:53:51\n",
      "3: CT7Hoz0AAWs - 2021-09-17 09:03:53\n",
      "4: CTU47IhrsnV - 2021-09-02 12:44:11\n",
      "5: CTCdViErjDe - 2021-08-26 08:56:47\n",
      "6: CS72CMqthCn - 2021-08-23 19:17:55\n",
      "7: CSX1yUtN0kd - 2021-08-09 19:43:05\n",
      "8: CSUTNQCLaN9 - 2021-08-08 10:43:12\n",
      "9: CRjDONsB-Dw - 2021-07-20 07:40:45\n",
      "10: CRbroBdhFNd - 2021-07-17 10:59:52\n",
      "11: CRbZIfzBueI - 2021-07-17 08:18:17\n",
      "12: CRMI1ChBUB2 - 2021-07-11 10:07:12\n",
      "13: CRKmbMehnHB - 2021-07-10 19:47:20\n",
      "14: CQ_hJb0BH4i - 2021-07-06 12:29:35\n",
      "15: CQ9I_fBhnC0 - 2021-07-05 14:20:01\n",
      "16: CQW0DIyh5nO - 2021-06-20 17:05:53\n",
      "17: CQT4Ji5hPsn - 2021-06-19 13:43:59\n",
      "18: CQCRymXh480 - 2021-06-12 17:41:43\n",
      "19: CPyS8uEBmgR - 2021-06-06 12:43:59\n",
      "20: CPjba6wB9lq - 2021-05-31 18:09:24\n",
      "21: CPYlgfIBnIU - 2021-05-27 13:05:54\n",
      "22: CPYlNcSBw9d - 2021-05-27 13:03:18\n",
      "23: CPLzS2-BDo_ - 2021-05-22 13:56:15\n",
      "24: COqfDlcBgvO - 2021-05-09 15:24:28\n",
      "25: CM16_kShw-H - 2021-03-25 08:57:26\n",
      "26: CLxsdcPBVQ5 - 2021-02-26 20:02:05\n",
      "27: CLxb7Chhv8k - 2021-02-26 17:37:35\n",
      "28: CKtxEKcBLZo - 2021-01-31 10:53:58\n",
      "29: CKq8xsthiyv - 2021-01-30 08:38:35\n",
      "30: CKWmNcdBs3u - 2021-01-22 10:56:35\n",
      "31: CJllPmPhs6c - 2021-01-03 10:05:21\n",
      "32: CJOWl-5BIEm - 2020-12-25 09:34:49\n",
      "33: CJEFLlNhIjx - 2020-12-21 09:50:15\n",
      "34: CJEEnh8B_gw - 2020-12-21 09:45:20\n",
      "35: CHlFWmZB8dn - 2020-11-14 12:23:54\n",
      "36: CHTd4tEBEkC - 2020-11-07 16:11:57\n",
      "37: CHDV0cGhliI - 2020-11-01 09:53:37\n",
      "38: CHDIz6zhn9f - 2020-11-01 07:59:57\n",
      "39: CGujY3Bhj69 - 2020-10-24 09:08:08\n",
      "40: CFryv9eBQGj - 2020-09-28 10:53:14\n",
      "41: CFrsinBB4Ap - 2020-09-28 09:58:59\n",
      "42: CFUcWiBhu4y - 2020-09-19 09:15:00\n",
      "43: CFOES50BETC - 2020-09-16 21:49:20\n",
      "44: CFOCSoSBysk - 2020-09-16 21:31:50\n",
      "45: CELJszxBk0n - 2020-08-21 22:07:27\n",
      "46: CD4H-5JBJe0 - 2020-08-14 12:46:53\n",
      "47: CD2QI7ZhXHw - 2020-08-13 19:19:40\n",
      "48: CDpuvAqh562 - 2020-08-08 22:36:53\n",
      "49: CDDB7uRBd-9 - 2020-07-24 21:54:16\n",
      "50: CC8r_CaBqVg - 2020-07-22 10:47:02\n",
      "51: CCyTKlchRcJ - 2020-07-18 09:57:45\n",
      "52: CCwn6evBL3m - 2020-07-17 18:20:34\n",
      "53: CCwEteyBA2r - 2020-07-17 13:12:58\n",
      "54: CCpO63xB1rQ - 2020-07-14 21:27:29\n",
      "55: CCLvNzXlrxP - 2020-07-03 10:32:29\n",
      "56: CCLuXcnFONL - 2020-07-03 10:25:04\n",
      "57: CCCpyvCFJSl - 2020-06-29 21:51:56\n",
      "58: CCCo7BKFmsU - 2020-06-29 21:44:19\n",
      "59: CB6bm7KFzXg - 2020-06-26 17:14:04\n",
      "60: CB6a1pOFdPW - 2020-06-26 17:07:20\n"
     ]
    },
    {
     "name": "stderr",
     "output_type": "stream",
     "text": [
      " 36%|███▌      | 43/121 [6:14:36<11:43:53, 541.46s/it]"
     ]
    },
    {
     "name": "stdout",
     "output_type": "stream",
     "text": [
      "61: CB6GOdbFAPu - 2020-06-26 14:07:13\n",
      "rushophthalmology\n",
      "36\n",
      "0: CTeti1GrbSf - 2021-09-06 08:17:09\n",
      "1: CTDDbQqL-Ct - 2021-08-26 14:29:37\n",
      "2: CTAYtC7rH7K - 2021-08-25 13:37:49\n",
      "3: CRxbVBghHkG - 2021-07-25 21:40:45\n",
      "4: CQd5PxJBxyU - 2021-06-23 11:05:59\n",
      "5: CQd4wtuhOin - 2021-06-23 11:01:44\n",
      "6: CPHgmtlBJDu - 2021-05-20 21:55:58\n",
      "7: COi6ehSB_kb - 2021-05-06 16:50:09\n",
      "8: CNGuVrxhi2G - 2021-03-31 21:33:57\n",
      "9: CKcKjvJBm0M - 2021-01-24 14:50:24\n",
      "10: CKCK0edhUPV - 2021-01-14 12:32:26\n",
      "11: CJCbWRChu94 - 2020-12-20 18:25:28\n",
      "12: CJCOShxBwuy - 2020-12-20 16:31:22\n",
      "13: CI8dW26BzqL - 2020-12-18 10:47:35\n",
      "14: CIn2FIPhQ4o - 2020-12-10 10:39:34\n",
      "15: CHndGtsB3Cz - 2020-11-15 10:29:56\n",
      "16: CGIItUAhdJO - 2020-10-09 11:03:51\n",
      "17: CF8VmgbhHaO - 2020-10-04 21:05:38\n",
      "18: CFabGgsBOAv - 2020-09-21 16:59:31\n",
      "19: CE6sMBThbJz - 2020-09-09 09:13:07\n",
      "20: CEkc-TXhcz9 - 2020-08-31 17:56:53\n",
      "21: CEb03yiBqg8 - 2020-08-28 09:32:32\n",
      "22: CEXWxP3BqhW - 2020-08-26 15:52:32\n",
      "23: CEWu0GSBxJc - 2020-08-26 10:03:24\n",
      "24: CERoAYLh7SG - 2020-08-24 10:27:43\n",
      "25: CEMmhrmpqsz - 2020-08-22 11:44:31\n",
      "26: CEK4-KGJ-Fv - 2020-08-21 19:41:16\n",
      "27: CEJyyywpRqh - 2020-08-21 09:28:03\n",
      "28: CEFapQWJ9g8 - 2020-08-19 16:40:04\n",
      "29: CEDJzAzJQEY - 2020-08-18 19:34:23\n",
      "30: CEA9jk7JZ7Y - 2020-08-17 23:08:56\n",
      "31: CEAegazJjjB - 2020-08-17 18:37:37\n",
      "32: CD69-vEpWGV - 2020-08-15 15:17:12\n",
      "33: CD6z7owp1_Q - 2020-08-15 13:49:23\n",
      "34: CDxCs5xJHnZ - 2020-08-11 18:46:03\n"
     ]
    },
    {
     "name": "stderr",
     "output_type": "stream",
     "text": [
      " 36%|███▋      | 44/121 [6:21:46<10:52:06, 508.13s/it]"
     ]
    },
    {
     "name": "stdout",
     "output_type": "stream",
     "text": [
      "35: CDJbqxsnFfr - 2020-07-27 09:34:35\n",
      "umnmedschool\n"
     ]
    },
    {
     "name": "stderr",
     "output_type": "stream",
     "text": [
      " 37%|███▋      | 45/121 [6:22:39<7:50:41, 371.59s/it] "
     ]
    },
    {
     "name": "stdout",
     "output_type": "stream",
     "text": [
      "691\n",
      "University of Minnesota with username umnmedschool has 691 posts, more than 200\n",
      "uthealthhouston\n"
     ]
    },
    {
     "name": "stderr",
     "output_type": "stream",
     "text": [
      " 38%|███▊      | 46/121 [6:24:44<6:11:46, 297.42s/it]"
     ]
    },
    {
     "name": "stdout",
     "output_type": "stream",
     "text": [
      "1230\n",
      "UTHSC Houston with username uthealthhouston has 1230 posts, more than 200\n",
      "iuophthalmology\n",
      "12\n",
      "0: CU455_ggihb - 2021-10-11 08:56:49\n",
      "1: CU45GlzAKob - 2021-10-11 08:49:48\n",
      "2: CU0ubkEAlSI - 2021-10-09 17:59:35\n",
      "3: CUNzCtGLW04 - 2021-09-24 15:09:30\n",
      "4: CT9keRCrwit - 2021-09-18 07:54:20\n",
      "5: CT5cmbXLLPj - 2021-09-16 17:28:35\n",
      "6: CTXTXbeLB2T - 2021-09-03 11:13:43\n",
      "7: CTP1RQlFd3s - 2021-08-31 13:39:21\n",
      "8: CTI6mRKtU0N - 2021-08-28 21:07:55\n",
      "9: CS4HNPDrk1H - 2021-08-22 08:31:00\n",
      "10: CSmYGg_rREh - 2021-08-15 11:12:19\n"
     ]
    },
    {
     "name": "stderr",
     "output_type": "stream",
     "text": [
      " 39%|███▉      | 47/121 [6:27:12<5:11:42, 252.74s/it]"
     ]
    },
    {
     "name": "stdout",
     "output_type": "stream",
     "text": [
      "11: CSj6kaELtxC - 2021-08-14 12:15:46\n",
      "beaumonthealth\n",
      "84\n",
      "0: CVgzU13jomq - 2021-10-26 20:48:56\n",
      "1: CVTBTMKFBfe - 2021-10-21 12:21:40\n",
      "2: CU8A2wxP_u7 - 2021-10-12 13:55:16\n",
      "3: CUsPYvjluc8 - 2021-10-06 10:54:23\n",
      "4: CUoGkf5Ffp2 - 2021-10-04 20:20:23\n",
      "5: CUm9x6wLHL3 - 2021-10-04 09:44:20\n",
      "6: CUlIzeCvw6s - 2021-10-03 16:42:11\n",
      "7: CUh2kx3L1jj - 2021-10-02 10:05:10\n",
      "8: CUawr7KPBk_ - 2021-09-29 15:59:02\n",
      "9: CUSWzVvLfIg - 2021-09-26 09:38:56\n",
      "10: CUNc8JaAlJ9 - 2021-09-24 12:02:24\n",
      "11: CUJNFtMlyK9 - 2021-09-22 20:20:54\n",
      "12: CUFv3SQFZKV - 2021-09-21 12:07:48\n",
      "13: CUAxobUFlvd - 2021-09-19 13:47:02\n",
      "14: CT2hpLiP_ZH - 2021-09-15 14:14:56\n",
      "15: CTxUjBfvT0r - 2021-09-13 13:44:17\n",
      "16: CTpshuSPpOD - 2021-09-10 14:39:54\n",
      "17: CTntSh5jX8M - 2021-09-09 20:08:05\n",
      "18: CTlJldfD-re - 2021-09-08 20:17:37\n",
      "19: CTXen3vFyNV - 2021-09-03 12:52:05\n",
      "20: CTUt_qFr-6g - 2021-09-02 11:08:41\n",
      "21: CTS5nKrAnfp - 2021-09-01 18:16:53\n",
      "22: CTQmQWbj9D3 - 2021-08-31 20:44:05\n",
      "23: CTC7K2IFngN - 2021-08-26 13:17:28\n",
      "24: CSX7pItj0EZ - 2021-08-09 20:34:16\n",
      "25: CSPAsvxrwdt - 2021-08-06 09:25:17\n",
      "26: CSLAgP6jyN5 - 2021-08-04 20:06:37\n",
      "27: CSF2pTLjKYW - 2021-08-02 20:04:16\n",
      "28: CSEu979rqrs - 2021-08-02 09:37:56\n",
      "29: CR4nqC4D5-z - 2021-07-28 16:43:10\n",
      "30: CR1OohwDps0 - 2021-07-27 09:06:47\n",
      "31: CRW6CgpD288 - 2021-07-15 14:29:37\n",
      "32: CRO7AV2jhi5 - 2021-07-12 12:04:08\n",
      "33: CQfLUoBD-nu - 2021-06-23 23:03:10\n",
      "34: CQQ_TdjjnS6 - 2021-06-18 10:48:47\n",
      "35: CQOkqv5DVoD - 2021-06-17 12:17:33\n",
      "36: CQM4RekjBvq - 2021-06-16 20:30:23\n",
      "37: CQJKfmkjKNn - 2021-06-15 09:52:38\n",
      "38: CQHFX1BDVUA - 2021-06-14 14:29:24\n",
      "39: CP-wmq7DVH0 - 2021-06-11 08:54:00\n",
      "an error has occured on beaumonthealth\n",
      "list index out of range\n",
      "beaumonthealth\n"
     ]
    },
    {
     "name": "stderr",
     "output_type": "stream",
     "text": [
      " 40%|███▉      | 48/121 [6:37:46<7:26:44, 367.18s/it]"
     ]
    },
    {
     "name": "stdout",
     "output_type": "stream",
     "text": [
      "1459\n",
      "Beaumont Health (Royal Oak) with username beaumonthealth has 1459 posts, more than 200\n",
      "bumedicine\n"
     ]
    },
    {
     "name": "stderr",
     "output_type": "stream",
     "text": [
      " 40%|████      | 49/121 [6:38:16<5:19:07, 265.94s/it]"
     ]
    },
    {
     "name": "stdout",
     "output_type": "stream",
     "text": [
      "371\n",
      "Boston University with username bumedicine has 371 posts, more than 200\n",
      "monteophtho\n",
      "50\n",
      "0: CVbjZ1xNKuE - 2021-10-24 19:53:36\n",
      "1: CU_VVyHtKiV - 2021-10-13 20:51:59\n",
      "2: CUpOvjCLPgT - 2021-10-05 06:51:02\n",
      "3: CUOSRRfMWo6 - 2021-09-24 19:42:22\n",
      "4: CUJHYv3svcY - 2021-09-22 19:31:04\n",
      "5: CSffo4tM8dA - 2021-08-12 19:03:29\n",
      "6: CR7zRqhtEe3 - 2021-07-29 22:22:25\n",
      "7: CRcjjNMhOPB - 2021-07-17 19:08:33\n",
      "8: CQ09WhhB3mD - 2021-07-02 10:04:23\n",
      "9: CQuljNKhhQ4 - 2021-06-29 22:40:57\n",
      "10: CQrrGyjheYB - 2021-06-28 19:31:47\n",
      "11: CQTflQ9hMBz - 2021-06-19 10:09:19\n",
      "12: CQMJPCOBoW9 - 2021-06-16 13:39:21\n",
      "13: CPjHEmUBfe2 - 2021-05-31 15:11:36\n",
      "14: CPDzZhBBS5i - 2021-05-19 11:23:14\n",
      "15: COq0-GnhdLe - 2021-05-09 18:35:57\n",
      "16: CN_dq1PBexo - 2021-04-22 22:25:00\n",
      "17: CN6ODB2BmyJ - 2021-04-20 21:32:17\n",
      "18: CLsmmMTB12c - 2021-02-24 20:34:39\n",
      "19: CLnvwybB_1i - 2021-02-22 23:18:32\n",
      "20: CLbqOLOhm-b - 2021-02-18 06:39:14\n",
      "21: CLDDo_YhMvC - 2021-02-08 17:20:20\n",
      "22: CK61BEzhNlF - 2021-02-05 12:38:38\n",
      "23: CKz899QBUIG - 2021-02-02 20:33:26\n",
      "24: CKruPOzB1Gk - 2021-01-30 15:50:47\n",
      "25: CKXS_imBuKx - 2021-01-22 17:27:54\n",
      "26: CKAKVKDB8dy - 2021-01-13 17:49:41\n",
      "27: CJ9t0fnhQos - 2021-01-12 19:02:04\n",
      "28: CJpRGOaB4XT - 2021-01-04 20:26:17\n",
      "29: CJcu_lOB0ur - 2020-12-30 23:37:23\n",
      "30: CI85Kh-hlEq - 2020-12-18 14:50:34\n",
      "31: CIoHlSeB0Zd - 2020-12-10 13:12:30\n",
      "32: CHx399MhJA8 - 2020-11-19 11:37:04\n",
      "33: CHvBCicAnKI - 2020-11-18 08:58:37\n",
      "34: CHkVqV0BORM - 2020-11-14 05:27:10\n",
      "35: CHhAZbKBrJi - 2020-11-12 22:23:38\n",
      "36: CHe7kL7B0RP - 2020-11-12 03:02:56\n",
      "37: CHVebbLBgIq - 2020-11-08 10:55:10\n",
      "38: CGxurwQhkip - 2020-10-25 14:44:33\n",
      "39: CGsidQOBGEX - 2020-10-23 14:21:30\n",
      "40: CGp91PjhcLJ - 2020-10-22 14:23:00\n",
      "41: CGfbfreBX-N - 2020-10-18 12:10:33\n",
      "42: CGaU6nuj-pi - 2020-10-16 12:36:51\n",
      "43: CGYylH2je88 - 2020-10-15 22:22:55\n",
      "44: CGS9wlMDzIi - 2020-10-13 15:59:49\n",
      "45: CGRZPr8DkzF - 2020-10-13 01:21:31\n",
      "46: CGNQj7ijz0Z - 2020-10-11 10:48:41\n",
      "47: CGKs30xjIBr - 2020-10-10 10:58:20\n",
      "48: CGBUILspXO4 - 2020-10-06 19:28:57\n"
     ]
    },
    {
     "name": "stderr",
     "output_type": "stream",
     "text": [
      " 41%|████▏     | 50/121 [6:48:00<7:07:29, 361.26s/it]"
     ]
    },
    {
     "name": "stdout",
     "output_type": "stream",
     "text": [
      "49: CGBSAT2pBpk - 2020-10-06 19:10:24\n",
      "loyola_ophthalmology\n",
      "55\n",
      "0: CT7_B6zL3qZ - 2021-09-17 17:07:55\n",
      "1: CTw7VB9gYCu - 2021-09-13 10:03:55\n",
      "2: CTqCRPRLemq - 2021-09-10 17:49:53\n",
      "3: CRp1-_9Brmd - 2021-07-22 22:59:45\n",
      "4: CORieXpBhPo - 2021-04-29 22:53:19\n",
      "5: CL3RVLVBBUc - 2021-03-01 00:00:28\n",
      "6: CLNdr_XByi2 - 2021-02-12 18:20:21\n",
      "7: CLAYKAVhcZo - 2021-02-07 16:21:53\n",
      "8: CK9YLo7BWmS - 2021-02-06 12:24:23\n",
      "9: CKnG9cPhEvW - 2021-01-28 20:50:37\n",
      "10: CKSOTVahS61 - 2021-01-20 18:10:43\n",
      "11: CKKLbjpBNWH - 2021-01-17 15:11:42\n",
      "12: CKFkuYxh4iM - 2021-01-15 20:16:31\n",
      "13: CKAMrIUBada - 2021-01-13 18:10:09\n",
      "14: CJ1nAnzhDy1 - 2021-01-09 15:28:38\n",
      "15: CJrvM4sBj9y - 2021-01-05 19:27:49\n",
      "16: CI7LbLzheFl - 2020-12-17 22:51:39\n",
      "17: CI7EHIqhxAl - 2020-12-17 21:47:44\n",
      "18: CIowzhSBSoj - 2020-12-10 19:12:43\n",
      "19: CIj8m1_BhC9 - 2020-12-08 22:19:38\n",
      "20: CHt2dCdhozG - 2020-11-17 22:17:02\n",
      "21: CG6AJhDh-wX - 2020-10-28 19:51:05\n",
      "22: CGx4V7ShlZ1 - 2020-10-25 16:08:57\n",
      "23: CGtW6dahGi4 - 2020-10-23 21:59:53\n",
      "24: CGpxzJRBoB9 - 2020-10-22 12:37:51\n",
      "25: CGlNoPmhAzE - 2020-10-20 18:04:49\n",
      "26: CGdcDLwBb3x - 2020-10-17 17:36:55\n",
      "27: CF0WHUoh_GF - 2020-10-01 18:36:11\n",
      "28: CFyEUV7hj_H - 2020-09-30 21:22:12\n",
      "an error has occured on loyola_ophthalmology\n",
      "Expecting property name enclosed in double quotes: line 1 column 2 (char 1)\n",
      "loyola_ophthalmology\n",
      "55\n",
      "0: CT7_B6zL3qZ - 2021-09-17 17:07:55\n",
      "1: CTw7VB9gYCu - 2021-09-13 10:03:55\n",
      "2: CTqCRPRLemq - 2021-09-10 17:49:53\n",
      "3: CRp1-_9Brmd - 2021-07-22 22:59:45\n",
      "4: CORieXpBhPo - 2021-04-29 22:53:19\n",
      "5: CL3RVLVBBUc - 2021-03-01 00:00:28\n",
      "6: CLNdr_XByi2 - 2021-02-12 18:20:21\n",
      "7: CLAYKAVhcZo - 2021-02-07 16:21:53\n",
      "8: CK9YLo7BWmS - 2021-02-06 12:24:23\n",
      "9: CKnG9cPhEvW - 2021-01-28 20:50:37\n",
      "10: CKSOTVahS61 - 2021-01-20 18:10:43\n",
      "11: CKKLbjpBNWH - 2021-01-17 15:11:42\n",
      "12: CKFkuYxh4iM - 2021-01-15 20:16:31\n",
      "13: CKAMrIUBada - 2021-01-13 18:10:09\n",
      "14: CJ1nAnzhDy1 - 2021-01-09 15:28:38\n",
      "15: CJrvM4sBj9y - 2021-01-05 19:27:49\n",
      "16: CI7LbLzheFl - 2020-12-17 22:51:39\n",
      "17: CI7EHIqhxAl - 2020-12-17 21:47:44\n",
      "18: CIowzhSBSoj - 2020-12-10 19:12:43\n",
      "19: CIj8m1_BhC9 - 2020-12-08 22:19:38\n",
      "20: CHt2dCdhozG - 2020-11-17 22:17:02\n",
      "21: CG6AJhDh-wX - 2020-10-28 19:51:05\n",
      "22: CGx4V7ShlZ1 - 2020-10-25 16:08:57\n",
      "23: CGtW6dahGi4 - 2020-10-23 21:59:53\n",
      "24: CGpxzJRBoB9 - 2020-10-22 12:37:51\n",
      "25: CGlNoPmhAzE - 2020-10-20 18:04:49\n",
      "26: CGdcDLwBb3x - 2020-10-17 17:36:55\n",
      "27: CF0WHUoh_GF - 2020-10-01 18:36:11\n",
      "28: CFyEUV7hj_H - 2020-09-30 21:22:12\n",
      "29: CFx1-2BhwcJ - 2020-09-30 19:16:56\n",
      "30: CFvgJWwBi1k - 2020-09-29 21:27:39\n",
      "31: CFuzOPPBI_N - 2020-09-29 14:55:06\n",
      "32: CFkULtqhKL- - 2020-09-25 13:11:28\n",
      "33: CFiRCCUhmx4 - 2020-09-24 18:05:27\n",
      "34: CFhZ_MKBKGE - 2020-09-24 10:04:28\n",
      "35: CFdcySthy49 - 2020-09-22 21:11:57\n",
      "36: CFcvPU4hPH5 - 2020-09-22 14:33:58\n",
      "37: CFQG9XUBLmj - 2020-09-17 16:51:06\n",
      "38: CFMyeffBAYE - 2020-09-16 09:54:24\n",
      "39: CFLDjXGBOvO - 2020-09-15 17:45:08\n",
      "40: CFIFbSqBKTx - 2020-09-14 14:03:47\n",
      "41: CFBD1FYBCU9 - 2020-09-11 20:35:09\n",
      "42: CE-Q_UnB9Pz - 2020-09-10 18:32:25\n",
      "43: CEumqG-Bo2_ - 2020-09-04 16:33:55\n",
      "44: CEp0XRjh7nu - 2020-09-02 19:57:28\n",
      "45: CEjjNTiB_-e - 2020-08-31 09:32:07\n",
      "46: CEaR_D4BOQo - 2020-08-27 19:08:27\n",
      "47: CECWOzPhjG4 - 2020-08-18 12:03:59\n",
      "48: CCCrbpnB7v1 - 2020-06-29 22:06:15\n",
      "49: CADoOoXAPM0 - 2020-05-11 13:54:43\n",
      "50: B8hQUqqhJE6 - 2020-02-13 14:57:28\n",
      "51: B8hQNOKBJLT - 2020-02-13 14:56:27\n",
      "52: B8hP0tYhUqJ - 2020-02-13 14:53:06\n",
      "53: B8hPyobBhaJ - 2020-02-13 14:52:49\n"
     ]
    },
    {
     "name": "stderr",
     "output_type": "stream",
     "text": [
      " 42%|████▏     | 51/121 [7:04:45<10:46:46, 554.39s/it]"
     ]
    },
    {
     "name": "stdout",
     "output_type": "stream",
     "text": [
      "54: B8hPtUUB3oK - 2020-02-13 14:52:05\n",
      "kresgeresidents\n",
      "44\n",
      "0: CVQInBfgAo- - 2021-10-20 09:27:50\n",
      "1: CUVKgYgAUm0 - 2021-09-27 11:49:12\n",
      "2: CUKRqcQr2gF - 2021-09-23 06:20:06\n",
      "3: CUDmsjSL21x - 2021-09-20 16:09:12\n",
      "4: CT64oPMrQbk - 2021-09-17 06:52:44\n",
      "5: CT25V6LrC7o - 2021-09-15 17:42:01\n",
      "6: CTipC2QN8D8 - 2021-09-07 20:54:47\n",
      "7: CQ30TsSBOKa - 2021-07-03 12:43:05\n",
      "8: CQxBpTBBlNp - 2021-06-30 21:24:56\n",
      "9: CMTZpyQhUA1 - 2021-03-11 22:11:56\n",
      "10: CJzzIB8hiFu - 2021-01-08 22:36:02\n",
      "11: CI9oYDxhSE9 - 2020-12-18 21:43:06\n",
      "12: CHgBeZ3h3-E - 2020-11-12 13:13:49\n",
      "13: CHZNImTBqGM - 2020-11-09 21:41:01\n",
      "14: CHV55gNB1IN - 2020-11-08 14:55:12\n",
      "15: CG7hFJoBKQS - 2020-10-29 09:58:05\n",
      "16: CGjCTw7hWmK - 2020-10-19 21:47:26\n",
      "17: CGUkKTCBbP0 - 2020-10-14 06:54:37\n",
      "18: CGQ7Z1wh59i - 2020-10-12 21:00:46\n",
      "19: CGCt_TShcdN - 2020-10-07 08:34:10\n",
      "20: CF5Ih9JBBFG - 2020-10-03 15:13:41\n",
      "21: CFx5v6FB52O - 2020-09-30 19:49:50\n",
      "22: CFu_3dXhEZw - 2020-09-29 16:45:35\n",
      "23: CFkepShhSdH - 2020-09-25 14:42:53\n",
      "24: CFfpSnjhZfv - 2020-09-23 17:39:42\n",
      "25: CFdm1YQBnyF - 2020-09-22 22:39:45\n",
      "26: CFVaRSlBY7q - 2020-09-19 18:16:03\n",
      "27: CFQQZ8jhT-A - 2020-09-17 18:13:38\n",
      "28: CFOH9awBnhC - 2020-09-16 22:21:22\n",
      "29: CFLhHOVhrO1 - 2020-09-15 22:03:26\n",
      "30: CFD3K5yh8l9 - 2020-09-12 22:42:15\n",
      "31: CFBB3jyBZ81 - 2020-09-11 20:18:00\n",
      "32: CE7xAY4BmnI - 2020-09-09 19:14:28\n",
      "33: CE5JLkfh76Q - 2020-09-08 18:47:59\n",
      "34: CEswY5yhic3 - 2020-09-03 23:20:28\n",
      "35: CEpoZYzhPwI - 2020-09-02 18:12:54\n",
      "36: CEncR_vBFDy - 2020-09-01 21:48:33\n",
      "37: CEkpBD1h65a - 2020-08-31 19:42:07\n",
      "38: CEdGC41hduf - 2020-08-28 21:21:51\n",
      "39: CEIYHInBf2i - 2020-08-20 20:15:40\n",
      "40: CD_PUlWBqBp - 2020-08-17 07:05:41\n",
      "41: CDoCm3chwJQ - 2020-08-08 06:52:03\n",
      "42: CDL8EUcB8qT - 2020-07-28 08:56:11\n"
     ]
    },
    {
     "name": "stderr",
     "output_type": "stream",
     "text": [
      " 43%|████▎     | 52/121 [7:13:29<10:27:13, 545.41s/it]"
     ]
    },
    {
     "name": "stdout",
     "output_type": "stream",
     "text": [
      "43: CCzLbBJBKD_ - 2020-07-18 18:09:20\n",
      "stormeyeresidency\n",
      "53\n",
      "0: CTSF9jKLYu1 - 2021-09-01 10:40:23\n",
      "1: CSbsakajZbY - 2021-08-11 07:42:06\n",
      "2: CSKKEGdLmDO - 2021-08-04 12:10:55\n",
      "3: CRo4YLDho54 - 2021-07-22 14:01:26\n",
      "4: CRX3d2jBDXj - 2021-07-15 23:26:23\n",
      "5: CRFxihphpol - 2021-07-08 22:48:15\n",
      "6: CQzQvmABGxx - 2021-07-01 18:15:21\n",
      "7: CQd_OeZBS_U - 2021-06-23 11:58:14\n",
      "8: CPrHjMDBZuI - 2021-06-03 17:49:42\n",
      "9: COLB8PRh3zG - 2021-04-27 10:13:36\n",
      "10: CNvjs4PhfTh - 2021-04-16 18:09:52\n",
      "11: CMN06AvBICb - 2021-03-09 18:14:38\n",
      "12: CLwPfeJh5C1 - 2021-02-26 06:29:43\n",
      "13: CLEn5Z7hdpR - 2021-02-09 07:56:24\n",
      "14: CKwWeBeBbjV - 2021-02-01 10:59:18\n",
      "15: CKuHAXABD-M - 2021-01-31 14:05:41\n",
      "16: CJbkzifBIti - 2020-12-30 12:49:07\n",
      "17: CJZn6blBcPK - 2020-12-29 18:37:48\n",
      "18: CHax7SMhvV4 - 2020-11-10 12:21:45\n",
      "19: CGYXoK0hkTt - 2020-10-15 18:22:04\n",
      "20: CGAXy3QBRlz - 2020-10-06 10:41:45\n",
      "21: CFzoO75hQTE - 2020-10-01 11:55:16\n",
      "22: CFuZuG3BBkx - 2020-09-29 11:12:15\n",
      "23: CFhVNDLhWSs - 2020-09-24 09:22:40\n",
      "24: CFPVfkghZjQ - 2020-09-17 09:38:52\n",
      "25: CFHuBmnh_SG - 2020-09-14 10:39:18\n",
      "26: CFAhwtDBuUr - 2020-09-11 15:37:27\n",
      "27: CEw5s1fBbK6 - 2020-09-05 13:58:47\n",
      "28: CEuTHkLhfJg - 2020-09-04 13:43:10\n",
      "29: CErTawjhUOC - 2020-09-03 09:48:04\n",
      "30: CEj4Mkbhtsd - 2020-08-31 12:35:31\n",
      "an error has occured on stormeyeresidency\n",
      "Invalid value NaN (not a number)\n",
      "stormeyeresidency\n",
      "an error has occured on stormeyeresidency\n",
      "Cannot assign nan to integer series\n",
      "stormeyeresidency\n"
     ]
    },
    {
     "name": "stderr",
     "output_type": "stream",
     "text": [
      " 44%|████▍     | 53/121 [7:19:44<9:19:56, 494.06s/it] "
     ]
    },
    {
     "name": "stdout",
     "output_type": "stream",
     "text": [
      "an error has occured on stormeyeresidency\n",
      "Cannot assign nan to integer series\n",
      "all attempts failed\n",
      "yaleeyeresidents\n",
      "an error has occured on yaleeyeresidents\n",
      "Cannot assign nan to integer series\n",
      "yaleeyeresidents\n",
      "an error has occured on yaleeyeresidents\n",
      "Cannot assign nan to integer series\n",
      "yaleeyeresidents\n"
     ]
    },
    {
     "name": "stderr",
     "output_type": "stream",
     "text": [
      " 45%|████▍     | 54/121 [7:19:45<6:26:49, 346.41s/it]"
     ]
    },
    {
     "name": "stdout",
     "output_type": "stream",
     "text": [
      "an error has occured on yaleeyeresidents\n",
      "Cannot assign nan to integer series\n",
      "all attempts failed\n",
      "umdeye\n",
      "an error has occured on umdeye\n",
      "Cannot assign nan to integer series\n",
      "umdeye\n",
      "an error has occured on umdeye\n",
      "Cannot assign nan to integer series\n",
      "umdeye\n"
     ]
    },
    {
     "name": "stderr",
     "output_type": "stream",
     "text": [
      " 45%|████▌     | 55/121 [7:19:48<4:27:27, 243.14s/it]"
     ]
    },
    {
     "name": "stdout",
     "output_type": "stream",
     "text": [
      "an error has occured on umdeye\n",
      "Cannot assign nan to integer series\n",
      "all attempts failed\n",
      "ukophthalmology\n",
      "an error has occured on ukophthalmology\n",
      "Cannot assign nan to integer series\n",
      "ukophthalmology\n",
      "an error has occured on ukophthalmology\n",
      "Cannot assign nan to integer series\n",
      "ukophthalmology\n"
     ]
    },
    {
     "name": "stderr",
     "output_type": "stream",
     "text": [
      " 46%|████▋     | 56/121 [7:19:50<3:04:58, 170.75s/it]"
     ]
    },
    {
     "name": "stdout",
     "output_type": "stream",
     "text": [
      "an error has occured on ukophthalmology\n",
      "Cannot assign nan to integer series\n",
      "all attempts failed\n",
      "georgetownophtho\n",
      "an error has occured on georgetownophtho\n",
      "Cannot assign nan to integer series\n",
      "georgetownophtho\n",
      "an error has occured on georgetownophtho\n",
      "Cannot assign nan to integer series\n",
      "georgetownophtho\n"
     ]
    },
    {
     "name": "stderr",
     "output_type": "stream",
     "text": [
      " 47%|████▋     | 57/121 [7:19:52<2:08:13, 120.22s/it]"
     ]
    },
    {
     "name": "stdout",
     "output_type": "stream",
     "text": [
      "an error has occured on georgetownophtho\n",
      "Cannot assign nan to integer series\n",
      "all attempts failed\n",
      "waynemedicine\n",
      "an error has occured on waynemedicine\n",
      "Cannot assign nan to integer series\n",
      "waynemedicine\n",
      "an error has occured on waynemedicine\n",
      "Cannot assign nan to integer series\n",
      "waynemedicine\n"
     ]
    },
    {
     "name": "stderr",
     "output_type": "stream",
     "text": [
      " 48%|████▊     | 58/121 [7:19:54<1:29:01, 84.78s/it] "
     ]
    },
    {
     "name": "stdout",
     "output_type": "stream",
     "text": [
      "an error has occured on waynemedicine\n",
      "Cannot assign nan to integer series\n",
      "all attempts failed\n",
      "suny.downstate.ophtho\n",
      "an error has occured on suny.downstate.ophtho\n",
      "Cannot assign nan to integer series\n",
      "suny.downstate.ophtho\n",
      "an error has occured on suny.downstate.ophtho\n",
      "Cannot assign nan to integer series\n",
      "suny.downstate.ophtho\n"
     ]
    },
    {
     "name": "stderr",
     "output_type": "stream",
     "text": [
      " 49%|████▉     | 59/121 [7:20:00<1:03:10, 61.14s/it]"
     ]
    },
    {
     "name": "stdout",
     "output_type": "stream",
     "text": [
      "an error has occured on suny.downstate.ophtho\n",
      "Cannot assign nan to integer series\n",
      "all attempts failed\n",
      "tulane_ophtho\n",
      "an error has occured on tulane_ophtho\n",
      "Cannot assign nan to integer series\n",
      "tulane_ophtho\n",
      "an error has occured on tulane_ophtho\n",
      "Cannot assign nan to integer series\n",
      "tulane_ophtho\n"
     ]
    },
    {
     "name": "stderr",
     "output_type": "stream",
     "text": [
      " 50%|████▉     | 60/121 [7:20:02<44:05, 43.37s/it]  "
     ]
    },
    {
     "name": "stdout",
     "output_type": "stream",
     "text": [
      "an error has occured on tulane_ophtho\n",
      "Cannot assign nan to integer series\n",
      "all attempts failed\n",
      "cwru_med\n",
      "an error has occured on cwru_med\n",
      "Cannot assign nan to integer series\n",
      "cwru_med\n",
      "an error has occured on cwru_med\n",
      "Cannot assign nan to integer series\n",
      "cwru_med\n"
     ]
    },
    {
     "name": "stderr",
     "output_type": "stream",
     "text": [
      " 50%|█████     | 61/121 [7:20:04<30:55, 30.92s/it]"
     ]
    },
    {
     "name": "stdout",
     "output_type": "stream",
     "text": [
      "an error has occured on cwru_med\n",
      "Cannot assign nan to integer series\n",
      "all attempts failed\n",
      "rwjms\n",
      "an error has occured on rwjms\n",
      "Cannot assign nan to integer series\n",
      "rwjms\n",
      "an error has occured on rwjms\n",
      "Cannot assign nan to integer series\n",
      "rwjms\n"
     ]
    },
    {
     "name": "stderr",
     "output_type": "stream",
     "text": [
      " 51%|█████     | 62/121 [7:20:06<21:58, 22.35s/it]"
     ]
    },
    {
     "name": "stdout",
     "output_type": "stream",
     "text": [
      "an error has occured on rwjms\n",
      "Cannot assign nan to integer series\n",
      "all attempts failed\n",
      "uthealthsa\n",
      "an error has occured on uthealthsa\n",
      "Cannot assign nan to integer series\n",
      "uthealthsa\n",
      "an error has occured on uthealthsa\n",
      "Cannot assign nan to integer series\n",
      "uthealthsa\n"
     ]
    },
    {
     "name": "stderr",
     "output_type": "stream",
     "text": [
      " 52%|█████▏    | 63/121 [7:20:08<15:43, 16.27s/it]"
     ]
    },
    {
     "name": "stdout",
     "output_type": "stream",
     "text": [
      "an error has occured on uthealthsa\n",
      "Cannot assign nan to integer series\n",
      "all attempts failed\n",
      "llumedschool\n",
      "an error has occured on llumedschool\n",
      "Cannot assign nan to integer series\n",
      "llumedschool\n",
      "an error has occured on llumedschool\n",
      "Cannot assign nan to integer series\n",
      "llumedschool\n"
     ]
    },
    {
     "name": "stderr",
     "output_type": "stream",
     "text": [
      " 53%|█████▎    | 64/121 [7:20:10<11:22, 11.98s/it]"
     ]
    },
    {
     "name": "stdout",
     "output_type": "stream",
     "text": [
      "an error has occured on llumedschool\n",
      "Cannot assign nan to integer series\n",
      "all attempts failed\n",
      "iamunmc\n",
      "an error has occured on iamunmc\n",
      "Cannot assign nan to integer series\n",
      "iamunmc\n",
      "an error has occured on iamunmc\n",
      "Cannot assign nan to integer series\n",
      "iamunmc\n"
     ]
    },
    {
     "name": "stderr",
     "output_type": "stream",
     "text": [
      " 54%|█████▎    | 65/121 [7:20:12<08:20,  8.93s/it]"
     ]
    },
    {
     "name": "stdout",
     "output_type": "stream",
     "text": [
      "an error has occured on iamunmc\n",
      "Cannot assign nan to integer series\n",
      "all attempts failed\n",
      "wvueyeinstitute\n",
      "an error has occured on wvueyeinstitute\n",
      "Cannot assign nan to integer series\n",
      "wvueyeinstitute\n",
      "an error has occured on wvueyeinstitute\n",
      "Cannot assign nan to integer series\n",
      "wvueyeinstitute\n"
     ]
    },
    {
     "name": "stderr",
     "output_type": "stream",
     "text": [
      " 55%|█████▍    | 66/121 [7:20:20<07:49,  8.54s/it]"
     ]
    },
    {
     "name": "stdout",
     "output_type": "stream",
     "text": [
      "an error has occured on wvueyeinstitute\n",
      "Cannot assign nan to integer series\n",
      "all attempts failed\n",
      "uchicagoophtho\n",
      "an error has occured on uchicagoophtho\n",
      "Cannot assign nan to integer series\n",
      "uchicagoophtho\n",
      "an error has occured on uchicagoophtho\n",
      "Cannot assign nan to integer series\n",
      "uchicagoophtho\n"
     ]
    },
    {
     "name": "stderr",
     "output_type": "stream",
     "text": [
      " 55%|█████▌    | 67/121 [7:20:21<05:52,  6.53s/it]"
     ]
    },
    {
     "name": "stdout",
     "output_type": "stream",
     "text": [
      "an error has occured on uchicagoophtho\n",
      "Cannot assign nan to integer series\n",
      "all attempts failed\n",
      "urmc_ophthalmology_residency\n",
      "an error has occured on urmc_ophthalmology_residency\n",
      "Cannot assign nan to integer series\n",
      "urmc_ophthalmology_residency\n",
      "an error has occured on urmc_ophthalmology_residency\n",
      "Cannot assign nan to integer series\n",
      "urmc_ophthalmology_residency\n"
     ]
    },
    {
     "name": "stderr",
     "output_type": "stream",
     "text": [
      " 56%|█████▌    | 68/121 [7:20:24<04:39,  5.27s/it]"
     ]
    },
    {
     "name": "stdout",
     "output_type": "stream",
     "text": [
      "an error has occured on urmc_ophthalmology_residency\n",
      "Cannot assign nan to integer series\n",
      "all attempts failed\n",
      "medicalcollegeofwi\n",
      "an error has occured on medicalcollegeofwi\n",
      "Cannot assign nan to integer series\n",
      "medicalcollegeofwi\n",
      "an error has occured on medicalcollegeofwi\n",
      "Cannot assign nan to integer series\n",
      "medicalcollegeofwi\n"
     ]
    },
    {
     "name": "stderr",
     "output_type": "stream",
     "text": [
      " 57%|█████▋    | 69/121 [7:20:31<05:05,  5.88s/it]"
     ]
    },
    {
     "name": "stdout",
     "output_type": "stream",
     "text": [
      "an error has occured on medicalcollegeofwi\n",
      "Cannot assign nan to integer series\n",
      "all attempts failed\n",
      "utmemphisophtho\n",
      "an error has occured on utmemphisophtho\n",
      "Cannot assign nan to integer series\n",
      "utmemphisophtho\n",
      "an error has occured on utmemphisophtho\n",
      "Cannot assign nan to integer series\n",
      "utmemphisophtho\n"
     ]
    },
    {
     "name": "stderr",
     "output_type": "stream",
     "text": [
      " 58%|█████▊    | 70/121 [7:20:33<04:00,  4.72s/it]"
     ]
    },
    {
     "name": "stdout",
     "output_type": "stream",
     "text": [
      "an error has occured on utmemphisophtho\n",
      "Cannot assign nan to integer series\n",
      "all attempts failed\n",
      "uva_ophthalmology\n",
      "an error has occured on uva_ophthalmology\n",
      "Cannot assign nan to integer series\n",
      "uva_ophthalmology\n",
      "an error has occured on uva_ophthalmology\n",
      "Cannot assign nan to integer series\n",
      "uva_ophthalmology\n"
     ]
    },
    {
     "name": "stderr",
     "output_type": "stream",
     "text": [
      " 59%|█████▊    | 71/121 [7:20:35<03:18,  3.97s/it]"
     ]
    },
    {
     "name": "stdout",
     "output_type": "stream",
     "text": [
      "an error has occured on uva_ophthalmology\n",
      "Cannot assign nan to integer series\n",
      "all attempts failed\n",
      "lsu_health_sciences_center\n",
      "an error has occured on lsu_health_sciences_center\n",
      "Cannot assign nan to integer series\n",
      "lsu_health_sciences_center\n",
      "an error has occured on lsu_health_sciences_center\n",
      "Cannot assign nan to integer series\n",
      "lsu_health_sciences_center\n"
     ]
    },
    {
     "name": "stderr",
     "output_type": "stream",
     "text": [
      " 60%|█████▉    | 72/121 [7:20:38<02:54,  3.55s/it]"
     ]
    },
    {
     "name": "stdout",
     "output_type": "stream",
     "text": [
      "an error has occured on lsu_health_sciences_center\n",
      "Cannot assign nan to integer series\n",
      "all attempts failed\n",
      "templemedschool\n",
      "an error has occured on templemedschool\n",
      "Cannot assign nan to integer series\n",
      "templemedschool\n",
      "an error has occured on templemedschool\n",
      "Cannot assign nan to integer series\n",
      "templemedschool\n"
     ]
    },
    {
     "name": "stderr",
     "output_type": "stream",
     "text": [
      " 60%|██████    | 73/121 [7:20:45<03:38,  4.56s/it]"
     ]
    },
    {
     "name": "stdout",
     "output_type": "stream",
     "text": [
      "an error has occured on templemedschool\n",
      "Cannot assign nan to integer series\n",
      "all attempts failed\n",
      "ttuhscmed\n",
      "an error has occured on ttuhscmed\n",
      "Cannot assign nan to integer series\n",
      "ttuhscmed\n",
      "an error has occured on ttuhscmed\n",
      "Cannot assign nan to integer series\n",
      "ttuhscmed\n"
     ]
    },
    {
     "name": "stderr",
     "output_type": "stream",
     "text": [
      " 61%|██████    | 74/121 [7:20:47<02:56,  3.76s/it]"
     ]
    },
    {
     "name": "stdout",
     "output_type": "stream",
     "text": [
      "an error has occured on ttuhscmed\n",
      "Cannot assign nan to integer series\n",
      "all attempts failed\n",
      "louisville_eye\n",
      "an error has occured on louisville_eye\n",
      "Cannot assign nan to integer series\n",
      "louisville_eye\n",
      "an error has occured on louisville_eye\n",
      "Cannot assign nan to integer series\n",
      "louisville_eye\n"
     ]
    },
    {
     "name": "stderr",
     "output_type": "stream",
     "text": [
      " 62%|██████▏   | 75/121 [7:20:49<02:29,  3.24s/it]"
     ]
    },
    {
     "name": "stdout",
     "output_type": "stream",
     "text": [
      "an error has occured on louisville_eye\n",
      "Cannot assign nan to integer series\n",
      "all attempts failed\n",
      "umkc.ophtho\n",
      "an error has occured on umkc.ophtho\n",
      "Cannot assign nan to integer series\n",
      "umkc.ophtho\n",
      "an error has occured on umkc.ophtho\n",
      "Cannot assign nan to integer series\n",
      "umkc.ophtho\n"
     ]
    },
    {
     "name": "stderr",
     "output_type": "stream",
     "text": [
      " 63%|██████▎   | 76/121 [7:20:51<02:10,  2.89s/it]"
     ]
    },
    {
     "name": "stdout",
     "output_type": "stream",
     "text": [
      "an error has occured on umkc.ophtho\n",
      "Cannot assign nan to integer series\n",
      "all attempts failed\n",
      "lsuophthalmology\n",
      "an error has occured on lsuophthalmology\n",
      "Cannot assign nan to integer series\n",
      "lsuophthalmology\n",
      "an error has occured on lsuophthalmology\n",
      "Cannot assign nan to integer series\n",
      "lsuophthalmology\n"
     ]
    },
    {
     "name": "stderr",
     "output_type": "stream",
     "text": [
      " 64%|██████▎   | 77/121 [7:20:53<01:57,  2.66s/it]"
     ]
    },
    {
     "name": "stdout",
     "output_type": "stream",
     "text": [
      "an error has occured on lsuophthalmology\n",
      "Cannot assign nan to integer series\n",
      "all attempts failed\n",
      "mizzouophthalmology\n",
      "an error has occured on mizzouophthalmology\n",
      "Cannot assign nan to integer series\n",
      "mizzouophthalmology\n",
      "an error has occured on mizzouophthalmology\n",
      "Cannot assign nan to integer series\n",
      "mizzouophthalmology\n"
     ]
    },
    {
     "name": "stderr",
     "output_type": "stream",
     "text": [
      " 64%|██████▍   | 78/121 [7:20:55<01:50,  2.58s/it]"
     ]
    },
    {
     "name": "stdout",
     "output_type": "stream",
     "text": [
      "an error has occured on mizzouophthalmology\n",
      "Cannot assign nan to integer series\n",
      "all attempts failed\n",
      "brown_ophtho\n",
      "an error has occured on brown_ophtho\n",
      "Cannot assign nan to integer series\n",
      "brown_ophtho\n",
      "an error has occured on brown_ophtho\n",
      "Cannot assign nan to integer series\n",
      "brown_ophtho\n"
     ]
    },
    {
     "name": "stderr",
     "output_type": "stream",
     "text": [
      " 65%|██████▌   | 79/121 [7:20:58<01:47,  2.55s/it]"
     ]
    },
    {
     "name": "stdout",
     "output_type": "stream",
     "text": [
      "an error has occured on brown_ophtho\n",
      "Cannot assign nan to integer series\n",
      "all attempts failed\n",
      "cookcountyophtho\n",
      "an error has occured on cookcountyophtho\n",
      "Cannot assign nan to integer series\n",
      "cookcountyophtho\n",
      "an error has occured on cookcountyophtho\n",
      "Cannot assign nan to integer series\n",
      "cookcountyophtho\n"
     ]
    },
    {
     "name": "stderr",
     "output_type": "stream",
     "text": [
      " 66%|██████▌   | 80/121 [7:21:00<01:44,  2.55s/it]"
     ]
    },
    {
     "name": "stdout",
     "output_type": "stream",
     "text": [
      "an error has occured on cookcountyophtho\n",
      "Cannot assign nan to integer series\n",
      "all attempts failed\n",
      "gwsmhs\n",
      "an error has occured on gwsmhs\n",
      "Cannot assign nan to integer series\n",
      "gwsmhs\n",
      "an error has occured on gwsmhs\n",
      "Cannot assign nan to integer series\n",
      "gwsmhs\n"
     ]
    },
    {
     "name": "stderr",
     "output_type": "stream",
     "text": [
      " 67%|██████▋   | 81/121 [7:21:02<01:34,  2.37s/it]"
     ]
    },
    {
     "name": "stdout",
     "output_type": "stream",
     "text": [
      "an error has occured on gwsmhs\n",
      "Cannot assign nan to integer series\n",
      "all attempts failed\n",
      "usfbulls_eye\n",
      "an error has occured on usfbulls_eye\n",
      "Cannot assign nan to integer series\n",
      "usfbulls_eye\n",
      "an error has occured on usfbulls_eye\n",
      "Cannot assign nan to integer series\n",
      "usfbulls_eye\n"
     ]
    },
    {
     "name": "stderr",
     "output_type": "stream",
     "text": [
      " 68%|██████▊   | 82/121 [7:21:04<01:28,  2.27s/it]"
     ]
    },
    {
     "name": "stdout",
     "output_type": "stream",
     "text": [
      "an error has occured on usfbulls_eye\n",
      "Cannot assign nan to integer series\n",
      "all attempts failed\n",
      "pennstatehershey\n",
      "an error has occured on pennstatehershey\n",
      "Cannot assign nan to integer series\n",
      "pennstatehershey\n",
      "an error has occured on pennstatehershey\n",
      "Cannot assign nan to integer series\n",
      "pennstatehershey\n"
     ]
    },
    {
     "name": "stderr",
     "output_type": "stream",
     "text": [
      " 69%|██████▊   | 83/121 [7:21:07<01:26,  2.28s/it]"
     ]
    },
    {
     "name": "stdout",
     "output_type": "stream",
     "text": [
      "an error has occured on pennstatehershey\n",
      "Cannot assign nan to integer series\n",
      "all attempts failed\n",
      "stonybrookmedicine\n",
      "an error has occured on stonybrookmedicine\n",
      "Cannot assign nan to integer series\n",
      "stonybrookmedicine\n",
      "an error has occured on stonybrookmedicine\n",
      "Cannot assign nan to integer series\n",
      "stonybrookmedicine\n"
     ]
    },
    {
     "name": "stderr",
     "output_type": "stream",
     "text": [
      " 70%|███████   | 85/121 [7:21:09<01:01,  1.71s/it]"
     ]
    },
    {
     "name": "stdout",
     "output_type": "stream",
     "text": [
      "an error has occured on stonybrookmedicine\n",
      "Cannot assign nan to integer series\n",
      "all attempts failed\n",
      "kuophthalmology\n",
      "an error has occured on kuophthalmology\n",
      "Cannot assign nan to integer series\n",
      "kuophthalmology\n",
      "an error has occured on kuophthalmology\n",
      "Cannot assign nan to integer series\n",
      "kuophthalmology\n"
     ]
    },
    {
     "name": "stderr",
     "output_type": "stream",
     "text": [
      " 71%|███████   | 86/121 [7:21:11<01:07,  1.93s/it]"
     ]
    },
    {
     "name": "stdout",
     "output_type": "stream",
     "text": [
      "an error has occured on kuophthalmology\n",
      "Cannot assign nan to integer series\n",
      "all attempts failed\n",
      "nymedcollege\n",
      "an error has occured on nymedcollege\n",
      "Cannot assign nan to integer series\n",
      "nymedcollege\n",
      "an error has occured on nymedcollege\n",
      "list index out of range\n",
      "nymedcollege\n"
     ]
    },
    {
     "name": "stderr",
     "output_type": "stream",
     "text": [
      " 72%|███████▏  | 87/121 [7:21:18<01:51,  3.28s/it]"
     ]
    },
    {
     "name": "stdout",
     "output_type": "stream",
     "text": [
      "an error has occured on nymedcollege\n",
      "Cannot assign nan to integer series\n",
      "all attempts failed\n",
      "ophthodellmed\n",
      "an error has occured on ophthodellmed\n",
      "Cannot assign nan to integer series\n",
      "ophthodellmed\n",
      "an error has occured on ophthodellmed\n",
      "Cannot assign nan to integer series\n",
      "ophthodellmed\n"
     ]
    },
    {
     "name": "stderr",
     "output_type": "stream",
     "text": [
      " 73%|███████▎  | 88/121 [7:21:24<02:05,  3.81s/it]"
     ]
    },
    {
     "name": "stdout",
     "output_type": "stream",
     "text": [
      "an error has occured on ophthodellmed\n",
      "Cannot assign nan to integer series\n",
      "all attempts failed\n",
      "neomededu\n",
      "an error has occured on neomededu\n",
      "Cannot assign nan to integer series\n",
      "neomededu\n",
      "an error has occured on neomededu\n",
      "Cannot assign nan to integer series\n",
      "neomededu\n"
     ]
    },
    {
     "name": "stderr",
     "output_type": "stream",
     "text": [
      " 74%|███████▎  | 89/121 [7:21:26<01:45,  3.29s/it]"
     ]
    },
    {
     "name": "stdout",
     "output_type": "stream",
     "text": [
      "an error has occured on neomededu\n",
      "Cannot assign nan to integer series\n",
      "all attempts failed\n",
      "amceyeresidency\n",
      "an error has occured on amceyeresidency\n",
      "Cannot assign nan to integer series\n",
      "amceyeresidency\n",
      "an error has occured on amceyeresidency\n",
      "Cannot assign nan to integer series\n",
      "amceyeresidency\n"
     ]
    },
    {
     "name": "stderr",
     "output_type": "stream",
     "text": [
      " 75%|███████▌  | 91/121 [7:21:27<01:07,  2.24s/it]"
     ]
    },
    {
     "name": "stdout",
     "output_type": "stream",
     "text": [
      "an error has occured on amceyeresidency\n",
      "Cannot assign nan to integer series\n",
      "all attempts failed\n",
      "nmc_sd\n",
      "an error has occured on nmc_sd\n",
      "Cannot assign nan to integer series\n",
      "nmc_sd\n",
      "an error has occured on nmc_sd\n",
      "Cannot assign nan to integer series\n",
      "nmc_sd\n"
     ]
    },
    {
     "name": "stderr",
     "output_type": "stream",
     "text": [
      " 76%|███████▌  | 92/121 [7:21:29<01:02,  2.15s/it]"
     ]
    },
    {
     "name": "stdout",
     "output_type": "stream",
     "text": [
      "an error has occured on nmc_sd\n",
      "Cannot assign nan to integer series\n",
      "all attempts failed\n",
      "uams_eye\n",
      "an error has occured on uams_eye\n",
      "Cannot assign nan to integer series\n",
      "uams_eye\n",
      "an error has occured on uams_eye\n",
      "Cannot assign nan to integer series\n",
      "uams_eye\n"
     ]
    },
    {
     "name": "stderr",
     "output_type": "stream",
     "text": [
      " 77%|███████▋  | 93/121 [7:21:31<00:58,  2.08s/it]"
     ]
    },
    {
     "name": "stdout",
     "output_type": "stream",
     "text": [
      "an error has occured on uams_eye\n",
      "Cannot assign nan to integer series\n",
      "all attempts failed\n",
      "vcuhealth\n",
      "an error has occured on vcuhealth\n",
      "Cannot assign nan to integer series\n",
      "vcuhealth\n",
      "an error has occured on vcuhealth\n",
      "Cannot assign nan to integer series\n",
      "vcuhealth\n"
     ]
    },
    {
     "name": "stderr",
     "output_type": "stream",
     "text": [
      " 78%|███████▊  | 94/121 [7:21:33<00:57,  2.12s/it]"
     ]
    },
    {
     "name": "stdout",
     "output_type": "stream",
     "text": [
      "an error has occured on vcuhealth\n",
      "Cannot assign nan to integer series\n",
      "all attempts failed\n",
      "uazmedtucson\n",
      "an error has occured on uazmedtucson\n",
      "Cannot assign nan to integer series\n",
      "uazmedtucson\n",
      "an error has occured on uazmedtucson\n",
      "Cannot assign nan to integer series\n",
      "uazmedtucson\n"
     ]
    },
    {
     "name": "stderr",
     "output_type": "stream",
     "text": [
      " 79%|███████▊  | 95/121 [7:21:36<01:01,  2.37s/it]"
     ]
    },
    {
     "name": "stdout",
     "output_type": "stream",
     "text": [
      "an error has occured on uazmedtucson\n",
      "Cannot assign nan to integer series\n",
      "all attempts failed\n",
      "tamumedicine\n",
      "an error has occured on tamumedicine\n",
      "Cannot assign nan to integer series\n",
      "tamumedicine\n",
      "an error has occured on tamumedicine\n",
      "Cannot assign nan to integer series\n",
      "tamumedicine\n"
     ]
    },
    {
     "name": "stderr",
     "output_type": "stream",
     "text": [
      " 80%|████████  | 97/121 [7:21:38<00:41,  1.73s/it]"
     ]
    },
    {
     "name": "stdout",
     "output_type": "stream",
     "text": [
      "an error has occured on tamumedicine\n",
      "Cannot assign nan to integer series\n",
      "all attempts failed\n",
      "zuckersom\n",
      "an error has occured on zuckersom\n",
      "Cannot assign nan to integer series\n",
      "zuckersom\n",
      "an error has occured on zuckersom\n",
      "Cannot assign nan to integer series\n",
      "zuckersom\n"
     ]
    },
    {
     "name": "stderr",
     "output_type": "stream",
     "text": [
      " 81%|████████  | 98/121 [7:21:40<00:42,  1.85s/it]"
     ]
    },
    {
     "name": "stdout",
     "output_type": "stream",
     "text": [
      "an error has occured on zuckersom\n",
      "Cannot assign nan to integer series\n",
      "all attempts failed\n",
      "ummcnews\n",
      "an error has occured on ummcnews\n",
      "Cannot assign nan to integer series\n",
      "ummcnews\n",
      "an error has occured on ummcnews\n",
      "Cannot assign nan to integer series\n",
      "ummcnews\n"
     ]
    },
    {
     "name": "stderr",
     "output_type": "stream",
     "text": [
      " 82%|████████▏ | 99/121 [7:21:43<00:42,  1.93s/it]"
     ]
    },
    {
     "name": "stdout",
     "output_type": "stream",
     "text": [
      "an error has occured on ummcnews\n",
      "Cannot assign nan to integer series\n",
      "all attempts failed\n",
      "slu_som\n",
      "an error has occured on slu_som\n",
      "Cannot assign nan to integer series\n",
      "slu_som\n",
      "an error has occured on slu_som\n",
      "Cannot assign nan to integer series\n",
      "slu_som\n"
     ]
    },
    {
     "name": "stderr",
     "output_type": "stream",
     "text": [
      " 83%|████████▎ | 101/121 [7:21:45<00:28,  1.44s/it]"
     ]
    },
    {
     "name": "stdout",
     "output_type": "stream",
     "text": [
      "an error has occured on slu_som\n",
      "Cannot assign nan to integer series\n",
      "all attempts failed\n",
      "geisingercommonwealth\n",
      "an error has occured on geisingercommonwealth\n",
      "Cannot assign nan to integer series\n",
      "geisingercommonwealth\n",
      "an error has occured on geisingercommonwealth\n",
      "Cannot assign nan to integer series\n",
      "geisingercommonwealth\n"
     ]
    },
    {
     "name": "stderr",
     "output_type": "stream",
     "text": [
      " 84%|████████▍ | 102/121 [7:21:56<01:20,  4.23s/it]"
     ]
    },
    {
     "name": "stdout",
     "output_type": "stream",
     "text": [
      "an error has occured on geisingercommonwealth\n",
      "Cannot assign nan to integer series\n",
      "all attempts failed\n",
      "buffaloophthalmology\n",
      "an error has occured on buffaloophthalmology\n",
      "Cannot assign nan to integer series\n",
      "buffaloophthalmology\n",
      "an error has occured on buffaloophthalmology\n",
      "Cannot assign nan to integer series\n",
      "buffaloophthalmology\n"
     ]
    },
    {
     "name": "stderr",
     "output_type": "stream",
     "text": [
      " 85%|████████▌ | 103/121 [7:22:03<01:29,  4.95s/it]"
     ]
    },
    {
     "name": "stdout",
     "output_type": "stream",
     "text": [
      "an error has occured on buffaloophthalmology\n",
      "Cannot assign nan to integer series\n",
      "all attempts failed\n",
      "upstatemedical\n",
      "an error has occured on upstatemedical\n",
      "Cannot assign nan to integer series\n",
      "upstatemedical\n",
      "an error has occured on upstatemedical\n",
      "Cannot assign nan to integer series\n",
      "upstatemedical\n"
     ]
    },
    {
     "name": "stderr",
     "output_type": "stream",
     "text": [
      " 86%|████████▌ | 104/121 [7:22:05<01:13,  4.30s/it]"
     ]
    },
    {
     "name": "stdout",
     "output_type": "stream",
     "text": [
      "an error has occured on upstatemedical\n",
      "Cannot assign nan to integer series\n",
      "all attempts failed\n",
      "nuhealth\n",
      "an error has occured on nuhealth\n",
      "Cannot assign nan to integer series\n",
      "nuhealth\n",
      "an error has occured on nuhealth\n",
      "Cannot assign nan to integer series\n",
      "nuhealth\n"
     ]
    },
    {
     "name": "stderr",
     "output_type": "stream",
     "text": [
      " 88%|████████▊ | 107/121 [7:22:08<00:33,  2.36s/it]"
     ]
    },
    {
     "name": "stdout",
     "output_type": "stream",
     "text": [
      "an error has occured on nuhealth\n",
      "Cannot assign nan to integer series\n",
      "all attempts failed\n",
      "evms_eye\n",
      "an error has occured on evms_eye\n",
      "Cannot assign nan to integer series\n",
      "evms_eye\n",
      "an error has occured on evms_eye\n",
      "Cannot assign nan to integer series\n",
      "evms_eye\n"
     ]
    },
    {
     "name": "stderr",
     "output_type": "stream",
     "text": [
      " 89%|████████▉ | 108/121 [7:22:15<00:42,  3.26s/it]"
     ]
    },
    {
     "name": "stdout",
     "output_type": "stream",
     "text": [
      "an error has occured on evms_eye\n",
      "Cannot assign nan to integer series\n",
      "all attempts failed\n",
      "madiganmedicine\n",
      "an error has occured on madiganmedicine\n",
      "Cannot assign nan to integer series\n",
      "madiganmedicine\n",
      "an error has occured on madiganmedicine\n",
      "Cannot assign nan to integer series\n",
      "madiganmedicine\n"
     ]
    },
    {
     "name": "stderr",
     "output_type": "stream",
     "text": [
      " 91%|█████████ | 110/121 [7:22:17<00:26,  2.42s/it]"
     ]
    },
    {
     "name": "stdout",
     "output_type": "stream",
     "text": [
      "an error has occured on madiganmedicine\n",
      "Cannot assign nan to integer series\n",
      "all attempts failed\n",
      "mcg_aug\n",
      "an error has occured on mcg_aug\n",
      "Cannot assign nan to integer series\n",
      "mcg_aug\n",
      "an error has occured on mcg_aug\n",
      "Cannot assign nan to integer series\n",
      "mcg_aug\n"
     ]
    },
    {
     "name": "stderr",
     "output_type": "stream",
     "text": [
      " 93%|█████████▎| 112/121 [7:22:18<00:17,  1.90s/it]"
     ]
    },
    {
     "name": "stdout",
     "output_type": "stream",
     "text": [
      "an error has occured on mcg_aug\n",
      "Cannot assign nan to integer series\n",
      "all attempts failed\n",
      "lifebridgehealth\n",
      "an error has occured on lifebridgehealth\n",
      "Cannot assign nan to integer series\n",
      "lifebridgehealth\n",
      "an error has occured on lifebridgehealth\n",
      "Cannot assign nan to integer series\n",
      "lifebridgehealth\n"
     ]
    },
    {
     "name": "stderr",
     "output_type": "stream",
     "text": [
      " 94%|█████████▍| 114/121 [7:22:21<00:11,  1.63s/it]"
     ]
    },
    {
     "name": "stdout",
     "output_type": "stream",
     "text": [
      "an error has occured on lifebridgehealth\n",
      "Cannot assign nan to integer series\n",
      "all attempts failed\n",
      "ohiohealth\n",
      "an error has occured on ohiohealth\n",
      "Cannot assign nan to integer series\n",
      "ohiohealth\n",
      "an error has occured on ohiohealth\n",
      "Cannot assign nan to integer series\n",
      "ohiohealth\n"
     ]
    },
    {
     "name": "stderr",
     "output_type": "stream",
     "text": [
      " 95%|█████████▌| 115/121 [7:22:23<00:10,  1.71s/it]"
     ]
    },
    {
     "name": "stdout",
     "output_type": "stream",
     "text": [
      "an error has occured on ohiohealth\n",
      "Cannot assign nan to integer series\n",
      "all attempts failed\n",
      "ascension_org\n",
      "an error has occured on ascension_org\n",
      "Cannot assign nan to integer series\n",
      "ascension_org\n",
      "an error has occured on ascension_org\n",
      "Cannot assign nan to integer series\n",
      "ascension_org\n"
     ]
    },
    {
     "name": "stderr",
     "output_type": "stream",
     "text": [
      " 96%|█████████▌| 116/121 [7:22:26<00:09,  1.97s/it]"
     ]
    },
    {
     "name": "stdout",
     "output_type": "stream",
     "text": [
      "an error has occured on ascension_org\n",
      "Cannot assign nan to integer series\n",
      "all attempts failed\n",
      "jamaicahospital\n",
      "an error has occured on jamaicahospital\n",
      "Cannot assign nan to integer series\n",
      "jamaicahospital\n",
      "an error has occured on jamaicahospital\n",
      "Cannot assign nan to integer series\n",
      "jamaicahospital\n"
     ]
    },
    {
     "name": "stderr",
     "output_type": "stream",
     "text": [
      " 97%|█████████▋| 117/121 [7:22:28<00:07,  1.98s/it]"
     ]
    },
    {
     "name": "stdout",
     "output_type": "stream",
     "text": [
      "an error has occured on jamaicahospital\n",
      "Cannot assign nan to integer series\n",
      "all attempts failed\n",
      "beaumont.ophtho\n",
      "an error has occured on beaumont.ophtho\n",
      "Cannot assign nan to integer series\n",
      "beaumont.ophtho\n",
      "an error has occured on beaumont.ophtho\n",
      "Cannot assign nan to integer series\n",
      "beaumont.ophtho\n"
     ]
    },
    {
     "name": "stderr",
     "output_type": "stream",
     "text": [
      " 98%|█████████▊| 118/121 [7:22:33<00:08,  2.80s/it]"
     ]
    },
    {
     "name": "stdout",
     "output_type": "stream",
     "text": [
      "an error has occured on beaumont.ophtho\n",
      "Cannot assign nan to integer series\n",
      "all attempts failed\n",
      "ketteringhealth\n",
      "an error has occured on ketteringhealth\n",
      "Cannot assign nan to integer series\n",
      "ketteringhealth\n",
      "an error has occured on ketteringhealth\n",
      "Cannot assign nan to integer series\n",
      "ketteringhealth\n"
     ]
    },
    {
     "name": "stderr",
     "output_type": "stream",
     "text": [
      " 98%|█████████▊| 119/121 [7:22:35<00:05,  2.62s/it]"
     ]
    },
    {
     "name": "stdout",
     "output_type": "stream",
     "text": [
      "an error has occured on ketteringhealth\n",
      "Cannot assign nan to integer series\n",
      "all attempts failed\n",
      "pcomeducation\n",
      "an error has occured on pcomeducation\n",
      "Cannot assign nan to integer series\n",
      "pcomeducation\n",
      "an error has occured on pcomeducation\n",
      "Cannot assign nan to integer series\n",
      "pcomeducation\n"
     ]
    },
    {
     "name": "stderr",
     "output_type": "stream",
     "text": [
      " 99%|█████████▉| 120/121 [7:22:37<00:02,  2.56s/it]"
     ]
    },
    {
     "name": "stdout",
     "output_type": "stream",
     "text": [
      "an error has occured on pcomeducation\n",
      "Cannot assign nan to integer series\n",
      "all attempts failed\n",
      "stjohnseh\n",
      "an error has occured on stjohnseh\n",
      "Cannot assign nan to integer series\n",
      "stjohnseh\n",
      "an error has occured on stjohnseh\n",
      "Cannot assign nan to integer series\n",
      "stjohnseh\n"
     ]
    },
    {
     "name": "stderr",
     "output_type": "stream",
     "text": [
      "100%|██████████| 121/121 [7:22:39<00:00, 219.50s/it]"
     ]
    },
    {
     "name": "stdout",
     "output_type": "stream",
     "text": [
      "an error has occured on stjohnseh\n",
      "Cannot assign nan to integer series\n",
      "all attempts failed\n"
     ]
    },
    {
     "name": "stderr",
     "output_type": "stream",
     "text": [
      "\n"
     ]
    }
   ],
   "source": [
    "#test purposes\n",
    "# users = users.head(5).append(users.iloc[89])\n",
    "\n",
    "#List of dataframes representing the posts of each user\n",
    "users_df = []\n",
    "\n",
    "#indicies of all users with more than 200 posts\n",
    "index_greater_200 = []\n",
    "\n",
    "#indicies of all users with less than 200 posts\n",
    "index_200_or_less = []\n",
    "\n",
    "#Index of null\n",
    "index_null = []\n",
    "\n",
    "for i in tqdm(range(0, len(users))):\n",
    "    #Putting a try catch statement here because there seems to be some errors that could be fixed with an extra try\n",
    "    attmepts_allowed = 3\n",
    "    for attmept in range(attmepts_allowed):\n",
    "        try:\n",
    "            if (not pd.isnull(users.iloc[i]['IG Username'])):\n",
    "                #Scrape the profile\n",
    "                print(users.iloc[i]['IG Username'])\n",
    "                profile = Profile(users.iloc[i]['IG Username'])\n",
    "                profile.scrape(headers=headers)\n",
    "\n",
    "                #Adding profile datapoints to dataframe\n",
    "                users.at[i, 'follower_count'] = profile.followers\n",
    "                users.at[i, 'number_of_posts'] = profile.posts\n",
    "\n",
    "                #Scraping Posts\n",
    "\n",
    "                posts = profile.get_posts(webdriver=driver)\n",
    "                print(len(posts))\n",
    "\n",
    "                #account has less than 200 posts\n",
    "                if (len(posts) <= 200):\n",
    "                    scraped_posts, unscraped = scrape_posts(posts, webdriver=driver, silent=False, headers=headers, pause=10)\n",
    "                    \n",
    "                    #Appending dataframe from account to each \n",
    "                    users_df.append(create_post_df(scraped_posts))\n",
    "                    index_200_or_less.append(i)\n",
    "                \n",
    "                else:\n",
    "                    print(\"{} with username {} has {} posts, more than 200\".format(users.iloc[i]['School'], users.iloc[i]['IG Username'], len(posts)))\n",
    "                    \n",
    "                    #no matter what, we want to keep the dimensions of user_df the same as users\n",
    "                    users_df.append(create_post_df([]))\n",
    "                    index_greater_200.append(i)\n",
    "                        \n",
    "            # if no username, we're just going to add an empty dataframe\n",
    "            else:\n",
    "                users_df.append(create_post_df([]))\n",
    "                index_null.append(i)\n",
    "\n",
    "        #Error, let's try again\n",
    "        except Exception as e:\n",
    "            print(\"an error has occured on {}\".format(users.iloc[i]['IG Username']))\n",
    "            print(e)\n",
    "            #Adding empty dataframe to list anyways just to keep the indicies matching\n",
    "\n",
    "        #No errors, let's exit the loop\n",
    "        else:\n",
    "            break\n",
    "\n",
    "    #Did we finish the for loop, that means all attempts failed\n",
    "    else:\n",
    "        #Adding empty dataframe to list anyways just to keep the indicies matching\n",
    "        users_df.append(create_post_df([]))\n",
    "        print(\"all attempts failed\")\n",
    "    \n",
    "    #Writing test dataframes to pickle object for easier debugging in the future\n",
    "    if (i % 10 == 0 and i != 0):\n",
    "        with open('test_dataframes_{}-{}.obj'.format(i-10, i), 'wb') as f:\n",
    "            pickle.dump((users_df, users), f)\n",
    "        \n",
    "        \n",
    "        \n",
    "        #old code from just getting top and first posts\n",
    "        # top_post = get_top_post(scraped_posts)\n",
    "\n",
    "        # #Post are scraped from most recent to oldest, therefore, the earliest post will be the last one scraped in theory\n",
    "        # first_post = scraped_posts[-1]\n",
    "\n",
    "        # users.at[i, 'top_post_likes'] = top_post.likes\n",
    "        # users.at[i, 'top_post_date_posted'] = datetime.fromtimestamp(top_post.timestamp)\n",
    "        # users.at[i, 'top_post_url'] = \"instagram.com/p/{}\".format(top_post.shortcode)\n",
    "        # users.at[i, 'first_post_likes'] = first_post.likes\n",
    "        # users.at[i, 'first_post_date_posted'] = datetime.fromtimestamp(first_post.timestamp)\n",
    "        # users.at[i, 'first_post_url'] = \"instagram.com/p/{}\".format(first_post.shortcode)\n"
   ]
  },
  {
   "cell_type": "code",
   "execution_count": 35,
   "metadata": {},
   "outputs": [],
   "source": [
    "#Write dataframes to a pickle object\n",
    "with open('less_than_200_dataframes.obj', 'wb') as f:\n",
    "    pickle.dump((users_df, users), f)"
   ]
  },
  {
   "cell_type": "code",
   "execution_count": 72,
   "metadata": {},
   "outputs": [
    {
     "name": "stdout",
     "output_type": "stream",
     "text": [
      "TJU/Wills Eye Hospital\n",
      "Johns Hopkins/Wilmer\n",
      "University of Iowa\n",
      "Mass. Eye and Ear\n",
      "UCLA/Doheny\n",
      "Duke\n",
      "University of Utah/Moran\n",
      "University of California San Francisco (UCSF)\n",
      "UTSW\n",
      "Emory\n",
      "University of Pennsylvania/Scheie\n",
      "Washington University in Saint Louis\n",
      "New York Eye and Ear\n",
      "University of Illinois at Chicago\n",
      "New York Presbyterian (Columbia)\n",
      "Vanderbilt\n",
      "University of Colorado\n",
      "NYU\n",
      "University of Alabama\n"
     ]
    },
    {
     "name": "stderr",
     "output_type": "stream",
     "text": [
      "C:\\Users\\Albert\\miniconda3\\envs\\instagramScraper\\lib\\site-packages\\openpyxl\\workbook\\child.py:99: UserWarning: Title is more than 31 characters. Some applications may not be able to read the file\n",
      "  warnings.warn(\"Title is more than 31 characters. Some applications may not be able to read the file\")\n",
      "C:\\Users\\Albert\\miniconda3\\envs\\instagramScraper\\lib\\site-packages\\openpyxl\\workbook\\child.py:99: UserWarning: Title is more than 31 characters. Some applications may not be able to read the file\n",
      "  warnings.warn(\"Title is more than 31 characters. Some applications may not be able to read the file\")\n",
      "C:\\Users\\Albert\\miniconda3\\envs\\instagramScraper\\lib\\site-packages\\openpyxl\\workbook\\child.py:99: UserWarning: Title is more than 31 characters. Some applications may not be able to read the file\n",
      "  warnings.warn(\"Title is more than 31 characters. Some applications may not be able to read the file\")\n",
      "C:\\Users\\Albert\\miniconda3\\envs\\instagramScraper\\lib\\site-packages\\openpyxl\\workbook\\child.py:99: UserWarning: Title is more than 31 characters. Some applications may not be able to read the file\n",
      "  warnings.warn(\"Title is more than 31 characters. Some applications may not be able to read the file\")\n",
      "C:\\Users\\Albert\\miniconda3\\envs\\instagramScraper\\lib\\site-packages\\openpyxl\\workbook\\child.py:99: UserWarning: Title is more than 31 characters. Some applications may not be able to read the file\n",
      "  warnings.warn(\"Title is more than 31 characters. Some applications may not be able to read the file\")\n"
     ]
    },
    {
     "name": "stdout",
     "output_type": "stream",
     "text": [
      "Ohio State\n",
      "UC Davis\n",
      "UPMC\n",
      "UC Irvine\n",
      "Wake Forest\n",
      "New York Presbyterian (Cornell)\n",
      "Northwestern\n",
      "UNC\n",
      "Rush\n",
      "Indiana University\n",
      "Montefiore/Albert Einstein\n",
      "Loyola\n",
      "Detroit Medical Center/Wayne State University\n",
      "MUSC\n",
      "Yale\n",
      "University of Maryland\n",
      "University of Kentucky\n",
      "MedStar/Georgetown\n",
      "SUNY Downstate\n",
      "Tulane\n",
      "Loma Linda\n",
      "West Virginia University\n",
      "University of Chicago\n",
      "University of Rochester\n",
      "University of Tennesee\n",
      "University of Virginia\n",
      "University of Louisville\n",
      "UMKC\n",
      "LSU Shreveport\n",
      "UM Columbia\n",
      "Brown\n",
      "Cook County Health and Hospitals System\n",
      "University of South Florida\n",
      "University of Kansas\n",
      "University of Texas/Methodist Hospital (Houston)\n",
      "Albany\n",
      "University of Arkansas\n",
      "Saint Louis University School of Medicine\n",
      "University at Buffalo\n",
      "EVMS\n",
      "Medical College of Georgia\n",
      "Beaumont Health (Taylor)\n"
     ]
    },
    {
     "name": "stderr",
     "output_type": "stream",
     "text": [
      "C:\\Users\\Albert\\miniconda3\\envs\\instagramScraper\\lib\\site-packages\\openpyxl\\workbook\\child.py:99: UserWarning: Title is more than 31 characters. Some applications may not be able to read the file\n",
      "  warnings.warn(\"Title is more than 31 characters. Some applications may not be able to read the file\")\n",
      "C:\\Users\\Albert\\miniconda3\\envs\\instagramScraper\\lib\\site-packages\\openpyxl\\workbook\\child.py:99: UserWarning: Title is more than 31 characters. Some applications may not be able to read the file\n",
      "  warnings.warn(\"Title is more than 31 characters. Some applications may not be able to read the file\")\n",
      "C:\\Users\\Albert\\miniconda3\\envs\\instagramScraper\\lib\\site-packages\\openpyxl\\workbook\\child.py:99: UserWarning: Title is more than 31 characters. Some applications may not be able to read the file\n",
      "  warnings.warn(\"Title is more than 31 characters. Some applications may not be able to read the file\")\n",
      "C:\\Users\\Albert\\miniconda3\\envs\\instagramScraper\\lib\\site-packages\\openpyxl\\workbook\\child.py:99: UserWarning: Title is more than 31 characters. Some applications may not be able to read the file\n",
      "  warnings.warn(\"Title is more than 31 characters. Some applications may not be able to read the file\")\n"
     ]
    }
   ],
   "source": [
    "users_df_np = np.array(users_df, dtype=object)\n",
    "write_to_excel(users_df_np[index_200_or_less], users.iloc[index_200_or_less].reset_index())"
   ]
  },
  {
   "cell_type": "code",
   "execution_count": 71,
   "metadata": {},
   "outputs": [
    {
     "data": {
      "text/plain": [
       "<bound method DataFrame.reset_index of      index                                     School  \\\n",
       "0        0                     TJU/Wills Eye Hospital   \n",
       "2        2                       Johns Hopkins/Wilmer   \n",
       "3        3                         University of Iowa   \n",
       "4        4                          Mass. Eye and Ear   \n",
       "5        5                                UCLA/Doheny   \n",
       "..     ...                                        ...   \n",
       "99      99  Saint Louis University School of Medicine   \n",
       "102    102                      University at Buffalo   \n",
       "107    107                                       EVMS   \n",
       "111    111                 Medical College of Georgia   \n",
       "117    117                   Beaumont Health (Taylor)   \n",
       "\n",
       "                       IG Username  follower_count  number_of_posts  \n",
       "0                willseyeresidents            1984               33  \n",
       "2               wilmereyeresidents            1511               34  \n",
       "3                         uiowaeye            1482              131  \n",
       "4    harvardophthalmologyresidents            1571              186  \n",
       "5                steineyeresidents            1043               49  \n",
       "..                             ...             ...              ...  \n",
       "99                         slu_som            1116               90  \n",
       "102           buffaloophthalmology            1009               26  \n",
       "107                       evms_eye             140                8  \n",
       "111                        mcg_aug             465               78  \n",
       "117                beaumont.ophtho             614                7  \n",
       "\n",
       "[61 rows x 5 columns]>"
      ]
     },
     "execution_count": 71,
     "metadata": {},
     "output_type": "execute_result"
    }
   ],
   "source": [
    "test_df = users.iloc[index_200_or_less].reset_index\n",
    "test_df"
   ]
  },
  {
   "cell_type": "code",
   "execution_count": 59,
   "metadata": {},
   "outputs": [
    {
     "data": {
      "text/plain": [
       "[83, 89, 95, 100, 104, 105, 108, 110, 112]"
      ]
     },
     "execution_count": 59,
     "metadata": {},
     "output_type": "execute_result"
    }
   ],
   "source": [
    "users.loc[pd.isna(users[\"IG Username\"])].index.tolist()"
   ]
  },
  {
   "cell_type": "code",
   "execution_count": 42,
   "metadata": {},
   "outputs": [],
   "source": [
    "test_list = index_200_or_less"
   ]
  },
  {
   "cell_type": "code",
   "execution_count": 61,
   "metadata": {},
   "outputs": [
    {
     "data": {
      "text/html": [
       "<div>\n",
       "<style scoped>\n",
       "    .dataframe tbody tr th:only-of-type {\n",
       "        vertical-align: middle;\n",
       "    }\n",
       "\n",
       "    .dataframe tbody tr th {\n",
       "        vertical-align: top;\n",
       "    }\n",
       "\n",
       "    .dataframe thead th {\n",
       "        text-align: right;\n",
       "    }\n",
       "</style>\n",
       "<table border=\"1\" class=\"dataframe\">\n",
       "  <thead>\n",
       "    <tr style=\"text-align: right;\">\n",
       "      <th></th>\n",
       "      <th>index</th>\n",
       "      <th>School</th>\n",
       "      <th>IG Username</th>\n",
       "      <th>follower_count</th>\n",
       "      <th>number_of_posts</th>\n",
       "    </tr>\n",
       "  </thead>\n",
       "  <tbody>\n",
       "    <tr>\n",
       "      <th>0</th>\n",
       "      <td>0</td>\n",
       "      <td>TJU/Wills Eye Hospital</td>\n",
       "      <td>willseyeresidents</td>\n",
       "      <td>1984</td>\n",
       "      <td>33</td>\n",
       "    </tr>\n",
       "    <tr>\n",
       "      <th>2</th>\n",
       "      <td>2</td>\n",
       "      <td>Johns Hopkins/Wilmer</td>\n",
       "      <td>wilmereyeresidents</td>\n",
       "      <td>1511</td>\n",
       "      <td>34</td>\n",
       "    </tr>\n",
       "    <tr>\n",
       "      <th>3</th>\n",
       "      <td>3</td>\n",
       "      <td>University of Iowa</td>\n",
       "      <td>uiowaeye</td>\n",
       "      <td>1482</td>\n",
       "      <td>131</td>\n",
       "    </tr>\n",
       "    <tr>\n",
       "      <th>4</th>\n",
       "      <td>4</td>\n",
       "      <td>Mass. Eye and Ear</td>\n",
       "      <td>harvardophthalmologyresidents</td>\n",
       "      <td>1571</td>\n",
       "      <td>186</td>\n",
       "    </tr>\n",
       "    <tr>\n",
       "      <th>5</th>\n",
       "      <td>5</td>\n",
       "      <td>UCLA/Doheny</td>\n",
       "      <td>steineyeresidents</td>\n",
       "      <td>1043</td>\n",
       "      <td>49</td>\n",
       "    </tr>\n",
       "    <tr>\n",
       "      <th>...</th>\n",
       "      <td>...</td>\n",
       "      <td>...</td>\n",
       "      <td>...</td>\n",
       "      <td>...</td>\n",
       "      <td>...</td>\n",
       "    </tr>\n",
       "    <tr>\n",
       "      <th>99</th>\n",
       "      <td>99</td>\n",
       "      <td>Saint Louis University School of Medicine</td>\n",
       "      <td>slu_som</td>\n",
       "      <td>1116</td>\n",
       "      <td>90</td>\n",
       "    </tr>\n",
       "    <tr>\n",
       "      <th>102</th>\n",
       "      <td>102</td>\n",
       "      <td>University at Buffalo</td>\n",
       "      <td>buffaloophthalmology</td>\n",
       "      <td>1009</td>\n",
       "      <td>26</td>\n",
       "    </tr>\n",
       "    <tr>\n",
       "      <th>107</th>\n",
       "      <td>107</td>\n",
       "      <td>EVMS</td>\n",
       "      <td>evms_eye</td>\n",
       "      <td>140</td>\n",
       "      <td>8</td>\n",
       "    </tr>\n",
       "    <tr>\n",
       "      <th>111</th>\n",
       "      <td>111</td>\n",
       "      <td>Medical College of Georgia</td>\n",
       "      <td>mcg_aug</td>\n",
       "      <td>465</td>\n",
       "      <td>78</td>\n",
       "    </tr>\n",
       "    <tr>\n",
       "      <th>117</th>\n",
       "      <td>117</td>\n",
       "      <td>Beaumont Health (Taylor)</td>\n",
       "      <td>beaumont.ophtho</td>\n",
       "      <td>614</td>\n",
       "      <td>7</td>\n",
       "    </tr>\n",
       "  </tbody>\n",
       "</table>\n",
       "<p>61 rows × 5 columns</p>\n",
       "</div>"
      ],
      "text/plain": [
       "     index                                     School  \\\n",
       "0        0                     TJU/Wills Eye Hospital   \n",
       "2        2                       Johns Hopkins/Wilmer   \n",
       "3        3                         University of Iowa   \n",
       "4        4                          Mass. Eye and Ear   \n",
       "5        5                                UCLA/Doheny   \n",
       "..     ...                                        ...   \n",
       "99      99  Saint Louis University School of Medicine   \n",
       "102    102                      University at Buffalo   \n",
       "107    107                                       EVMS   \n",
       "111    111                 Medical College of Georgia   \n",
       "117    117                   Beaumont Health (Taylor)   \n",
       "\n",
       "                       IG Username  follower_count  number_of_posts  \n",
       "0                willseyeresidents            1984               33  \n",
       "2               wilmereyeresidents            1511               34  \n",
       "3                         uiowaeye            1482              131  \n",
       "4    harvardophthalmologyresidents            1571              186  \n",
       "5                steineyeresidents            1043               49  \n",
       "..                             ...             ...              ...  \n",
       "99                         slu_som            1116               90  \n",
       "102           buffaloophthalmology            1009               26  \n",
       "107                       evms_eye             140                8  \n",
       "111                        mcg_aug             465               78  \n",
       "117                beaumont.ophtho             614                7  \n",
       "\n",
       "[61 rows x 5 columns]"
      ]
     },
     "execution_count": 61,
     "metadata": {},
     "output_type": "execute_result"
    }
   ],
   "source": [
    "users.iloc[index_200_or_less]"
   ]
  },
  {
   "cell_type": "code",
   "execution_count": 59,
   "metadata": {},
   "outputs": [],
   "source": [
    "def write_to_excel(user_post_dfs, users_df):\n",
    "    if (len(user_post_dfs) != users_df.shape[0]):\n",
    "        raise ValueError(\"length of the posts dataframes and user dataframes are mismatched, there are {} posts dataframes and {} rows in the user dataframe\".format(\n",
    "            len(user_post_dfs), users_df.shape[0]))\n",
    "\n",
    "    with pd.ExcelWriter('User Data.xlsx', engine='openpyxl') as writer:\n",
    "        for i in users_df.index:\n",
    "            # this regex statement replaces excel's invalid characters with and underscore\n",
    "            print(users_df.at[i, 'School'])\n",
    "            title = re.sub(INVALID_TITLE_REGEX, '_', users_df.at[i, 'School'])\n",
    "            users_df.iloc[[i]].to_excel(writer, sheet_name=title, index=False)\n",
    "            user_post_dfs[i].to_excel(\n",
    "                writer, startrow=3, sheet_name=title, index=False)"
   ]
  },
  {
   "cell_type": "code",
   "execution_count": 13,
   "metadata": {},
   "outputs": [],
   "source": [
    "#Writing test dataframes to pickle object for easier debugging in the future\n",
    "with open('test_dataframes.obj', 'wb') as f:\n",
    "    pickle.dump((users_df, users), f)"
   ]
  },
  {
   "cell_type": "code",
   "execution_count": 37,
   "metadata": {},
   "outputs": [],
   "source": [
    "with open('test_dataframes_110-120.obj', 'rb') as f:\n",
    "    loaded = pickle.load(f)\n",
    "\n",
    "users_df = loaded[0]\n",
    "users = loaded[1]\n",
    "users = users.reset_index()"
   ]
  },
  {
   "cell_type": "code",
   "execution_count": 39,
   "metadata": {},
   "outputs": [
    {
     "data": {
      "text/plain": [
       "121"
      ]
     },
     "execution_count": 39,
     "metadata": {},
     "output_type": "execute_result"
    }
   ],
   "source": [
    "len(users_df)"
   ]
  },
  {
   "cell_type": "code",
   "execution_count": 40,
   "metadata": {},
   "outputs": [
    {
     "data": {
      "text/plain": [
       "(121, 5)"
      ]
     },
     "execution_count": 40,
     "metadata": {},
     "output_type": "execute_result"
    }
   ],
   "source": [
    "users.shape"
   ]
  },
  {
   "cell_type": "code",
   "execution_count": 47,
   "metadata": {},
   "outputs": [],
   "source": [
    "index_200_or_less = users.loc[users['number_of_posts'] <= 200].index.tolist()"
   ]
  },
  {
   "cell_type": "code",
   "execution_count": null,
   "metadata": {},
   "outputs": [],
   "source": []
  }
 ],
 "metadata": {
  "interpreter": {
   "hash": "58e5a1f2200c9da4fe52d7508e5222fc267990c2fd40a29173e8fd4c8076db49"
  },
  "kernelspec": {
   "display_name": "Python 3.9.7 64-bit ('instagramScraper': conda)",
   "name": "python3"
  },
  "language_info": {
   "codemirror_mode": {
    "name": "ipython",
    "version": 3
   },
   "file_extension": ".py",
   "mimetype": "text/x-python",
   "name": "python",
   "nbconvert_exporter": "python",
   "pygments_lexer": "ipython3",
   "version": "3.9.7"
  },
  "orig_nbformat": 4
 },
 "nbformat": 4,
 "nbformat_minor": 2
}
