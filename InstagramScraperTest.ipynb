{
 "cells": [
  {
   "cell_type": "markdown",
   "metadata": {},
   "source": [
    "## Project Requirements:\n",
    "Scrape profiles and get:\n",
    "1. the number of posts\n",
    "2. the follower count\n",
    "3. number of likes on most liked post\n",
    "4. numbner of likes\n",
    "\n",
    "## Follow Up\n",
    "Save each profile in its own data frame with each row corresponding to a post <br>\n",
    "export as a excel file with each profile as a worksheet <br>\n",
    "find a way to edit so that the sheet includes some global account variables (ex. number of followers) outside the dataframe"
   ]
  },
  {
   "cell_type": "code",
   "execution_count": 1,
   "metadata": {},
   "outputs": [],
   "source": [
    "from instascrape import Profile, scrape_posts, Post\n",
    "from selenium.webdriver import Chrome\n",
    "from datetime import datetime\n",
    "import pandas as pd\n",
    "import numpy as np\n",
    "import pickle\n",
    "from openpyxl.workbook.child import INVALID_TITLE_REGEX\n",
    "from openpyxl import workbook\n",
    "import re\n",
    "from utils import check_valid_username, write_to_excel, get_top_post, create_post_df\n",
    "from pathlib import Path\n",
    "from tqdm import tqdm"
   ]
  },
  {
   "cell_type": "code",
   "execution_count": 2,
   "metadata": {},
   "outputs": [],
   "source": [
    "cwd = Path.cwd()\n",
    "\n",
    "#mac\n",
    "#chrome_driver_path = cwd / 'chromedriver'\n",
    "\n",
    "#windows\n",
    "chrome_driver_path = cwd / 'chromedriver.exe'\n",
    "driver = Chrome(chrome_driver_path)\n"
   ]
  },
  {
   "cell_type": "code",
   "execution_count": 3,
   "metadata": {},
   "outputs": [],
   "source": [
    "headers = {\n",
    "    \"user-agent\": \"Mozilla/5.0 (Linux; Android 6.0; Nexus 5 Build/MRA58N) AppleWebKit/537.36 (KHTML, like Gecko) Chrome/87.0.4280.88 Mobile Safari/537.36 Edg/87.0.664.57\",\n",
    "    \"cookie\": \"sessionid=7320119797%3AiFhQYSC7AxwAcY%3A17\"\n",
    "}"
   ]
  },
  {
   "cell_type": "code",
   "execution_count": 4,
   "metadata": {},
   "outputs": [],
   "source": [
    "users = pd.read_csv(\"Social_Media_Study_Handles.csv\")\n",
    "users = users.reindex(columns=[*users.columns, 'follower_count', 'number_of_posts'])\n",
    "\n",
    "#Specifying datatype for each columns\n",
    "users['School'] = users['School'].astype(object)\n",
    "users['IG Username'] = users['IG Username'].astype(object)\n",
    "users['follower_count'] = users['follower_count'].astype('Int64')\n",
    "users['number_of_posts'] = users['number_of_posts'].astype('Int64')\n",
    "\n",
    "# users = users.reindex(columns=[*users.columns, 'follower_count', 'number_of_posts', 'top_post_likes', \n",
    "# 'top_post_date_posted', 'top_post_url', 'first_post_likes', 'first_post_date_posted', 'first_post_url'])\n",
    "# This code is no longer userful since we are storing each account's posts in its own dataframe\n",
    "# users['top_post_likes'] = users['top_post_likes'].astype('Int64')\n",
    "# users['top_post_date_posted'] = users['top_post_date_posted'].astype('datetime64[ns]')\n",
    "# users['top_post_url'] = users['top_post_url'].astype(object)\n",
    "# users['first_post_likes'] = users['first_post_likes'].astype('Int64')\n",
    "# users['first_post_date_posted'] = users['first_post_date_posted'].astype('datetime64[ns]')\n",
    "# users['first_post_url'] = users['first_post_url'].astype(object)"
   ]
  },
  {
   "cell_type": "code",
   "execution_count": 5,
   "metadata": {},
   "outputs": [
    {
     "name": "stderr",
     "output_type": "stream",
     "text": [
      "  0%|          | 0/121 [00:00<?, ?it/s]"
     ]
    },
    {
     "name": "stdout",
     "output_type": "stream",
     "text": [
      "willseyeresidents\n",
      "33\n",
      "0: CDABF2hhEhP - 2020-07-23 17:49:11\n",
      "1: CC6_LwDhnTu - 2020-07-21 18:56:19\n",
      "2: CC4Kk8ZBGIc - 2020-07-20 16:38:09\n",
      "3: CCtc94uh_SW - 2020-07-16 12:47:12\n",
      "4: CCqrp49B5j1 - 2020-07-15 10:57:49\n",
      "5: CCjOYsGBwWO - 2020-07-12 13:27:23\n",
      "6: CCecas4hdY- - 2020-07-10 16:53:47\n",
      "7: CCHSdAehmf7 - 2020-07-01 17:04:11\n",
      "8: CB3xPaehw43 - 2020-06-25 16:25:22\n",
      "9: CBy5lzbBlq8 - 2020-06-23 19:02:08\n",
      "10: CBwQp8qhq3y - 2020-06-22 18:25:57\n",
      "11: CBtTXidBM4k - 2020-06-21 14:51:56\n",
      "12: CBqW91ohOfD - 2020-06-20 11:25:39\n",
      "13: CBoCRLXhQex - 2020-06-19 13:46:18\n",
      "14: CBlvolqAn4t - 2020-06-18 16:25:00\n",
      "15: CBjLzmHBJxE - 2020-06-17 16:33:27\n",
      "16: CANgGIPAQc0 - 2020-05-15 09:56:03\n",
      "17: CALFcpLAZq1 - 2020-05-14 11:24:43\n",
      "18: B_lFRQnBz3j - 2020-04-29 17:12:01\n",
      "19: B-sAg1yhXLQ - 2020-04-07 13:13:45\n",
      "20: B9Z5wFmBtvD - 2020-03-06 14:56:56\n",
      "21: B9HGomcBRkn - 2020-02-28 07:43:57\n",
      "22: B8nbgg2hDsc - 2020-02-16 00:30:39\n",
      "23: B7yyPaVB9wF - 2020-01-26 13:49:32\n",
      "24: B6UcX8CB3J_ - 2019-12-20 22:29:51\n",
      "25: B6TRZBrBHoW - 2019-12-20 11:34:38\n",
      "26: B5l3vIoBB4d - 2019-12-02 20:24:39\n",
      "27: B44xDRpB7iT - 2019-11-15 08:00:24\n",
      "28: B4i_dbXgK0u - 2019-11-06 21:03:01\n",
      "29: B4SmCO2g2C- - 2019-10-31 13:13:00\n",
      "30: B4IODOiA1lR - 2019-10-27 12:31:01\n",
      "31: B4Bb3OsAwPA - 2019-10-24 21:17:02\n"
     ]
    },
    {
     "name": "stderr",
     "output_type": "stream",
     "text": [
      "  1%|          | 1/121 [04:32<9:04:58, 272.49s/it]"
     ]
    },
    {
     "name": "stdout",
     "output_type": "stream",
     "text": [
      "32: B4BZYIpAuYT - 2019-10-24 20:55:18\n",
      "bascompalmereye\n"
     ]
    },
    {
     "name": "stderr",
     "output_type": "stream",
     "text": [
      "  2%|▏         | 2/121 [05:15<4:32:11, 137.24s/it]"
     ]
    },
    {
     "name": "stdout",
     "output_type": "stream",
     "text": [
      "237\n",
      "Bascom Palmer/University of Miami with username bascompalmereye has 237 posts, more than 200\n",
      "wilmereyeresidents\n",
      "34\n",
      "0: CVYQ03DrANh - 2021-10-23 13:13:33\n",
      "1: CU-eULLAyeZ - 2021-10-13 12:51:10\n",
      "2: CUKkD_-AGmc - 2021-09-23 09:00:53\n",
      "3: CTLCjN9rd5C - 2021-08-29 16:55:53\n",
      "4: CRwRrpghB4P - 2021-07-25 10:57:13\n",
      "5: CRIGjk4B2bf - 2021-07-09 20:30:23\n",
      "6: CRDNMZyhTKq - 2021-07-07 22:52:11\n",
      "7: CQjuxxIB98Y - 2021-06-25 17:29:57\n",
      "8: CMtBiTAhjET - 2021-03-21 22:01:27\n",
      "9: CKzaswbhAF7 - 2021-02-02 15:33:59\n",
      "10: CKJ7EzWh1yB - 2021-01-17 12:48:47\n",
      "11: CJjWki4hcnY - 2021-01-02 13:18:40\n",
      "12: CJKFwOuBfrA - 2020-12-23 17:50:42\n",
      "13: CI7S8ulBBXg - 2020-12-17 23:57:24\n",
      "14: CHHOF0HBjtU - 2020-11-02 22:03:02\n",
      "15: CEK--gvn7tR - 2020-08-21 20:33:45\n",
      "16: CEE7Gownxu_ - 2020-08-19 12:04:28\n",
      "17: CD0FBcwh8Jk - 2020-08-12 23:04:03\n",
      "18: CDNY5mJhJgz - 2020-07-28 22:27:21\n",
      "19: CCsEnnzBMPi - 2020-07-15 23:55:12\n",
      "20: CCfNRLEhLAi - 2020-07-11 00:00:39\n",
      "21: CCFTbxKBA5w - 2020-06-30 22:34:17\n",
      "22: CCAPSKrhGBC - 2020-06-28 23:21:49\n",
      "23: CB15aM6Hy3F - 2020-06-24 22:58:16\n",
      "24: CBjyUrkHqyH - 2020-06-17 22:10:01\n",
      "25: CBZUk-pHq_k - 2020-06-13 20:37:41\n",
      "26: CBPJMHaHIJW - 2020-06-09 21:45:46\n",
      "27: CBE89dhnk9P - 2020-06-05 22:46:30\n",
      "28: CA5jWuUHt5J - 2020-06-01 12:31:07\n",
      "29: CAvFmHBHkvT - 2020-05-28 10:58:40\n",
      "30: CAeMdz7Hmzu - 2020-05-21 21:31:37\n",
      "31: CAT5lo6g7D6 - 2020-05-17 21:34:15\n",
      "32: CAKADfKAClA - 2020-05-14 01:18:21\n"
     ]
    },
    {
     "name": "stderr",
     "output_type": "stream",
     "text": [
      "  2%|▏         | 3/121 [09:46<6:30:15, 198.44s/it]"
     ]
    },
    {
     "name": "stdout",
     "output_type": "stream",
     "text": [
      "33: CAJHZJ-AtfL - 2020-05-13 17:03:14\n",
      "uiowaeye\n",
      "131\n",
      "0: CVGjF6MLdlJ - 2021-10-16 16:06:50\n",
      "1: CU5gfRpLtyq - 2021-10-11 14:33:57\n",
      "2: CUz3DYRgbI1 - 2021-10-09 09:55:41\n",
      "3: CSFgrMYrfZY - 2021-08-02 16:52:17\n",
      "4: CR4eaSih6Rh - 2021-07-28 15:22:22\n",
      "5: CRZ9tDLBZO4 - 2021-07-16 18:59:22\n",
      "6: CNDcat-hs1J - 2021-03-30 14:59:38\n",
      "7: CMVMAzah-wd - 2021-03-12 14:51:13\n",
      "8: CLxXNG7h8TX - 2021-02-26 16:57:51\n",
      "9: CLxWUtIhCmI - 2021-02-26 16:48:39\n",
      "10: CLCioVhhEos - 2021-02-08 12:31:53\n",
      "11: CKwbZApBXJp - 2021-02-01 11:42:18\n",
      "12: CKSH8vMhObS - 2021-01-20 17:15:12\n",
      "13: CJeV2zyBa35 - 2020-12-31 14:36:13\n",
      "14: CJEFs4ahll6 - 2020-12-21 09:54:48\n",
      "15: CIZZd9ZhfZC - 2020-12-04 20:00:11\n",
      "16: CIHJ_1tBmqf - 2020-11-27 17:58:40\n",
      "17: CH1Wo83BDSc - 2020-11-20 20:02:48\n",
      "18: CHjUSibhiWR - 2020-11-13 19:55:56\n",
      "19: CHQrqnvBzA5 - 2020-11-06 14:14:38\n",
      "20: CHCF1n1hDTh - 2020-10-31 23:14:43\n",
      "21: CG0psvnhHze - 2020-10-26 17:58:43\n",
      "22: CGs_jM6BeuV - 2020-10-23 18:35:44\n",
      "23: CGbEc9Ohm1b - 2020-10-16 19:32:14\n",
      "24: CGIXPQEBYIL - 2020-10-09 13:10:49\n",
      "25: CF2apBbhYaU - 2020-10-02 13:54:13\n",
      "26: CFkVN7Uh-HP - 2020-09-25 13:20:30\n",
      "27: CFSBqmqhuPa - 2020-09-18 10:43:19\n",
      "28: CE_ykgChthF - 2020-09-11 08:45:05\n",
      "29: CEuuo1wBk8Q - 2020-09-04 17:43:38\n",
      "30: CEurDPShh_W - 2020-09-04 17:12:18\n",
      "31: CErYBumh8Yo - 2020-09-03 10:28:20\n",
      "32: CEX1En_B_MV - 2020-08-26 20:17:20\n",
      "33: CEU0-swAAtJ - 2020-08-25 16:18:48\n",
      "34: CDRTinKBweQ - 2020-07-30 10:57:29\n",
      "35: CCZUaqzhUky - 2020-07-08 17:07:40\n",
      "36: CCHWE73BODX - 2020-07-01 17:35:51\n",
      "37: CCHKK0WhVZ3 - 2020-07-01 15:51:48\n",
      "38: CA704vMhNLd - 2020-06-02 09:42:47\n",
      "39: CA59rh4BgeP - 2020-06-01 16:21:09\n",
      "40: CAYizqeBJ2b - 2020-05-19 16:51:24\n",
      "41: CAVh_fWh1lA - 2020-05-18 12:46:33\n",
      "42: CAFpDLLgPjg - 2020-05-12 08:40:22\n",
      "43: B_8WtHphGNE - 2020-05-08 18:06:54\n",
      "44: B_YUGd4BUHP - 2020-04-24 18:11:30\n",
      "45: B_GTblBBPKi - 2020-04-17 18:19:19\n",
      "46: B_ArpkPhs3M - 2020-04-15 13:55:29\n",
      "47: B-X9--dhNrL - 2020-03-30 18:26:50\n",
      "48: B-LEjQZBaEX - 2020-03-25 18:14:06\n",
      "49: B9U37Cbh90m - 2020-03-04 16:04:45\n",
      "50: B9P4SdbBFtq - 2020-03-02 17:31:45\n",
      "51: B9IbgpBByZl - 2020-02-28 20:05:36\n",
      "52: B9Aex5VhLMx - 2020-02-25 18:00:15\n",
      "53: B8kN33hBNbD - 2020-02-14 18:33:47\n",
      "54: B8SE_dfhy2M - 2020-02-07 17:29:50\n",
      "55: B7UQXdvBZFq - 2020-01-14 17:16:19\n",
      "56: B6yFMKXByOH - 2020-01-01 10:44:29\n",
      "57: B53CC4CBH2D - 2019-12-09 12:21:49\n",
      "58: B5vO208h1P5 - 2019-12-06 11:39:50\n",
      "59: B5s8YX2hQKm - 2019-12-05 14:19:55\n",
      "60: B5BgYo0BnhV - 2019-11-18 17:27:56\n",
      "61: B4lFvxpBZ2m - 2019-11-07 16:36:26\n",
      "62: B4imIOMAyTf - 2019-11-06 17:21:40\n",
      "63: B4dhGhkBESS - 2019-11-04 18:01:32\n",
      "64: B4TFuxNhlFJ - 2019-10-31 17:49:58\n",
      "65: B3pskJbBYgd - 2019-10-15 16:01:12\n",
      "66: B3mkhZDBqyF - 2019-10-14 10:53:12\n",
      "67: B3lDVgShU-l - 2019-10-13 20:43:58\n",
      "68: B3hnM-sB_sP - 2019-10-12 12:40:25\n",
      "69: B3fsZ6NhYyn - 2019-10-11 18:47:24\n",
      "70: B3NJBU8Bol9 - 2019-10-04 13:51:52\n",
      "71: B3IXVvlBken - 2019-10-02 17:20:48\n",
      "72: B3FeS6NBYJM - 2019-10-01 14:23:51\n",
      "73: B2m11vpB5ab - 2019-09-19 16:53:08\n",
      "74: B2AVMlZhPlz - 2019-09-04 17:56:45\n",
      "75: B1wiMfjhIBn - 2019-08-29 14:42:29\n",
      "76: B1pA9-mBbzJ - 2019-08-26 16:37:27\n",
      "77: B1mCGElhiK- - 2019-08-25 12:49:35\n",
      "78: B1km9_NhQN4 - 2019-08-24 23:33:18\n",
      "79: B1ji3ithylK - 2019-08-24 13:38:14\n",
      "80: B1hASQUh0Nw - 2019-08-23 13:57:34\n",
      "81: B1fdvCgBQ3M - 2019-08-22 23:36:25\n",
      "82: B1elt7-Bdkn - 2019-08-22 15:26:56\n",
      "83: B1W8EHtBs8L - 2019-08-19 16:08:17\n",
      "84: B01jkK4BtMt - 2019-08-06 16:59:16\n",
      "85: B0mJSknhMz2 - 2019-07-31 17:21:04\n",
      "86: B0g2yPxBw_Y - 2019-07-29 16:03:09\n",
      "87: Bz-ukBZBdOe - 2019-07-16 09:57:08\n",
      "88: By8K0weBK_w - 2019-06-20 13:34:58\n",
      "89: ByQ40_HhJS1 - 2019-06-03 18:10:22\n",
      "90: BxkcpcNAn2e - 2019-05-17 11:57:33\n",
      "91: BvmFpzpg46s - 2019-03-29 10:12:18\n",
      "92: BvUqKUJgRMx - 2019-03-22 15:44:59\n",
      "93: BvKpTGHAZEL - 2019-03-18 18:25:03\n",
      "94: Bu3xY10gEwl - 2019-03-11 10:30:10\n",
      "95: BuZlC47AwYW - 2019-02-27 16:05:06\n",
      "96: BuKNuY_gokl - 2019-02-21 16:52:43\n",
      "97: Bt62KTlgkOd - 2019-02-15 17:38:12\n",
      "98: Bt4S3QxnRCf - 2019-02-14 17:51:17\n",
      "99: BtT4ArkAT5W - 2019-01-31 14:23:59\n",
      "100: BtQ5yHRgvFE - 2019-01-30 10:41:45\n",
      "101: BtEfHEClqbv - 2019-01-25 14:57:47\n",
      "102: BsoD0WaFG2Y - 2019-01-14 14:00:34\n",
      "103: BsZA9Wdln_F - 2019-01-08 17:46:59\n",
      "104: Brfue7rAJI4 - 2018-12-17 11:48:50\n",
      "105: BrQ6LF-FdPE - 2018-12-11 17:42:22\n",
      "106: Bqz1Y2CAIfo - 2018-11-30 10:42:35\n",
      "107: BqsicUHluMJ - 2018-11-27 14:42:21\n",
      "108: BqXdfOpFHgM - 2018-11-19 10:15:00\n",
      "109: BqP9uuOFSzY - 2018-11-16 12:22:49\n",
      "110: BqN4whGA99U - 2018-11-15 17:00:53\n",
      "111: BqLUdVLg-IY - 2018-11-14 17:05:13\n",
      "112: BqIvqyOjkBN - 2018-11-13 17:05:15\n",
      "113: BqGKW6sDSZ4 - 2018-11-12 17:00:45\n",
      "114: BqDTMzll4cv - 2018-11-11 14:20:18\n",
      "115: Bp5EvbGljPU - 2018-11-07 15:01:33\n",
      "116: Bp2LXCmAVcj - 2018-11-06 12:01:40\n",
      "117: BpnL-zPFhFX - 2018-10-31 17:18:29\n",
      "118: BpUY0cMlaHh - 2018-10-24 10:05:05\n",
      "119: BpPKHRnjcAo - 2018-10-22 09:20:23\n",
      "120: BpITNF6DGMq - 2018-10-19 17:25:08\n",
      "121: BpHymXalRC3 - 2018-10-19 12:40:14\n",
      "122: BpE_g31gbHt - 2018-10-18 10:35:21\n",
      "123: BpDKR1jAoNv - 2018-10-17 17:30:57\n",
      "124: BohW-pyA1jS - 2018-10-04 14:27:44\n",
      "125: BoM918ZAiN4 - 2018-09-26 16:23:17\n",
      "126: Bn9inaWAugO - 2018-09-20 16:36:46\n",
      "127: BnY7HfugZTw - 2018-09-06 11:18:58\n",
      "128: BnFEFpoAKnQ - 2018-08-29 18:12:33\n",
      "129: BnFAiylAlCF - 2018-08-29 17:41:34\n"
     ]
    },
    {
     "name": "stderr",
     "output_type": "stream",
     "text": [
      "  3%|▎         | 4/121 [27:23<17:28:25, 537.66s/it]"
     ]
    },
    {
     "name": "stdout",
     "output_type": "stream",
     "text": [
      "130: BlV0klhA0UL - 2018-07-17 13:21:15\n",
      "harvardophthalmologyresidents\n",
      "185\n",
      "0: CVbRFk7LCja - 2021-10-24 17:13:33\n",
      "1: CVSrCvsgks2 - 2021-10-21 09:07:11\n",
      "2: CVQUgxCg-Ex - 2021-10-20 11:11:50\n",
      "3: CVNfgFtg2Tj - 2021-10-19 08:50:08\n",
      "4: CVF6hSrgVZT - 2021-10-16 10:12:18\n",
      "5: CVD2Ry1rw9Z - 2021-10-15 14:56:45\n",
      "6: CU0zeE2APIp - 2021-10-09 18:43:37\n",
      "7: CUv90WNNN27 - 2021-10-07 21:37:50\n",
      "8: CUmv3fPA9bL - 2021-10-04 07:42:46\n",
      "9: CUlbBfstPxc - 2021-10-03 19:21:23\n",
      "10: CUi_CYrN-7b - 2021-10-02 20:38:22\n",
      "11: CUgFpF9AS-E - 2021-10-01 17:38:21\n",
      "12: CUQkhrRLDIb - 2021-09-25 17:00:22\n",
      "13: CUKiDBBA9dQ - 2021-09-23 08:43:16\n",
      "14: CUI9RelrJWz - 2021-09-22 18:02:41\n",
      "15: CUGtrWkN07j - 2021-09-21 21:07:56\n",
      "16: CUCuKBPrweD - 2021-09-20 07:55:09\n",
      "17: CUBo-EyNcie - 2021-09-19 21:50:36\n",
      "18: CT6-xmmrs4x - 2021-09-17 07:46:27\n",
      "19: CT3WaKjNK0N - 2021-09-15 21:56:00\n",
      "20: CT0SUGHLGmW - 2021-09-14 17:22:30\n",
      "21: CTwemI5LgTj - 2021-09-13 05:52:51\n",
      "22: CTpgXDtrzTl - 2021-09-10 12:53:35\n",
      "23: CTm7cDsLVF4 - 2021-09-09 12:52:29\n",
      "24: CTkYuFtrIgi - 2021-09-08 13:10:38\n",
      "25: CTiMFNbLAIZ - 2021-09-07 16:41:42\n",
      "26: CTft-8frbQn - 2021-09-06 17:40:13\n",
      "27: CTW8pHErCTx - 2021-09-03 07:55:09\n",
      "28: CTUgVi9rO0K - 2021-09-02 09:09:20\n",
      "29: CTQgaXVtjc3 - 2021-08-31 19:53:02\n",
      "30: CTK-JrQrhnV - 2021-08-29 16:17:27\n",
      "31: CTDmf3EtvNZ - 2021-08-26 19:36:05\n",
      "32: CS-qPgHNBkt - 2021-08-24 21:32:36\n",
      "33: CS72G8JtCqm - 2021-08-23 19:18:34\n",
      "34: CS5KkbmrSAj - 2021-08-22 18:19:38\n",
      "35: CSXhP9Rrd59 - 2021-08-09 16:43:38\n",
      "36: CRxGhEehk9Y - 2021-07-25 18:38:54\n",
      "37: CRuLp2CBzGS - 2021-07-24 15:26:04\n",
      "38: CRoe2-aBvCR - 2021-07-22 10:18:26\n",
      "39: CRVGJPkh8-V - 2021-07-14 21:36:55\n",
      "40: CRPpQqUhoZV - 2021-07-12 18:48:19\n",
      "41: CRKSnx7BEXo - 2021-07-10 16:54:18\n",
      "42: CRFMl94h2n7 - 2021-07-08 17:25:25\n",
      "43: COlgAFJh5mM - 2021-05-07 16:56:31\n",
      "44: CNXRR_TBYgI - 2021-04-07 07:47:08\n",
      "45: CMc2srEh6A8 - 2021-03-15 15:18:54\n",
      "46: CMLiPvphMdF - 2021-03-08 20:53:05\n",
      "47: CL_6VqCh21p - 2021-03-04 08:32:44\n",
      "48: CLwfUTJhVqu - 2021-02-26 08:48:00\n",
      "49: CLvCF9_h6ph - 2021-02-25 19:13:24\n",
      "50: CLuyGCiBfqx - 2021-02-25 16:53:36\n",
      "51: CLetFJ8B24O - 2021-02-19 11:01:56\n",
      "52: CLdP8Obh0V6 - 2021-02-18 21:28:05\n",
      "53: CKxIsmdhtCJ - 2021-02-01 18:18:11\n",
      "54: CKtuhPWhdqK - 2021-01-31 10:31:44\n",
      "55: CKrL845Bv_7 - 2021-01-30 10:51:11\n",
      "56: CJzx0ZohLyE - 2021-01-08 22:24:36\n",
      "57: CJzvucQhzbd - 2021-01-08 22:06:19\n",
      "58: CJuiVQwBM4U - 2021-01-06 21:33:05\n",
      "59: CJthhYghD-G - 2021-01-06 12:06:45\n",
      "60: CJsGIAWhuLe - 2021-01-05 22:48:07\n",
      "61: CJraMYuhx5Y - 2021-01-05 16:24:15\n",
      "62: CJlrZAqhD21 - 2021-01-03 10:59:04\n",
      "63: CJhjQvLh_tD - 2021-01-01 20:31:04\n",
      "64: CJMhvhTBCL7 - 2020-12-24 16:33:45\n",
      "65: CJKOuluBVnb - 2020-12-23 19:46:41\n",
      "66: CJHinUKBgnl - 2020-12-22 18:05:10\n",
      "67: CJE7UeYhbEv - 2020-12-21 17:43:19\n",
      "68: CJCzBcuhTCZ - 2020-12-20 21:52:20\n",
      "69: CI63xj-hfoW - 2020-12-17 19:59:56\n",
      "70: CIs6p9FB_9I - 2020-12-12 09:55:45\n",
      "71: CIqTcTjBjju - 2020-12-11 09:34:37\n",
      "72: CIoa4WLhOaF - 2020-12-10 16:01:08\n",
      "73: CIjl0i6ho_D - 2020-12-08 19:00:32\n",
      "74: CIhOiGuBJYz - 2020-12-07 20:58:33\n",
      "75: CIVWmxsBRXT - 2020-12-03 06:18:12\n",
      "76: CIU03syhUQo - 2020-12-03 01:24:12\n",
      "77: CITCyh9h_eW - 2020-12-02 08:46:34\n",
      "78: CIRWA1uBgxi - 2020-12-01 16:56:04\n",
      "79: CIQU0BGBx_6 - 2020-12-01 07:26:20\n",
      "80: CIN0NQ6B5ZH - 2020-11-30 08:02:57\n",
      "81: CINsKGBBapw - 2020-11-30 06:52:36\n",
      "82: CIMRgj0BUbJ - 2020-11-29 17:40:30\n",
      "83: CII1YeSBb4q - 2020-11-28 09:58:01\n",
      "84: CIGTHK2hVLu - 2020-11-27 09:59:04\n",
      "85: CIChW9tBZwu - 2020-11-25 22:46:36\n",
      "86: CH_tY73hmJ1 - 2020-11-24 20:34:00\n",
      "87: CH5mZM_BiVI - 2020-11-22 11:37:26\n",
      "88: CHyWtnLhCkF - 2020-11-19 16:05:43\n",
      "89: CHsy2Irhg32 - 2020-11-17 12:16:07\n",
      "90: CHpuM3_hqRw - 2020-11-16 07:37:48\n",
      "91: CHoVGLTBWUq - 2020-11-15 18:39:12\n",
      "92: CHjFGccBv3x - 2020-11-13 17:43:13\n",
      "93: CHgWsXjB1ke - 2020-11-12 16:19:13\n",
      "94: CHdIv7ZBXTz - 2020-11-11 10:19:39\n",
      "95: CHa6NDgAPta - 2020-11-10 13:34:05\n",
      "96: CHaPrT5hWrZ - 2020-11-10 07:22:28\n",
      "97: CHYTQN_hbh2 - 2020-11-09 13:15:14\n",
      "98: CHXpgWABvnU - 2020-11-09 07:10:26\n",
      "99: CHWdBZKhPRL - 2020-11-08 20:02:07\n",
      "100: CHQYyOUhL70 - 2020-11-06 11:30:51\n",
      "101: CHOoRyEBAvb - 2020-11-05 19:06:33\n",
      "102: CHLRg7mB7xa - 2020-11-04 11:49:55\n",
      "103: CHISlGdBmcK - 2020-11-03 08:01:30\n",
      "104: CHGYTq-hd1Q - 2020-11-02 14:13:04\n",
      "105: CG969oWhMTZ - 2020-10-30 08:22:44\n",
      "106: CG9y8Gsho-a - 2020-10-30 07:12:37\n",
      "107: CG5G_jaBkf2 - 2020-10-28 11:31:39\n",
      "108: CG2liLbBFVT - 2020-10-27 12:00:48\n",
      "109: CG0EOd1hZTq - 2020-10-26 12:31:16\n",
      "110: CGzhDOUh4Ny - 2020-10-26 07:23:54\n",
      "111: CGv17LXhjMy - 2020-10-24 21:09:20\n",
      "112: CGr54D5B0_7 - 2020-10-23 08:26:54\n",
      "113: CGpH0wRhUq5 - 2020-10-22 06:31:04\n",
      "114: CGmvnKyBoTg - 2020-10-21 08:21:01\n",
      "115: CGjvlcLh5iu - 2020-10-20 04:23:03\n",
      "116: CGhR3EhBJFL - 2020-10-19 05:24:50\n",
      "117: CGbBuGDh_Gq - 2020-10-16 19:08:22\n",
      "118: CGaGZN-Bj6f - 2020-10-16 10:29:58\n",
      "119: CGYUlCUB_rp - 2020-10-15 17:55:26\n",
      "120: CGXW0m5BUAZ - 2020-10-15 08:55:56\n",
      "121: CGUv3UHhkDl - 2020-10-14 08:36:53\n",
      "122: CGTRwO6hqNz - 2020-10-13 18:54:32\n",
      "123: CGSpZblBw4K - 2020-10-13 13:01:54\n",
      "124: CGQJesPhRZh - 2020-10-12 13:44:31\n",
      "125: CGPoj1yhIX6 - 2020-10-12 08:56:52\n",
      "126: CGN0vNvBc1g - 2020-10-11 16:04:47\n",
      "127: CGNF49FBv5i - 2020-10-11 09:15:26\n",
      "128: CGGX9AFBYoa - 2020-10-08 18:38:35\n",
      "129: CGDOa1FBbHY - 2020-10-07 13:17:33\n",
      "130: CGBGqkyB9nC - 2020-10-06 17:31:19\n",
      "131: CF96kCeB-F7 - 2020-10-05 11:47:51\n",
      "132: CF8Hd1XBiBz - 2020-10-04 19:02:07\n",
      "133: CF2-mU2B13k - 2020-10-02 19:08:26\n",
      "134: CF1uT7Whm-F - 2020-10-02 07:26:52\n",
      "135: CFzNTT3BLnY - 2020-10-01 07:59:56\n",
      "136: CFve7FoBRMU - 2020-09-29 21:16:57\n",
      "137: CFsOsifh9gK - 2020-09-28 14:57:26\n",
      "138: CFqPeB6hhtZ - 2020-09-27 20:25:43\n",
      "139: CFma17th5yv - 2020-09-26 08:48:08\n",
      "140: CFlEANGBvzr - 2020-09-25 20:09:19\n",
      "141: CFiPrbiBr_U - 2020-09-24 17:53:37\n",
      "142: CFhVFyFBvtd - 2020-09-24 09:21:40\n",
      "143: CFfTIDfjjcv - 2020-09-23 14:26:01\n",
      "144: CFbN11ljHQN - 2020-09-22 00:22:53\n",
      "145: CFX5_jlhDO0 - 2020-09-20 17:31:43\n",
      "146: CFR9G-dhFce - 2020-09-18 10:03:30\n",
      "147: CFPGs2KhbAW - 2020-09-17 07:29:36\n",
      "148: CFMpCTpBNkE - 2020-09-16 08:31:54\n",
      "149: CFJ7uZVhK3g - 2020-09-15 07:17:29\n",
      "150: CFHPcqChtAe - 2020-09-14 06:12:07\n",
      "151: CFFzUcmBEbJ - 2020-09-13 16:47:05\n",
      "152: CFBLMsXBkXv - 2020-09-11 21:39:32\n",
      "153: CE-dUx3BFVN - 2020-09-10 20:20:12\n",
      "154: CE76jX9pwA0 - 2020-09-09 20:37:53\n",
      "155: CE5X3DyBitA - 2020-09-08 20:56:15\n",
      "156: CE2IBBmB97I - 2020-09-07 14:40:05\n",
      "157: CEzHFLoBJS7 - 2020-09-06 10:34:11\n",
      "158: CEwzzlECCEu - 2020-09-05 13:13:46\n",
      "159: CEukHVYh3kf - 2020-09-04 16:11:41\n",
      "160: CEpJy1ZBt2R - 2020-09-02 13:45:29\n",
      "161: CEokW0dAlBH - 2020-09-02 08:18:21\n",
      "162: CEmteZmhSeH - 2020-09-01 14:59:33\n",
      "163: CEjarjrBA0T - 2020-08-31 08:17:36\n",
      "164: CEhMwWqh9HN - 2020-08-30 11:37:27\n",
      "165: CEcdNQehyir - 2020-08-28 15:25:00\n",
      "166: CEaHdz7BfM7 - 2020-08-27 17:36:32\n",
      "167: CEX3mAahFrZ - 2020-08-26 20:39:22\n",
      "168: CEVHRunBl9q - 2020-08-25 18:58:41\n",
      "169: CESEe2vBPqf - 2020-08-24 14:36:32\n",
      "170: CEO-m_EhL1p - 2020-08-23 09:47:30\n",
      "171: CEMwQ2ihve_ - 2020-08-22 13:03:40\n",
      "172: CEK-MLvBodt - 2020-08-21 20:26:53\n",
      "173: CEFq8x0hH_Z - 2020-08-19 19:02:33\n",
      "174: CEDTidmBng8 - 2020-08-18 20:59:30\n",
      "175: CEAtpnUhjba - 2020-08-17 20:49:57\n",
      "176: CD9wlcBheVc - 2020-08-16 17:17:52\n",
      "177: CDb8JRvh8Rh - 2020-08-03 14:04:42\n",
      "178: CCopB-WHEl1 - 2020-07-14 15:56:25\n",
      "179: CCcGltuHXX4 - 2020-07-09 19:04:34\n",
      "180: CCJWvA_nnKQ - 2020-07-02 12:20:05\n",
      "181: CBn_QCJHAzt - 2020-06-19 13:19:56\n",
      "182: CA8PVRwAKtF - 2020-06-02 13:33:53\n",
      "183: CAYFeL1JCqo - 2020-05-19 12:35:03\n"
     ]
    },
    {
     "name": "stderr",
     "output_type": "stream",
     "text": [
      "  4%|▍         | 5/121 [51:37<27:57:40, 867.76s/it]"
     ]
    },
    {
     "name": "stdout",
     "output_type": "stream",
     "text": [
      "184: CAYCNPkJ2n5 - 2020-05-19 12:06:32\n",
      "steineyeresidents\n",
      "12\n",
      "0: CVYskJKBCC7 - 2021-10-23 17:15:56\n",
      "1: CU06bx3v5g9 - 2021-10-09 19:44:28\n",
      "2: CUq6Oy7FL4G - 2021-10-05 22:30:17\n",
      "3: CUq57zIlSGM - 2021-10-05 22:27:42\n",
      "4: CUGXhpphXEV - 2021-09-21 17:54:22\n",
      "5: CTzoU7aJlCn - 2021-09-14 11:15:36\n",
      "6: CTfkWGBhWNQ - 2021-09-06 16:16:00\n",
      "7: CTORrE_ns6v - 2021-08-30 23:05:45\n",
      "8: CTGtTNErL05 - 2021-08-28 00:33:14\n",
      "9: CSLcnVarUSj - 2021-08-05 00:12:15\n",
      "10: CRpAJecBnAr - 2021-07-22 15:09:20\n"
     ]
    },
    {
     "name": "stderr",
     "output_type": "stream",
     "text": [
      "  5%|▍         | 6/121 [53:24<19:27:43, 609.25s/it]"
     ]
    },
    {
     "name": "stdout",
     "output_type": "stream",
     "text": [
      "11: CRVPli7hwsz - 2021-07-14 22:59:25\n",
      "dukeeyeresidents\n",
      "12\n",
      "0: CU3kfE9tGL5 - 2021-10-10 20:30:24\n",
      "1: CUtDIHQgGOO - 2021-10-06 18:26:30\n",
      "2: CUSevMagUUH - 2021-09-26 10:48:16\n",
      "3: CTqEu1HAwFr - 2021-09-10 18:11:24\n",
      "4: CTKjMfwLGyp - 2021-08-29 12:21:54\n",
      "5: CS0KgQntAum - 2021-08-20 19:42:51\n",
      "6: CSfUc1vLsTz - 2021-08-12 17:25:43\n",
      "7: CSaMCryrEG1 - 2021-08-10 17:36:03\n",
      "8: CRT8QDTB8Em - 2021-07-14 10:51:13\n",
      "9: CQ7foB9hMnh - 2021-07-04 22:59:19\n",
      "10: CQujE1OBA9P - 2021-06-29 22:19:20\n"
     ]
    },
    {
     "name": "stderr",
     "output_type": "stream",
     "text": [
      "  6%|▌         | 7/121 [55:12<14:06:30, 445.53s/it]"
     ]
    },
    {
     "name": "stdout",
     "output_type": "stream",
     "text": [
      "11: CLxx1CsByO3 - 2021-02-26 20:49:00\n",
      "kelloggeyecenter\n",
      "12\n",
      "0: CM0jZsKlNW1 - 2021-03-24 20:12:04\n",
      "1: CLjxMc1gfuJ - 2021-02-21 10:14:07\n",
      "2: CLZgRLEgUlJ - 2021-02-17 10:33:48\n",
      "3: CH8PVtUFPoO - 2020-11-23 12:13:43\n",
      "4: CHfyZAqlQSy - 2020-11-12 11:02:02\n",
      "5: CGRVEi8j-6g - 2020-10-13 00:45:05\n",
      "6: CGIrZPZlsYv - 2020-10-09 16:06:59\n",
      "7: CGFajSLjvZJ - 2020-10-08 09:42:05\n",
      "8: CF1yruDleK5 - 2020-10-02 08:05:05\n",
      "9: CFzi7m-l23l - 2020-10-01 11:08:58\n",
      "10: CFsJRpVFXY6 - 2020-09-28 14:10:06\n"
     ]
    },
    {
     "name": "stderr",
     "output_type": "stream",
     "text": [
      "  7%|▋         | 8/121 [56:59<10:35:50, 337.62s/it]"
     ]
    },
    {
     "name": "stdout",
     "output_type": "stream",
     "text": [
      "11: CDMHJvYFSZe - 2020-07-28 10:33:04\n",
      "moraneyeresidents\n",
      "12\n",
      "0: CVStgbyFRlJ - 2021-10-21 09:28:43\n",
      "1: CUp6QZTJN8q - 2021-10-05 13:11:16\n",
      "2: CUNiYdGpMrP - 2021-09-24 12:43:55\n",
      "3: CUF886crAHA - 2021-09-21 14:02:10\n",
      "4: CTLZjbTJfKb - 2021-08-29 20:16:54\n",
      "5: CSx-qvktMSj - 2021-08-19 23:20:57\n",
      "6: CSqusTJLSoh - 2021-08-17 03:46:40\n",
      "7: CSpijp3Bp_k - 2021-08-16 16:41:23\n",
      "8: CSf-uI5tUBf - 2021-08-12 23:35:05\n",
      "9: CSUkzKCLxjG - 2021-08-08 13:16:56\n",
      "10: CRXXMz1haaO - 2021-07-15 18:44:26\n"
     ]
    },
    {
     "name": "stderr",
     "output_type": "stream",
     "text": [
      "  7%|▋         | 9/121 [58:42<8:13:25, 264.33s/it] "
     ]
    },
    {
     "name": "stdout",
     "output_type": "stream",
     "text": [
      "11: CRMz-QuhSE0 - 2021-07-11 16:24:12\n",
      "ucsfophtho\n",
      "12\n",
      "0: CUU_jCrlMJd - 2021-09-27 10:13:27\n",
      "1: CUBPVOHBFfi - 2021-09-19 18:06:34\n",
      "2: CSI-llerEcm - 2021-08-04 01:11:23\n",
      "3: CRmicpUBIMO - 2021-07-21 16:11:19\n",
      "4: CRCNWicBgaX - 2021-07-07 13:34:19\n",
      "5: CQ2OWzMBzCR - 2021-07-02 21:52:13\n",
      "6: CQtPkUYhpz8 - 2021-06-29 10:09:38\n",
      "7: CQWCNe5hJ_I - 2021-06-20 09:50:23\n",
      "8: CP0xKISh0vv - 2021-06-07 11:46:26\n",
      "9: CNc0hunhSU4 - 2021-04-09 11:31:19\n",
      "10: CNIM0__htzg - 2021-04-01 11:19:37\n"
     ]
    },
    {
     "name": "stderr",
     "output_type": "stream",
     "text": [
      "  8%|▊         | 10/121 [1:00:22<6:35:08, 213.59s/it]"
     ]
    },
    {
     "name": "stdout",
     "output_type": "stream",
     "text": [
      "11: CMs14IWBZo0 - 2021-03-21 20:19:34\n",
      "usceye\n",
      "12\n",
      "0: CVA9nbSA8Xb - 2021-10-14 12:03:11\n",
      "1: CUpyfLCLbL2 - 2021-10-05 12:03:25\n",
      "2: CUffVh1sUjL - 2021-10-01 12:03:40\n",
      "3: CUaVsiTrV0m - 2021-09-29 12:03:14\n",
      "4: CUXxMi8JrBl - 2021-09-28 12:05:46\n",
      "5: CT21cf2BvD7 - 2021-09-15 17:07:58\n",
      "6: CTsA9_kpCXa - 2021-09-11 12:17:00\n",
      "7: CTfAdAvrk8Y - 2021-09-06 11:02:25\n",
      "8: CTX7dYPBzxs - 2021-09-03 17:04:03\n",
      "9: CSzqRkBFPeW - 2021-08-20 15:01:16\n",
      "10: CSZmLy2Dnqn - 2021-08-10 12:05:17\n"
     ]
    },
    {
     "name": "stderr",
     "output_type": "stream",
     "text": [
      "  9%|▉         | 11/121 [1:02:03<5:28:07, 178.97s/it]"
     ]
    },
    {
     "name": "stdout",
     "output_type": "stream",
     "text": [
      "11: CSM1EznLO70 - 2021-08-05 13:05:16\n",
      "bcmhouston\n",
      "12\n",
      "0: CVV9xTopmKP - 2021-10-22 15:48:33\n",
      "1: CVVfUS-tkoN - 2021-10-22 11:23:36\n",
      "2: CVQMj0grihV - 2021-10-20 10:03:14\n",
      "3: CU5JIb8NO4o - 2021-10-11 11:09:51\n",
      "4: CUyH9v_poKW - 2021-10-08 17:44:59\n",
      "5: CUxvMy1BDkz - 2021-10-08 14:09:26\n",
      "6: CUuwIWsNfAD - 2021-10-07 10:18:59\n",
      "7: CUiKmqBMhpT - 2021-10-02 13:00:31\n",
      "8: CUgD1SnsDuE - 2021-10-01 17:23:42\n",
      "9: CUViMLeMJHc - 2021-09-27 15:16:10\n",
      "10: CUP7U9mlhvA - 2021-09-25 11:00:22\n"
     ]
    },
    {
     "name": "stderr",
     "output_type": "stream",
     "text": [
      " 10%|▉         | 12/121 [1:03:47<4:43:40, 156.15s/it]"
     ]
    },
    {
     "name": "stdout",
     "output_type": "stream",
     "text": [
      "11: CUNrmUVNpR0 - 2021-09-24 14:05:39\n",
      "ohsucaseyeye\n",
      "12\n",
      "0: CVdlbvDtVC_ - 2021-10-25 14:49:49\n",
      "1: CVTTbfuNIEm - 2021-10-21 15:00:06\n",
      "2: CVQnw9ABtNW - 2021-10-20 14:00:04\n",
      "3: CVOC-lJNyzQ - 2021-10-19 14:00:08\n",
      "4: CVLooxEhv2- - 2021-10-18 15:31:29\n",
      "5: CVBmd7hNVB7 - 2021-10-14 18:00:07\n",
      "6: CVBETYUjPhg - 2021-10-14 13:01:35\n",
      "7: CU-1WmWDnHq - 2021-10-13 16:12:28\n",
      "8: CUxuO2GLypQ - 2021-10-08 14:00:07\n",
      "9: CUvNvgAsWTz - 2021-10-07 14:37:44\n",
      "10: CUsrfzcDNlQ - 2021-10-06 15:00:01\n"
     ]
    },
    {
     "name": "stderr",
     "output_type": "stream",
     "text": [
      " 11%|█         | 13/121 [1:05:24<4:09:04, 138.37s/it]"
     ]
    },
    {
     "name": "stdout",
     "output_type": "stream",
     "text": [
      "11: CUqkO3vvgFa - 2021-10-05 19:18:03\n",
      "utsweye\n",
      "5\n",
      "0: CUeQdfTggRS - 2021-10-01 00:34:24\n",
      "1: CTgYUNjNY6j - 2021-09-06 23:50:08\n",
      "2: CTTbBBmNmZ0 - 2021-09-01 23:03:36\n",
      "3: CSzIN1KrFSl - 2021-08-20 10:03:37\n"
     ]
    },
    {
     "name": "stderr",
     "output_type": "stream",
     "text": [
      " 12%|█▏        | 14/121 [1:05:58<3:10:19, 106.72s/it]"
     ]
    },
    {
     "name": "stdout",
     "output_type": "stream",
     "text": [
      "4: CSX4Q0YA3D1 - 2021-08-09 20:04:44\n",
      "emoryeyeresidency\n",
      "12\n",
      "0: CTm2us2rVNx - 2021-09-09 12:11:20\n",
      "1: CRIBrSKB8zK - 2021-07-09 19:47:45\n",
      "2: CQzVC2ZhnvR - 2021-07-01 18:52:56\n",
      "3: CQRLZeENzuN - 2021-06-18 12:34:28\n",
      "4: CPx5aZehHWU - 2021-06-06 09:00:51\n",
      "5: CPx4VswhpEB - 2021-06-06 08:53:23\n",
      "6: CPsozjGhzjg - 2021-06-04 07:59:32\n",
      "7: COWPgVCB1sF - 2021-05-01 18:43:46\n",
      "8: COWPC7YBQag - 2021-05-01 18:39:45\n",
      "9: CKFfrSShITP - 2021-01-15 19:32:24\n",
      "10: CJBmtiXF1Ft - 2020-12-20 10:45:31\n"
     ]
    },
    {
     "name": "stderr",
     "output_type": "stream",
     "text": [
      " 12%|█▏        | 15/121 [1:07:36<3:03:57, 104.13s/it]"
     ]
    },
    {
     "name": "stdout",
     "output_type": "stream",
     "text": [
      "11: CI9UO8gFAFv - 2020-12-18 18:47:06\n",
      "penn.eyeres\n",
      "12\n",
      "0: CVI7HjAALMk - 2021-10-17 14:15:15\n",
      "1: CUp1vh3gNab - 2021-10-05 12:31:49\n",
      "2: CUnIkBnA7Bc - 2021-10-04 11:18:33\n",
      "3: CTVydJ8tblf - 2021-09-02 21:06:54\n",
      "4: CTLnLk9NUCi - 2021-08-29 22:15:58\n",
      "5: CTAV8RwLa-0 - 2021-08-25 13:13:41\n",
      "6: CQpON-vhnku - 2021-06-27 20:40:53\n",
      "7: CQfGiO8h9W4 - 2021-06-23 22:21:20\n",
      "8: CQTsaR_hjO- - 2021-06-19 12:01:25\n",
      "9: CO0C4lOhgsw - 2021-05-13 08:30:42\n",
      "10: COUJHiqBEz7 - 2021-04-30 23:09:28\n"
     ]
    },
    {
     "name": "stderr",
     "output_type": "stream",
     "text": [
      " 13%|█▎        | 16/121 [1:09:12<2:58:08, 101.79s/it]"
     ]
    },
    {
     "name": "stdout",
     "output_type": "stream",
     "text": [
      "11: CN8aB71h0wg - 2021-04-21 17:55:29\n",
      "clevelandclinic\n",
      "12\n",
      "0: CVX9PbOtqwv - 2021-10-23 10:22:25\n",
      "1: CVWH-tVN35N - 2021-10-22 17:17:46\n",
      "2: CVP__gKAaGZ - 2021-10-20 08:12:32\n",
      "3: CVOMpWuFn2b - 2021-10-19 15:25:57\n",
      "4: CVLCu_NNI38 - 2021-10-18 10:00:17\n",
      "5: CVD2uppNvXr - 2021-10-15 15:00:42\n",
      "6: CU-mNO2NPu4 - 2021-10-13 14:00:07\n",
      "7: CU99LsIAccN - 2021-10-13 08:01:39\n",
      "8: CU2Y_aDNufh - 2021-10-10 09:30:43\n",
      "9: CUvcxcBg-qZ - 2021-10-07 16:49:04\n",
      "10: CUu6o7FAyiB - 2021-10-07 11:50:49\n"
     ]
    },
    {
     "name": "stderr",
     "output_type": "stream",
     "text": [
      " 14%|█▍        | 17/121 [1:10:55<2:57:07, 102.19s/it]"
     ]
    },
    {
     "name": "stdout",
     "output_type": "stream",
     "text": [
      "11: CUqR0p7l6QT - 2021-10-05 16:37:12\n",
      "deanmcgeeeyeinstitute\n",
      "12\n",
      "0: CVdtheAvecX - 2021-10-25 16:00:34\n",
      "1: CVTdxhPllkZ - 2021-10-21 16:30:32\n",
      "2: CVQhC3tDpsH - 2021-10-20 13:01:24\n",
      "3: CVOQ0EeFsda - 2021-10-19 16:01:05\n",
      "4: CVLvaWXD0Bd - 2021-10-18 16:30:44\n",
      "5: CVDNjjfsZbh - 2021-10-15 09:00:58\n",
      "6: CVBR9wogEF7 - 2021-10-14 15:01:01\n",
      "7: CU5PAzeMnTj - 2021-10-11 12:01:18\n",
      "8: CUsd59yMJ5y - 2021-10-06 13:01:18\n",
      "9: CUn_QYxrm6V - 2021-10-04 19:16:34\n",
      "10: CUdgSxFARhu - 2021-09-30 17:33:31\n"
     ]
    },
    {
     "name": "stderr",
     "output_type": "stream",
     "text": [
      " 15%|█▍        | 18/121 [1:12:35<2:53:57, 101.33s/it]"
     ]
    },
    {
     "name": "stdout",
     "output_type": "stream",
     "text": [
      "11: CUVuFtMhCk2 - 2021-09-27 17:00:11\n",
      "washuophtho\n",
      "12\n",
      "0: CUoU9UytBS1 - 2021-10-04 22:26:07\n",
      "1: CUOY_VCNlRG - 2021-09-24 20:41:05\n",
      "2: CUB0Rj2N7gC - 2021-09-19 23:29:22\n",
      "3: CT_Sc_At4SJ - 2021-09-18 23:55:21\n",
      "4: CT5rqa-t9Gb - 2021-09-16 19:40:12\n",
      "5: CTyad0xMfQQ - 2021-09-13 23:55:15\n",
      "6: CTvIBbUrwsw - 2021-09-12 17:16:22\n",
      "7: CTlxqDcLYUx - 2021-09-09 02:07:46\n",
      "8: CTH0YuOLSj8 - 2021-08-28 10:54:24\n",
      "9: CS2NO4or1Nk - 2021-08-21 14:45:11\n",
      "10: CSxK4Ytrc_0 - 2021-08-19 15:48:26\n"
     ]
    },
    {
     "name": "stderr",
     "output_type": "stream",
     "text": [
      " 16%|█▌        | 19/121 [1:14:16<2:52:20, 101.38s/it]"
     ]
    },
    {
     "name": "stdout",
     "output_type": "stream",
     "text": [
      "11: CSQS781N9is - 2021-08-06 21:23:53\n",
      "nyeeresidency\n",
      "12\n",
      "0: CVcr8gHr82a - 2021-10-25 06:27:29\n",
      "1: CVJa2utsFlW - 2021-10-17 18:52:34\n",
      "2: CUztyb9AhYK - 2021-10-09 08:34:43\n",
      "3: CTpV5Rora6c - 2021-09-10 11:22:08\n",
      "4: CTMeQvLrLyI - 2021-08-30 06:17:16\n",
      "5: CSEmfsZLJHN - 2021-08-02 08:23:54\n",
      "6: CRELDR8haJ3 - 2021-07-08 07:52:42\n",
      "7: CQw68SiBXkx - 2021-06-30 20:26:22\n",
      "8: CQbzmYnBZKO - 2021-06-22 15:38:09\n",
      "9: CP1NndvBeO7 - 2021-06-07 15:55:07\n",
      "10: CPi6669h_g7 - 2021-05-31 13:25:25\n"
     ]
    },
    {
     "name": "stderr",
     "output_type": "stream",
     "text": [
      " 17%|█▋        | 20/121 [1:15:53<2:48:36, 100.17s/it]"
     ]
    },
    {
     "name": "stdout",
     "output_type": "stream",
     "text": [
      "11: CPGjKMwBd4e - 2021-05-20 12:59:03\n",
      "uiceyeresidents\n",
      "12\n",
      "0: CURFzYbtvaC - 2021-09-25 21:51:09\n",
      "1: CSX_35PNTmQ - 2021-08-09 21:11:14\n",
      "2: CRC3WBvgnYW - 2021-07-07 19:41:15\n",
      "3: CQeDng5h0Pr - 2021-06-23 12:36:36\n",
      "4: CMkjFgNB86X - 2021-03-18 15:01:27\n",
      "5: CMR9k-0BcaH - 2021-03-11 08:47:22\n",
      "6: CMKxpwLh04g - 2021-03-08 13:48:28\n",
      "7: CLNl0zTBDI4 - 2021-02-12 19:31:27\n",
      "8: CK4rR_8BM2m - 2021-02-04 16:35:05\n",
      "9: CJhAcJqhs_m - 2021-01-01 15:26:48\n",
      "10: CHeRJxChJpq - 2020-11-11 20:52:20\n"
     ]
    },
    {
     "name": "stderr",
     "output_type": "stream",
     "text": [
      " 17%|█▋        | 21/121 [1:17:34<2:47:03, 100.23s/it]"
     ]
    },
    {
     "name": "stdout",
     "output_type": "stream",
     "text": [
      "11: CFcdr5Ihgxd - 2020-09-22 12:00:34\n",
      "mayocliniccollege\n",
      "12\n",
      "0: CVToBtKs0Qv - 2021-10-21 18:00:14\n",
      "1: CVDgVu2AIzr - 2021-10-15 11:45:13\n",
      "2: CU7zrIZsghN - 2021-10-12 12:00:17\n",
      "3: CUqbTjHM5nP - 2021-10-05 18:00:13\n",
      "4: CUczRuWMiby - 2021-09-30 11:00:20\n",
      "5: CUNPojwsiuu - 2021-09-24 10:00:16\n",
      "6: CT7U7j9swbU - 2021-09-17 11:00:12\n",
      "7: CT4wJIsseHY - 2021-09-16 11:00:17\n",
      "8: CT2LWHhMcHE - 2021-09-15 11:00:14\n",
      "9: CTzfDhTAgGH - 2021-09-14 09:54:35\n",
      "10: CTpZX3-FUp7 - 2021-09-10 11:52:32\n"
     ]
    },
    {
     "name": "stderr",
     "output_type": "stream",
     "text": [
      " 18%|█▊        | 22/121 [1:19:14<2:45:10, 100.11s/it]"
     ]
    },
    {
     "name": "stdout",
     "output_type": "stream",
     "text": [
      "11: CTnZfLGMHI0 - 2021-09-09 17:15:13\n",
      "cincinnati_medicine\n",
      "12\n",
      "0: CVdMhf9Ldwe - 2021-10-25 11:12:09\n",
      "1: CVLBfqTLNBP - 2021-10-18 09:49:27\n",
      "2: CU45NgJL4TS - 2021-10-11 08:50:44\n",
      "3: CUsdnAMrJz- - 2021-10-06 12:58:40\n",
      "4: CUauVC_Pt_j - 2021-09-29 15:38:26\n",
      "5: CUIkyF1pmLn - 2021-09-22 14:28:41\n",
      "6: CT2TeKILraH - 2021-09-15 12:11:05\n",
      "7: CTkOGvBraiz - 2021-09-08 11:37:52\n",
      "8: CTSRZzgLmen - 2021-09-01 12:20:22\n",
      "9: CTAdg1NrTjK - 2021-08-25 14:19:51\n",
      "10: CSuN3l4rqTE - 2021-08-18 12:16:49\n"
     ]
    },
    {
     "name": "stderr",
     "output_type": "stream",
     "text": [
      " 19%|█▉        | 23/121 [1:20:53<2:43:08, 99.88s/it] "
     ]
    },
    {
     "name": "stdout",
     "output_type": "stream",
     "text": [
      "11: CSPLo5onTct - 2021-08-06 11:00:53\n",
      "columbiaophthalmology\n",
      "12\n",
      "0: CT3icp2tBC- - 2021-09-15 23:41:12\n",
      "1: CTxJc8rL6IR - 2021-09-13 12:07:20\n",
      "2: CToALhpNX0J - 2021-09-09 22:53:09\n",
      "3: CTObrwXMCij - 2021-08-31 00:33:14\n",
      "4: CRZQkpXBnR6 - 2021-07-16 12:25:00\n",
      "5: CRPxhO5B3Jv - 2021-07-12 20:00:29\n",
      "6: CQ2JsUIBgIt - 2021-07-02 21:11:27\n",
      "7: CQwrz6phfqy - 2021-06-30 18:14:09\n",
      "8: CQpXJRzhaD0 - 2021-06-27 21:58:53\n",
      "9: CO0dvEmBsgF - 2021-05-13 12:25:20\n",
      "10: COBu5IVh_gM - 2021-04-23 19:33:59\n"
     ]
    },
    {
     "name": "stderr",
     "output_type": "stream",
     "text": [
      " 20%|█▉        | 24/121 [1:22:32<2:41:07, 99.67s/it]"
     ]
    },
    {
     "name": "stdout",
     "output_type": "stream",
     "text": [
      "11: CNWcKPVhhi- - 2021-04-07 00:02:57\n",
      "vumceye\n",
      "12\n",
      "0: CVBUQ4ar_cF - 2021-10-14 15:21:03\n",
      "1: CUn79_jgSpq - 2021-10-04 18:47:45\n",
      "2: CT711S4raBP - 2021-09-17 15:47:33\n",
      "3: CT4swVCAvJp - 2021-09-16 10:30:30\n",
      "4: CTxdDq8LQah - 2021-09-13 14:58:39\n",
      "5: CTpTS4TrXIp - 2021-09-10 10:59:25\n",
      "6: CSnAL--LaXd - 2021-08-15 17:02:35\n",
      "7: CQy6oRoBycj - 2021-07-01 15:02:07\n",
      "8: CQYpURPhyvI - 2021-06-21 10:10:35\n",
      "9: COTFeG9BBzA - 2021-04-30 13:18:28\n",
      "10: CNC_jWxhKCo - 2021-03-30 10:47:29\n"
     ]
    },
    {
     "name": "stderr",
     "output_type": "stream",
     "text": [
      " 21%|██        | 25/121 [1:24:10<2:38:36, 99.13s/it]"
     ]
    },
    {
     "name": "stdout",
     "output_type": "stream",
     "text": [
      "11: CM5KZ4tB4Lx - 2021-03-26 15:09:56\n",
      "byerseye\n",
      "12\n",
      "0: CVLbppirbhK - 2021-10-18 13:38:00\n",
      "1: CVLa0HIgyEX - 2021-10-18 13:30:42\n",
      "2: CUseqJpJTHl - 2021-10-06 13:07:50\n",
      "3: CUqoGFspB9y - 2021-10-05 19:51:49\n",
      "4: CUqlFDvv7uL - 2021-10-05 19:25:27\n",
      "5: CUaYfOlJc3Y - 2021-09-29 12:27:35\n",
      "6: CUYQmxahQhO - 2021-09-28 16:40:14\n",
      "7: CUYQjwIh114 - 2021-09-28 16:39:49\n",
      "8: CUId-ierilE - 2021-09-22 13:29:13\n",
      "9: CUDvYPzr0NB - 2021-09-20 17:25:05\n",
      "10: CUDum90rhTP - 2021-09-20 17:18:21\n"
     ]
    },
    {
     "name": "stderr",
     "output_type": "stream",
     "text": [
      " 21%|██▏       | 26/121 [1:25:50<2:37:08, 99.24s/it]"
     ]
    },
    {
     "name": "stdout",
     "output_type": "stream",
     "text": [
      "11: CTzluP3gPLV - 2021-09-14 10:52:51\n",
      "shileyeye\n",
      "12\n",
      "0: CVdP4JsJmVv - 2021-10-25 11:41:28\n",
      "1: CVVc40bAEIf - 2021-10-22 11:01:17\n",
      "2: CVS4BFIpq5j - 2021-10-21 11:00:36\n",
      "3: CVQb3IZpY6o - 2021-10-20 12:16:03\n",
      "4: CVN0LRQJlEu - 2021-10-19 11:50:48\n",
      "5: CVLJk-8tRyg - 2021-10-18 11:00:07\n",
      "6: CVDbVhFsjaR - 2021-10-15 11:01:23\n",
      "7: CVBQ7ZOBimv - 2021-10-14 14:51:54\n",
      "8: CU-RocRsFiZ - 2021-10-13 11:00:23\n",
      "9: CU8IV9zMHr6 - 2021-10-12 15:00:43\n",
      "10: CU7s0jptD0Z - 2021-10-12 11:00:14\n"
     ]
    },
    {
     "name": "stderr",
     "output_type": "stream",
     "text": [
      " 22%|██▏       | 27/121 [1:27:24<2:33:24, 97.92s/it]"
     ]
    },
    {
     "name": "stdout",
     "output_type": "stream",
     "text": [
      "11: CU5IF3LATaK - 2021-10-11 11:00:48\n",
      "cumedschool\n",
      "12\n",
      "0: CVdW1wFlksD - 2021-10-25 12:42:18\n",
      "1: CVVq9flFN8b - 2021-10-22 13:04:12\n",
      "2: CVTJIdULtps - 2021-10-21 13:30:37\n",
      "3: CVQklRkljR9 - 2021-10-20 13:32:15\n",
      "4: CVODF0rNPrE - 2021-10-19 14:02:00\n",
      "5: CVLeMhDtD7s - 2021-10-18 14:01:46\n",
      "6: CVGRJqwMdY0 - 2021-10-16 13:30:19\n",
      "7: CVBHkNXAGkW - 2021-10-14 13:30:34\n",
      "8: CU8BcL4DhG9 - 2021-10-12 14:01:41\n",
      "9: CU2qT9ON5lH - 2021-10-10 12:02:28\n",
      "10: CUyGNwOFV6M - 2021-10-08 17:29:41\n"
     ]
    },
    {
     "name": "stderr",
     "output_type": "stream",
     "text": [
      " 23%|██▎       | 28/121 [1:29:02<2:31:34, 97.79s/it]"
     ]
    },
    {
     "name": "stdout",
     "output_type": "stream",
     "text": [
      "11: CUskrcOARkt - 2021-10-06 14:01:51\n",
      "sutterhealth\n",
      "12\n",
      "0: CVQ-qhRhvSX - 2021-10-20 17:20:10\n",
      "1: CVBv3gOszgx - 2021-10-14 19:22:18\n",
      "2: CU-oaseh_Uz - 2021-10-13 14:19:26\n",
      "3: CUqad_whinX - 2021-10-05 17:52:44\n",
      "4: CUajNkWh-2q - 2021-09-29 14:01:44\n",
      "5: CUViVGrB-AT - 2021-09-27 15:17:23\n",
      "6: CT7XngKFcnw - 2021-09-17 11:23:31\n",
      "7: CTkgcNCtrFV - 2021-09-08 14:18:08\n",
      "8: CTCwvcnFhgJ - 2021-08-26 11:46:21\n",
      "9: CSseGA2noPG - 2021-08-17 20:00:07\n",
      "10: CSXaoONHmLd - 2021-08-09 15:45:49\n"
     ]
    },
    {
     "name": "stderr",
     "output_type": "stream",
     "text": [
      " 24%|██▍       | 29/121 [1:30:45<2:32:24, 99.40s/it]"
     ]
    },
    {
     "name": "stdout",
     "output_type": "stream",
     "text": [
      "11: CSPXVuilw0I - 2021-08-06 12:43:07\n",
      "nyugrossman\n",
      "12\n",
      "0: CVTSztKPbLN - 2021-10-21 14:54:40\n",
      "1: CVAwToEAcYl - 2021-10-14 10:06:51\n",
      "2: CUF3W7NJ35- - 2021-09-21 13:13:17\n",
      "3: CSutmdingOc - 2021-08-18 16:54:06\n",
      "4: CPJZCvOhpaS - 2021-05-21 15:28:22\n",
      "5: CNF0GbBBJB6 - 2021-03-31 13:05:03\n",
      "6: CMnPGhYhptG - 2021-03-19 16:04:33\n",
      "7: CLuYF_7hERO - 2021-02-25 13:06:24\n",
      "8: CIrEDEABuDZ - 2020-12-11 16:39:20\n",
      "9: CH8ZxcChF6J - 2020-11-23 13:44:52\n",
      "10: CHdgX22BjPz - 2020-11-11 13:46:05\n"
     ]
    },
    {
     "name": "stderr",
     "output_type": "stream",
     "text": [
      " 25%|██▍       | 30/121 [1:32:24<2:30:43, 99.38s/it]"
     ]
    },
    {
     "name": "stdout",
     "output_type": "stream",
     "text": [
      "11: CHIi4oKB296 - 2020-11-03 10:23:59\n",
      "uabophthalmology\n",
      "12\n",
      "0: CVc7nkVA6Ii - 2021-10-25 08:44:26\n",
      "1: CVZBlrktxhG - 2021-10-23 20:19:39\n",
      "2: CVTNtz1rhcO - 2021-10-21 14:10:10\n",
      "3: CVD9kemBnYQ - 2021-10-15 16:00:28\n",
      "4: CUyF7f6grCD - 2021-10-08 17:27:12\n",
      "5: CUu0q71A4Ur - 2021-10-07 10:58:40\n",
      "6: CUXfjgbAufr - 2021-09-28 09:31:37\n",
      "7: CUVsSbwrIQH - 2021-09-27 16:44:24\n",
      "8: CUOSOaHM38Z - 2021-09-24 19:41:58\n",
      "9: CUCvMJ_Lsxh - 2021-09-20 08:04:11\n",
      "10: CT4aZXULL6G - 2021-09-16 07:50:05\n"
     ]
    },
    {
     "name": "stderr",
     "output_type": "stream",
     "text": [
      " 26%|██▌       | 31/121 [1:34:06<2:30:06, 100.07s/it]"
     ]
    },
    {
     "name": "stdout",
     "output_type": "stream",
     "text": [
      "11: CT0pPUItYTQ - 2021-09-14 20:42:49\n",
      "ohiostateeye_residents\n",
      "12\n",
      "0: CVA9c30APrG - 2021-10-14 12:01:43\n",
      "1: CUUy8WOgOZI - 2021-09-27 08:23:19\n",
      "2: CULqaryMLmi - 2021-09-23 19:15:39\n",
      "3: CUDpL3NLBoa - 2021-09-20 16:30:57\n",
      "4: CT2Se35L2Sn - 2021-09-15 12:02:27\n",
      "5: CTmtRyELNcI - 2021-09-09 10:48:45\n",
      "6: CTLMP3aLVce - 2021-08-29 18:20:38\n",
      "7: CS1rGsxrEAE - 2021-08-21 09:46:58\n",
      "8: CS0UrM2NVPP - 2021-08-20 21:11:44\n",
      "9: CSvSZHdtaBi - 2021-08-18 22:15:35\n",
      "10: CSfXMnFrEaL - 2021-08-12 17:49:43\n"
     ]
    },
    {
     "name": "stderr",
     "output_type": "stream",
     "text": [
      " 26%|██▋       | 32/121 [1:35:45<2:27:55, 99.73s/it] "
     ]
    },
    {
     "name": "stdout",
     "output_type": "stream",
     "text": [
      "11: CSccCnhAolY - 2021-08-11 14:40:46\n",
      "ucdaviseyeresidency\n",
      "12\n",
      "0: CRDK3S8hoHx - 2021-07-07 22:31:49\n",
      "1: CP7PnmvBEFt - 2021-06-10 00:08:03\n",
      "2: COB8xY3h250 - 2021-04-23 21:35:16\n",
      "3: CGL0qGZBtkg - 2020-10-10 21:25:37\n",
      "4: CF271OfhKi4 - 2020-10-02 18:44:15\n",
      "5: CFSpEothjXl - 2020-09-18 16:27:40\n",
      "6: CCFXkusBFqW - 2020-06-30 23:10:27\n",
      "7: B-zuB87hGN- - 2020-04-10 13:06:10\n",
      "8: B8Zwam7h8GN - 2020-02-10 17:03:58\n",
      "9: B8QPuWYBXcX - 2020-02-07 00:25:09\n",
      "10: B8F77v4BRS4 - 2020-02-03 00:19:48\n"
     ]
    },
    {
     "name": "stderr",
     "output_type": "stream",
     "text": [
      " 27%|██▋       | 33/121 [1:37:22<2:25:07, 98.95s/it]"
     ]
    },
    {
     "name": "stdout",
     "output_type": "stream",
     "text": [
      "11: B8B7eNKhGB8 - 2020-02-01 10:58:48\n",
      "pitt_ophthalmology\n",
      "12\n",
      "0: CVQfsXgAdn8 - 2021-10-20 12:49:32\n",
      "1: CSDJllQsncV - 2021-08-01 18:52:04\n",
      "2: CQbfw_NhPgY - 2021-06-22 12:44:50\n",
      "3: CPQ-l_BB7jQ - 2021-05-24 14:11:11\n",
      "4: CMTEnfhhamC - 2021-03-11 19:08:07\n",
      "5: CLwrcKCBcAb - 2021-02-26 10:33:56\n",
      "6: CLUF1zoBEgY - 2021-02-15 08:06:39\n",
      "7: CKxUl0cBBKv - 2021-02-01 20:02:07\n",
      "8: CJKYnrABgf_ - 2020-12-23 20:35:33\n",
      "9: CI-1srEBzhP - 2020-12-19 08:58:45\n",
      "10: CH0ptcFBhTU - 2020-11-20 13:34:21\n"
     ]
    },
    {
     "name": "stderr",
     "output_type": "stream",
     "text": [
      " 28%|██▊       | 34/121 [1:38:58<2:22:20, 98.17s/it]"
     ]
    },
    {
     "name": "stdout",
     "output_type": "stream",
     "text": [
      "11: CHc2Y_AhVSM - 2020-11-11 07:39:14\n",
      "tuftsmedicalcenter\n",
      "12\n",
      "0: CVdtlAvN_h2 - 2021-10-25 16:00:59\n",
      "1: CVdOlAUMB-j - 2021-10-25 11:30:09\n",
      "2: CVbB0lrMS0c - 2021-10-24 15:00:12\n",
      "3: CVVfb6dLVNp - 2021-10-22 11:23:29\n",
      "4: CVS1GsJpJkU - 2021-10-21 10:35:07\n",
      "5: CVQup4fFMGS - 2021-10-20 15:00:17\n",
      "6: CVQdQnyAPwI - 2021-10-20 12:28:16\n",
      "7: CVOJ3KisCL7 - 2021-10-19 15:00:19\n",
      "8: CVLQf1jrgL2 - 2021-10-18 12:00:33\n",
      "9: CVF6wLFLFfb - 2021-10-16 10:14:20\n",
      "10: CVDqE57AG-Z - 2021-10-15 13:10:08\n"
     ]
    },
    {
     "name": "stderr",
     "output_type": "stream",
     "text": [
      " 29%|██▉       | 35/121 [1:40:37<2:20:54, 98.31s/it]"
     ]
    },
    {
     "name": "stdout",
     "output_type": "stream",
     "text": [
      "11: CVA9SrDLoXl - 2021-10-14 12:00:19\n",
      "uwmedicine\n",
      "12\n",
      "0: CVWBmm_JjIc - 2021-10-22 16:22:11\n",
      "1: CVRPIfUrkjv - 2021-10-20 19:47:05\n",
      "2: CVECcmHNtEg - 2021-10-15 16:43:15\n",
      "3: CVBVaVYrcRr - 2021-10-14 15:31:14\n",
      "4: CU-_KgEvkBZ - 2021-10-13 17:41:07\n",
      "5: CU-yjwyl9gf - 2021-10-13 15:48:11\n",
      "6: CU8HAxohnJW - 2021-10-12 14:49:12\n",
      "7: CU5qfY7h0EY - 2021-10-11 16:01:32\n",
      "8: CUv8eZ5r4AA - 2021-10-07 21:26:16\n",
      "9: CUvYMFRtXGh - 2021-10-07 16:09:11\n",
      "10: CUs05kflGF- - 2021-10-06 16:25:07\n"
     ]
    },
    {
     "name": "stderr",
     "output_type": "stream",
     "text": [
      " 30%|██▉       | 36/121 [1:42:19<2:20:44, 99.35s/it]"
     ]
    },
    {
     "name": "stdout",
     "output_type": "stream",
     "text": [
      "11: CUqWKO9lvow - 2021-10-05 17:15:18\n",
      "wisconsin.eye\n",
      "12\n",
      "0: CVD6uYhPXcs - 2021-10-15 15:35:37\n",
      "1: CUae5sPLj7H - 2021-09-29 13:23:38\n",
      "2: CUGHmjBvG6- - 2021-09-21 15:35:14\n",
      "3: CT5KuD5rB_w - 2021-09-16 14:52:20\n",
      "4: CTiTj4pDT_q - 2021-09-07 17:51:48\n",
      "5: CTXkBMirWx2 - 2021-09-03 13:39:14\n",
      "6: CTM63IaLZRs - 2021-08-30 10:27:11\n",
      "7: CRE2KLZN-IO - 2021-07-08 14:09:23\n",
      "8: CQ_6s1FNmqh - 2021-07-06 16:12:52\n",
      "9: CQRHx3eNMEp - 2021-06-18 12:02:50\n",
      "10: CPlyix7NK7W - 2021-06-01 16:09:56\n"
     ]
    },
    {
     "name": "stderr",
     "output_type": "stream",
     "text": [
      " 31%|███       | 37/121 [1:44:03<2:21:05, 100.78s/it]"
     ]
    },
    {
     "name": "stdout",
     "output_type": "stream",
     "text": [
      "11: CO-7vsON67L - 2021-05-17 13:59:58\n",
      "ghei.uci.health\n",
      "12\n",
      "0: CUycnSvJxjr - 2021-10-08 20:45:25\n",
      "1: CUp7pGnv9-d - 2021-10-05 13:23:23\n",
      "2: COOXbl7h5sn - 2021-04-28 17:19:06\n",
      "3: CONvAQyB8ZM - 2021-04-28 11:25:51\n",
      "4: COMF8W6Bh4n - 2021-04-27 20:07:48\n",
      "5: CKhuhdLht6h - 2021-01-26 18:40:52\n",
      "6: CKC4cSyBiOO - 2021-01-14 19:11:05\n",
      "7: CJwgffThIHa - 2021-01-07 15:55:29\n",
      "8: CJrwCdVBRjm - 2021-01-05 19:35:08\n",
      "9: CHYKtcLnTvC - 2020-11-09 12:00:35\n",
      "10: CHYHC1_hZg5 - 2020-11-09 11:28:33\n"
     ]
    },
    {
     "name": "stderr",
     "output_type": "stream",
     "text": [
      " 31%|███▏      | 38/121 [1:45:40<2:17:58, 99.75s/it] "
     ]
    },
    {
     "name": "stdout",
     "output_type": "stream",
     "text": [
      "11: CGqg_7qBcev - 2020-10-22 19:30:17\n",
      "ufmedicine\n",
      "12\n",
      "0: CVBabFMrlbn - 2021-10-14 16:14:53\n",
      "1: CU51NDGLfNN - 2021-10-11 17:34:58\n",
      "2: CUaZ81RrmXG - 2021-09-29 12:40:22\n",
      "3: CT7csI_r-g8 - 2021-09-17 12:07:51\n",
      "4: CTPywgNrYIa - 2021-08-31 13:14:06\n",
      "5: CS9tHQWLjL5 - 2021-08-24 12:38:27\n",
      "6: CSradL1r2xJ - 2021-08-17 10:09:05\n",
      "7: CSZgitcLvGM - 2021-08-10 11:15:56\n",
      "8: CSKZUS7r0QQ - 2021-08-04 14:24:12\n",
      "9: CR9taBJLbQh - 2021-07-30 16:09:37\n",
      "10: CR9stPAr0II - 2021-07-30 16:03:30\n"
     ]
    },
    {
     "name": "stderr",
     "output_type": "stream",
     "text": [
      " 32%|███▏      | 39/121 [1:47:20<2:16:27, 99.85s/it]"
     ]
    },
    {
     "name": "stdout",
     "output_type": "stream",
     "text": [
      "11: CR9r41sLwjV - 2021-07-30 15:56:21\n",
      "eyeonwake\n",
      "12\n",
      "0: CSKs7NwLVG4 - 2021-08-04 17:15:32\n",
      "1: CQ4cZ--hcJx - 2021-07-03 18:33:28\n",
      "2: CQmgwYAhDcq - 2021-06-26 19:25:08\n",
      "3: CQT9j9ph1qj - 2021-06-19 14:31:17\n",
      "4: CPV6blWB7L5 - 2021-05-26 12:11:01\n",
      "5: CEW5ac2hcv3 - 2020-08-26 11:36:01\n",
      "6: CEG-4mzBVVi - 2020-08-20 07:15:59\n",
      "7: CD4H13JBLYH - 2020-08-14 12:45:39\n",
      "8: CDurQRJB9g8 - 2020-08-10 20:42:41\n",
      "9: CDHj_xrnNw_ - 2020-07-26 16:08:53\n",
      "10: CC68NXMHDWN - 2020-07-21 18:30:19\n"
     ]
    },
    {
     "name": "stderr",
     "output_type": "stream",
     "text": [
      " 33%|███▎      | 40/121 [1:48:59<2:14:22, 99.54s/it]"
     ]
    },
    {
     "name": "stdout",
     "output_type": "stream",
     "text": [
      "11: CCtjtGuHBTp - 2020-07-16 13:46:04\n",
      "cornell.eye.residents\n",
      "12\n",
      "0: CVWTG3YA3UH - 2021-10-22 18:55:00\n",
      "1: CVBzRheNIUY - 2021-10-14 19:52:01\n",
      "2: CU_Rj8ENiC_ - 2021-10-13 20:18:58\n",
      "3: CU8sf--t8g0 - 2021-10-12 20:16:38\n",
      "4: CSX8jVftoho - 2021-08-09 20:42:13\n",
      "5: CP-1kFJh7VC - 2021-06-11 09:37:21\n",
      "6: CNsokichSTh - 2021-04-15 14:54:41\n",
      "7: CNqQ1mZhu93 - 2021-04-14 16:48:49\n",
      "8: CNLW57pBm4c - 2021-04-02 16:45:23\n",
      "9: CM5oDaPhnZe - 2021-03-26 19:28:54\n",
      "10: CL1yzivh5_J - 2021-02-28 10:14:30\n"
     ]
    },
    {
     "name": "stderr",
     "output_type": "stream",
     "text": [
      " 34%|███▍      | 41/121 [1:50:44<2:14:58, 101.23s/it]"
     ]
    },
    {
     "name": "stdout",
     "output_type": "stream",
     "text": [
      "11: CLj0mQgBn__ - 2021-02-21 10:43:50\n",
      "nuophthalmology\n",
      "12\n",
      "0: CUvYl-ELjw4 - 2021-10-07 16:12:33\n",
      "1: CUf2AX_rNM8 - 2021-10-01 15:21:43\n",
      "2: CTpl5Q7rPx6 - 2021-09-10 13:41:57\n",
      "3: CTirmhLNNSx - 2021-09-07 21:17:08\n",
      "4: CTGF5olMkqd - 2021-08-27 18:48:58\n",
      "5: CScph4tBWly - 2021-08-11 16:32:11\n",
      "6: CSNQE0Prcd0 - 2021-08-05 17:01:10\n",
      "7: CRWpU50hhe9 - 2021-07-15 12:03:35\n",
      "8: CRT4Zl5BC6R - 2021-07-14 10:17:34\n",
      "9: CRCkfN1BA-9 - 2021-07-07 16:56:29\n",
      "10: CQxHrzFhEOv - 2021-06-30 22:17:43\n"
     ]
    },
    {
     "name": "stderr",
     "output_type": "stream",
     "text": [
      " 35%|███▍      | 42/121 [1:52:22<2:11:48, 100.11s/it]"
     ]
    },
    {
     "name": "stdout",
     "output_type": "stream",
     "text": [
      "11: CQvydgHhv30 - 2021-06-30 09:53:01\n",
      "unceye_residents\n",
      "12\n",
      "0: CVRNLEkNOtl - 2021-10-20 19:26:57\n",
      "1: CUz7eXYA9X0 - 2021-10-09 10:34:19\n",
      "2: CUbLjzltX4_ - 2021-09-29 19:53:51\n",
      "3: CT7Hoz0AAWs - 2021-09-17 09:03:53\n",
      "4: CTU47IhrsnV - 2021-09-02 12:44:11\n",
      "5: CTCdViErjDe - 2021-08-26 08:56:47\n",
      "6: CS72CMqthCn - 2021-08-23 19:17:55\n",
      "7: CSX1yUtN0kd - 2021-08-09 19:43:05\n",
      "8: CSUTNQCLaN9 - 2021-08-08 10:43:12\n",
      "9: CRjDONsB-Dw - 2021-07-20 07:40:45\n",
      "10: CRbroBdhFNd - 2021-07-17 10:59:52\n"
     ]
    },
    {
     "name": "stderr",
     "output_type": "stream",
     "text": [
      " 36%|███▌      | 43/121 [1:54:01<2:09:41, 99.76s/it] "
     ]
    },
    {
     "name": "stdout",
     "output_type": "stream",
     "text": [
      "11: CRbZIfzBueI - 2021-07-17 08:18:17\n",
      "rushophthalmology\n",
      "12\n",
      "0: CTeti1GrbSf - 2021-09-06 08:17:09\n",
      "1: CTDDbQqL-Ct - 2021-08-26 14:29:37\n",
      "2: CTAYtC7rH7K - 2021-08-25 13:37:49\n",
      "3: CRxbVBghHkG - 2021-07-25 21:40:45\n",
      "4: CQd5PxJBxyU - 2021-06-23 11:05:59\n",
      "5: CQd4wtuhOin - 2021-06-23 11:01:44\n",
      "6: CPHgmtlBJDu - 2021-05-20 21:55:58\n",
      "7: COi6ehSB_kb - 2021-05-06 16:50:09\n",
      "8: CNGuVrxhi2G - 2021-03-31 21:33:57\n",
      "9: CKcKjvJBm0M - 2021-01-24 14:50:24\n",
      "10: CKCK0edhUPV - 2021-01-14 12:32:26\n"
     ]
    },
    {
     "name": "stderr",
     "output_type": "stream",
     "text": [
      " 36%|███▋      | 44/121 [1:55:40<2:07:47, 99.57s/it]"
     ]
    },
    {
     "name": "stdout",
     "output_type": "stream",
     "text": [
      "11: CJCbWRChu94 - 2020-12-20 18:25:28\n",
      "umnmedschool\n",
      "12\n",
      "0: CVTMv3sFWns - 2021-10-21 14:01:43\n",
      "1: CVDxaS9sRbM - 2021-10-15 14:14:14\n",
      "2: CVBNPPNl2qu - 2021-10-14 14:19:40\n",
      "3: CU7lZM-r4uY - 2021-10-12 09:55:18\n",
      "4: CUvU1IVFqoT - 2021-10-07 15:39:40\n",
      "5: CUakJJLFZmo - 2021-09-29 14:09:26\n",
      "6: CUXqkaMrblU - 2021-09-28 11:07:51\n",
      "7: CUVgMf0FV-A - 2021-09-27 14:58:44\n",
      "8: CUK4A_ZFo6f - 2021-09-23 11:55:14\n",
      "9: CUIlep5lp9_ - 2021-09-22 14:34:46\n",
      "10: CT7T2h7F4LB - 2021-09-17 10:50:37\n"
     ]
    },
    {
     "name": "stderr",
     "output_type": "stream",
     "text": [
      " 37%|███▋      | 45/121 [1:57:21<2:06:39, 99.99s/it]"
     ]
    },
    {
     "name": "stdout",
     "output_type": "stream",
     "text": [
      "11: CTxmEQIlnnG - 2021-09-13 16:17:22\n",
      "uthealthhouston\n",
      "12\n",
      "0: CVWINs9Bfo_ - 2021-10-22 17:22:18\n",
      "1: CVTg0r1FudX - 2021-10-21 16:57:10\n",
      "2: CVQh0pdsTob - 2021-10-20 13:08:11\n",
      "3: CVN3iE2tzpb - 2021-10-19 12:20:22\n",
      "4: CVLtfBlJs3f - 2021-10-18 16:13:51\n",
      "5: CVDc-TGAyVz - 2021-10-15 11:15:38\n",
      "6: CVBTAaHthDS - 2021-10-14 15:10:16\n",
      "7: CU8XRc6L66X - 2021-10-12 17:11:19\n",
      "8: CU50S39sn5V - 2021-10-11 17:27:04\n",
      "9: CUyH_QNMqoN - 2021-10-08 17:45:24\n",
      "10: CUut_5-NcCa - 2021-10-07 10:00:21\n"
     ]
    },
    {
     "name": "stderr",
     "output_type": "stream",
     "text": [
      " 38%|███▊      | 46/121 [1:59:02<2:05:18, 100.25s/it]"
     ]
    },
    {
     "name": "stdout",
     "output_type": "stream",
     "text": [
      "11: CUsdMq8M_Cs - 2021-10-06 12:55:07\n",
      "iuophthalmology\n",
      "12\n",
      "0: CU455_ggihb - 2021-10-11 08:56:49\n",
      "1: CU45GlzAKob - 2021-10-11 08:49:48\n",
      "2: CU0ubkEAlSI - 2021-10-09 17:59:35\n",
      "3: CUNzCtGLW04 - 2021-09-24 15:09:30\n",
      "4: CT9keRCrwit - 2021-09-18 07:54:20\n",
      "5: CT5cmbXLLPj - 2021-09-16 17:28:35\n",
      "6: CTXTXbeLB2T - 2021-09-03 11:13:43\n",
      "7: CTP1RQlFd3s - 2021-08-31 13:39:21\n",
      "8: CTI6mRKtU0N - 2021-08-28 21:07:55\n",
      "9: CS4HNPDrk1H - 2021-08-22 08:31:00\n",
      "10: CSmYGg_rREh - 2021-08-15 11:12:19\n"
     ]
    },
    {
     "name": "stderr",
     "output_type": "stream",
     "text": [
      " 39%|███▉      | 47/121 [2:00:43<2:04:08, 100.66s/it]"
     ]
    },
    {
     "name": "stdout",
     "output_type": "stream",
     "text": [
      "11: CSj6kaELtxC - 2021-08-14 12:15:46\n",
      "beaumonthealth\n",
      "12\n",
      "0: CVTBTMKFBfe - 2021-10-21 12:21:40\n",
      "1: CU8A2wxP_u7 - 2021-10-12 13:55:16\n",
      "2: CUsPYvjluc8 - 2021-10-06 10:54:23\n",
      "3: CUoGkf5Ffp2 - 2021-10-04 20:20:23\n",
      "4: CUm9x6wLHL3 - 2021-10-04 09:44:20\n",
      "5: CUlIzeCvw6s - 2021-10-03 16:42:11\n",
      "6: CUh2kx3L1jj - 2021-10-02 10:05:10\n",
      "7: CUawr7KPBk_ - 2021-09-29 15:59:02\n",
      "8: CUSWzVvLfIg - 2021-09-26 09:38:56\n",
      "9: CUNc8JaAlJ9 - 2021-09-24 12:02:24\n",
      "10: CUJNFtMlyK9 - 2021-09-22 20:20:54\n"
     ]
    },
    {
     "name": "stderr",
     "output_type": "stream",
     "text": [
      " 40%|███▉      | 48/121 [2:02:27<2:03:27, 101.48s/it]"
     ]
    },
    {
     "name": "stdout",
     "output_type": "stream",
     "text": [
      "11: CUFv3SQFZKV - 2021-09-21 12:07:48\n",
      "bumedicine\n",
      "12\n",
      "0: CVWDl1iqRUx - 2021-10-22 16:39:30\n",
      "1: CU-PTpCqNWo - 2021-10-13 10:40:06\n",
      "2: CUu35NMAPyj - 2021-10-07 11:26:49\n",
      "3: CUsaKvlpw-f - 2021-10-06 12:28:36\n",
      "4: CUm-QH8AEYa - 2021-10-04 09:48:27\n",
      "5: CUF0kpbKCNK - 2021-09-21 12:49:01\n",
      "6: CT468b0AFTE - 2021-09-16 12:34:29\n",
      "7: CT2n7_3LJQE - 2021-09-15 15:09:58\n",
      "8: CTU-XfGr2LW - 2021-09-02 13:31:48\n",
      "9: CTFoQz-lYMe - 2021-08-27 14:30:01\n",
      "10: CTALkX3sxQx - 2021-08-25 11:43:03\n"
     ]
    },
    {
     "name": "stderr",
     "output_type": "stream",
     "text": [
      " 40%|████      | 49/121 [2:04:06<2:01:06, 100.92s/it]"
     ]
    },
    {
     "name": "stdout",
     "output_type": "stream",
     "text": [
      "11: CSuAEVJi6EN - 2021-08-18 10:16:18\n",
      "monteophtho\n",
      "12\n",
      "0: CVbjZ1xNKuE - 2021-10-24 19:53:36\n",
      "1: CU_VVyHtKiV - 2021-10-13 20:51:59\n",
      "2: CUpOvjCLPgT - 2021-10-05 06:51:02\n",
      "3: CUOSRRfMWo6 - 2021-09-24 19:42:22\n",
      "4: CUJHYv3svcY - 2021-09-22 19:31:04\n",
      "5: CSffo4tM8dA - 2021-08-12 19:03:29\n",
      "6: CR7zRqhtEe3 - 2021-07-29 22:22:25\n",
      "7: CRcjjNMhOPB - 2021-07-17 19:08:33\n",
      "8: CQ09WhhB3mD - 2021-07-02 10:04:23\n",
      "9: CQuljNKhhQ4 - 2021-06-29 22:40:57\n",
      "10: CQrrGyjheYB - 2021-06-28 19:31:47\n"
     ]
    },
    {
     "name": "stderr",
     "output_type": "stream",
     "text": [
      " 41%|████▏     | 50/121 [2:05:47<1:59:22, 100.88s/it]"
     ]
    },
    {
     "name": "stdout",
     "output_type": "stream",
     "text": [
      "11: CQTflQ9hMBz - 2021-06-19 10:09:19\n",
      "loyola_ophthalmology\n",
      "12\n",
      "0: CT7_B6zL3qZ - 2021-09-17 17:07:55\n",
      "1: CTw7VB9gYCu - 2021-09-13 10:03:55\n",
      "2: CTqCRPRLemq - 2021-09-10 17:49:53\n",
      "3: CRp1-_9Brmd - 2021-07-22 22:59:45\n",
      "4: CORieXpBhPo - 2021-04-29 22:53:19\n",
      "5: CL3RVLVBBUc - 2021-03-01 00:00:28\n",
      "6: CLNdr_XByi2 - 2021-02-12 18:20:21\n",
      "7: CLAYKAVhcZo - 2021-02-07 16:21:53\n",
      "8: CK9YLo7BWmS - 2021-02-06 12:24:23\n",
      "9: CKnG9cPhEvW - 2021-01-28 20:50:37\n",
      "10: CKSOTVahS61 - 2021-01-20 18:10:43\n"
     ]
    },
    {
     "name": "stderr",
     "output_type": "stream",
     "text": [
      " 42%|████▏     | 51/121 [2:07:25<1:56:33, 99.91s/it] "
     ]
    },
    {
     "name": "stdout",
     "output_type": "stream",
     "text": [
      "11: CKKLbjpBNWH - 2021-01-17 15:11:42\n",
      "kresgeresidents\n",
      "12\n",
      "0: CVQInBfgAo- - 2021-10-20 09:27:50\n",
      "1: CUVKgYgAUm0 - 2021-09-27 11:49:12\n",
      "2: CUKRqcQr2gF - 2021-09-23 06:20:06\n",
      "3: CUDmsjSL21x - 2021-09-20 16:09:12\n",
      "4: CT64oPMrQbk - 2021-09-17 06:52:44\n",
      "5: CT25V6LrC7o - 2021-09-15 17:42:01\n",
      "6: CTipC2QN8D8 - 2021-09-07 20:54:47\n",
      "7: CQ30TsSBOKa - 2021-07-03 12:43:05\n",
      "8: CQxBpTBBlNp - 2021-06-30 21:24:56\n",
      "9: CMTZpyQhUA1 - 2021-03-11 22:11:56\n",
      "10: CJzzIB8hiFu - 2021-01-08 22:36:02\n"
     ]
    },
    {
     "name": "stderr",
     "output_type": "stream",
     "text": [
      " 43%|████▎     | 52/121 [2:09:04<1:54:39, 99.70s/it]"
     ]
    },
    {
     "name": "stdout",
     "output_type": "stream",
     "text": [
      "11: CI9oYDxhSE9 - 2020-12-18 21:43:06\n",
      "stormeyeresidency\n",
      "12\n",
      "0: CTSF9jKLYu1 - 2021-09-01 10:40:23\n",
      "1: CSbsakajZbY - 2021-08-11 07:42:06\n",
      "2: CSKKEGdLmDO - 2021-08-04 12:10:55\n",
      "3: CRo4YLDho54 - 2021-07-22 14:01:26\n",
      "4: CRX3d2jBDXj - 2021-07-15 23:26:23\n",
      "5: CRFxihphpol - 2021-07-08 22:48:15\n",
      "6: CQzQvmABGxx - 2021-07-01 18:15:21\n",
      "7: CQd_OeZBS_U - 2021-06-23 11:58:14\n",
      "8: CPrHjMDBZuI - 2021-06-03 17:49:42\n",
      "9: COLB8PRh3zG - 2021-04-27 10:13:36\n",
      "10: CNvjs4PhfTh - 2021-04-16 18:09:52\n"
     ]
    },
    {
     "name": "stderr",
     "output_type": "stream",
     "text": [
      " 44%|████▍     | 53/121 [2:10:42<1:52:23, 99.17s/it]"
     ]
    },
    {
     "name": "stdout",
     "output_type": "stream",
     "text": [
      "11: CMN06AvBICb - 2021-03-09 18:14:38\n",
      "yaleeyeresidents\n",
      "12\n",
      "0: CVEIVCWAbQI - 2021-10-15 17:34:29\n",
      "1: CU0BDqsAh91 - 2021-10-09 11:23:06\n",
      "2: CUtDT2rgdji - 2021-10-06 18:28:06\n",
      "3: CUJJT8Csc6p - 2021-09-22 19:47:53\n",
      "4: CUEDNsrtGq- - 2021-09-20 20:18:24\n",
      "5: CTsE8MCJZah - 2021-09-11 12:51:43\n",
      "6: CTn6Y3BNu3x - 2021-09-09 22:02:33\n",
      "7: CTkuxxMrKL9 - 2021-09-08 16:23:22\n",
      "8: CTa8EZVNv_o - 2021-09-04 21:07:06\n",
      "9: CTV23jZt-Hu - 2021-09-02 21:45:27\n",
      "10: CTP9qiCrLm4 - 2021-08-31 14:49:24\n"
     ]
    },
    {
     "name": "stderr",
     "output_type": "stream",
     "text": [
      " 45%|████▍     | 54/121 [2:12:30<1:53:32, 101.68s/it]"
     ]
    },
    {
     "name": "stdout",
     "output_type": "stream",
     "text": [
      "11: CTIE9yOLH5t - 2021-08-28 13:19:16\n",
      "umdeye\n",
      "12\n",
      "0: CVWjhawtyw7 - 2021-10-22 21:18:26\n",
      "1: CUn77scAv3f - 2021-10-04 18:47:26\n",
      "2: CUf20BeL--R - 2021-10-01 15:28:46\n",
      "3: CUYzirutrYk - 2021-09-28 21:45:30\n",
      "4: CUYxvsGN8T8 - 2021-09-28 21:29:48\n",
      "5: CUYwmSbNlEd - 2021-09-28 21:19:47\n",
      "6: CUXxqWRAoqc - 2021-09-28 12:09:50\n",
      "7: CSiK_6PNnQY - 2021-08-13 20:00:51\n",
      "8: CSctd6YrfrS - 2021-08-11 17:06:36\n",
      "9: CSXkIoerh2y - 2021-08-09 17:08:51\n",
      "10: CRW-PBSLThm - 2021-07-15 15:06:17\n"
     ]
    },
    {
     "name": "stderr",
     "output_type": "stream",
     "text": [
      " 45%|████▌     | 55/121 [2:14:07<1:50:23, 100.36s/it]"
     ]
    },
    {
     "name": "stdout",
     "output_type": "stream",
     "text": [
      "11: CRPWwfHr6fV - 2021-07-12 16:06:38\n",
      "ukophthalmology\n",
      "12\n",
      "0: CU3bPkCt2HT - 2021-10-10 19:09:38\n",
      "1: CUc1JyCARSY - 2021-09-30 11:16:33\n",
      "2: CUczoTtg9Uc - 2021-09-30 11:03:14\n",
      "3: CUYuHlhN_aV - 2021-09-28 20:58:07\n",
      "4: CT_MpXlNl8H - 2021-09-18 23:04:37\n",
      "5: CTGdQ0ctvOy - 2021-08-27 22:13:06\n",
      "6: CTFlrLlrWF7 - 2021-08-27 14:07:22\n",
      "7: CS3CTEcNwy8 - 2021-08-21 22:28:52\n",
      "8: CSsV8hAs8wL - 2021-08-17 18:48:55\n",
      "9: CSkEU1cLTLb - 2021-08-14 13:41:01\n",
      "10: CSh3TWmLL6W - 2021-08-13 17:08:44\n"
     ]
    },
    {
     "name": "stderr",
     "output_type": "stream",
     "text": [
      " 46%|████▋     | 56/121 [2:15:47<1:48:31, 100.17s/it]"
     ]
    },
    {
     "name": "stdout",
     "output_type": "stream",
     "text": [
      "11: CShd-bygZPy - 2021-08-13 13:27:26\n",
      "georgetownophtho\n",
      "12\n",
      "0: CVRhoz_Nl_o - 2021-10-20 22:25:46\n",
      "1: CVPx2NTLInL - 2021-10-20 06:08:55\n",
      "2: CVMNx_fteEY - 2021-10-18 20:56:03\n",
      "3: CU8oxLbNwYt - 2021-10-12 19:44:01\n",
      "4: CUtPPHfNO2k - 2021-10-06 20:12:19\n",
      "5: CUd1ioLtvJW - 2021-09-30 20:39:11\n",
      "6: CUbHLLKMagc - 2021-09-29 19:15:32\n",
      "7: CUHny6yLAkB - 2021-09-22 05:35:47\n",
      "8: CUGvwM6NwGw - 2021-09-21 21:26:04\n",
      "9: CT1s93arACz - 2021-09-15 06:34:38\n",
      "10: CTzhLo2gNq0 - 2021-09-14 10:13:10\n"
     ]
    },
    {
     "name": "stderr",
     "output_type": "stream",
     "text": [
      " 47%|████▋     | 57/121 [2:17:26<1:46:33, 99.90s/it] "
     ]
    },
    {
     "name": "stdout",
     "output_type": "stream",
     "text": [
      "11: CTxXmqtrV-k - 2021-09-13 14:11:00\n",
      "waynemedicine\n",
      "12\n",
      "0: CVdukKkFtyh - 2021-10-25 16:09:37\n",
      "1: CVbiJiUlQTI - 2021-10-24 19:42:38\n",
      "2: CVY-SUVFWis - 2021-10-23 19:50:47\n",
      "3: CVWM1Zblh1p - 2021-10-22 18:00:11\n",
      "4: CVViMD3lByl - 2021-10-22 11:47:32\n",
      "5: CVTVzkWFR5j - 2021-10-21 15:20:51\n",
      "6: CVOtufrlklT - 2021-10-19 20:13:41\n",
      "7: CVB8EDEgya2 - 2021-10-14 21:08:50\n",
      "8: CU-SL3cg6nq - 2021-10-13 11:05:10\n",
      "9: CU8dnQCl8gz - 2021-10-12 18:06:33\n",
      "10: CU8IUzoFNYS - 2021-10-12 15:00:32\n"
     ]
    },
    {
     "name": "stderr",
     "output_type": "stream",
     "text": [
      " 48%|████▊     | 58/121 [2:19:08<1:45:43, 100.69s/it]"
     ]
    },
    {
     "name": "stdout",
     "output_type": "stream",
     "text": [
      "11: CU5JjkCgK93 - 2021-10-11 11:13:34\n",
      "suny.downstate.ophtho\n"
     ]
    },
    {
     "name": "stderr",
     "output_type": "stream",
     "text": [
      " 49%|████▉     | 59/121 [2:19:26<1:18:24, 75.88s/it] "
     ]
    },
    {
     "name": "stdout",
     "output_type": "stream",
     "text": [
      "0\n",
      "tulane_ophtho\n",
      "11\n",
      "0: CVJ6UXXLbJ3 - 2021-10-17 23:27:30\n",
      "1: CUTlO83NQu3 - 2021-09-26 21:04:16\n",
      "2: CS8U7R_tZ_9 - 2021-08-23 23:47:51\n",
      "3: CSxh3bVsEst - 2021-08-19 19:09:17\n",
      "4: CSmkgKmrS1_ - 2021-08-15 13:00:40\n",
      "5: CSaYT3QMW3T - 2021-08-10 19:23:15\n",
      "6: CSR5KvlrlqF - 2021-08-07 12:17:12\n",
      "7: CSPGRK0rOLp - 2021-08-06 10:13:57\n",
      "8: CSNgdBGMq2x - 2021-08-05 19:24:16\n",
      "9: CSIhS64NDxf - 2021-08-03 20:55:26\n"
     ]
    },
    {
     "name": "stderr",
     "output_type": "stream",
     "text": [
      " 50%|████▉     | 60/121 [2:20:49<1:19:08, 77.85s/it]"
     ]
    },
    {
     "name": "stdout",
     "output_type": "stream",
     "text": [
      "10: CG2_PENn10B - 2020-10-27 15:45:23\n",
      "cwru_med\n",
      "12\n",
      "0: CVdckQcLEQC - 2021-10-25 13:32:20\n",
      "1: CVQyEiflmoI - 2021-10-20 15:30:07\n",
      "2: CVOJSE1Fvaw - 2021-10-19 14:55:13\n",
      "3: CVB9COAIWpz - 2021-10-14 21:17:19\n",
      "4: CU-Mf7nrnt2 - 2021-10-13 10:15:29\n",
      "5: CUpgL3NLTsd - 2021-10-05 09:23:27\n",
      "6: CUIDHC5Lp9X - 2021-09-22 09:34:27\n",
      "7: CT7TpgSr-3x - 2021-09-17 10:48:50\n",
      "8: CTPogA7HLxo - 2021-08-31 11:44:28\n",
      "9: CTALDPnnXu_ - 2021-08-25 11:38:31\n",
      "10: CSziwETHTyY - 2021-08-20 13:55:29\n"
     ]
    },
    {
     "name": "stderr",
     "output_type": "stream",
     "text": [
      " 50%|█████     | 61/121 [2:22:27<1:23:56, 83.94s/it]"
     ]
    },
    {
     "name": "stdout",
     "output_type": "stream",
     "text": [
      "11: CShAUFmHnkr - 2021-08-13 09:08:15\n",
      "rwjms\n"
     ]
    },
    {
     "name": "stderr",
     "output_type": "stream",
     "text": [
      " 50%|█████     | 61/121 [2:22:36<2:20:16, 140.27s/it]\n"
     ]
    },
    {
     "ename": "IndexError",
     "evalue": "list index out of range",
     "output_type": "error",
     "traceback": [
      "\u001b[1;31m---------------------------------------------------------------------------\u001b[0m",
      "\u001b[1;31mIndexError\u001b[0m                                Traceback (most recent call last)",
      "\u001b[1;32m~\\AppData\\Local\\Temp/ipykernel_28312/1940836435.py\u001b[0m in \u001b[0;36m<module>\u001b[1;34m\u001b[0m\n\u001b[0;32m     19\u001b[0m         \u001b[0mprint\u001b[0m\u001b[1;33m(\u001b[0m\u001b[0musers\u001b[0m\u001b[1;33m.\u001b[0m\u001b[0miloc\u001b[0m\u001b[1;33m[\u001b[0m\u001b[0mi\u001b[0m\u001b[1;33m]\u001b[0m\u001b[1;33m[\u001b[0m\u001b[1;34m'IG Username'\u001b[0m\u001b[1;33m]\u001b[0m\u001b[1;33m)\u001b[0m\u001b[1;33m\u001b[0m\u001b[1;33m\u001b[0m\u001b[0m\n\u001b[0;32m     20\u001b[0m         \u001b[0mprofile\u001b[0m \u001b[1;33m=\u001b[0m \u001b[0mProfile\u001b[0m\u001b[1;33m(\u001b[0m\u001b[0musers\u001b[0m\u001b[1;33m.\u001b[0m\u001b[0miloc\u001b[0m\u001b[1;33m[\u001b[0m\u001b[0mi\u001b[0m\u001b[1;33m]\u001b[0m\u001b[1;33m[\u001b[0m\u001b[1;34m'IG Username'\u001b[0m\u001b[1;33m]\u001b[0m\u001b[1;33m)\u001b[0m\u001b[1;33m\u001b[0m\u001b[1;33m\u001b[0m\u001b[0m\n\u001b[1;32m---> 21\u001b[1;33m         \u001b[0mprofile\u001b[0m\u001b[1;33m.\u001b[0m\u001b[0mscrape\u001b[0m\u001b[1;33m(\u001b[0m\u001b[0mheaders\u001b[0m\u001b[1;33m=\u001b[0m\u001b[0mheaders\u001b[0m\u001b[1;33m)\u001b[0m\u001b[1;33m\u001b[0m\u001b[1;33m\u001b[0m\u001b[0m\n\u001b[0m\u001b[0;32m     22\u001b[0m \u001b[1;33m\u001b[0m\u001b[0m\n\u001b[0;32m     23\u001b[0m         \u001b[1;31m#Adding profile datapoints to dataframe\u001b[0m\u001b[1;33m\u001b[0m\u001b[1;33m\u001b[0m\u001b[0m\n",
      "\u001b[1;32m~\\miniconda3\\envs\\instagramScraper\\lib\\site-packages\\instascrape\\core\\_static_scraper.py\u001b[0m in \u001b[0;36mscrape\u001b[1;34m(self, mapping, keys, exclude, headers, inplace, session, webdriver)\u001b[0m\n\u001b[0;32m    142\u001b[0m             \u001b[0mscraped_dict\u001b[0m \u001b[1;33m=\u001b[0m \u001b[0mself\u001b[0m\u001b[1;33m.\u001b[0m\u001b[0msource\u001b[0m\u001b[1;33m.\u001b[0m\u001b[0mto_dict\u001b[0m\u001b[1;33m(\u001b[0m\u001b[1;33m)\u001b[0m\u001b[1;33m\u001b[0m\u001b[1;33m\u001b[0m\u001b[0m\n\u001b[0;32m    143\u001b[0m         \u001b[1;32melse\u001b[0m\u001b[1;33m:\u001b[0m\u001b[1;33m\u001b[0m\u001b[1;33m\u001b[0m\u001b[0m\n\u001b[1;32m--> 144\u001b[1;33m             \u001b[0mreturn_data\u001b[0m \u001b[1;33m=\u001b[0m \u001b[0mself\u001b[0m\u001b[1;33m.\u001b[0m\u001b[0m_get_json_from_source\u001b[0m\u001b[1;33m(\u001b[0m\u001b[0mself\u001b[0m\u001b[1;33m.\u001b[0m\u001b[0msource\u001b[0m\u001b[1;33m,\u001b[0m \u001b[0mheaders\u001b[0m\u001b[1;33m=\u001b[0m\u001b[0mheaders\u001b[0m\u001b[1;33m,\u001b[0m \u001b[0msession\u001b[0m\u001b[1;33m=\u001b[0m\u001b[0msession\u001b[0m\u001b[1;33m)\u001b[0m\u001b[1;33m\u001b[0m\u001b[1;33m\u001b[0m\u001b[0m\n\u001b[0m\u001b[0;32m    145\u001b[0m             \u001b[0mflat_json_dict\u001b[0m \u001b[1;33m=\u001b[0m \u001b[0mflatten_dict\u001b[0m\u001b[1;33m(\u001b[0m\u001b[0mreturn_data\u001b[0m\u001b[1;33m[\u001b[0m\u001b[1;34m\"json_dict\"\u001b[0m\u001b[1;33m]\u001b[0m\u001b[1;33m)\u001b[0m\u001b[1;33m\u001b[0m\u001b[1;33m\u001b[0m\u001b[0m\n\u001b[0;32m    146\u001b[0m \u001b[1;33m\u001b[0m\u001b[0m\n",
      "\u001b[1;32m~\\miniconda3\\envs\\instagramScraper\\lib\\site-packages\\instascrape\\core\\_static_scraper.py\u001b[0m in \u001b[0;36m_get_json_from_source\u001b[1;34m(self, source, headers, session)\u001b[0m\n\u001b[0;32m    262\u001b[0m                 \u001b[0mjson_dict\u001b[0m \u001b[1;33m=\u001b[0m \u001b[0mjson_dict_arr\u001b[0m\u001b[1;33m[\u001b[0m\u001b[1;36m0\u001b[0m\u001b[1;33m]\u001b[0m\u001b[1;33m\u001b[0m\u001b[1;33m\u001b[0m\u001b[0m\n\u001b[0;32m    263\u001b[0m             \u001b[1;32melse\u001b[0m\u001b[1;33m:\u001b[0m\u001b[1;33m\u001b[0m\u001b[1;33m\u001b[0m\u001b[0m\n\u001b[1;32m--> 264\u001b[1;33m                 \u001b[0mjson_dict\u001b[0m \u001b[1;33m=\u001b[0m \u001b[0mjson_dict_arr\u001b[0m\u001b[1;33m[\u001b[0m\u001b[1;36m1\u001b[0m\u001b[1;33m]\u001b[0m\u001b[1;33m\u001b[0m\u001b[1;33m\u001b[0m\u001b[0m\n\u001b[0m\u001b[0;32m    265\u001b[0m             \u001b[0mself\u001b[0m\u001b[1;33m.\u001b[0m\u001b[0m_validate_scrape\u001b[0m\u001b[1;33m(\u001b[0m\u001b[0mjson_dict\u001b[0m\u001b[1;33m)\u001b[0m\u001b[1;33m\u001b[0m\u001b[1;33m\u001b[0m\u001b[0m\n\u001b[0;32m    266\u001b[0m \u001b[1;33m\u001b[0m\u001b[0m\n",
      "\u001b[1;31mIndexError\u001b[0m: list index out of range"
     ]
    }
   ],
   "source": [
    "#test purposes\n",
    "# users = users.head(5).append(users.iloc[89])\n",
    "\n",
    "#List of dataframes representing the posts of each user\n",
    "users_df = []\n",
    "\n",
    "#indicies of all users with more than 200 posts\n",
    "index_greater_200 = []\n",
    "\n",
    "#indicies of all users with less than 200 posts\n",
    "index_200_or_less = []\n",
    "\n",
    "#Index of null\n",
    "index_null = []\n",
    "\n",
    "for i in tqdm(range(0, len(users))):\n",
    "    #Putting a try catch statement here because there seems to be some errors that could be fixed with an extra try\n",
    "    attmepts_allowed = 3\n",
    "    for attmept in range(attmepts_allowed):\n",
    "        try:\n",
    "            if (not pd.isnull(users.iloc[i]['IG Username'])):\n",
    "                #Scrape the profile\n",
    "                print(users.iloc[i]['IG Username'])\n",
    "                profile = Profile(users.iloc[i]['IG Username'])\n",
    "                profile.scrape(headers=headers)\n",
    "\n",
    "                #Adding profile datapoints to dataframe\n",
    "                users.at[i, 'follower_count'] = profile.followers\n",
    "                users.at[i, 'number_of_posts'] = profile.posts\n",
    "\n",
    "                #Scraping Posts\n",
    "\n",
    "                posts = profile.get_posts(webdriver=driver)\n",
    "                print(len(posts))\n",
    "\n",
    "                #account has less than 200 posts\n",
    "                if (len(posts) <= 200):\n",
    "                    index_200_or_less.append(i)\n",
    "                    scraped_posts, unscraped = scrape_posts(posts, webdriver=driver, silent=False, headers=headers, pause=7)\n",
    "                    \n",
    "                    #Appending dataframe from account to each \n",
    "                    users_df.append(create_post_df(scraped_posts))\n",
    "                \n",
    "                else:\n",
    "                    print(\"{} with username {} has {} posts, more than 200\".format(users.iloc[i]['School'], users.iloc[i]['IG Username'], len(posts)))\n",
    "                    \n",
    "                    #no matter what, we want to keep the dimensions of user_df the same as users\n",
    "                    users_df.append(create_post_df([]))\n",
    "                    index_greater_200.append(i)\n",
    "                        \n",
    "            # if no username, we're just going to add an empty dataframe\n",
    "            else:\n",
    "                users_df.append(create_post_df([]))\n",
    "                index_null.append(i)\n",
    "\n",
    "        #Error, let's try again\n",
    "        except Exception as e:\n",
    "            print(\"an error has occured on {}\".format(users.iloc[i]['IG Username']))\n",
    "            print(e)\n",
    "            #Adding empty dataframe to list anyways just to keep the indicies matching\n",
    "\n",
    "        #No errors, let's exit the loop\n",
    "        else:\n",
    "            break\n",
    "\n",
    "    #Did we finish the for loop, that means all attempts failed\n",
    "    else:\n",
    "        #Adding empty dataframe to list anyways just to keep the indicies matching\n",
    "        users_df.append(create_post_df([]))\n",
    "        print(\"all attempts failed\")\n",
    "    \n",
    "    #Writing test dataframes to pickle object for easier debugging in the future\n",
    "    if (i % 10 == 0 and i != 0):\n",
    "        with open('test_dataframes_{}-{}.obj'.format(i-10, i), 'wb') as f:\n",
    "            pickle.dump((users_df, users), f)\n",
    "        \n",
    "        \n",
    "        \n",
    "        #old code from just getting top and first posts\n",
    "        # top_post = get_top_post(scraped_posts)\n",
    "\n",
    "        # #Post are scraped from most recent to oldest, therefore, the earliest post will be the last one scraped in theory\n",
    "        # first_post = scraped_posts[-1]\n",
    "\n",
    "        # users.at[i, 'top_post_likes'] = top_post.likes\n",
    "        # users.at[i, 'top_post_date_posted'] = datetime.fromtimestamp(top_post.timestamp)\n",
    "        # users.at[i, 'top_post_url'] = \"instagram.com/p/{}\".format(top_post.shortcode)\n",
    "        # users.at[i, 'first_post_likes'] = first_post.likes\n",
    "        # users.at[i, 'first_post_date_posted'] = datetime.fromtimestamp(first_post.timestamp)\n",
    "        # users.at[i, 'first_post_url'] = \"instagram.com/p/{}\".format(first_post.shortcode)\n"
   ]
  },
  {
   "cell_type": "code",
   "execution_count": 6,
   "metadata": {},
   "outputs": [],
   "source": [
    "profile = Profile(\"rwjms\")\n",
    "profile.scrape(headers=headers)"
   ]
  },
  {
   "cell_type": "code",
   "execution_count": null,
   "metadata": {},
   "outputs": [
    {
     "ename": "TypeError",
     "evalue": "list indices must be integers or slices, not list",
     "output_type": "error",
     "traceback": [
      "\u001b[1;31m---------------------------------------------------------------------------\u001b[0m",
      "\u001b[1;31mTypeError\u001b[0m                                 Traceback (most recent call last)",
      "\u001b[1;32m~\\AppData\\Local\\Temp/ipykernel_8984/1689025042.py\u001b[0m in \u001b[0;36m<module>\u001b[1;34m\u001b[0m\n\u001b[0;32m      1\u001b[0m \u001b[0musers_df_np\u001b[0m \u001b[1;33m=\u001b[0m \u001b[0mnp\u001b[0m\u001b[1;33m.\u001b[0m\u001b[0marray\u001b[0m\u001b[1;33m(\u001b[0m\u001b[0musers_df\u001b[0m\u001b[1;33m,\u001b[0m \u001b[0mdtype\u001b[0m\u001b[1;33m=\u001b[0m\u001b[0mobject\u001b[0m\u001b[1;33m)\u001b[0m\u001b[1;33m\u001b[0m\u001b[1;33m\u001b[0m\u001b[0m\n\u001b[1;32m----> 2\u001b[1;33m \u001b[0mwrite_to_excel\u001b[0m\u001b[1;33m(\u001b[0m\u001b[0musers_df\u001b[0m\u001b[1;33m[\u001b[0m\u001b[0mindex_200_or_less\u001b[0m\u001b[1;33m]\u001b[0m\u001b[1;33m,\u001b[0m \u001b[0musers\u001b[0m\u001b[1;33m.\u001b[0m\u001b[0miloc\u001b[0m\u001b[1;33m[\u001b[0m\u001b[0mindex_200_or_less\u001b[0m\u001b[1;33m]\u001b[0m\u001b[1;33m)\u001b[0m\u001b[1;33m\u001b[0m\u001b[1;33m\u001b[0m\u001b[0m\n\u001b[0m",
      "\u001b[1;31mTypeError\u001b[0m: list indices must be integers or slices, not list"
     ]
    }
   ],
   "source": [
    "users_df_np = np.array(users_df, dtype=object)\n",
    "write_to_excel(users_df[index_200_or_less], users.iloc[index_200_or_less])"
   ]
  },
  {
   "cell_type": "code",
   "execution_count": 66,
   "metadata": {},
   "outputs": [
    {
     "data": {
      "text/plain": [
       "80"
      ]
     },
     "execution_count": 66,
     "metadata": {},
     "output_type": "execute_result"
    }
   ],
   "source": [
    "len(users_df)"
   ]
  },
  {
   "cell_type": "code",
   "execution_count": 62,
   "metadata": {},
   "outputs": [
    {
     "data": {
      "text/plain": [
       "[0,\n",
       " 2,\n",
       " 3,\n",
       " 4,\n",
       " 5,\n",
       " 6,\n",
       " 8,\n",
       " 9,\n",
       " 12,\n",
       " 13,\n",
       " 14,\n",
       " 15,\n",
       " 17,\n",
       " 18,\n",
       " 19,\n",
       " 20,\n",
       " 23,\n",
       " 24,\n",
       " 27,\n",
       " 29,\n",
       " 30,\n",
       " 31,\n",
       " 32,\n",
       " 33,\n",
       " 37,\n",
       " 39,\n",
       " 40,\n",
       " 41,\n",
       " 42,\n",
       " 43,\n",
       " 46,\n",
       " 47,\n",
       " 48,\n",
       " 49,\n",
       " 50,\n",
       " 51,\n",
       " 52,\n",
       " 53,\n",
       " 54,\n",
       " 55,\n",
       " 56,\n",
       " 58,\n",
       " 59,\n",
       " 62,\n",
       " 63,\n",
       " 65,\n",
       " 66,\n",
       " 67,\n",
       " 69,\n",
       " 70,\n",
       " 74,\n",
       " 75,\n",
       " 76,\n",
       " 77,\n",
       " 78,\n",
       " 79,\n",
       " 81,\n",
       " 85,\n",
       " 86,\n",
       " 87,\n",
       " 90,\n",
       " 92,\n",
       " 94,\n",
       " 99,\n",
       " 102,\n",
       " 106,\n",
       " 107,\n",
       " 111,\n",
       " 115,\n",
       " 117,\n",
       " 120,\n",
       " 83,\n",
       " 89,\n",
       " 95,\n",
       " 100,\n",
       " 104,\n",
       " 105,\n",
       " 108,\n",
       " 110,\n",
       " 112,\n",
       " 83,\n",
       " 89,\n",
       " 95,\n",
       " 100,\n",
       " 104,\n",
       " 105,\n",
       " 108,\n",
       " 110,\n",
       " 112,\n",
       " 83,\n",
       " 89,\n",
       " 95,\n",
       " 100,\n",
       " 104,\n",
       " 105,\n",
       " 108,\n",
       " 110,\n",
       " 112]"
      ]
     },
     "execution_count": 62,
     "metadata": {},
     "output_type": "execute_result"
    }
   ],
   "source": [
    "index_200_less_and_null = index_200_or_less.copy()\n",
    "index_200_less_and_null.extend(users.loc[pd.isna(users[\"IG Username\"])].index.tolist())\n",
    "index_200_less_and_null"
   ]
  },
  {
   "cell_type": "code",
   "execution_count": 54,
   "metadata": {},
   "outputs": [
    {
     "data": {
      "text/plain": [
       "[0,\n",
       " 2,\n",
       " 3,\n",
       " 4,\n",
       " 5,\n",
       " 6,\n",
       " 8,\n",
       " 9,\n",
       " 12,\n",
       " 13,\n",
       " 14,\n",
       " 15,\n",
       " 17,\n",
       " 18,\n",
       " 19,\n",
       " 20,\n",
       " 23,\n",
       " 24,\n",
       " 27,\n",
       " 29,\n",
       " 30,\n",
       " 31,\n",
       " 32,\n",
       " 33,\n",
       " 37,\n",
       " 39,\n",
       " 40,\n",
       " 41,\n",
       " 42,\n",
       " 43,\n",
       " 46,\n",
       " 47,\n",
       " 48,\n",
       " 49,\n",
       " 50,\n",
       " 51,\n",
       " 52,\n",
       " 53,\n",
       " 54,\n",
       " 55,\n",
       " 56,\n",
       " 58,\n",
       " 59,\n",
       " 62,\n",
       " 63,\n",
       " 65,\n",
       " 66,\n",
       " 67,\n",
       " 69,\n",
       " 70,\n",
       " 74,\n",
       " 75,\n",
       " 76,\n",
       " 77,\n",
       " 78,\n",
       " 79,\n",
       " 81,\n",
       " 85,\n",
       " 86,\n",
       " 87,\n",
       " 90,\n",
       " 92,\n",
       " 94,\n",
       " 99,\n",
       " 102,\n",
       " 106,\n",
       " 107,\n",
       " 111,\n",
       " 115,\n",
       " 117,\n",
       " 120,\n",
       " 83,\n",
       " 89,\n",
       " 95,\n",
       " 100,\n",
       " 104,\n",
       " 105,\n",
       " 108,\n",
       " 110,\n",
       " 112]"
      ]
     },
     "execution_count": 54,
     "metadata": {},
     "output_type": "execute_result"
    }
   ],
   "source": [
    "index_200_or_less.copy()"
   ]
  },
  {
   "cell_type": "code",
   "execution_count": 59,
   "metadata": {},
   "outputs": [
    {
     "data": {
      "text/plain": [
       "[83, 89, 95, 100, 104, 105, 108, 110, 112]"
      ]
     },
     "execution_count": 59,
     "metadata": {},
     "output_type": "execute_result"
    }
   ],
   "source": [
    "users.loc[pd.isna(users[\"IG Username\"])].index.tolist()"
   ]
  },
  {
   "cell_type": "code",
   "execution_count": 61,
   "metadata": {},
   "outputs": [
    {
     "data": {
      "text/plain": [
       "[0,\n",
       " 2,\n",
       " 3,\n",
       " 4,\n",
       " 5,\n",
       " 6,\n",
       " 8,\n",
       " 9,\n",
       " 12,\n",
       " 13,\n",
       " 14,\n",
       " 15,\n",
       " 17,\n",
       " 18,\n",
       " 19,\n",
       " 20,\n",
       " 23,\n",
       " 24,\n",
       " 27,\n",
       " 29,\n",
       " 30,\n",
       " 31,\n",
       " 32,\n",
       " 33,\n",
       " 37,\n",
       " 39,\n",
       " 40,\n",
       " 41,\n",
       " 42,\n",
       " 43,\n",
       " 46,\n",
       " 47,\n",
       " 48,\n",
       " 49,\n",
       " 50,\n",
       " 51,\n",
       " 52,\n",
       " 53,\n",
       " 54,\n",
       " 55,\n",
       " 56,\n",
       " 58,\n",
       " 59,\n",
       " 62,\n",
       " 63,\n",
       " 65,\n",
       " 66,\n",
       " 67,\n",
       " 69,\n",
       " 70,\n",
       " 74,\n",
       " 75,\n",
       " 76,\n",
       " 77,\n",
       " 78,\n",
       " 79,\n",
       " 81,\n",
       " 85,\n",
       " 86,\n",
       " 87,\n",
       " 90,\n",
       " 92,\n",
       " 94,\n",
       " 99,\n",
       " 102,\n",
       " 106,\n",
       " 107,\n",
       " 111,\n",
       " 115,\n",
       " 117,\n",
       " 120,\n",
       " 83,\n",
       " 89,\n",
       " 95,\n",
       " 100,\n",
       " 104,\n",
       " 105,\n",
       " 108,\n",
       " 110,\n",
       " 112,\n",
       " 83,\n",
       " 89,\n",
       " 95,\n",
       " 100,\n",
       " 104,\n",
       " 105,\n",
       " 108,\n",
       " 110,\n",
       " 112]"
      ]
     },
     "execution_count": 61,
     "metadata": {},
     "output_type": "execute_result"
    }
   ],
   "source": [
    "test_list.extend(users.loc[pd.isna(users[\"IG Username\"])].index.tolist())\n",
    "test_list"
   ]
  },
  {
   "cell_type": "code",
   "execution_count": 42,
   "metadata": {},
   "outputs": [],
   "source": [
    "test_list = index_200_or_less"
   ]
  },
  {
   "cell_type": "code",
   "execution_count": 44,
   "metadata": {},
   "outputs": [
    {
     "data": {
      "text/plain": [
       "80"
      ]
     },
     "execution_count": 44,
     "metadata": {},
     "output_type": "execute_result"
    }
   ],
   "source": [
    "len(test_list)"
   ]
  },
  {
   "cell_type": "code",
   "execution_count": 15,
   "metadata": {},
   "outputs": [
    {
     "data": {
      "text/plain": [
       "80"
      ]
     },
     "execution_count": 15,
     "metadata": {},
     "output_type": "execute_result"
    }
   ],
   "source": [
    "len(users_df)"
   ]
  },
  {
   "cell_type": "code",
   "execution_count": 16,
   "metadata": {},
   "outputs": [
    {
     "data": {
      "text/plain": [
       "(71, 4)"
      ]
     },
     "execution_count": 16,
     "metadata": {},
     "output_type": "execute_result"
    }
   ],
   "source": [
    "users.iloc[index_200_or_less].shape"
   ]
  },
  {
   "cell_type": "code",
   "execution_count": null,
   "metadata": {},
   "outputs": [],
   "source": []
  },
  {
   "cell_type": "code",
   "execution_count": 11,
   "metadata": {},
   "outputs": [],
   "source": [
    "def write_to_excel(user_post_dfs, users_df):\n",
    "    if (len(user_post_dfs) != users_df.shape[0]):\n",
    "        raise ValueError(\"length of the posts dataframes and user dataframes are mismatched, there are {} posts dataframes and {} rows in the user dataframe\".format(\n",
    "            len(user_post_dfs), users_df.shape[0]))\n",
    "\n",
    "    with pd.ExcelWriter('User Data.xlsx', engine='openpyxl') as writer:\n",
    "        for i in range(0, len(user_post_dfs)):\n",
    "            # this regex statement replaces excel's invalid characters with and underscore\n",
    "            title = re.sub(INVALID_TITLE_REGEX, '_', users_df.at[i, 'School'])\n",
    "            users_df.iloc[[i]].to_excel(writer, sheet_name=title, index=False)\n",
    "            user_post_dfs[i].to_excel(\n",
    "                writer, startrow=3, sheet_name=title, index=False)"
   ]
  },
  {
   "cell_type": "code",
   "execution_count": 13,
   "metadata": {},
   "outputs": [],
   "source": [
    "#Writing test dataframes to pickle object for easier debugging in the future\n",
    "with open('test_dataframes.obj', 'wb') as f:\n",
    "    pickle.dump((users_df, users), f)"
   ]
  },
  {
   "cell_type": "code",
   "execution_count": 3,
   "metadata": {},
   "outputs": [],
   "source": [
    "with open('test_dataframes.obj', 'rb') as f:\n",
    "    loaded = pickle.load(f)\n",
    "\n",
    "users_df = loaded[0]\n",
    "users = loaded[1]\n",
    "users = users.reset_index()"
   ]
  }
 ],
 "metadata": {
  "interpreter": {
   "hash": "58e5a1f2200c9da4fe52d7508e5222fc267990c2fd40a29173e8fd4c8076db49"
  },
  "kernelspec": {
   "display_name": "Python 3.9.7 64-bit ('instagramScraper': conda)",
   "name": "python3"
  },
  "language_info": {
   "codemirror_mode": {
    "name": "ipython",
    "version": 3
   },
   "file_extension": ".py",
   "mimetype": "text/x-python",
   "name": "python",
   "nbconvert_exporter": "python",
   "pygments_lexer": "ipython3",
   "version": "3.9.7"
  },
  "orig_nbformat": 4
 },
 "nbformat": 4,
 "nbformat_minor": 2
}
