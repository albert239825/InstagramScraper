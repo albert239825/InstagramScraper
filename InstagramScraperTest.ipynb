{
 "cells": [
  {
   "cell_type": "code",
   "execution_count": 1,
   "source": [
    "from instagramy import InstagramUser\n",
    "from instascrape import Profile, scrape_posts\n",
    "from selenium.webdriver import Chrome\n",
    "import pandas as pd"
   ],
   "outputs": [],
   "metadata": {}
  },
  {
   "cell_type": "code",
   "execution_count": 2,
   "source": [
    "chrome_driver_path = \"/Users/chena23/Desktop/InstragramScraper/chromedriver\"\n",
    "\n",
    "driver = Chrome(chrome_driver_path)\n",
    "headers = {\n",
    "    \"user-agent\": \"Mozilla/5.0 (Linux; Android 6.0; Nexus 5 Build/MRA58N) AppleWebKit/537.36 (KHTML, like Gecko) Chrome/87.0.4280.88 Mobile Safari/537.36 Edg/87.0.664.57\",\n",
    "    \"cookie\": \"sessionid=7320119797%3AsIWlEyDL37Q7Pg%3A14\"\n",
    "}"
   ],
   "outputs": [],
   "metadata": {}
  },
  {
   "cell_type": "code",
   "execution_count": 3,
   "source": [
    "test_profile = Profile(\"willseyeresidents\")\n",
    "test_profile.scrape(headers=headers)"
   ],
   "outputs": [],
   "metadata": {}
  },
  {
   "cell_type": "code",
   "execution_count": 4,
   "source": [
    "posts = test_profile.get_posts(webdriver=driver)"
   ],
   "outputs": [],
   "metadata": {}
  },
  {
   "cell_type": "code",
   "execution_count": 5,
   "source": [
    "len(posts)"
   ],
   "outputs": [
    {
     "output_type": "execute_result",
     "data": {
      "text/plain": [
       "0"
      ]
     },
     "metadata": {},
     "execution_count": 5
    }
   ],
   "metadata": {}
  },
  {
   "cell_type": "code",
   "execution_count": 6,
   "source": [
    "scraped, unscraped = scrape_posts(posts, webdriver=driver, silent=False, headers=headers, pause=10)"
   ],
   "outputs": [],
   "metadata": {}
  }
 ],
 "metadata": {
  "orig_nbformat": 4,
  "language_info": {
   "name": "python",
   "version": "3.9.7",
   "mimetype": "text/x-python",
   "codemirror_mode": {
    "name": "ipython",
    "version": 3
   },
   "pygments_lexer": "ipython3",
   "nbconvert_exporter": "python",
   "file_extension": ".py"
  },
  "kernelspec": {
   "name": "python3",
   "display_name": "Python 3.9.7 64-bit ('instagramScraper': conda)"
  },
  "interpreter": {
   "hash": "3a26748e5d797bc3af7689e0bf33eb0d5bd75797bca8906a24c68a27e03ccf6f"
  }
 },
 "nbformat": 4,
 "nbformat_minor": 2
}